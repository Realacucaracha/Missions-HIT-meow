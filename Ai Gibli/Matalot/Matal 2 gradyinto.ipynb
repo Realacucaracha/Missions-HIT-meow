{
 "cells": [
  {
   "cell_type": "markdown",
   "id": "e338e05f",
   "metadata": {},
   "source": [
    "# ${\\color{pink}\\mathbb{Matala - 2}}$"
   ]
  },
  {
   "cell_type": "code",
   "execution_count": 242,
   "id": "d6a2ca5a",
   "metadata": {},
   "outputs": [],
   "source": [
    "import numpy as np\n",
    "import matplotlib.pyplot as plt\n",
    "import random\n",
    "import pandas as pd\n",
    "import seaborn as sns"
   ]
  },
  {
   "cell_type": "markdown",
   "id": "952f31dc",
   "metadata": {},
   "source": [
    "#### ${\\color{pink}\\mathbb{Loading-Data}}$"
   ]
  },
  {
   "cell_type": "code",
   "execution_count": 243,
   "id": "5cc365d9",
   "metadata": {},
   "outputs": [
    {
     "data": {
      "text/html": [
       "<div>\n",
       "<style scoped>\n",
       "    .dataframe tbody tr th:only-of-type {\n",
       "        vertical-align: middle;\n",
       "    }\n",
       "\n",
       "    .dataframe tbody tr th {\n",
       "        vertical-align: top;\n",
       "    }\n",
       "\n",
       "    .dataframe thead th {\n",
       "        text-align: right;\n",
       "    }\n",
       "</style>\n",
       "<table border=\"1\" class=\"dataframe\">\n",
       "  <thead>\n",
       "    <tr style=\"text-align: right;\">\n",
       "      <th></th>\n",
       "      <th>Temperature</th>\n",
       "      <th>Humidity</th>\n",
       "      <th>WindSpeed</th>\n",
       "      <th>Pollution</th>\n",
       "    </tr>\n",
       "  </thead>\n",
       "  <tbody>\n",
       "    <tr>\n",
       "      <th>0</th>\n",
       "      <td>24.363503</td>\n",
       "      <td>61.889703</td>\n",
       "      <td>2.776994</td>\n",
       "      <td>-34.294902</td>\n",
       "    </tr>\n",
       "    <tr>\n",
       "      <th>1</th>\n",
       "      <td>38.767858</td>\n",
       "      <td>52.165782</td>\n",
       "      <td>8.128514</td>\n",
       "      <td>-49.717378</td>\n",
       "    </tr>\n",
       "    <tr>\n",
       "      <th>2</th>\n",
       "      <td>33.299849</td>\n",
       "      <td>38.571657</td>\n",
       "      <td>13.094188</td>\n",
       "      <td>-35.615621</td>\n",
       "    </tr>\n",
       "    <tr>\n",
       "      <th>3</th>\n",
       "      <td>29.966462</td>\n",
       "      <td>68.827701</td>\n",
       "      <td>10.983373</td>\n",
       "      <td>-47.278829</td>\n",
       "    </tr>\n",
       "    <tr>\n",
       "      <th>4</th>\n",
       "      <td>18.900466</td>\n",
       "      <td>61.083870</td>\n",
       "      <td>12.098417</td>\n",
       "      <td>173.448781</td>\n",
       "    </tr>\n",
       "  </tbody>\n",
       "</table>\n",
       "</div>"
      ],
      "text/plain": [
       "   Temperature   Humidity  WindSpeed   Pollution\n",
       "0    24.363503  61.889703   2.776994  -34.294902\n",
       "1    38.767858  52.165782   8.128514  -49.717378\n",
       "2    33.299849  38.571657  13.094188  -35.615621\n",
       "3    29.966462  68.827701  10.983373  -47.278829\n",
       "4    18.900466  61.083870  12.098417  173.448781"
      ]
     },
     "execution_count": 243,
     "metadata": {},
     "output_type": "execute_result"
    }
   ],
   "source": [
    "science = pd.read_csv(r\"C:\\Users\\matan\\Documents\\Visual Code thong\\Ai gibli\\Pollution_data.csv\")\n",
    "science.head()"
   ]
  },
  {
   "cell_type": "code",
   "execution_count": 244,
   "id": "3ffc5b42",
   "metadata": {},
   "outputs": [
    {
     "name": "stdout",
     "output_type": "stream",
     "text": [
      "(500, 4)\n",
      "<class 'pandas.core.frame.DataFrame'>\n",
      "RangeIndex: 500 entries, 0 to 499\n",
      "Data columns (total 4 columns):\n",
      " #   Column       Non-Null Count  Dtype  \n",
      "---  ------       --------------  -----  \n",
      " 0   Temperature  500 non-null    float64\n",
      " 1   Humidity     500 non-null    float64\n",
      " 2   WindSpeed    500 non-null    float64\n",
      " 3   Pollution    500 non-null    float64\n",
      "dtypes: float64(4)\n",
      "memory usage: 15.8 KB\n"
     ]
    }
   ],
   "source": [
    "size,_=science.shape\n",
    "print(science.shape)\n",
    "science.info()"
   ]
  },
  {
   "cell_type": "markdown",
   "id": "5bca2065",
   "metadata": {},
   "source": [
    "##### ${\\color{pink}\\mathbb{Nirmul}}$"
   ]
  },
  {
   "cell_type": "code",
   "execution_count": 245,
   "id": "054035ba",
   "metadata": {},
   "outputs": [],
   "source": [
    "def nirmul(thing): #min max scalling\n",
    "    return (thing - thing.min()) / (thing.max() - thing.min())"
   ]
  },
  {
   "cell_type": "code",
   "execution_count": 246,
   "id": "b28fb9bc",
   "metadata": {},
   "outputs": [
    {
     "name": "stdout",
     "output_type": "stream",
     "text": [
      "<class 'numpy.ndarray'> (500,)\n"
     ]
    },
    {
     "data": {
      "text/plain": [
       "array([0.21713939, 0.19688534, 0.21540492, 0.20008784, 0.48996531,\n",
       "       0.31530868, 0.85196946, 0.13579562, 0.31621574, 0.16599325,\n",
       "       0.49059711, 0.2465022 , 0.17765671, 0.55039756, 0.26231613,\n",
       "       0.29512495, 0.15528797, 0.27545153, 0.49720342, 0.18794184])"
      ]
     },
     "execution_count": 246,
     "metadata": {},
     "output_type": "execute_result"
    }
   ],
   "source": [
    "polly = nirmul(science['Pollution'].to_numpy())\n",
    "tempra = nirmul(science['Temperature'].to_numpy())\n",
    "windy = nirmul(science['WindSpeed'].to_numpy())\n",
    "humy = nirmul(science['Humidity'].to_numpy())\n",
    "\n",
    "print(type(polly),polly.shape)\n",
    "polly[:20]"
   ]
  },
  {
   "cell_type": "code",
   "execution_count": 247,
   "id": "9f14b5e8",
   "metadata": {},
   "outputs": [
    {
     "data": {
      "image/png": "[encoded data removed]",
      "text/plain": [
       "<Figure size 1000x400 with 2 Axes>"
      ]
     },
     "metadata": {},
     "output_type": "display_data"
    }
   ],
   "source": [
    "#just to see....\n",
    "fig, axs = plt.subplots(1, 2, figsize=(10, 4))\n",
    "\n",
    "axs[0].plot(science['Pollution'].to_numpy(), label=\"Pollution\", color=\"green\")\n",
    "axs[0].set_title(\"Pollution!\")\n",
    "\n",
    "axs[1].plot(polly, label=\"Pollution\", color=\"green\")\n",
    "axs[1].set_title(\"Pollution nirmul!\")\n",
    "\n",
    "plt.show()\n"
   ]
  },
  {
   "cell_type": "markdown",
   "id": "a9072c18",
   "metadata": {},
   "source": [
    "## ${\\color{pink}\\mathbb{Creating-Func}}$"
   ]
  },
  {
   "cell_type": "code",
   "execution_count": 248,
   "id": "d9d5b01f",
   "metadata": {},
   "outputs": [],
   "source": [
    "weghit =[1,1,1,1,1]"
   ]
  },
  {
   "cell_type": "code",
   "execution_count": 249,
   "id": "df5f24f9",
   "metadata": {},
   "outputs": [],
   "source": [
    "def func_goal(temp,hum,wind,weghit=[1,1,1,1,1]):\n",
    "\n",
    "    return weghit[0]*temp + weghit[1]*hum + weghit[2]*wind + weghit[3]*temp**2 + weghit[4]*temp*wind"
   ]
  },
  {
   "cell_type": "markdown",
   "id": "70c2ed11",
   "metadata": {},
   "source": [
    "#### ${\\color{pink}\\mathbb{Quick-Check-Error}}$"
   ]
  },
  {
   "cell_type": "code",
   "execution_count": 250,
   "id": "93fb9f09",
   "metadata": {},
   "outputs": [],
   "source": [
    "pollution_prediction = np.zeros(size)\n",
    "for i in range(size):\n",
    "\n",
    "    pollution_prediction[i] = func_goal(tempra[i],humy[i],windy[i])\n",
    "    "
   ]
  },
  {
   "cell_type": "code",
   "execution_count": 251,
   "id": "037ee3c9",
   "metadata": {},
   "outputs": [
    {
     "name": "stdout",
     "output_type": "stream",
     "text": [
      "(500,)\n"
     ]
    },
    {
     "data": {
      "text/plain": [
       "array([1.45979704, 3.46441201, 3.09877246, 2.94581903, 1.7888615 ,\n",
       "       1.0928151 , 1.69557421, 4.04233197, 2.31178712, 2.77653198,\n",
       "       0.84863799, 4.29950297, 4.20685171, 1.16147893, 1.08231847,\n",
       "       1.32744485, 0.9983234 , 2.47665077, 2.91757935, 0.55770225])"
      ]
     },
     "execution_count": 251,
     "metadata": {},
     "output_type": "execute_result"
    }
   ],
   "source": [
    "print(pollution_prediction.shape)\n",
    "pollution_prediction[:20]       #first 10...."
   ]
  },
  {
   "cell_type": "code",
   "execution_count": 252,
   "id": "03bfcc66",
   "metadata": {},
   "outputs": [
    {
     "data": {
      "text/plain": [
       "1060.7115563281072"
      ]
     },
     "execution_count": 252,
     "metadata": {},
     "output_type": "execute_result"
    }
   ],
   "source": [
    "errorrr = np.sum((polly - pollution_prediction)**2) /2\n",
    "errorrr\n"
   ]
  },
  {
   "cell_type": "markdown",
   "id": "28970039",
   "metadata": {},
   "source": [
    "#### ${\\color{pink}\\mathbb{Gradient-LS-Part}}$"
   ]
  },
  {
   "cell_type": "markdown",
   "id": "b79fbd8d",
   "metadata": {},
   "source": [
    "-----"
   ]
  },
  {
   "cell_type": "markdown",
   "id": "83942bd5",
   "metadata": {},
   "source": [
    "$$\n",
    "\\min_{w} \\sum^{N}_{i=1} |y_i - (w_1 \\cdot temp + w_2 \\cdot hum + w_3 \\cdot wind + w_4 \\cdot temp^2 + w_5 \\cdot temp \\cdot hum)| = \\min_{w} |Y - (wX ) | =  \\min_{w} ||Y - Aw ||_2 \\\\\n",
    "\n",
    "\n",
    "$$"
   ]
  },
  {
   "cell_type": "markdown",
   "id": "44dc68ba",
   "metadata": {},
   "source": [
    "$$\n",
    "\n",
    "w = \\begin{bmatrix}\n",
    "w_1  \\\\\n",
    "w_2  \\\\\n",
    "w_3  \\\\\n",
    "w_4  \\\\\n",
    "w_5 \\end{bmatrix}\n",
    "\n",
    "\n",
    "\n",
    "Y = \\begin{bmatrix}\n",
    "y_1 \\\\\n",
    "y_2 \\\\\n",
    ". \\\\\n",
    "y_N \\end{bmatrix}\n",
    "\n",
    "A = \\begin{bmatrix}\n",
    "temp & hum & wind & temp^2 & temp \\cdot hum    \\\\\n",
    ". & . &. & . & . \\\\\n",
    "temp_n & hum_n & wind_n & temp_n^2 & temp_n \\cdot hum_n \\end{bmatrix}\n",
    "\n",
    "\n",
    "\n",
    "$$"
   ]
  },
  {
   "cell_type": "markdown",
   "id": "54673f0f",
   "metadata": {},
   "source": [
    "The LST problem:\n",
    "$$\n",
    "\\frac{1}{2} \\cdot \\min_{w} ||Aw-Y||^{2} _{2}\n",
    "$$\n"
   ]
  },
  {
   "cell_type": "code",
   "execution_count": 253,
   "id": "b2c97466",
   "metadata": {},
   "outputs": [],
   "source": [
    "t_k = 0.001   #step size const\n",
    "x_k = 0.3   #first step"
   ]
  },
  {
   "cell_type": "code",
   "execution_count": 254,
   "id": "1ff40955",
   "metadata": {},
   "outputs": [],
   "source": [
    "A = np.column_stack([\n",
    "    tempra, humy, windy, tempra**2, tempra*windy\n",
    "    ])\n",
    "weghit =[1,1,1,1,1]\n"
   ]
  },
  {
   "cell_type": "code",
   "execution_count": 255,
   "id": "091d8e6b",
   "metadata": {},
   "outputs": [],
   "source": [
    "from sklearn.preprocessing import StandardScaler    #cuz gradients is diveraging\n",
    "\n",
    "scaler = StandardScaler()\n",
    "A_scaled = scaler.fit_transform(A)\n",
    "\n",
    "\n",
    "polly_scaled = polly  # Start with original\n",
    "if np.std(polly) > 1e3:  # crude threshold for large values\n",
    "    print(\"Warning: Scaling polly to avoid overflow.\")\n",
    "    polly_scaled = (polly - np.mean(polly)) / np.std(polly)\n"
   ]
  },
  {
   "cell_type": "code",
   "execution_count": 256,
   "id": "7f21d348",
   "metadata": {},
   "outputs": [],
   "source": [
    "def f(w):\n",
    "    loss = A_scaled @ w - polly_scaled\n",
    "    return 0.5 * np.linalg.norm(np.nan_to_num(loss)) ** 2\n",
    "\n",
    "def gradient(w):\n",
    "    w = np.asarray(w)  # Ensures w is a NumPy array\n",
    "    grad = A_scaled.T @ (A_scaled @ w - polly_scaled)\n",
    "    return np.nan_to_num(grad)\n",
    "\n",
    "\n"
   ]
  },
  {
   "cell_type": "code",
   "execution_count": 257,
   "id": "6a6bf569",
   "metadata": {},
   "outputs": [
    {
     "name": "stdout",
     "output_type": "stream",
     "text": [
      "best step size: 1\n"
     ]
    }
   ],
   "source": [
    "def armijo_search_step(w_k,a=0.7,b=0.8,s=1):\n",
    "    t = s\n",
    "    grad_fk = gradient(w_k)\n",
    "    grad_norm = np.linalg.norm(grad_fk)\n",
    "\n",
    "    if grad_norm < 1e-12:\n",
    "        return 0  # Avoid division by zero\n",
    "    d_k = -grad_fk / np.linalg.norm(grad_fk)\n",
    "    \n",
    "    iter=0\n",
    "    while ( f(w_k+t*d_k) > f(w_k) + a*t* np.dot(grad_fk, d_k)  ):\n",
    "        t=b*t\n",
    "        iter+=1\n",
    "        if t < 1e-12:  # safety stop\n",
    "            break  \n",
    "    \n",
    "    return t\n",
    "\n",
    "\n",
    "x_k = np.array([1,1,1,1,1])\n",
    "\n",
    "t_k_2 = armijo_search_step(x_k,0.7,0.8,1)     #step armijo way\n",
    "print(\"best step size:\",t_k_2)"
   ]
  },
  {
   "cell_type": "code",
   "execution_count": 258,
   "id": "4311e5c4",
   "metadata": {},
   "outputs": [
    {
     "name": "stdout",
     "output_type": "stream",
     "text": [
      "step size = 0.1 (const)\n",
      "Optimized weights: [-0.19456206  0.0218378   0.02812554  0.13771851 -0.00463053]\n",
      "Final loss: 26.715735572433\n"
     ]
    }
   ],
   "source": [
    "def grady(w_start,t_k,epsilo=1e-5,iterations = 1000):\n",
    "\n",
    "    losses = [f(w_start)] \n",
    "\n",
    "    w = w_start\n",
    "    for i in range(iterations):\n",
    "        grad_fk = gradient(w)\n",
    "        grad_norm = np.linalg.norm(grad_fk)\n",
    "\n",
    "        if grad_norm < epsilo:\n",
    "            break\n",
    "        w = w - t_k * grad_fk\n",
    "        losses.append(f(w))\n",
    "\n",
    "    return w,losses\n",
    "\n",
    "w_star = np.array([1, 1, 1, 1, 1])\n",
    "t_k = 0.001   #step size const\n",
    "\n",
    "w_opt,lossy = grady(w_star,t_k)\n",
    "\n",
    "print(\"step size = 0.1 (const)\")\n",
    "print(\"Optimized weights:\", w_opt)\n",
    "print(\"Final loss:\", f(w_opt))\n",
    "\n"
   ]
  },
  {
   "cell_type": "code",
   "execution_count": 259,
   "id": "13585f3e",
   "metadata": {},
   "outputs": [
    {
     "name": "stdout",
     "output_type": "stream",
     "text": [
      "\n",
      "step size -> armijo algo 1\n",
      "Optimized weights: [-0.19456213  0.0218378   0.02812553  0.13771858 -0.00463052]\n",
      "Final loss: 26.715735572432042\n"
     ]
    }
   ],
   "source": [
    "def grady_with_steps(w_start,t_k,epsilo=1e-5,iterations = 1000):\n",
    "    \n",
    "    losses = [f(w_start)] \n",
    "\n",
    "    w = w_start\n",
    "    for i in range(iterations):\n",
    "        grad_fk = gradient(w)\n",
    "        grad_norm = np.linalg.norm(grad_fk)\n",
    "\n",
    "        if grad_norm < epsilo:\n",
    "            break\n",
    "\n",
    "        t_k = armijo_search_step(w)\n",
    "        d_k = -grad_fk / (np.linalg.norm(grad_fk) + 1e-12)  # so that it won;t give me problems. (devision by zero or some other misstkae)\n",
    "        w = w + t_k * d_k\n",
    "        losses.append(f(w))\n",
    "\n",
    "\n",
    "    return w,lossy\n",
    "\n",
    "\n",
    "w_start = np.zeros(A.shape[1])\n",
    "t_k_start = 0.001\n",
    "w_opt_2,lossy_2 = grady_with_steps(w_start,t_k_start)\n",
    "\n",
    "print(\"\\nstep size -> armijo algo\",t_k_2)\n",
    "print(\"Optimized weights:\", w_opt_2)\n",
    "print(\"Final loss:\", f(w_opt_2))"
   ]
  },
  {
   "cell_type": "code",
   "execution_count": 260,
   "id": "dfbef32e",
   "metadata": {},
   "outputs": [
    {
     "name": "stdout",
     "output_type": "stream",
     "text": [
      "loss const step: 26.715735572433\n",
      "loss armijo step way: 26.715735572432042\n"
     ]
    }
   ],
   "source": [
    "print(\"loss const step:\",f(w_opt))\n",
    "print(\"loss armijo step way:\",f(w_opt_2))"
   ]
  },
  {
   "cell_type": "markdown",
   "id": "f1126812",
   "metadata": {},
   "source": [
    "#### ${\\color{pink}\\mathbb{Visual}}$"
   ]
  },
  {
   "cell_type": "code",
   "execution_count": 261,
   "id": "1274b0f5",
   "metadata": {},
   "outputs": [
    {
     "data": {
      "image/png": "[encoded data removed]",
      "text/plain": [
       "<Figure size 1000x400 with 2 Axes>"
      ]
     },
     "metadata": {},
     "output_type": "display_data"
    }
   ],
   "source": [
    "fig, axs = plt.subplots(1, 2, figsize=(10, 4))\n",
    "\n",
    "axs[0].plot(lossy, label=\"Constant Step\", linewidth=2)\n",
    "#axs[0].set_title(\"Pollution!\")\n",
    "axs[0].set_xlabel(\"Iteration\")\n",
    "axs[0].set_ylabel(\"Loss\")\n",
    "axs[0].set_title(\"Loss over Iterations\")\n",
    "\n",
    "\n",
    "axs[1].plot(lossy_2, label=\"Armijo Step\", linewidth=2)\n",
    "#axs[1].set_title(\"Pollution nirmul!\")\n",
    "axs[1].set_xlabel(\"Iteration\")\n",
    "axs[1].set_ylabel(\"Loss\")\n",
    "axs[1].set_title(\"Loss over Iterations\")\n",
    "\n",
    "\n",
    "axs[0].legend()\n",
    "axs[1].legend()\n",
    "\n",
    "\n",
    "\n",
    "plt.show()"
   ]
  },
  {
   "cell_type": "markdown",
   "id": "a38b9d58",
   "metadata": {},
   "source": [
    "-----"
   ]
  },
  {
   "cell_type": "markdown",
   "id": "995fcb90",
   "metadata": {},
   "source": [
    "#### ${\\color{pink}\\mathbb{Gaus-Nutont-LS-Part}}$"
   ]
  },
  {
   "cell_type": "code",
   "execution_count": 262,
   "id": "3dc61619",
   "metadata": {},
   "outputs": [],
   "source": [
    "def compute_d_k(w, A_scaled):\n",
    "    H = A_scaled.T @ A_scaled\n",
    "    g = gradient(w)\n",
    "    # H d_k = -g\n",
    "    d_k = np.linalg.solve(H, -g)\n",
    "    return d_k\n",
    "\n",
    "def armijo_search_step_newton(w_k,a=0.7,b=0.8,s=1):\n",
    "    t = s\n",
    "    grad_fk = gradient(w_k)\n",
    "    d_k = compute_d_k(w_k, A_scaled)\n",
    "\n",
    "    iter=0\n",
    "    while ( f(w_k+t*d_k) > f(w_k) + a*t* np.dot(grad_fk, d_k)  ):\n",
    "        t=b*t\n",
    "        iter+=1\n",
    "    return t"
   ]
  },
  {
   "cell_type": "code",
   "execution_count": 263,
   "id": "2ce9d040",
   "metadata": {},
   "outputs": [
    {
     "name": "stdout",
     "output_type": "stream",
     "text": [
      "\n",
      "step size = armijo algo\n",
      "Optimized weights: [-0.19456209  0.0218378   0.02812553  0.13771854 -0.00463052]\n",
      "Final loss: 26.71573557243258\n"
     ]
    }
   ],
   "source": [
    "def newton_gaus(w_start,t_k,epsilo=1e-5,iterations = 1000):\n",
    "\n",
    "    losses = [f(w_start)] \n",
    "\n",
    "    w = w_start\n",
    "    for i in range(iterations):\n",
    "        grad_fk = gradient(w)\n",
    "        grad_norm = np.linalg.norm(grad_fk)\n",
    "\n",
    "        if grad_norm < epsilo:\n",
    "            break\n",
    "        \n",
    "        d_k = compute_d_k(w,A)\n",
    "\n",
    "        w = w - t_k * d_k\n",
    "        t_k = armijo_search_step_newton(w)\n",
    "        losses.append(f(w))\n",
    "\n",
    "\n",
    "    return w,losses\n",
    "\n",
    "\n",
    "w_star = np.array([1, 1, 1, 1, 1])\n",
    "t_k_3 = 0.001\n",
    "w_opt_3,lossy_3 = grady_with_steps(w_star,t_k_3)\n",
    "\n",
    "print(\"\\nstep size = armijo algo\")\n",
    "print(\"Optimized weights:\", w_opt_3)\n",
    "print(\"Final loss:\", f(w_opt_3))"
   ]
  },
  {
   "cell_type": "markdown",
   "id": "e0a63a6f",
   "metadata": {},
   "source": []
  },
  {
   "cell_type": "code",
   "execution_count": 264,
   "id": "9487eec0",
   "metadata": {},
   "outputs": [
    {
     "data": {
      "image/png": "[encoded data removed]",
      "text/plain": [
       "<Figure size 1000x600 with 1 Axes>"
      ]
     },
     "metadata": {},
     "output_type": "display_data"
    }
   ],
   "source": [
    "plt.figure(figsize=(10, 6))\n",
    "plt.plot(lossy_3, label=\"Newton Armijo Step\", linewidth=2)\n",
    "plt.xlabel(\"Iteration\")\n",
    "plt.ylabel(\"Loss\")\n",
    "plt.title(\"Loss over Iterations\")\n",
    "plt.legend()\n",
    "plt.show()\n"
   ]
  },
  {
   "cell_type": "code",
   "execution_count": 265,
   "id": "1c2aede7",
   "metadata": {},
   "outputs": [
    {
     "name": "stdout",
     "output_type": "stream",
     "text": [
      "loss const step: 26.715735572433\n",
      "loss armijo step way: 26.715735572432042\n",
      "Loss Newton 26.71573557243258\n"
     ]
    }
   ],
   "source": [
    "print(\"loss const step:\",f(w_opt))\n",
    "print(\"loss armijo step way:\",f(w_opt_2))\n",
    "print(\"Loss Newton\", f(w_opt_3))"
   ]
  },
  {
   "cell_type": "markdown",
   "id": "943c0592",
   "metadata": {},
   "source": [
    "-----"
   ]
  },
  {
   "cell_type": "markdown",
   "id": "0b31ad3d",
   "metadata": {},
   "source": [
    "so it looks like all have sort of the same error.... which is good\n",
    "\n",
    "Gradient decent with armajo is the one with the smallest error (by 0.0000001 so its not that much...)"
   ]
  }
 ],
 "metadata": {
  "kernelspec": {
   "display_name": "Python 3",
   "language": "python",
   "name": "python3"
  },
  "language_info": {
   "codemirror_mode": {
    "name": "ipython",
    "version": 3
   },
   "file_extension": ".py",
   "mimetype": "text/x-python",
   "name": "python",
   "nbconvert_exporter": "python",
   "pygments_lexer": "ipython3",
   "version": "3.12.0"
  }
 },
 "nbformat": 4,
 "nbformat_minor": 5
}
