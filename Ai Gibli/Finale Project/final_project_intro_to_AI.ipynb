{
 "cells": [
  {
   "cell_type": "markdown",
   "id": "7db0f5f8",
   "metadata": {},
   "source": [
    "# Predicting Resolution Time for Customer Service Data\n",
    "\n",
    "### By: \n",
    "### Yuval Kav 32\n",
    "### Matan Gin 21"
   ]
  },
  {
   "cell_type": "code",
   "execution_count": 3,
   "id": "1105cd0c",
   "metadata": {},
   "outputs": [],
   "source": [
    "import pandas as pd # tabeles panda\n",
    "import numpy as np\n",
    "import matplotlib.pyplot as plt\n",
    "\n",
    "import torch\n",
    "import torch.nn as nn\n",
    "import torch.nn.functional as F\n",
    "\n",
    "from sklearn.model_selection import train_test_split\n",
    "from sklearn.metrics import mean_squared_error\n",
    "import itertools\n",
    "from sklearn.svm import SVR\n",
    "from sklearn.preprocessing import StandardScaler\n",
    "from sklearn.linear_model import LinearRegression\n",
    "\n",
    "from tqdm import tqdm\n",
    "import copy\n",
    "\n",
    "\n"
   ]
  },
  {
   "cell_type": "markdown",
   "id": "9def137b",
   "metadata": {},
   "source": [
    "## Loading the data"
   ]
  },
  {
   "cell_type": "code",
   "execution_count": 4,
   "id": "fff35236",
   "metadata": {},
   "outputs": [
    {
     "data": {
      "text/html": [
       "<div>\n",
       "<style scoped>\n",
       "    .dataframe tbody tr th:only-of-type {\n",
       "        vertical-align: middle;\n",
       "    }\n",
       "\n",
       "    .dataframe tbody tr th {\n",
       "        vertical-align: top;\n",
       "    }\n",
       "\n",
       "    .dataframe thead th {\n",
       "        text-align: right;\n",
       "    }\n",
       "</style>\n",
       "<table border=\"1\" class=\"dataframe\">\n",
       "  <thead>\n",
       "    <tr style=\"text-align: right;\">\n",
       "      <th></th>\n",
       "      <th>Category</th>\n",
       "      <th>Urgency</th>\n",
       "      <th>Customer_Type</th>\n",
       "      <th>Time_Open_Hour</th>\n",
       "      <th>Previous_Interactions</th>\n",
       "      <th>Resolved_By_First_Contact</th>\n",
       "      <th>Resolution_Time_Minutes</th>\n",
       "    </tr>\n",
       "  </thead>\n",
       "  <tbody>\n",
       "    <tr>\n",
       "      <th>0</th>\n",
       "      <td>General Inquiry</td>\n",
       "      <td>Medium</td>\n",
       "      <td>Private</td>\n",
       "      <td>21</td>\n",
       "      <td>4</td>\n",
       "      <td>1</td>\n",
       "      <td>14.38</td>\n",
       "    </tr>\n",
       "    <tr>\n",
       "      <th>1</th>\n",
       "      <td>Billing</td>\n",
       "      <td>Low</td>\n",
       "      <td>Business</td>\n",
       "      <td>21</td>\n",
       "      <td>3</td>\n",
       "      <td>0</td>\n",
       "      <td>40.03</td>\n",
       "    </tr>\n",
       "    <tr>\n",
       "      <th>2</th>\n",
       "      <td>General Inquiry</td>\n",
       "      <td>High</td>\n",
       "      <td>Private</td>\n",
       "      <td>16</td>\n",
       "      <td>0</td>\n",
       "      <td>0</td>\n",
       "      <td>36.88</td>\n",
       "    </tr>\n",
       "  </tbody>\n",
       "</table>\n",
       "</div>"
      ],
      "text/plain": [
       "          Category Urgency Customer_Type  Time_Open_Hour  \\\n",
       "0  General Inquiry  Medium       Private              21   \n",
       "1          Billing     Low      Business              21   \n",
       "2  General Inquiry    High       Private              16   \n",
       "\n",
       "   Previous_Interactions  Resolved_By_First_Contact  Resolution_Time_Minutes  \n",
       "0                      4                          1                    14.38  \n",
       "1                      3                          0                    40.03  \n",
       "2                      0                          0                    36.88  "
      ]
     },
     "execution_count": 4,
     "metadata": {},
     "output_type": "execute_result"
    }
   ],
   "source": [
    "customer_ser = pd.read_excel(r\".\\\\customer_service_ai_problem.xlsx\")\n",
    "customer_ser = customer_ser.drop(['Ticket_ID'],axis=1)  #Nuh \n",
    "\n",
    "customer_ser.head(3)"
   ]
  },
  {
   "cell_type": "code",
   "execution_count": 5,
   "id": "08106fa0",
   "metadata": {},
   "outputs": [
    {
     "data": {
      "text/html": [
       "<div>\n",
       "<style scoped>\n",
       "    .dataframe tbody tr th:only-of-type {\n",
       "        vertical-align: middle;\n",
       "    }\n",
       "\n",
       "    .dataframe tbody tr th {\n",
       "        vertical-align: top;\n",
       "    }\n",
       "\n",
       "    .dataframe thead th {\n",
       "        text-align: right;\n",
       "    }\n",
       "</style>\n",
       "<table border=\"1\" class=\"dataframe\">\n",
       "  <thead>\n",
       "    <tr style=\"text-align: right;\">\n",
       "      <th></th>\n",
       "      <th>Category</th>\n",
       "      <th>Urgency</th>\n",
       "      <th>Customer_Type</th>\n",
       "      <th>Time_Open_Hour</th>\n",
       "      <th>Previous_Interactions</th>\n",
       "      <th>Resolved_By_First_Contact</th>\n",
       "      <th>Resolution_Time_Minutes</th>\n",
       "    </tr>\n",
       "  </thead>\n",
       "  <tbody>\n",
       "    <tr>\n",
       "      <th>0</th>\n",
       "      <td>General Inquiry</td>\n",
       "      <td>Medium</td>\n",
       "      <td>Private</td>\n",
       "      <td>21</td>\n",
       "      <td>4</td>\n",
       "      <td>1</td>\n",
       "      <td>14.38</td>\n",
       "    </tr>\n",
       "    <tr>\n",
       "      <th>1</th>\n",
       "      <td>Billing</td>\n",
       "      <td>Low</td>\n",
       "      <td>Business</td>\n",
       "      <td>21</td>\n",
       "      <td>3</td>\n",
       "      <td>0</td>\n",
       "      <td>40.03</td>\n",
       "    </tr>\n",
       "    <tr>\n",
       "      <th>2</th>\n",
       "      <td>General Inquiry</td>\n",
       "      <td>High</td>\n",
       "      <td>Private</td>\n",
       "      <td>16</td>\n",
       "      <td>0</td>\n",
       "      <td>0</td>\n",
       "      <td>36.88</td>\n",
       "    </tr>\n",
       "    <tr>\n",
       "      <th>3</th>\n",
       "      <td>General Inquiry</td>\n",
       "      <td>High</td>\n",
       "      <td>Private</td>\n",
       "      <td>19</td>\n",
       "      <td>4</td>\n",
       "      <td>1</td>\n",
       "      <td>30.14</td>\n",
       "    </tr>\n",
       "    <tr>\n",
       "      <th>4</th>\n",
       "      <td>Billing</td>\n",
       "      <td>Low</td>\n",
       "      <td>Business</td>\n",
       "      <td>9</td>\n",
       "      <td>0</td>\n",
       "      <td>0</td>\n",
       "      <td>27.43</td>\n",
       "    </tr>\n",
       "    <tr>\n",
       "      <th>5</th>\n",
       "      <td>Billing</td>\n",
       "      <td>High</td>\n",
       "      <td>Private</td>\n",
       "      <td>5</td>\n",
       "      <td>2</td>\n",
       "      <td>0</td>\n",
       "      <td>30.69</td>\n",
       "    </tr>\n",
       "    <tr>\n",
       "      <th>6</th>\n",
       "      <td>General Inquiry</td>\n",
       "      <td>High</td>\n",
       "      <td>Business</td>\n",
       "      <td>14</td>\n",
       "      <td>0</td>\n",
       "      <td>1</td>\n",
       "      <td>41.71</td>\n",
       "    </tr>\n",
       "    <tr>\n",
       "      <th>7</th>\n",
       "      <td>Technical</td>\n",
       "      <td>Low</td>\n",
       "      <td>Private</td>\n",
       "      <td>21</td>\n",
       "      <td>0</td>\n",
       "      <td>1</td>\n",
       "      <td>24.49</td>\n",
       "    </tr>\n",
       "    <tr>\n",
       "      <th>8</th>\n",
       "      <td>General Inquiry</td>\n",
       "      <td>Low</td>\n",
       "      <td>Business</td>\n",
       "      <td>10</td>\n",
       "      <td>0</td>\n",
       "      <td>0</td>\n",
       "      <td>33.06</td>\n",
       "    </tr>\n",
       "    <tr>\n",
       "      <th>9</th>\n",
       "      <td>General Inquiry</td>\n",
       "      <td>High</td>\n",
       "      <td>Private</td>\n",
       "      <td>4</td>\n",
       "      <td>3</td>\n",
       "      <td>1</td>\n",
       "      <td>29.94</td>\n",
       "    </tr>\n",
       "  </tbody>\n",
       "</table>\n",
       "</div>"
      ],
      "text/plain": [
       "          Category Urgency Customer_Type  Time_Open_Hour  \\\n",
       "0  General Inquiry  Medium       Private              21   \n",
       "1          Billing     Low      Business              21   \n",
       "2  General Inquiry    High       Private              16   \n",
       "3  General Inquiry    High       Private              19   \n",
       "4          Billing     Low      Business               9   \n",
       "5          Billing    High       Private               5   \n",
       "6  General Inquiry    High      Business              14   \n",
       "7        Technical     Low       Private              21   \n",
       "8  General Inquiry     Low      Business              10   \n",
       "9  General Inquiry    High       Private               4   \n",
       "\n",
       "   Previous_Interactions  Resolved_By_First_Contact  Resolution_Time_Minutes  \n",
       "0                      4                          1                    14.38  \n",
       "1                      3                          0                    40.03  \n",
       "2                      0                          0                    36.88  \n",
       "3                      4                          1                    30.14  \n",
       "4                      0                          0                    27.43  \n",
       "5                      2                          0                    30.69  \n",
       "6                      0                          1                    41.71  \n",
       "7                      0                          1                    24.49  \n",
       "8                      0                          0                    33.06  \n",
       "9                      3                          1                    29.94  "
      ]
     },
     "execution_count": 5,
     "metadata": {},
     "output_type": "execute_result"
    }
   ],
   "source": [
    "customer_ser.head(10)"
   ]
  },
  {
   "cell_type": "markdown",
   "id": "e9f7ed3d",
   "metadata": {},
   "source": [
    "### Cleaning and Formating"
   ]
  },
  {
   "cell_type": "code",
   "execution_count": 6,
   "id": "d9bfa6c5",
   "metadata": {},
   "outputs": [
    {
     "name": "stdout",
     "output_type": "stream",
     "text": [
      "Size: (150, 7) \n",
      "\n",
      "<class 'pandas.core.frame.DataFrame'>\n",
      "RangeIndex: 150 entries, 0 to 149\n",
      "Data columns (total 7 columns):\n",
      " #   Column                     Non-Null Count  Dtype  \n",
      "---  ------                     --------------  -----  \n",
      " 0   Category                   150 non-null    object \n",
      " 1   Urgency                    150 non-null    object \n",
      " 2   Customer_Type              150 non-null    object \n",
      " 3   Time_Open_Hour             150 non-null    int64  \n",
      " 4   Previous_Interactions      150 non-null    int64  \n",
      " 5   Resolved_By_First_Contact  150 non-null    int64  \n",
      " 6   Resolution_Time_Minutes    150 non-null    float64\n",
      "dtypes: float64(1), int64(3), object(3)\n",
      "memory usage: 8.3+ KB\n"
     ]
    }
   ],
   "source": [
    "print(\"Size:\",customer_ser.shape,\"\\n\")\n",
    "#print(customer_ser.columns.values,\"\\n\\n\")\n",
    "customer_ser.info() "
   ]
  },
  {
   "cell_type": "code",
   "execution_count": 7,
   "id": "0cc5878c",
   "metadata": {},
   "outputs": [
    {
     "data": {
      "text/html": [
       "<div>\n",
       "<style scoped>\n",
       "    .dataframe tbody tr th:only-of-type {\n",
       "        vertical-align: middle;\n",
       "    }\n",
       "\n",
       "    .dataframe tbody tr th {\n",
       "        vertical-align: top;\n",
       "    }\n",
       "\n",
       "    .dataframe thead th {\n",
       "        text-align: right;\n",
       "    }\n",
       "</style>\n",
       "<table border=\"1\" class=\"dataframe\">\n",
       "  <thead>\n",
       "    <tr style=\"text-align: right;\">\n",
       "      <th></th>\n",
       "      <th>Time_Open_Hour</th>\n",
       "      <th>Previous_Interactions</th>\n",
       "      <th>Resolved_By_First_Contact</th>\n",
       "      <th>Resolution_Time_Minutes</th>\n",
       "    </tr>\n",
       "  </thead>\n",
       "  <tbody>\n",
       "    <tr>\n",
       "      <th>count</th>\n",
       "      <td>150.000000</td>\n",
       "      <td>150.000000</td>\n",
       "      <td>150.000000</td>\n",
       "      <td>150.000000</td>\n",
       "    </tr>\n",
       "    <tr>\n",
       "      <th>mean</th>\n",
       "      <td>11.360000</td>\n",
       "      <td>2.153333</td>\n",
       "      <td>0.446667</td>\n",
       "      <td>36.509533</td>\n",
       "    </tr>\n",
       "    <tr>\n",
       "      <th>std</th>\n",
       "      <td>7.293723</td>\n",
       "      <td>1.482500</td>\n",
       "      <td>0.498813</td>\n",
       "      <td>13.583804</td>\n",
       "    </tr>\n",
       "    <tr>\n",
       "      <th>min</th>\n",
       "      <td>0.000000</td>\n",
       "      <td>0.000000</td>\n",
       "      <td>0.000000</td>\n",
       "      <td>1.810000</td>\n",
       "    </tr>\n",
       "    <tr>\n",
       "      <th>25%</th>\n",
       "      <td>4.000000</td>\n",
       "      <td>1.000000</td>\n",
       "      <td>0.000000</td>\n",
       "      <td>27.442500</td>\n",
       "    </tr>\n",
       "    <tr>\n",
       "      <th>50%</th>\n",
       "      <td>11.000000</td>\n",
       "      <td>2.000000</td>\n",
       "      <td>0.000000</td>\n",
       "      <td>35.045000</td>\n",
       "    </tr>\n",
       "    <tr>\n",
       "      <th>75%</th>\n",
       "      <td>18.000000</td>\n",
       "      <td>3.000000</td>\n",
       "      <td>1.000000</td>\n",
       "      <td>46.372500</td>\n",
       "    </tr>\n",
       "    <tr>\n",
       "      <th>max</th>\n",
       "      <td>23.000000</td>\n",
       "      <td>4.000000</td>\n",
       "      <td>1.000000</td>\n",
       "      <td>70.850000</td>\n",
       "    </tr>\n",
       "  </tbody>\n",
       "</table>\n",
       "</div>"
      ],
      "text/plain": [
       "       Time_Open_Hour  Previous_Interactions  Resolved_By_First_Contact  \\\n",
       "count      150.000000             150.000000                 150.000000   \n",
       "mean        11.360000               2.153333                   0.446667   \n",
       "std          7.293723               1.482500                   0.498813   \n",
       "min          0.000000               0.000000                   0.000000   \n",
       "25%          4.000000               1.000000                   0.000000   \n",
       "50%         11.000000               2.000000                   0.000000   \n",
       "75%         18.000000               3.000000                   1.000000   \n",
       "max         23.000000               4.000000                   1.000000   \n",
       "\n",
       "       Resolution_Time_Minutes  \n",
       "count               150.000000  \n",
       "mean                 36.509533  \n",
       "std                  13.583804  \n",
       "min                   1.810000  \n",
       "25%                  27.442500  \n",
       "50%                  35.045000  \n",
       "75%                  46.372500  \n",
       "max                  70.850000  "
      ]
     },
     "execution_count": 7,
     "metadata": {},
     "output_type": "execute_result"
    }
   ],
   "source": [
    "customer_ser.describe()"
   ]
  },
  {
   "cell_type": "code",
   "execution_count": 8,
   "id": "51ad93ab",
   "metadata": {},
   "outputs": [
    {
     "data": {
      "text/html": [
       "<div>\n",
       "<style scoped>\n",
       "    .dataframe tbody tr th:only-of-type {\n",
       "        vertical-align: middle;\n",
       "    }\n",
       "\n",
       "    .dataframe tbody tr th {\n",
       "        vertical-align: top;\n",
       "    }\n",
       "\n",
       "    .dataframe thead th {\n",
       "        text-align: right;\n",
       "    }\n",
       "</style>\n",
       "<table border=\"1\" class=\"dataframe\">\n",
       "  <thead>\n",
       "    <tr style=\"text-align: right;\">\n",
       "      <th></th>\n",
       "      <th>Category</th>\n",
       "      <th>Urgency</th>\n",
       "      <th>Customer_Type</th>\n",
       "    </tr>\n",
       "  </thead>\n",
       "  <tbody>\n",
       "    <tr>\n",
       "      <th>count</th>\n",
       "      <td>150</td>\n",
       "      <td>150</td>\n",
       "      <td>150</td>\n",
       "    </tr>\n",
       "    <tr>\n",
       "      <th>unique</th>\n",
       "      <td>3</td>\n",
       "      <td>3</td>\n",
       "      <td>2</td>\n",
       "    </tr>\n",
       "    <tr>\n",
       "      <th>top</th>\n",
       "      <td>General Inquiry</td>\n",
       "      <td>Low</td>\n",
       "      <td>Business</td>\n",
       "    </tr>\n",
       "    <tr>\n",
       "      <th>freq</th>\n",
       "      <td>56</td>\n",
       "      <td>51</td>\n",
       "      <td>78</td>\n",
       "    </tr>\n",
       "  </tbody>\n",
       "</table>\n",
       "</div>"
      ],
      "text/plain": [
       "               Category Urgency Customer_Type\n",
       "count               150     150           150\n",
       "unique                3       3             2\n",
       "top     General Inquiry     Low      Business\n",
       "freq                 56      51            78"
      ]
     },
     "execution_count": 8,
     "metadata": {},
     "output_type": "execute_result"
    }
   ],
   "source": [
    "customer_ser.describe(include=\"O\")\n"
   ]
  },
  {
   "cell_type": "code",
   "execution_count": 9,
   "id": "824e7a04",
   "metadata": {},
   "outputs": [
    {
     "data": {
      "text/plain": [
       "array(['General Inquiry', 'Billing', 'Technical'], dtype=object)"
      ]
     },
     "execution_count": 9,
     "metadata": {},
     "output_type": "execute_result"
    }
   ],
   "source": [
    "customer_ser[\"Category\"].unique()"
   ]
  },
  {
   "cell_type": "code",
   "execution_count": 10,
   "id": "80516f22",
   "metadata": {},
   "outputs": [
    {
     "name": "stdout",
     "output_type": "stream",
     "text": [
      "Average resolution time for General Inquiry:  32.31017857142857\n",
      "Average resolution time for Billing:  30.668750000000003\n",
      "Average resolution time for Technical:  47.716521739130435\n"
     ]
    }
   ],
   "source": [
    "for category in customer_ser[\"Category\"].unique():\n",
    "    print(f\"Average resolution time for {category}: \",customer_ser[customer_ser['Category'] == category]['Resolution_Time_Minutes'].mean())"
   ]
  },
  {
   "cell_type": "code",
   "execution_count": 11,
   "id": "4d787946",
   "metadata": {},
   "outputs": [],
   "source": [
    "customer_ser[\"Urgency\"] = customer_ser[\"Urgency\"].map({'Low': 0, 'Medium': 1, 'High': 2})\n",
    "\n",
    "customer_ser[\"Customer_Type\"] = customer_ser[\"Customer_Type\"].map({'Private': 0, 'Business': 1})\n",
    "\n",
    "customer_ser['Category'] = customer_ser['Category'].map({'Billing': 0, 'General Inquiry': 1, 'Technical': 2})"
   ]
  },
  {
   "cell_type": "markdown",
   "id": "922eb19d",
   "metadata": {},
   "source": [
    "-------"
   ]
  },
  {
   "cell_type": "code",
   "execution_count": 12,
   "id": "94433379",
   "metadata": {},
   "outputs": [
    {
     "data": {
      "text/html": [
       "<div>\n",
       "<style scoped>\n",
       "    .dataframe tbody tr th:only-of-type {\n",
       "        vertical-align: middle;\n",
       "    }\n",
       "\n",
       "    .dataframe tbody tr th {\n",
       "        vertical-align: top;\n",
       "    }\n",
       "\n",
       "    .dataframe thead th {\n",
       "        text-align: right;\n",
       "    }\n",
       "</style>\n",
       "<table border=\"1\" class=\"dataframe\">\n",
       "  <thead>\n",
       "    <tr style=\"text-align: right;\">\n",
       "      <th></th>\n",
       "      <th>Category</th>\n",
       "      <th>Urgency</th>\n",
       "      <th>Customer_Type</th>\n",
       "      <th>Time_Open_Hour</th>\n",
       "      <th>Previous_Interactions</th>\n",
       "      <th>Resolved_By_First_Contact</th>\n",
       "      <th>Resolution_Time_Minutes</th>\n",
       "    </tr>\n",
       "  </thead>\n",
       "  <tbody>\n",
       "    <tr>\n",
       "      <th>0</th>\n",
       "      <td>1</td>\n",
       "      <td>1</td>\n",
       "      <td>0</td>\n",
       "      <td>21</td>\n",
       "      <td>4</td>\n",
       "      <td>1</td>\n",
       "      <td>14.38</td>\n",
       "    </tr>\n",
       "    <tr>\n",
       "      <th>1</th>\n",
       "      <td>0</td>\n",
       "      <td>0</td>\n",
       "      <td>1</td>\n",
       "      <td>21</td>\n",
       "      <td>3</td>\n",
       "      <td>0</td>\n",
       "      <td>40.03</td>\n",
       "    </tr>\n",
       "    <tr>\n",
       "      <th>2</th>\n",
       "      <td>1</td>\n",
       "      <td>2</td>\n",
       "      <td>0</td>\n",
       "      <td>16</td>\n",
       "      <td>0</td>\n",
       "      <td>0</td>\n",
       "      <td>36.88</td>\n",
       "    </tr>\n",
       "    <tr>\n",
       "      <th>3</th>\n",
       "      <td>1</td>\n",
       "      <td>2</td>\n",
       "      <td>0</td>\n",
       "      <td>19</td>\n",
       "      <td>4</td>\n",
       "      <td>1</td>\n",
       "      <td>30.14</td>\n",
       "    </tr>\n",
       "    <tr>\n",
       "      <th>4</th>\n",
       "      <td>0</td>\n",
       "      <td>0</td>\n",
       "      <td>1</td>\n",
       "      <td>9</td>\n",
       "      <td>0</td>\n",
       "      <td>0</td>\n",
       "      <td>27.43</td>\n",
       "    </tr>\n",
       "  </tbody>\n",
       "</table>\n",
       "</div>"
      ],
      "text/plain": [
       "   Category  Urgency  Customer_Type  Time_Open_Hour  Previous_Interactions  \\\n",
       "0         1        1              0              21                      4   \n",
       "1         0        0              1              21                      3   \n",
       "2         1        2              0              16                      0   \n",
       "3         1        2              0              19                      4   \n",
       "4         0        0              1               9                      0   \n",
       "\n",
       "   Resolved_By_First_Contact  Resolution_Time_Minutes  \n",
       "0                          1                    14.38  \n",
       "1                          0                    40.03  \n",
       "2                          0                    36.88  \n",
       "3                          1                    30.14  \n",
       "4                          0                    27.43  "
      ]
     },
     "execution_count": 12,
     "metadata": {},
     "output_type": "execute_result"
    }
   ],
   "source": [
    "customer_ser.head()"
   ]
  },
  {
   "cell_type": "code",
   "execution_count": 129,
   "id": "8a2babda",
   "metadata": {},
   "outputs": [
    {
     "name": "stdout",
     "output_type": "stream",
     "text": [
      "0 Category\n",
      "1 Urgency\n",
      "2 Customer_Type\n",
      "3 Time_Open_Hour\n",
      "4 Previous_Interactions\n",
      "5 Resolved_By_First_Contact\n",
      "6 Resolution_Time_Minutes\n",
      "<class 'list'> 6\n",
      "<class 'list'> 150\n",
      "<class 'list'> 150\n"
     ]
    }
   ],
   "source": [
    "customer_list = []\n",
    "column_titles = customer_ser.columns.tolist()\n",
    "for i,title in enumerate(column_titles):\n",
    "    print(i,title)\n",
    "    if title == column_titles[-1]:                             \n",
    "        time_list = customer_ser[title].to_list()\n",
    "    else:\n",
    "        customer_list.append(customer_ser[title].to_list())\n",
    "\n",
    "print(type(customer_list),len(customer_list))\n",
    "print(type(customer_list[0]),len(customer_list[0]))\n",
    "print(type(time_list),len(time_list))\n",
    "\n",
    "\n",
    "customer_array = np.array(customer_list).T  # (num_samples, num_features)\n",
    "time_array= np.array(time_list) \n",
    "\n",
    "customer_tensor = torch.tensor(customer_array, dtype=torch.float32)  \n",
    "time_tensor = torch.tensor(time_list, dtype=torch.float32).view(-1, 1)  # Target "
   ]
  },
  {
   "cell_type": "markdown",
   "id": "f11fa5bb",
   "metadata": {},
   "source": [
    "### Plot functions"
   ]
  },
  {
   "cell_type": "code",
   "execution_count": 14,
   "id": "1fd28686",
   "metadata": {},
   "outputs": [],
   "source": [
    "def plot_prediction_band(actual_time , predicted_time,error_allowed = 5):   \n",
    "\n",
    "    plt.figure(figsize=(6, 6))\n",
    "    plt.scatter(actual_time, predicted_time, color='red', label='Predicted')\n",
    "    plt.plot([min(actual_time), max(actual_time)],[min(actual_time), max(actual_time)], linestyle='--', label='Perfect ')  # y=x...\n",
    "\n",
    "    min_val = min(actual_time)\n",
    "    max_val = max(actual_time)\n",
    "    plt.plot([min_val,max_val],[min_val + error_allowed,max_val + error_allowed],linestyle=':',color='lime',label=f'+{error_allowed} min margin')\n",
    "    plt.plot([min_val,max_val],[min_val - error_allowed,max_val - error_allowed],linestyle=':',color='lime',label=f'-{error_allowed} min margin')\n",
    "\n",
    "    plt.xlabel(\"Actual Time\")\n",
    "    plt.ylabel(\"Predicted Time\")\n",
    "    plt.title(\"Predicted Time vs Actual Time\")\n",
    "    plt.legend()\n",
    "    plt.grid(True)\n",
    "    plt.show()"
   ]
  },
  {
   "cell_type": "code",
   "execution_count": 15,
   "id": "43f2de0c",
   "metadata": {},
   "outputs": [],
   "source": [
    "def plot_train_val(loss_train,loss_val):\n",
    "\n",
    "    plt.figure(figsize=(10, 5))\n",
    "    plt.plot(loss_train,label='TrainY')\n",
    "    plt.plot(loss_val,color=\"lime\",label='VALY')\n",
    "    plt.xlabel('Epochs')\n",
    "    plt.ylabel('MSE Loss')\n",
    "    plt.legend()\n",
    "    plt.show()"
   ]
  },
  {
   "cell_type": "markdown",
   "id": "6e022721",
   "metadata": {},
   "source": [
    "# Testing diffrent regressions"
   ]
  },
  {
   "cell_type": "code",
   "execution_count": 16,
   "id": "44e182ff",
   "metadata": {},
   "outputs": [
    {
     "name": "stdout",
     "output_type": "stream",
     "text": [
      "torch.Size([120, 6]) torch.Size([30, 6])\n",
      "torch.Size([120, 1]) torch.Size([30, 1])\n"
     ]
    }
   ],
   "source": [
    "customer_train, customer_val, time_train, time_val = train_test_split(customer_tensor,time_tensor,test_size=0.2,random_state=42) # Tensors for Neural Net\n",
    "\n",
    "print(customer_train.shape,customer_val.shape)  \n",
    "print(time_train.shape,time_val.shape)      "
   ]
  },
  {
   "cell_type": "markdown",
   "id": "dea352c9",
   "metadata": {},
   "source": [
    "## Neural Networks\n"
   ]
  },
  {
   "cell_type": "markdown",
   "id": "18949cfd",
   "metadata": {},
   "source": [
    "### single layer NN"
   ]
  },
  {
   "cell_type": "code",
   "execution_count": 17,
   "id": "cdc14ffd",
   "metadata": {},
   "outputs": [],
   "source": [
    "class single_layer_NN(nn.Module):\n",
    "    def __init__(self,input_layer=6,hidden_layer=64):\n",
    "        super(single_layer_NN, self).__init__()\n",
    "        self.fc1 = nn.Linear(input_layer, hidden_layer)\n",
    "        self.fc2 = nn.Linear(hidden_layer, 1)                     # finale num         \n",
    "\n",
    "    def forward(self, x):\n",
    "        x = F.relu(self.fc1(x))\n",
    "        x = self.fc2(x)                                             \n",
    "        return x\n"
   ]
  },
  {
   "cell_type": "code",
   "execution_count": null,
   "id": "83a7156a",
   "metadata": {},
   "outputs": [],
   "source": [
    "model = single_layer_NN()\n",
    "criterion = nn.MSELoss()  \n",
    "optimizer = torch.optim.Adam(model.parameters(), lr=0.001)"
   ]
  },
  {
   "cell_type": "markdown",
   "id": "d55a42e1",
   "metadata": {},
   "source": [
    "## Training"
   ]
  },
  {
   "cell_type": "code",
   "execution_count": 18,
   "id": "21d9a3ce",
   "metadata": {},
   "outputs": [],
   "source": [
    "def training_NN(customer_train,time_train,customer_val,time_val,model,criterion,optimizer,scheduler=None,epochs=1000,layers=1):\n",
    "    best_val_loss = 1000\n",
    "    loss_train = []\n",
    "    loss_val = []\n",
    "    for epoch in range(epochs):\n",
    "\n",
    "        model.train()\n",
    "        optimizer.zero_grad()       \n",
    "        predicted = model(customer_train)          \n",
    "        loss = criterion(predicted, time_train)  \n",
    "        loss.backward()            \n",
    "        optimizer.step()      \n",
    "\n",
    "        loss_train.append(loss.item())  \n",
    "\n",
    "        model.eval()\n",
    "        with torch.no_grad():\n",
    "            val_predictions = model(customer_val)\n",
    "            val_loss = criterion(val_predictions, time_val)\n",
    "            if scheduler != None:\n",
    "                scheduler.step(val_loss)\n",
    "            loss_val.append(val_loss.item())\n",
    "\n",
    "        if (epoch + 1) % 50 == 0:\n",
    "            print(f\"Epoch [{epoch+1}/{epochs}], val Loss: {val_loss.item():.4f},  train loss: {loss}\")              # if we want to print...\n",
    "        \n",
    "        if len(loss_val)< 3 :\n",
    "            pass\n",
    "        elif val_loss < best_val_loss:\n",
    "            torch.save({\n",
    "                'epoch': epoch,\n",
    "                'model_state_dict': model.state_dict(),\n",
    "                'optimizer_state_dict': optimizer.state_dict(),\n",
    "                'loss_val': val_loss,\n",
    "                'loss_train': loss\n",
    "            }, f'models/{layers}-layer-NN.pth')\n",
    "            best_val_loss = val_loss\n",
    "\n",
    "    return model,loss_train,loss_val,best_val_loss"
   ]
  },
  {
   "cell_type": "code",
   "execution_count": 20,
   "id": "cedf6a21",
   "metadata": {},
   "outputs": [],
   "source": [
    "def success_rate_tensors(time_pred_squze,time_real_squze,error_allowed=5):\n",
    "\n",
    "    if len(time_real_squze.shape) > 1:                # in case of this dangerous case.\n",
    "        time_real_squze = time_real_squze.squeeze()\n",
    "    if len(time_pred_squze.shape) > 1:                \n",
    "        time_pred_squze = time_pred_squze.squeeze()\n",
    "\n",
    "    differences = torch.abs(time_pred_squze - time_real_squze)\n",
    "    success_count = torch.sum(differences <= error_allowed).item()\n",
    "    total = len(time_real_squze)\n",
    "\n",
    "    success_rate = success_count / total * 100\n",
    "\n",
    "    return success_rate,success_count,total"
   ]
  },
  {
   "cell_type": "markdown",
   "id": "5bbc4729",
   "metadata": {},
   "source": [
    "### HyperParameters tuning:"
   ]
  },
  {
   "cell_type": "code",
   "execution_count": null,
   "id": "3f9d5d40",
   "metadata": {},
   "outputs": [
    {
     "name": "stderr",
     "output_type": "stream",
     "text": [
      "Grid Search: 100%|██████████| 64/64 [03:30<00:00,  3.28s/it]"
     ]
    },
    {
     "name": "stdout",
     "output_type": "stream",
     "text": [
      "\n",
      "Best success: 73.3% with params: {'learning_rate': 0.001, 'hidden_size': 64, 'epochs': 5000, 'weight_dec': 0.001}\n"
     ]
    },
    {
     "name": "stderr",
     "output_type": "stream",
     "text": [
      "\n"
     ]
    }
   ],
   "source": [
    "# Hyperparameter options\n",
    "learning_rates = [1e-3,1e-4]\n",
    "hidden_sizes = [8,16,32,64]\n",
    "epochs = [2500,5000]\n",
    "weight_dec = [0,1e-4,1e-5,1e-3]\n",
    "\n",
    "\n",
    "best_success = 0\n",
    "best_params = None\n",
    "best_model = None\n",
    "best_train = None\n",
    "best_val = None\n",
    "\n",
    "param_grid = list(itertools.product(learning_rates, hidden_sizes, epochs,weight_dec))\n",
    "\n",
    "\n",
    "for i, (lr, hidden, ep,wd) in enumerate(tqdm(param_grid, total=len(param_grid), desc=\"Grid Search\")):\n",
    "   \n",
    "    #print(f\"Training with lr={lr}, hidden_size={hidden}, epochs={ep}\")\n",
    "\n",
    "    loss_train = []\n",
    "    loss_val = []\n",
    "\n",
    "    model = single_layer_NN(input_layer=6, hidden_layer=hidden)\n",
    "    criterion = nn.MSELoss()\n",
    "    optimizer = torch.optim.Adam(model.parameters(), lr=lr,weight_decay=wd)\n",
    "    # scheduler = torch.optim.lr_scheduler.ReduceLROnPlateau(optimizer,mode='min',factor=0.1,patience=100,threshold=1e-4)\n",
    "    for epoch in range(ep):\n",
    "        model.train()\n",
    "        optimizer.zero_grad()\n",
    "        outputs = model(customer_train)\n",
    "        loss = criterion(outputs, time_train)\n",
    "        loss.backward()\n",
    "        optimizer.step()\n",
    "\n",
    "        loss_train.append(loss.item())  \n",
    "\n",
    "        model.eval()\n",
    "        with torch.no_grad():       \n",
    "            val_outputs = model(customer_val)\n",
    "            val_loss = criterion(val_outputs, time_val) \n",
    "            loss_val.append(val_loss.item())                #calc val loss as well....\n",
    "            # scheduler.step(val_loss)\n",
    "            \n",
    "\n",
    "    model.eval()\n",
    "    with torch.no_grad():\n",
    "        predictions = model(customer_val).squeeze()  # n_samples\n",
    "\n",
    "    success_rate,success_count,total = success_rate_tensors(predictions,time_val)\n",
    "\n",
    "    if success_rate > best_success:\n",
    "        best_success = success_rate\n",
    "        best_params = {'learning_rate': lr, 'hidden_size': hidden, 'epochs': ep , 'weight_dec' : wd}\n",
    "        best_model = copy.deepcopy(model)\n",
    "        best_train = loss_train[:]\n",
    "        best_val = loss_val[:]\n",
    "\n",
    "\n",
    "print(f\"\\nBest success: {best_success:.1f}% with params: {best_params}\")\n"
   ]
  },
  {
   "cell_type": "code",
   "execution_count": null,
   "id": "900d14d4",
   "metadata": {},
   "outputs": [
    {
     "name": "stdout",
     "output_type": "stream",
     "text": [
      "Epoch [50/10000], val Loss: 1068.6221,  train loss: 977.6765747070312\n",
      "Epoch [100/10000], val Loss: 659.1019,  train loss: 557.2705078125\n",
      "Epoch [150/10000], val Loss: 424.4860,  train loss: 335.5921325683594\n",
      "Epoch [200/10000], val Loss: 351.7963,  train loss: 269.6459045410156\n",
      "Epoch [250/10000], val Loss: 295.5120,  train loss: 214.99815368652344\n",
      "Epoch [300/10000], val Loss: 249.0158,  train loss: 172.4368438720703\n",
      "Epoch [350/10000], val Loss: 212.3802,  train loss: 140.90696716308594\n",
      "Epoch [400/10000], val Loss: 184.9623,  train loss: 119.44853973388672\n",
      "Epoch [450/10000], val Loss: 164.3011,  train loss: 105.74051666259766\n",
      "Epoch [500/10000], val Loss: 148.0186,  train loss: 96.17081451416016\n",
      "Epoch [550/10000], val Loss: 135.5903,  train loss: 89.50466918945312\n",
      "Epoch [600/10000], val Loss: 125.1414,  train loss: 84.34033966064453\n",
      "Epoch [650/10000], val Loss: 116.0715,  train loss: 80.11675262451172\n",
      "Epoch [700/10000], val Loss: 108.2604,  train loss: 76.57621002197266\n",
      "Epoch [750/10000], val Loss: 101.5696,  train loss: 73.682373046875\n",
      "Epoch [800/10000], val Loss: 95.8584,  train loss: 71.32060241699219\n",
      "Epoch [850/10000], val Loss: 91.0709,  train loss: 69.35437774658203\n",
      "Epoch [900/10000], val Loss: 87.2906,  train loss: 67.61962890625\n",
      "Epoch [950/10000], val Loss: 83.9584,  train loss: 66.22635650634766\n",
      "Epoch [1000/10000], val Loss: 81.1733,  train loss: 65.0345230102539\n",
      "Epoch [1050/10000], val Loss: 78.8558,  train loss: 64.02069854736328\n",
      "Epoch [1100/10000], val Loss: 76.8514,  train loss: 63.11375427246094\n",
      "Epoch [1150/10000], val Loss: 75.1650,  train loss: 62.30091094970703\n",
      "Epoch [1200/10000], val Loss: 73.8795,  train loss: 61.54220962524414\n",
      "Epoch [1250/10000], val Loss: 72.7248,  train loss: 60.84850311279297\n",
      "Epoch [1300/10000], val Loss: 71.6346,  train loss: 60.25867462158203\n",
      "Epoch [1350/10000], val Loss: 70.7172,  train loss: 59.664981842041016\n",
      "Epoch [1400/10000], val Loss: 69.3126,  train loss: 58.861106872558594\n",
      "Epoch [1450/10000], val Loss: 68.1570,  train loss: 57.9658088684082\n",
      "Epoch [1500/10000], val Loss: 67.4742,  train loss: 57.156211853027344\n",
      "Epoch [1550/10000], val Loss: 67.0872,  train loss: 56.41927719116211\n",
      "Epoch [1600/10000], val Loss: 66.6342,  train loss: 55.63777542114258\n",
      "Epoch [1650/10000], val Loss: 66.4703,  train loss: 54.92662048339844\n",
      "Epoch [1700/10000], val Loss: 66.3045,  train loss: 54.3140869140625\n",
      "Epoch [1750/10000], val Loss: 66.0307,  train loss: 53.74385452270508\n",
      "Epoch [1800/10000], val Loss: 65.7815,  train loss: 53.2181510925293\n",
      "Epoch [1850/10000], val Loss: 65.5831,  train loss: 52.73625564575195\n",
      "Epoch [1900/10000], val Loss: 65.4480,  train loss: 52.24446105957031\n",
      "Epoch [1950/10000], val Loss: 65.2171,  train loss: 51.703147888183594\n",
      "Epoch [2000/10000], val Loss: 64.7993,  train loss: 51.199039459228516\n",
      "Epoch [2050/10000], val Loss: 64.3396,  train loss: 50.67306137084961\n",
      "Epoch [2100/10000], val Loss: 63.6952,  train loss: 50.123558044433594\n",
      "Epoch [2150/10000], val Loss: 63.2317,  train loss: 49.41740798950195\n",
      "Epoch [2200/10000], val Loss: 62.5333,  train loss: 48.81123733520508\n",
      "Epoch [2250/10000], val Loss: 61.8252,  train loss: 48.26005935668945\n",
      "Epoch [2300/10000], val Loss: 61.2105,  train loss: 47.70711898803711\n",
      "Epoch [2350/10000], val Loss: 60.7962,  train loss: 47.16091537475586\n",
      "Epoch [2400/10000], val Loss: 60.3334,  train loss: 46.597938537597656\n",
      "Epoch [2450/10000], val Loss: 59.9032,  train loss: 46.035587310791016\n",
      "Epoch [2500/10000], val Loss: 59.2945,  train loss: 45.48248291015625\n",
      "Epoch [2550/10000], val Loss: 58.7602,  train loss: 44.93016815185547\n",
      "Epoch [2600/10000], val Loss: 58.2565,  train loss: 44.37887954711914\n",
      "Epoch [2650/10000], val Loss: 57.6598,  train loss: 43.826114654541016\n",
      "Epoch [2700/10000], val Loss: 57.0709,  train loss: 43.234031677246094\n",
      "Epoch [2750/10000], val Loss: 56.4081,  train loss: 42.62163162231445\n",
      "Epoch [2800/10000], val Loss: 55.7104,  train loss: 42.00928497314453\n",
      "Epoch [2850/10000], val Loss: 54.9598,  train loss: 41.37948226928711\n",
      "Epoch [2900/10000], val Loss: 54.1378,  train loss: 40.76362228393555\n",
      "Epoch [2950/10000], val Loss: 53.3598,  train loss: 40.129512786865234\n",
      "Epoch [3000/10000], val Loss: 52.6094,  train loss: 39.4731559753418\n",
      "Epoch [3050/10000], val Loss: 52.0190,  train loss: 38.818607330322266\n",
      "Epoch [3100/10000], val Loss: 51.6124,  train loss: 38.15554428100586\n",
      "Epoch [3150/10000], val Loss: 51.2229,  train loss: 37.48805236816406\n",
      "Epoch [3200/10000], val Loss: 50.8472,  train loss: 36.83073425292969\n",
      "Epoch [3250/10000], val Loss: 50.4083,  train loss: 36.17211151123047\n",
      "Epoch [3300/10000], val Loss: 49.8688,  train loss: 35.53803253173828\n",
      "Epoch [3350/10000], val Loss: 49.4582,  train loss: 34.907127380371094\n",
      "Epoch [3400/10000], val Loss: 49.1531,  train loss: 34.25504684448242\n",
      "Epoch [3450/10000], val Loss: 48.8365,  train loss: 33.6269645690918\n",
      "Epoch [3500/10000], val Loss: 48.4649,  train loss: 33.02421951293945\n",
      "Epoch [3550/10000], val Loss: 48.1284,  train loss: 32.42830276489258\n",
      "Epoch [3600/10000], val Loss: 47.6857,  train loss: 31.838848114013672\n",
      "Epoch [3650/10000], val Loss: 47.1418,  train loss: 31.243165969848633\n",
      "Epoch [3700/10000], val Loss: 46.7639,  train loss: 30.615842819213867\n",
      "Epoch [3750/10000], val Loss: 46.5375,  train loss: 29.89958953857422\n",
      "Epoch [3800/10000], val Loss: 46.0638,  train loss: 29.201061248779297\n",
      "Epoch [3850/10000], val Loss: 45.2943,  train loss: 28.53411865234375\n",
      "Epoch [3900/10000], val Loss: 44.5605,  train loss: 27.900651931762695\n",
      "Epoch [3950/10000], val Loss: 43.9952,  train loss: 27.309032440185547\n",
      "Epoch [4000/10000], val Loss: 43.4657,  train loss: 26.735002517700195\n",
      "Epoch [4050/10000], val Loss: 43.1115,  train loss: 26.15795135498047\n",
      "Epoch [4100/10000], val Loss: 42.7789,  train loss: 25.590242385864258\n",
      "Epoch [4150/10000], val Loss: 42.1281,  train loss: 25.041017532348633\n",
      "Epoch [4200/10000], val Loss: 41.6720,  train loss: 24.492074966430664\n",
      "Epoch [4250/10000], val Loss: 41.2517,  train loss: 23.905588150024414\n",
      "Epoch [4300/10000], val Loss: 41.0669,  train loss: 23.370092391967773\n",
      "Epoch [4350/10000], val Loss: 40.9421,  train loss: 22.87424087524414\n",
      "Epoch [4400/10000], val Loss: 40.8821,  train loss: 22.39627456665039\n",
      "Epoch [4450/10000], val Loss: 40.9205,  train loss: 21.94211196899414\n",
      "Epoch [4500/10000], val Loss: 41.0212,  train loss: 21.515995025634766\n",
      "Epoch [4550/10000], val Loss: 41.1143,  train loss: 21.133764266967773\n",
      "Epoch [4600/10000], val Loss: 41.3200,  train loss: 20.732555389404297\n",
      "Epoch [4650/10000], val Loss: 41.4622,  train loss: 20.35187339782715\n",
      "Epoch [4700/10000], val Loss: 41.5334,  train loss: 20.013465881347656\n",
      "Epoch [4750/10000], val Loss: 41.6692,  train loss: 19.71619415283203\n",
      "Epoch [4800/10000], val Loss: 41.7877,  train loss: 19.44063377380371\n",
      "Epoch [4850/10000], val Loss: 41.8809,  train loss: 19.20515251159668\n",
      "Epoch [4900/10000], val Loss: 41.9200,  train loss: 18.95242691040039\n",
      "Epoch [4950/10000], val Loss: 41.9413,  train loss: 18.74444007873535\n",
      "Epoch [5000/10000], val Loss: 42.1949,  train loss: 18.547677993774414\n",
      "Epoch [5050/10000], val Loss: 42.4204,  train loss: 18.370779037475586\n",
      "Epoch [5100/10000], val Loss: 42.6743,  train loss: 18.20092010498047\n",
      "Epoch [5150/10000], val Loss: 42.9037,  train loss: 18.04996681213379\n",
      "Epoch [5200/10000], val Loss: 43.1317,  train loss: 17.9053955078125\n",
      "Epoch [5250/10000], val Loss: 43.2597,  train loss: 17.776500701904297\n",
      "Epoch [5300/10000], val Loss: 43.4150,  train loss: 17.65411376953125\n",
      "Epoch [5350/10000], val Loss: 43.5596,  train loss: 17.544681549072266\n",
      "Epoch [5400/10000], val Loss: 43.7290,  train loss: 17.437166213989258\n",
      "Epoch [5450/10000], val Loss: 43.8539,  train loss: 17.34004783630371\n",
      "Epoch [5500/10000], val Loss: 44.0069,  train loss: 17.24569320678711\n",
      "Epoch [5550/10000], val Loss: 44.1765,  train loss: 17.160615921020508\n",
      "Epoch [5600/10000], val Loss: 44.3279,  train loss: 17.077653884887695\n",
      "Epoch [5650/10000], val Loss: 44.4544,  train loss: 17.001924514770508\n",
      "Epoch [5700/10000], val Loss: 44.5855,  train loss: 16.927824020385742\n",
      "Epoch [5750/10000], val Loss: 44.7058,  train loss: 16.861970901489258\n",
      "Epoch [5800/10000], val Loss: 44.8278,  train loss: 16.795150756835938\n",
      "Epoch [5850/10000], val Loss: 44.9506,  train loss: 16.727928161621094\n",
      "Epoch [5900/10000], val Loss: 45.0358,  train loss: 16.646411895751953\n",
      "Epoch [5950/10000], val Loss: 45.1431,  train loss: 16.58944320678711\n",
      "Epoch [6000/10000], val Loss: 45.2555,  train loss: 16.534610748291016\n",
      "Epoch [6050/10000], val Loss: 45.3609,  train loss: 16.487743377685547\n",
      "Epoch [6100/10000], val Loss: 45.4416,  train loss: 16.440895080566406\n",
      "Epoch [6150/10000], val Loss: 45.5330,  train loss: 16.398216247558594\n",
      "Epoch [6200/10000], val Loss: 45.6298,  train loss: 16.356487274169922\n",
      "Epoch [6250/10000], val Loss: 45.7067,  train loss: 16.319091796875\n",
      "Epoch [6300/10000], val Loss: 45.7821,  train loss: 16.280975341796875\n",
      "Epoch [6350/10000], val Loss: 45.8525,  train loss: 16.246469497680664\n",
      "Epoch [6400/10000], val Loss: 45.9114,  train loss: 16.212556838989258\n",
      "Epoch [6450/10000], val Loss: 45.9841,  train loss: 16.181982040405273\n",
      "Epoch [6500/10000], val Loss: 46.0459,  train loss: 16.151119232177734\n",
      "Epoch [6550/10000], val Loss: 46.1110,  train loss: 16.093116760253906\n",
      "Epoch [6600/10000], val Loss: 46.1079,  train loss: 16.062585830688477\n",
      "Epoch [6650/10000], val Loss: 46.1334,  train loss: 16.034626007080078\n",
      "Epoch [6700/10000], val Loss: 46.1796,  train loss: 16.007038116455078\n",
      "Epoch [6750/10000], val Loss: 46.2319,  train loss: 15.979074478149414\n",
      "Epoch [6800/10000], val Loss: 46.2855,  train loss: 15.94927978515625\n",
      "Epoch [6850/10000], val Loss: 46.3416,  train loss: 15.919118881225586\n",
      "Epoch [6900/10000], val Loss: 46.3998,  train loss: 15.889162063598633\n",
      "Epoch [6950/10000], val Loss: 46.4536,  train loss: 15.859359741210938\n",
      "Epoch [7000/10000], val Loss: 46.5093,  train loss: 15.829512596130371\n",
      "Epoch [7050/10000], val Loss: 46.5732,  train loss: 15.796347618103027\n",
      "Epoch [7100/10000], val Loss: 46.6243,  train loss: 15.761218070983887\n",
      "Epoch [7150/10000], val Loss: 46.6737,  train loss: 15.726561546325684\n",
      "Epoch [7200/10000], val Loss: 46.7274,  train loss: 15.69206714630127\n",
      "Epoch [7250/10000], val Loss: 46.7765,  train loss: 15.658097267150879\n",
      "Epoch [7300/10000], val Loss: 46.8275,  train loss: 15.624161720275879\n",
      "Epoch [7350/10000], val Loss: 46.8827,  train loss: 15.590453147888184\n",
      "Epoch [7400/10000], val Loss: 46.9435,  train loss: 15.556638717651367\n",
      "Epoch [7450/10000], val Loss: 46.9982,  train loss: 15.523055076599121\n",
      "Epoch [7500/10000], val Loss: 47.0480,  train loss: 15.489314079284668\n",
      "Epoch [7550/10000], val Loss: 47.1161,  train loss: 15.449676513671875\n",
      "Epoch [7600/10000], val Loss: 47.1700,  train loss: 15.416044235229492\n",
      "Epoch [7650/10000], val Loss: 47.2280,  train loss: 15.38273811340332\n",
      "Epoch [7700/10000], val Loss: 47.2810,  train loss: 15.349695205688477\n",
      "Epoch [7750/10000], val Loss: 47.3346,  train loss: 15.316669464111328\n",
      "Epoch [7800/10000], val Loss: 47.3919,  train loss: 15.283638954162598\n",
      "Epoch [7850/10000], val Loss: 47.4447,  train loss: 15.251504898071289\n",
      "Epoch [7900/10000], val Loss: 47.5003,  train loss: 15.219329833984375\n",
      "Epoch [7950/10000], val Loss: 47.5468,  train loss: 15.18742847442627\n",
      "Epoch [8000/10000], val Loss: 47.6060,  train loss: 15.155557632446289\n",
      "Epoch [8050/10000], val Loss: 47.6630,  train loss: 15.122587203979492\n",
      "Epoch [8100/10000], val Loss: 47.7124,  train loss: 15.089564323425293\n",
      "Epoch [8150/10000], val Loss: 47.7704,  train loss: 15.055623054504395\n",
      "Epoch [8200/10000], val Loss: 47.8283,  train loss: 15.0224609375\n",
      "Epoch [8250/10000], val Loss: 47.8873,  train loss: 14.98955249786377\n",
      "Epoch [8300/10000], val Loss: 47.9418,  train loss: 14.956835746765137\n",
      "Epoch [8350/10000], val Loss: 47.9987,  train loss: 14.923636436462402\n",
      "Epoch [8400/10000], val Loss: 48.0724,  train loss: 14.890504837036133\n",
      "Epoch [8450/10000], val Loss: 48.1265,  train loss: 14.858752250671387\n",
      "Epoch [8500/10000], val Loss: 48.1994,  train loss: 14.827022552490234\n",
      "Epoch [8550/10000], val Loss: 48.2561,  train loss: 14.795370101928711\n",
      "Epoch [8600/10000], val Loss: 48.3180,  train loss: 14.763687133789062\n",
      "Epoch [8650/10000], val Loss: 48.3660,  train loss: 14.732511520385742\n",
      "Epoch [8700/10000], val Loss: 48.4401,  train loss: 14.701122283935547\n",
      "Epoch [8750/10000], val Loss: 48.5156,  train loss: 14.669417381286621\n",
      "Epoch [8800/10000], val Loss: 48.5885,  train loss: 14.637798309326172\n",
      "Epoch [8850/10000], val Loss: 48.6668,  train loss: 14.60660457611084\n",
      "Epoch [8900/10000], val Loss: 48.7435,  train loss: 14.576716423034668\n",
      "Epoch [8950/10000], val Loss: 48.8336,  train loss: 14.54754638671875\n",
      "Epoch [9000/10000], val Loss: 48.9068,  train loss: 14.51839828491211\n",
      "Epoch [9050/10000], val Loss: 48.9924,  train loss: 14.489359855651855\n",
      "Epoch [9100/10000], val Loss: 49.0693,  train loss: 14.460562705993652\n",
      "Epoch [9150/10000], val Loss: 49.1340,  train loss: 14.429162979125977\n",
      "Epoch [9200/10000], val Loss: 49.2188,  train loss: 14.398164749145508\n",
      "Epoch [9250/10000], val Loss: 49.2945,  train loss: 14.369935989379883\n",
      "Epoch [9300/10000], val Loss: 49.3750,  train loss: 14.341619491577148\n",
      "Epoch [9350/10000], val Loss: 49.4551,  train loss: 14.313369750976562\n",
      "Epoch [9400/10000], val Loss: 49.5358,  train loss: 14.285470008850098\n",
      "Epoch [9450/10000], val Loss: 49.6110,  train loss: 14.257669448852539\n",
      "Epoch [9500/10000], val Loss: 49.6846,  train loss: 14.229900360107422\n",
      "Epoch [9550/10000], val Loss: 49.7602,  train loss: 14.202363967895508\n",
      "Epoch [9600/10000], val Loss: 49.8398,  train loss: 14.174819946289062\n",
      "Epoch [9650/10000], val Loss: 50.0623,  train loss: 14.130083084106445\n",
      "Epoch [9700/10000], val Loss: 50.2474,  train loss: 14.07693099975586\n",
      "Epoch [9750/10000], val Loss: 50.3835,  train loss: 14.035811424255371\n",
      "Epoch [9800/10000], val Loss: 50.5345,  train loss: 13.982843399047852\n",
      "Epoch [9850/10000], val Loss: 50.6624,  train loss: 13.936528205871582\n",
      "Epoch [9900/10000], val Loss: 50.7064,  train loss: 13.904300689697266\n",
      "Epoch [9950/10000], val Loss: 50.7498,  train loss: 13.871827125549316\n",
      "Epoch [10000/10000], val Loss: 50.7654,  train loss: 13.831070899963379\n"
     ]
    }
   ],
   "source": [
    "model = single_layer_NN(hidden_layer=64)\n",
    "criterion = nn.MSELoss()  \n",
    "optimizer = torch.optim.Adam(model.parameters(), lr=0.001,weight_decay=1e-3)\n",
    "scheduler = torch.optim.lr_scheduler.ReduceLROnPlateau(optimizer,mode='min',factor=0.9,patience=100,threshold=1e-4,min_lr=1e-4)\n",
    "model,loss_train,loss_val,best_val_loss = training_NN(customer_train,\n",
    "                                                         time_train,\n",
    "                                                         customer_val,\n",
    "                                                         time_val,\n",
    "                                                         model=model\n",
    "                                                         ,criterion=criterion\n",
    "                                                         ,optimizer=optimizer,\n",
    "                                                         scheduler=scheduler,\n",
    "                                                         epochs=10000)"
   ]
  },
  {
   "cell_type": "code",
   "execution_count": null,
   "id": "5073b09b",
   "metadata": {},
   "outputs": [
    {
     "name": "stdout",
     "output_type": "stream",
     "text": [
      "\n",
      "Finale Loss: 50.765445709228516\n",
      "best loss: 40.82950973510742\n"
     ]
    },
    {
     "data": {
      "image/png": "[encoded data removed]",
      "text/plain": [
       "<Figure size 1000x500 with 1 Axes>"
      ]
     },
     "metadata": {},
     "output_type": "display_data"
    }
   ],
   "source": [
    "print(f\"\\nFinal Loss: {loss_val[-1]}\")\n",
    "print(f\"best loss: {best_val_loss}\")\n",
    "plot_train_val(loss_train,loss_val)\n"
   ]
  },
  {
   "cell_type": "code",
   "execution_count": 359,
   "id": "2011f0bb",
   "metadata": {},
   "outputs": [
    {
     "data": {
      "text/plain": [
       "single_layer_NN(\n",
       "  (fc1): Linear(in_features=6, out_features=64, bias=True)\n",
       "  (fc2): Linear(in_features=64, out_features=1, bias=True)\n",
       ")"
      ]
     },
     "execution_count": 359,
     "metadata": {},
     "output_type": "execute_result"
    }
   ],
   "source": [
    "model = single_layer_NN(hidden_layer=64)\n",
    "checkpoint = torch.load('models/1-layer-NN_73.pth')\n",
    "\n",
    "model.load_state_dict(checkpoint['model_state_dict'])\n",
    "optimizer.load_state_dict(checkpoint['optimizer_state_dict'])\n",
    "start_epoch = checkpoint['epoch']\n",
    "saved_val_loss = checkpoint['loss_val']\n",
    "saved_train_loss = checkpoint['loss_train']\n",
    "model.eval() "
   ]
  },
  {
   "cell_type": "code",
   "execution_count": 361,
   "id": "bdba3f5b",
   "metadata": {},
   "outputs": [
    {
     "name": "stdout",
     "output_type": "stream",
     "text": [
      "\n",
      " Success ±5 min: 73.33% (22/30) , MSE val loss : 40.82950973510742 , train mse loss: 22.499258041381836\n"
     ]
    }
   ],
   "source": [
    "model.eval()\n",
    "with torch.no_grad():\n",
    "    predictions = model(customer_val).squeeze()  # n_samples\n",
    "\n",
    "success_rate,success_count,total = success_rate_tensors(predictions,time_val)\n",
    "\n",
    "print(f\"\\n Success ±5 min: {success_rate:.2f}% ({success_count}/{30}) , MSE val loss : {saved_val_loss} , train mse loss: {saved_train_loss}\")\n",
    "# print(f\"\\n Success ±5 min: {success_rate:.2f}% ({success_count}/{30})\")\n"
   ]
  },
  {
   "cell_type": "markdown",
   "id": "f161382a",
   "metadata": {},
   "source": [
    "This graph plots the predicted time and actual time similar to a confusion matrix. <br>\n",
    "The ideal graph would be the dotted line since it means the actual time is equal to the predicted time"
   ]
  },
  {
   "cell_type": "code",
   "execution_count": 363,
   "id": "3c85951d",
   "metadata": {},
   "outputs": [
    {
     "data": {
      "image/png": "[encoded data removed]",
      "text/plain": [
       "<Figure size 600x600 with 1 Axes>"
      ]
     },
     "metadata": {},
     "output_type": "display_data"
    }
   ],
   "source": [
    "plot_prediction_band(time_val , predictions)"
   ]
  },
  {
   "cell_type": "markdown",
   "id": "afdd48ad",
   "metadata": {},
   "source": [
    "-------"
   ]
  },
  {
   "cell_type": "markdown",
   "id": "71dc6af3",
   "metadata": {},
   "source": [
    "# Testing diffrent structures"
   ]
  },
  {
   "cell_type": "code",
   "execution_count": 96,
   "id": "e7e8e05a",
   "metadata": {},
   "outputs": [],
   "source": [
    "class double_layer_NN(nn.Module):\n",
    "    def __init__(self, input_layer=6, hidden_layer=32):\n",
    "        super(double_layer_NN, self).__init__()\n",
    "        self.fc1 = nn.Linear(input_layer, hidden_layer)\n",
    "        self.fc2 = nn.Linear(hidden_layer, hidden_layer)        #added hidden layer\n",
    "        self.fc3 = nn.Linear(hidden_layer, 1)                           \n",
    "\n",
    "    def forward(self, x):\n",
    "        x = F.relu(self.fc1(x))\n",
    "        x = F.relu(self.fc2(x))\n",
    "        x = self.fc3(x)                                             \n",
    "        return x"
   ]
  },
  {
   "cell_type": "markdown",
   "id": "91449054",
   "metadata": {},
   "source": [
    "### HyperParameter tuning"
   ]
  },
  {
   "cell_type": "code",
   "execution_count": 269,
   "id": "721216d2",
   "metadata": {},
   "outputs": [
    {
     "name": "stderr",
     "output_type": "stream",
     "text": [
      "Grid Search: 100%|██████████| 64/64 [05:15<00:00,  4.93s/it]"
     ]
    },
    {
     "name": "stdout",
     "output_type": "stream",
     "text": [
      "\n",
      "Best success: 60.0000 with params: {'learning_rate': 0.001, 'hidden_size': 32, 'epochs': 2500, 'weight_dec': 0.0001}\n"
     ]
    },
    {
     "name": "stderr",
     "output_type": "stream",
     "text": [
      "\n"
     ]
    }
   ],
   "source": [
    "learning_rates = [1e-3, 1e-4]\n",
    "hidden_sizes = [8,16, 32,64]\n",
    "epochs = [2500,5000]\n",
    "weight_dec = [0,1e-4,1e-5,1e-3]\n",
    "\n",
    "best_success = 0\n",
    "best_params = None\n",
    "best_model_sec = None\n",
    "best_train_sec = None\n",
    "best_val_sec = None\n",
    "\n",
    "param_grid = list(itertools.product(learning_rates, hidden_sizes, epochs,weight_dec))\n",
    "\n",
    "for i, (lr, hidden, ep,wd) in enumerate(tqdm(param_grid, total=len(param_grid), desc=\"Grid Search\")):\n",
    "\n",
    "    loss_train = []\n",
    "    loss_val = []\n",
    "\n",
    "    model = double_layer_NN(input_layer=6, hidden_layer=hidden)\n",
    "    criterion = nn.MSELoss()\n",
    "    optimizer = torch.optim.Adam(model.parameters(), lr=lr,weight_decay=wd)\n",
    "    # scheduler = torch.optim.lr_scheduler.ReduceLROnPlateau(optimizer,mode='min',factor=0.1,patience=10,threshold=1e-4)\n",
    "    for epoch in range(ep):\n",
    "        model.train()\n",
    "        optimizer.zero_grad()\n",
    "        outputs = model(customer_train)\n",
    "        loss = criterion(outputs, time_train)\n",
    "        loss.backward()\n",
    "        optimizer.step()\n",
    "        \n",
    "        loss_train.append(loss.item())  \n",
    "\n",
    "        model.eval()\n",
    "        with torch.no_grad():       \n",
    "            val_outputs = model(customer_val)\n",
    "            val_loss = criterion(val_outputs, time_val) \n",
    "            loss_val.append(val_loss.item()) \n",
    "            # scheduler.step(val_loss)               \n",
    "\n",
    "\n",
    "    model.eval()\n",
    "    with torch.no_grad():\n",
    "        predictions = model(customer_val).squeeze()  # n_samples\n",
    "\n",
    "    success_rate,success_count,total = success_rate_tensors(predictions,time_val)\n",
    "\n",
    "    if success_rate > best_success:\n",
    "        best_success = success_rate\n",
    "        best_params = {'learning_rate': lr, 'hidden_size': hidden, 'epochs': ep, 'weight_dec' : wd}\n",
    "        best_model_sec = copy.deepcopy(model)\n",
    "        best_train_sec = loss_train[:]\n",
    "        best_val_sec = loss_val[:]\n",
    "\n",
    "        \n",
    "\n",
    "print(f\"\\nBest success: {best_success:.4f} with params: {best_params}\")\n"
   ]
  },
  {
   "cell_type": "code",
   "execution_count": null,
   "id": "6e24a904",
   "metadata": {},
   "outputs": [
    {
     "name": "stdout",
     "output_type": "stream",
     "text": [
      "Epoch [50/10000], val Loss: 1251.2817,  train loss: 1184.8341064453125\n",
      "Epoch [100/10000], val Loss: 507.3025,  train loss: 436.8026123046875\n",
      "Epoch [150/10000], val Loss: 226.1718,  train loss: 166.53866577148438\n",
      "Epoch [200/10000], val Loss: 157.1385,  train loss: 107.12161254882812\n",
      "Epoch [250/10000], val Loss: 131.2350,  train loss: 89.10452270507812\n",
      "Epoch [300/10000], val Loss: 115.0022,  train loss: 80.22571563720703\n",
      "Epoch [350/10000], val Loss: 102.2655,  train loss: 73.80177307128906\n",
      "Epoch [400/10000], val Loss: 91.9805,  train loss: 68.76701354980469\n",
      "Epoch [450/10000], val Loss: 83.5469,  train loss: 64.68672943115234\n",
      "Epoch [500/10000], val Loss: 76.9756,  train loss: 61.402828216552734\n",
      "Epoch [550/10000], val Loss: 71.7177,  train loss: 58.67960739135742\n",
      "Epoch [600/10000], val Loss: 67.6472,  train loss: 56.654884338378906\n",
      "Epoch [650/10000], val Loss: 64.6469,  train loss: 55.096435546875\n",
      "Epoch [700/10000], val Loss: 62.6453,  train loss: 53.93045425415039\n",
      "Epoch [750/10000], val Loss: 61.2784,  train loss: 53.01138687133789\n",
      "Epoch [800/10000], val Loss: 60.4081,  train loss: 52.148681640625\n",
      "Epoch [850/10000], val Loss: 59.4194,  train loss: 51.249168395996094\n",
      "Epoch [900/10000], val Loss: 59.0582,  train loss: 49.51549530029297\n",
      "Epoch [950/10000], val Loss: 59.1750,  train loss: 47.2988395690918\n",
      "Epoch [1000/10000], val Loss: 58.3614,  train loss: 45.33050537109375\n",
      "Epoch [1050/10000], val Loss: 57.8116,  train loss: 43.88481140136719\n",
      "Epoch [1100/10000], val Loss: 57.3276,  train loss: 42.61204147338867\n",
      "Epoch [1150/10000], val Loss: 56.3232,  train loss: 41.42197799682617\n",
      "Epoch [1200/10000], val Loss: 55.5711,  train loss: 40.244140625\n",
      "Epoch [1250/10000], val Loss: 54.7842,  train loss: 39.08366775512695\n",
      "Epoch [1300/10000], val Loss: 54.0336,  train loss: 37.930179595947266\n",
      "Epoch [1350/10000], val Loss: 53.1722,  train loss: 36.5270881652832\n",
      "Epoch [1400/10000], val Loss: 52.0226,  train loss: 34.93544387817383\n",
      "Epoch [1450/10000], val Loss: 50.3348,  train loss: 33.274471282958984\n",
      "Epoch [1500/10000], val Loss: 48.3119,  train loss: 31.950252532958984\n",
      "Epoch [1550/10000], val Loss: 46.9737,  train loss: 30.91419792175293\n",
      "Epoch [1600/10000], val Loss: 45.7109,  train loss: 30.014665603637695\n",
      "Epoch [1650/10000], val Loss: 44.2928,  train loss: 29.036590576171875\n",
      "Epoch [1700/10000], val Loss: 43.1822,  train loss: 28.193010330200195\n",
      "Epoch [1750/10000], val Loss: 41.9233,  train loss: 27.400426864624023\n",
      "Epoch [1800/10000], val Loss: 40.8898,  train loss: 26.648378372192383\n",
      "Epoch [1850/10000], val Loss: 39.2852,  train loss: 25.891143798828125\n",
      "Epoch [1900/10000], val Loss: 38.8671,  train loss: 25.157075881958008\n",
      "Epoch [1950/10000], val Loss: 38.3641,  train loss: 24.536510467529297\n",
      "Epoch [2000/10000], val Loss: 38.1000,  train loss: 23.986400604248047\n",
      "Epoch [2050/10000], val Loss: 37.8076,  train loss: 23.47972297668457\n",
      "Epoch [2100/10000], val Loss: 37.7047,  train loss: 23.0377140045166\n",
      "Epoch [2150/10000], val Loss: 37.6387,  train loss: 22.618207931518555\n",
      "Epoch [2200/10000], val Loss: 37.5293,  train loss: 22.21757698059082\n",
      "Epoch [2250/10000], val Loss: 37.4324,  train loss: 21.81494140625\n",
      "Epoch [2300/10000], val Loss: 37.4553,  train loss: 21.435314178466797\n",
      "Epoch [2350/10000], val Loss: 37.4955,  train loss: 21.075258255004883\n",
      "Epoch [2400/10000], val Loss: 37.3587,  train loss: 20.75653076171875\n",
      "Epoch [2450/10000], val Loss: 37.6417,  train loss: 20.446346282958984\n",
      "Epoch [2500/10000], val Loss: 37.6824,  train loss: 20.152082443237305\n",
      "Epoch [2550/10000], val Loss: 37.8049,  train loss: 19.859769821166992\n",
      "Epoch [2600/10000], val Loss: 37.9208,  train loss: 19.61284065246582\n",
      "Epoch [2650/10000], val Loss: 38.2432,  train loss: 19.378257751464844\n",
      "Epoch [2700/10000], val Loss: 38.4583,  train loss: 19.145740509033203\n",
      "Epoch [2750/10000], val Loss: 38.9545,  train loss: 18.92500877380371\n",
      "Epoch [2800/10000], val Loss: 39.2656,  train loss: 18.714933395385742\n",
      "Epoch [2850/10000], val Loss: 39.7991,  train loss: 18.50231170654297\n",
      "Epoch [2900/10000], val Loss: 40.3240,  train loss: 18.265148162841797\n",
      "Epoch [2950/10000], val Loss: 40.6016,  train loss: 17.9908504486084\n",
      "Epoch [3000/10000], val Loss: 40.5989,  train loss: 17.744037628173828\n",
      "Epoch [3050/10000], val Loss: 41.0267,  train loss: 17.50357437133789\n",
      "Epoch [3100/10000], val Loss: 41.2231,  train loss: 17.26316261291504\n",
      "Epoch [3150/10000], val Loss: 41.2743,  train loss: 17.024003982543945\n",
      "Epoch [3200/10000], val Loss: 41.7142,  train loss: 16.76725959777832\n",
      "Epoch [3250/10000], val Loss: 42.1255,  train loss: 16.470502853393555\n",
      "Epoch [3300/10000], val Loss: 42.6195,  train loss: 16.201847076416016\n",
      "Epoch [3350/10000], val Loss: 43.2276,  train loss: 15.938166618347168\n",
      "Epoch [3400/10000], val Loss: 43.6327,  train loss: 15.6718168258667\n",
      "Epoch [3450/10000], val Loss: 43.9245,  train loss: 15.404702186584473\n",
      "Epoch [3500/10000], val Loss: 44.4317,  train loss: 15.117260932922363\n",
      "Epoch [3550/10000], val Loss: 45.1824,  train loss: 14.803216934204102\n",
      "Epoch [3600/10000], val Loss: 45.8098,  train loss: 14.458067893981934\n",
      "Epoch [3650/10000], val Loss: 46.3770,  train loss: 14.09988021850586\n",
      "Epoch [3700/10000], val Loss: 47.1137,  train loss: 13.722249984741211\n",
      "Epoch [3750/10000], val Loss: 47.9530,  train loss: 13.35282039642334\n",
      "Epoch [3800/10000], val Loss: 49.1270,  train loss: 12.99868392944336\n",
      "Epoch [3850/10000], val Loss: 50.0548,  train loss: 12.617780685424805\n",
      "Epoch [3900/10000], val Loss: 51.0363,  train loss: 12.191390037536621\n",
      "Epoch [3950/10000], val Loss: 52.3167,  train loss: 11.722220420837402\n",
      "Epoch [4000/10000], val Loss: 53.7218,  train loss: 11.277538299560547\n",
      "Epoch [4050/10000], val Loss: 55.0520,  train loss: 10.874251365661621\n",
      "Epoch [4100/10000], val Loss: 56.0046,  train loss: 10.50849723815918\n",
      "Epoch [4150/10000], val Loss: 57.8684,  train loss: 10.075687408447266\n",
      "Epoch [4200/10000], val Loss: 59.6856,  train loss: 9.679292678833008\n",
      "Epoch [4250/10000], val Loss: 60.5700,  train loss: 9.364656448364258\n",
      "Epoch [4300/10000], val Loss: 62.0174,  train loss: 9.064330101013184\n",
      "Epoch [4350/10000], val Loss: 63.0280,  train loss: 8.820989608764648\n",
      "Epoch [4400/10000], val Loss: 63.7313,  train loss: 8.59018611907959\n",
      "Epoch [4450/10000], val Loss: 65.4477,  train loss: 8.384237289428711\n",
      "Epoch [4500/10000], val Loss: 66.5879,  train loss: 8.178467750549316\n",
      "Epoch [4550/10000], val Loss: 66.9347,  train loss: 7.980018615722656\n",
      "Epoch [4600/10000], val Loss: 69.0038,  train loss: 7.799875736236572\n",
      "Epoch [4650/10000], val Loss: 69.4135,  train loss: 7.629549980163574\n",
      "Epoch [4700/10000], val Loss: 70.9958,  train loss: 7.463621139526367\n",
      "Epoch [4750/10000], val Loss: 72.7365,  train loss: 7.279043674468994\n",
      "Epoch [4800/10000], val Loss: 72.5040,  train loss: 7.102221488952637\n",
      "Epoch [4850/10000], val Loss: 73.3859,  train loss: 6.946655750274658\n",
      "Epoch [4900/10000], val Loss: 73.1840,  train loss: 6.7813920974731445\n",
      "Epoch [4950/10000], val Loss: 73.9257,  train loss: 6.649612903594971\n",
      "Epoch [5000/10000], val Loss: 73.7166,  train loss: 6.523988723754883\n",
      "Epoch [5050/10000], val Loss: 74.8700,  train loss: 6.407534122467041\n",
      "Epoch [5100/10000], val Loss: 74.6864,  train loss: 6.284482955932617\n",
      "Epoch [5150/10000], val Loss: 75.7841,  train loss: 6.163972854614258\n",
      "Epoch [5200/10000], val Loss: 75.6504,  train loss: 6.028414249420166\n",
      "Epoch [5250/10000], val Loss: 74.9610,  train loss: 5.912428855895996\n",
      "Epoch [5300/10000], val Loss: 75.5086,  train loss: 5.788825511932373\n",
      "Epoch [5350/10000], val Loss: 76.8253,  train loss: 5.690371513366699\n",
      "Epoch [5400/10000], val Loss: 77.1883,  train loss: 5.590141773223877\n",
      "Epoch [5450/10000], val Loss: 77.1672,  train loss: 5.4943695068359375\n",
      "Epoch [5500/10000], val Loss: 78.6377,  train loss: 5.404421806335449\n",
      "Epoch [5550/10000], val Loss: 79.3839,  train loss: 5.313187599182129\n",
      "Epoch [5600/10000], val Loss: 79.8863,  train loss: 5.223481178283691\n",
      "Epoch [5650/10000], val Loss: 80.6763,  train loss: 5.141566753387451\n",
      "Epoch [5700/10000], val Loss: 81.5009,  train loss: 5.087409496307373\n",
      "Epoch [5750/10000], val Loss: 82.9141,  train loss: 4.985945701599121\n",
      "Epoch [5800/10000], val Loss: 84.1942,  train loss: 4.917126178741455\n",
      "Epoch [5850/10000], val Loss: 84.1471,  train loss: 4.838595390319824\n",
      "Epoch [5900/10000], val Loss: 86.2651,  train loss: 4.777853012084961\n",
      "Epoch [5950/10000], val Loss: 86.3663,  train loss: 4.699672222137451\n",
      "Epoch [6000/10000], val Loss: 86.8231,  train loss: 4.649391174316406\n",
      "Epoch [6050/10000], val Loss: 87.5478,  train loss: 4.575541973114014\n",
      "Epoch [6100/10000], val Loss: 88.4801,  train loss: 4.502805233001709\n",
      "Epoch [6150/10000], val Loss: 90.3763,  train loss: 4.443898677825928\n",
      "Epoch [6200/10000], val Loss: 91.4503,  train loss: 4.375662326812744\n",
      "Epoch [6250/10000], val Loss: 92.3939,  train loss: 4.325986862182617\n",
      "Epoch [6300/10000], val Loss: 93.0289,  train loss: 4.269922733306885\n",
      "Epoch [6350/10000], val Loss: 93.7089,  train loss: 4.218626976013184\n",
      "Epoch [6400/10000], val Loss: 94.1379,  train loss: 4.174088954925537\n",
      "Epoch [6450/10000], val Loss: 95.1100,  train loss: 4.125884056091309\n",
      "Epoch [6500/10000], val Loss: 95.8116,  train loss: 4.078667163848877\n",
      "Epoch [6550/10000], val Loss: 95.9521,  train loss: 4.028754711151123\n",
      "Epoch [6600/10000], val Loss: 96.7719,  train loss: 3.9883360862731934\n",
      "Epoch [6650/10000], val Loss: 96.5323,  train loss: 3.9447271823883057\n",
      "Epoch [6700/10000], val Loss: 97.8221,  train loss: 3.9161765575408936\n",
      "Epoch [6750/10000], val Loss: 98.0579,  train loss: 3.8617868423461914\n",
      "Epoch [6800/10000], val Loss: 98.6058,  train loss: 3.839531898498535\n",
      "Epoch [6850/10000], val Loss: 99.3095,  train loss: 3.813044309616089\n",
      "Epoch [6900/10000], val Loss: 98.4597,  train loss: 3.7512145042419434\n",
      "Epoch [6950/10000], val Loss: 99.1293,  train loss: 3.711526393890381\n",
      "Epoch [7000/10000], val Loss: 98.7758,  train loss: 3.6703646183013916\n",
      "Epoch [7050/10000], val Loss: 98.8445,  train loss: 3.6184000968933105\n",
      "Epoch [7100/10000], val Loss: 98.6187,  train loss: 3.584556818008423\n",
      "Epoch [7150/10000], val Loss: 98.9449,  train loss: 3.537871837615967\n",
      "Epoch [7200/10000], val Loss: 98.7088,  train loss: 3.499476909637451\n",
      "Epoch [7250/10000], val Loss: 99.5170,  train loss: 3.4687843322753906\n",
      "Epoch [7300/10000], val Loss: 99.6530,  train loss: 3.432147264480591\n",
      "Epoch [7350/10000], val Loss: 98.7020,  train loss: 3.4074206352233887\n",
      "Epoch [7400/10000], val Loss: 99.6438,  train loss: 3.3664867877960205\n",
      "Epoch [7450/10000], val Loss: 98.8868,  train loss: 3.3513245582580566\n",
      "Epoch [7500/10000], val Loss: 99.2241,  train loss: 3.315704345703125\n",
      "Epoch [7550/10000], val Loss: 100.2496,  train loss: 3.274916887283325\n",
      "Epoch [7600/10000], val Loss: 99.7718,  train loss: 3.2480428218841553\n",
      "Epoch [7650/10000], val Loss: 101.0814,  train loss: 3.220160961151123\n",
      "Epoch [7700/10000], val Loss: 100.7424,  train loss: 3.187608242034912\n",
      "Epoch [7750/10000], val Loss: 101.1642,  train loss: 3.1584575176239014\n",
      "Epoch [7800/10000], val Loss: 101.4567,  train loss: 3.1340878009796143\n",
      "Epoch [7850/10000], val Loss: 100.5003,  train loss: 3.133906126022339\n",
      "Epoch [7900/10000], val Loss: 100.5732,  train loss: 3.099720001220703\n",
      "Epoch [7950/10000], val Loss: 101.5795,  train loss: 3.0561392307281494\n",
      "Epoch [8000/10000], val Loss: 101.9416,  train loss: 3.0305213928222656\n",
      "Epoch [8050/10000], val Loss: 101.8736,  train loss: 3.0064871311187744\n",
      "Epoch [8100/10000], val Loss: 102.3663,  train loss: 2.992560863494873\n",
      "Epoch [8150/10000], val Loss: 101.5812,  train loss: 2.9613523483276367\n",
      "Epoch [8200/10000], val Loss: 102.5014,  train loss: 2.949467658996582\n",
      "Epoch [8250/10000], val Loss: 102.5541,  train loss: 2.92160701751709\n",
      "Epoch [8300/10000], val Loss: 102.5870,  train loss: 2.9009387493133545\n",
      "Epoch [8350/10000], val Loss: 102.1925,  train loss: 2.8682310581207275\n",
      "Epoch [8400/10000], val Loss: 101.5061,  train loss: 2.843261241912842\n",
      "Epoch [8450/10000], val Loss: 100.5391,  train loss: 2.8190085887908936\n",
      "Epoch [8500/10000], val Loss: 101.3692,  train loss: 2.8154118061065674\n",
      "Epoch [8550/10000], val Loss: 100.6411,  train loss: 2.784855365753174\n",
      "Epoch [8600/10000], val Loss: 99.6637,  train loss: 2.751291513442993\n",
      "Epoch [8650/10000], val Loss: 99.0413,  train loss: 2.7315962314605713\n",
      "Epoch [8700/10000], val Loss: 99.8687,  train loss: 2.7355551719665527\n",
      "Epoch [8750/10000], val Loss: 99.1907,  train loss: 2.6979777812957764\n",
      "Epoch [8800/10000], val Loss: 97.3407,  train loss: 2.6832237243652344\n",
      "Epoch [8850/10000], val Loss: 97.6327,  train loss: 2.649042844772339\n",
      "Epoch [8900/10000], val Loss: 97.7634,  train loss: 2.636263132095337\n",
      "Epoch [8950/10000], val Loss: 97.6980,  train loss: 2.6137032508850098\n",
      "Epoch [9000/10000], val Loss: 97.0441,  train loss: 2.590498447418213\n",
      "Epoch [9050/10000], val Loss: 96.3739,  train loss: 2.5749802589416504\n",
      "Epoch [9100/10000], val Loss: 95.9749,  train loss: 2.555833578109741\n",
      "Epoch [9150/10000], val Loss: 95.5980,  train loss: 2.5367581844329834\n",
      "Epoch [9200/10000], val Loss: 94.8577,  train loss: 2.5341122150421143\n",
      "Epoch [9250/10000], val Loss: 95.0996,  train loss: 2.4970476627349854\n",
      "Epoch [9300/10000], val Loss: 94.2993,  train loss: 2.4841041564941406\n",
      "Epoch [9350/10000], val Loss: 94.8968,  train loss: 2.473003625869751\n",
      "Epoch [9400/10000], val Loss: 93.8998,  train loss: 2.4455530643463135\n",
      "Epoch [9450/10000], val Loss: 93.7503,  train loss: 2.439318895339966\n",
      "Epoch [9500/10000], val Loss: 93.1102,  train loss: 2.436295509338379\n",
      "Epoch [9550/10000], val Loss: 93.9867,  train loss: 2.398271083831787\n",
      "Epoch [9600/10000], val Loss: 94.1524,  train loss: 2.3811466693878174\n",
      "Epoch [9650/10000], val Loss: 93.5281,  train loss: 2.3703413009643555\n",
      "Epoch [9700/10000], val Loss: 94.7904,  train loss: 2.3779122829437256\n",
      "Epoch [9750/10000], val Loss: 94.2838,  train loss: 2.33404278755188\n",
      "Epoch [9800/10000], val Loss: 93.0807,  train loss: 2.33712100982666\n",
      "Epoch [9850/10000], val Loss: 93.8157,  train loss: 2.261075496673584\n",
      "Epoch [9900/10000], val Loss: 94.8970,  train loss: 2.23317289352417\n",
      "Epoch [9950/10000], val Loss: 95.2853,  train loss: 2.1887166500091553\n",
      "Epoch [10000/10000], val Loss: 94.7201,  train loss: 2.1794357299804688\n"
     ]
    }
   ],
   "source": [
    "model = double_layer_NN(hidden_layer=32)\n",
    "criterion = nn.MSELoss()  \n",
    "optimizer = torch.optim.Adam(model.parameters(), lr=0.001)\n",
    "# scheduler = torch.optim.lr_scheduler.ReduceLROnPlateau(optimizer,mode='min',factor=0.9,patience=100,threshold=1e-4,min_lr=1e-4)\n",
    "model,loss_train,loss_val,best_val_loss = training_NN(customer_train,\n",
    "                                                         time_train,\n",
    "                                                         customer_val,\n",
    "                                                         time_val,\n",
    "                                                         model=model\n",
    "                                                         ,criterion=criterion\n",
    "                                                         ,optimizer=optimizer,\n",
    "                                                        #  scheduler=scheduler,\n",
    "                                                         epochs=10000,\n",
    "                                                         layers=2)"
   ]
  },
  {
   "cell_type": "code",
   "execution_count": 278,
   "id": "91b1eb6d",
   "metadata": {},
   "outputs": [
    {
     "name": "stdout",
     "output_type": "stream",
     "text": [
      "\n",
      "Final Loss: 94.72006225585938\n",
      "best loss: 37.28184509277344\n"
     ]
    },
    {
     "data": {
      "image/png": "[encoded data removed]",
      "text/plain": [
       "<Figure size 1000x500 with 1 Axes>"
      ]
     },
     "metadata": {},
     "output_type": "display_data"
    }
   ],
   "source": [
    "print(f\"\\nFinal Loss: {loss_val[-1]}\")\n",
    "print(f\"best loss: {best_val_loss}\")\n",
    "plot_train_val(loss_train,loss_val)\n"
   ]
  },
  {
   "cell_type": "code",
   "execution_count": 370,
   "id": "dd8f830a",
   "metadata": {},
   "outputs": [
    {
     "data": {
      "text/plain": [
       "double_layer_NN(\n",
       "  (fc1): Linear(in_features=6, out_features=32, bias=True)\n",
       "  (fc2): Linear(in_features=32, out_features=32, bias=True)\n",
       "  (fc3): Linear(in_features=32, out_features=1, bias=True)\n",
       ")"
      ]
     },
     "execution_count": 370,
     "metadata": {},
     "output_type": "execute_result"
    }
   ],
   "source": [
    "model = double_layer_NN(hidden_layer=32)\n",
    "checkpoint = torch.load('models/2-layer-NN_70.pth')\n",
    "\n",
    "model.load_state_dict(checkpoint['model_state_dict'])\n",
    "start_epoch = checkpoint['epoch']\n",
    "saved_val_loss = checkpoint['loss_val']\n",
    "saved_train_loss = checkpoint['loss_train']\n",
    "model.eval() "
   ]
  },
  {
   "cell_type": "code",
   "execution_count": 371,
   "id": "b48182b8",
   "metadata": {},
   "outputs": [
    {
     "name": "stdout",
     "output_type": "stream",
     "text": [
      "\n",
      " Success ±5 min: 70.00% (21/30) , MSE val loss : 37.28184509277344 , train mse loss: 21.854196548461914\n"
     ]
    }
   ],
   "source": [
    "model.eval()\n",
    "with torch.no_grad():\n",
    "    predictions = model(customer_val).squeeze()  # n_samples\n",
    "\n",
    "success_rate,success_count,total = success_rate_tensors(predictions,time_val)\n",
    "\n",
    "print(f\"\\n Success ±5 min: {success_rate:.2f}% ({success_count}/{30}) , MSE val loss : {saved_val_loss} , train mse loss: {saved_train_loss}\")\n",
    "# print(f\"\\n Success ±5 min: {success_rate:.2f}% ({success_count}/{30})\")\n"
   ]
  },
  {
   "cell_type": "code",
   "execution_count": 372,
   "id": "a447ab0a",
   "metadata": {},
   "outputs": [
    {
     "data": {
      "image/png": "[encoded data removed]",
      "text/plain": [
       "<Figure size 600x600 with 1 Axes>"
      ]
     },
     "metadata": {},
     "output_type": "display_data"
    }
   ],
   "source": [
    "plot_prediction_band(time_val , predictions)"
   ]
  },
  {
   "cell_type": "markdown",
   "id": "27f14329",
   "metadata": {},
   "source": [
    "---"
   ]
  },
  {
   "cell_type": "markdown",
   "id": "80104638",
   "metadata": {},
   "source": [
    "---"
   ]
  },
  {
   "cell_type": "markdown",
   "id": "15008a34",
   "metadata": {},
   "source": [
    "# SVR"
   ]
  },
  {
   "cell_type": "markdown",
   "id": "131684e5",
   "metadata": {},
   "source": [
    "#### Support Vector Regression"
   ]
  },
  {
   "cell_type": "code",
   "execution_count": 130,
   "id": "c1c03728",
   "metadata": {},
   "outputs": [],
   "source": [
    "customer_train_reg, customer_val_reg, time_train_reg, time_val_reg = train_test_split(customer_array, time_array, test_size=0.2, random_state=42)\n"
   ]
  },
  {
   "cell_type": "code",
   "execution_count": 22,
   "id": "c0e9a9e8",
   "metadata": {},
   "outputs": [],
   "source": [
    "def svr_regression(customer_train_reg,time_train_reg, kernal = \"rbf\",C=1.0, epsilon=1, gamma='scale'):\n",
    "    svr = SVR(kernel=kernal, C=C, epsilon=epsilon, gamma=gamma)\n",
    "    svr.fit(customer_train_reg, time_train_reg)\n",
    "    \n",
    "    return svr"
   ]
  },
  {
   "cell_type": "code",
   "execution_count": 23,
   "id": "fc279247",
   "metadata": {},
   "outputs": [],
   "source": [
    "def success_rate_nparray(time_pred,time_real,error_allowed=5):\n",
    "\n",
    "    time_pred = np.squeeze(time_pred)         # squeeze because sometimes our array become (n,1) which crashes the code          \n",
    "    time_real = np.squeeze(time_real)\n",
    "\n",
    "    differences = np.abs(time_pred - time_real)\n",
    "    success_count = np.sum(differences <= error_allowed)\n",
    "    total = len(time_real)\n",
    "    success_rate = success_count / total * 100\n",
    "\n",
    "    return success_rate,success_count,total"
   ]
  },
  {
   "cell_type": "markdown",
   "id": "db7013ee",
   "metadata": {},
   "source": [
    "### HyperParameter tuning"
   ]
  },
  {
   "cell_type": "code",
   "execution_count": 24,
   "id": "6bb57860",
   "metadata": {},
   "outputs": [
    {
     "name": "stderr",
     "output_type": "stream",
     "text": [
      "Grid Search: 100%|██████████| 300/300 [00:01<00:00, 158.77it/s]"
     ]
    },
    {
     "name": "stdout",
     "output_type": "stream",
     "text": [
      "\n",
      "Best success: 53.3333 with params: {'kernel': 'rbf', 'C': 100, 'epsilon': 1, 'gamma': 0.1}\n",
      "Train loss: 13.621756961329886, Val loss: 55.740192794923026\n"
     ]
    },
    {
     "name": "stderr",
     "output_type": "stream",
     "text": [
      "\n"
     ]
    }
   ],
   "source": [
    "customer_train_reg, customer_val_reg, time_train_reg, time_val_reg = train_test_split(customer_array, time_array, test_size=0.2, random_state=42)\n",
    "\n",
    "kernel = ['rbf', 'linear','sigmoid']          # Since 'poly' is heavy :\\\n",
    "C = [0.1, 1, 10, 100,1000]\n",
    "epsilon= [0.5 ,1, 3,5]\n",
    "gamma = ['scale', 'auto', 0.1, 1, 0.01]\n",
    "\n",
    "\n",
    "best_success = 0\n",
    "best_params = None\n",
    "best_model_sec = None\n",
    "best_train_sec = None\n",
    "best_val_sec = None\n",
    "\n",
    "param_grid = list(itertools.product(kernel, C, epsilon, gamma))\n",
    "\n",
    "scalled_customer_train_reg = StandardScaler()                                               #all have the same scale...        \n",
    "customer_train_reg = scalled_customer_train_reg.fit_transform(customer_train_reg)\n",
    "customer_val_reg = scalled_customer_train_reg.transform(customer_val_reg)   #same scalling...\n",
    "\n",
    "for i, (ker, C, epsilon, gamma) in enumerate(tqdm(param_grid, total=len(param_grid), desc=\"Grid Search\")):\n",
    "\n",
    "    curr_model = svr_regression(customer_train_reg,time_train_reg,ker,C, epsilon,gamma)\n",
    "\n",
    "    pred_train = curr_model.predict(customer_train_reg)\n",
    "    mse_train = mean_squared_error(time_train_reg, pred_train)\n",
    "\n",
    "    predictions = curr_model.predict(customer_val_reg)  # n_samples\n",
    "    mse_val = mean_squared_error(time_val_reg, predictions)\n",
    "\n",
    "    success_rate,success_count,total = success_rate_nparray(predictions,time_val_reg)\n",
    "\n",
    "  \n",
    "    #print(f\"{i} : Training with ker={ker}, CC={CC}, gamma={gamma}, epsilon={epsilon} ---> Success: {best_success:.2f}\")\n",
    "    if best_success < success_rate : \n",
    "        best_success = success_rate\n",
    "        best_params = {'kernel': ker, 'C': C, 'epsilon': epsilon, 'gamma' : gamma}\n",
    "        best_model_third = copy.deepcopy(curr_model)\n",
    "        best_train_third = mse_train\n",
    "        best_val_third = mse_val\n",
    "\n",
    "\n",
    "print(f\"\\nBest success: {best_success:.4f} with params: {best_params}\")\n",
    "print(f\"Train loss: {best_train_third}, Val loss: {best_val_third}\")"
   ]
  },
  {
   "cell_type": "code",
   "execution_count": 25,
   "id": "f6375b1c",
   "metadata": {},
   "outputs": [],
   "source": [
    "model = svr_regression(customer_train_reg,time_train_reg,\n",
    "                       kernal='rbf',\n",
    "                       C=100,\n",
    "                       epsilon = 1,\n",
    "                       gamma = 0.1)"
   ]
  },
  {
   "cell_type": "code",
   "execution_count": 26,
   "id": "6c21f5ad",
   "metadata": {},
   "outputs": [
    {
     "name": "stdout",
     "output_type": "stream",
     "text": [
      "\n",
      " Success ±5 sec: 53.33% (16/30) , MSE val loss : 55.740192794923026 , train mse loss: 13.621756961329886\n"
     ]
    }
   ],
   "source": [
    "predictions = model.predict(customer_val_reg)  # n_samples\n",
    "\n",
    "pred_train = model.predict(customer_train_reg)\n",
    "loss_train = mean_squared_error(time_train_reg, pred_train)\n",
    "\n",
    "predictions = model.predict(customer_val_reg)  # n_samples\n",
    "loss_val = mean_squared_error(time_val_reg, predictions)\n",
    "success_rate,success_count,total = success_rate_nparray(predictions,time_val_reg)\n",
    "\n",
    "print(f\"\\n Success ±5 sec: {success_rate:.2f}% ({success_count}/{30}) , MSE val loss : {loss_val} , train mse loss: {loss_train}\")"
   ]
  },
  {
   "cell_type": "code",
   "execution_count": 27,
   "id": "2d5deb18",
   "metadata": {},
   "outputs": [
    {
     "data": {
      "image/png": "[encoded data removed]",
      "text/plain": [
       "<Figure size 600x600 with 1 Axes>"
      ]
     },
     "metadata": {},
     "output_type": "display_data"
    }
   ],
   "source": [
    "plot_prediction_band(time_val_reg , predictions)"
   ]
  },
  {
   "cell_type": "markdown",
   "id": "ffa0b060",
   "metadata": {},
   "source": [
    "----"
   ]
  },
  {
   "cell_type": "markdown",
   "id": "53cf652f",
   "metadata": {},
   "source": [
    "## Linear Regression"
   ]
  },
  {
   "cell_type": "code",
   "execution_count": 131,
   "id": "ba4b80d2",
   "metadata": {},
   "outputs": [
    {
     "name": "stdout",
     "output_type": "stream",
     "text": [
      "<class 'numpy.ndarray'> <class 'numpy.ndarray'>\n"
     ]
    }
   ],
   "source": [
    "customer_train_reg, customer_val_reg, time_train_reg, time_val_reg = train_test_split(customer_array, time_array, test_size=0.2, random_state=42)\n",
    "\n",
    "print(type(customer_train_reg),type(time_train_reg))"
   ]
  },
  {
   "cell_type": "code",
   "execution_count": 29,
   "id": "be655cca",
   "metadata": {},
   "outputs": [
    {
     "name": "stdout",
     "output_type": "stream",
     "text": [
      "\n",
      " Success ±5 sec: 40.00% (12/30),  MSE:73.87995887304072\n"
     ]
    },
    {
     "data": {
      "image/png": "[encoded data removed]",
      "text/plain": [
       "<Figure size 600x600 with 1 Axes>"
      ]
     },
     "metadata": {},
     "output_type": "display_data"
    }
   ],
   "source": [
    "reg = LinearRegression().fit(customer_train_reg,time_train_reg)\n",
    "\n",
    "time_pred_val = reg.predict(customer_val_reg)\n",
    "\n",
    "differences = np.abs(time_pred_val - time_val_reg)\n",
    "\n",
    "success_count = np.sum(differences <= 5)\n",
    "total = len(time_val_reg)\n",
    "\n",
    "success_rate = success_count / total * 100\n",
    "\n",
    "mse = mean_squared_error(time_val_reg, time_pred_val)\n",
    "\n",
    "print(f\"\\n Success ±5 sec: {success_rate:.2f}% ({success_count}/{total}),  MSE:{mse}\")\n",
    "\n",
    "plot_prediction_band(time_val_reg,time_pred_val)"
   ]
  },
  {
   "cell_type": "markdown",
   "id": "2b904f6d",
   "metadata": {},
   "source": [
    "---"
   ]
  },
  {
   "cell_type": "markdown",
   "id": "f29b2c6e",
   "metadata": {},
   "source": [
    "## Polynomial Regression"
   ]
  },
  {
   "cell_type": "code",
   "execution_count": 30,
   "id": "fb6caf76",
   "metadata": {},
   "outputs": [],
   "source": [
    "customer_list = []\n",
    "column_titles = customer_ser.columns.tolist()\n",
    "for i,title in enumerate(column_titles):\n",
    "\n",
    "    if i == len(column_titles) - 1:                             \n",
    "        time_list = customer_ser[title].to_list()\n",
    "    else:\n",
    "        customer_list.append(customer_ser[title].to_list())\n",
    "\n",
    "customer_array = np.array(customer_list).T  # (num_samples, num_features)\n",
    "time_array= np.array(time_list) \n",
    "\n",
    "customer_tensor = torch.tensor(customer_array, dtype=torch.float32)  \n",
    "time_tensor = torch.tensor(time_list, dtype=torch.float32).view(-1, 1)  # Target "
   ]
  },
  {
   "cell_type": "code",
   "execution_count": 31,
   "id": "83439c06",
   "metadata": {},
   "outputs": [
    {
     "name": "stdout",
     "output_type": "stream",
     "text": [
      "                           Category   Urgency  Customer_Type  Time_Open_Hour  \\\n",
      "Category                   1.000000 -0.112354      -0.016185       -0.087224   \n",
      "Urgency                   -0.112354  1.000000      -0.048546        0.055607   \n",
      "Customer_Type             -0.016185 -0.048546       1.000000       -0.016668   \n",
      "Time_Open_Hour            -0.087224  0.055607      -0.016668        1.000000   \n",
      "Previous_Interactions      0.064453  0.038301      -0.080919       -0.074035   \n",
      "Resolved_By_First_Contact  0.099845  0.048785      -0.103070       -0.092457   \n",
      "Resolution_Time_Minutes    0.495143  0.257612       0.207789       -0.006760   \n",
      "\n",
      "                           Previous_Interactions  Resolved_By_First_Contact  \\\n",
      "Category                                0.064453                   0.099845   \n",
      "Urgency                                 0.038301                   0.048785   \n",
      "Customer_Type                          -0.080919                  -0.103070   \n",
      "Time_Open_Hour                         -0.074035                  -0.092457   \n",
      "Previous_Interactions                   1.000000                  -0.111389   \n",
      "Resolved_By_First_Contact              -0.111389                   1.000000   \n",
      "Resolution_Time_Minutes                 0.357500                  -0.360075   \n",
      "\n",
      "                           Resolution_Time_Minutes  \n",
      "Category                                  0.495143  \n",
      "Urgency                                   0.257612  \n",
      "Customer_Type                             0.207789  \n",
      "Time_Open_Hour                           -0.006760  \n",
      "Previous_Interactions                     0.357500  \n",
      "Resolved_By_First_Contact                -0.360075  \n",
      "Resolution_Time_Minutes                   1.000000  \n"
     ]
    }
   ],
   "source": [
    "correlation_matrix = customer_ser.corr(numeric_only=True)\n",
    "print(correlation_matrix)"
   ]
  },
  {
   "cell_type": "code",
   "execution_count": 32,
   "id": "60079ba6",
   "metadata": {},
   "outputs": [
    {
     "name": "stdout",
     "output_type": "stream",
     "text": [
      "['Category' 'Urgency' 'Customer_Type' 'Time_Open_Hour'\n",
      " 'Previous_Interactions' 'Resolved_By_First_Contact' 'Category^2'\n",
      " 'Category Urgency' 'Category Customer_Type' 'Category Time_Open_Hour'\n",
      " 'Category Previous_Interactions' 'Category Resolved_By_First_Contact'\n",
      " 'Urgency^2' 'Urgency Customer_Type' 'Urgency Time_Open_Hour'\n",
      " 'Urgency Previous_Interactions' 'Urgency Resolved_By_First_Contact'\n",
      " 'Customer_Type^2' 'Customer_Type Time_Open_Hour'\n",
      " 'Customer_Type Previous_Interactions'\n",
      " 'Customer_Type Resolved_By_First_Contact' 'Time_Open_Hour^2'\n",
      " 'Time_Open_Hour Previous_Interactions'\n",
      " 'Time_Open_Hour Resolved_By_First_Contact' 'Previous_Interactions^2'\n",
      " 'Previous_Interactions Resolved_By_First_Contact'\n",
      " 'Resolved_By_First_Contact^2']\n"
     ]
    }
   ],
   "source": [
    "from sklearn.preprocessing import PolynomialFeatures\n",
    "\n",
    "poly = PolynomialFeatures(degree=2, include_bias=False, interaction_only=False)\n",
    "X_poly = poly.fit_transform(customer_array)\n",
    "\n",
    "# Optional: get the new feature names\n",
    "feature_names = poly.get_feature_names_out(input_features=column_titles[:-1])\n",
    "print(feature_names)"
   ]
  },
  {
   "cell_type": "code",
   "execution_count": 33,
   "id": "5ff2f3ea",
   "metadata": {},
   "outputs": [
    {
     "name": "stdout",
     "output_type": "stream",
     "text": [
      "MSE: 35.27\n",
      "Success ±5 sec: 56.67% (17/30)\n"
     ]
    }
   ],
   "source": [
    "X_train, X_val, y_train, y_val = train_test_split(X_poly, time_array, test_size=0.2, random_state=42)\n",
    "\n",
    "reg = LinearRegression()\n",
    "reg.fit(X_train, y_train)\n",
    "\n",
    "predictions = reg.predict(X_val)\n",
    "\n",
    "mse = mean_squared_error(y_val, predictions)\n",
    "print(f\"MSE: {mse:.2f}\")\n",
    "\n",
    "differences = np.abs(predictions - y_val)\n",
    "success_count = np.sum(differences <= 5)\n",
    "success_rate = success_count / len(y_val) * 100\n",
    "print(f\"Success ±5 sec: {success_rate:.2f}% ({success_count}/{len(y_val)})\")"
   ]
  },
  {
   "cell_type": "code",
   "execution_count": 34,
   "id": "3ed9858e",
   "metadata": {},
   "outputs": [
    {
     "name": "stdout",
     "output_type": "stream",
     "text": [
      "<class 'sklearn.preprocessing._polynomial.PolynomialFeatures'>\n"
     ]
    }
   ],
   "source": [
    "print(type(poly))\n"
   ]
  },
  {
   "cell_type": "markdown",
   "id": "0c86ff35",
   "metadata": {},
   "source": [
    "------------------------"
   ]
  },
  {
   "cell_type": "markdown",
   "id": "68ea22cb",
   "metadata": {},
   "source": [
    "# Over sampling"
   ]
  },
  {
   "cell_type": "markdown",
   "id": "5ccaefa7",
   "metadata": {},
   "source": [
    "#### Our data is really tricky since all parameters are discrete except the target parameter.\n",
    "#### This means we cant use most widespread techniques of over samplings and there is not guarantee that our oversampling will be correct"
   ]
  },
  {
   "cell_type": "markdown",
   "id": "1083ca4f",
   "metadata": {},
   "source": [
    "##### CTGAN is a type of generative model that uses deep learning to create synthetic tabular data.\n",
    "\n",
    "##### It's designed to learn the underlying patterns and structure of real data and generate new, synthetic data that resembles the original.\n",
    "\n"
   ]
  },
  {
   "cell_type": "code",
   "execution_count": 35,
   "id": "71dc68fc",
   "metadata": {},
   "outputs": [],
   "source": [
    "from ctgan import CTGAN\n"
   ]
  },
  {
   "cell_type": "code",
   "execution_count": 43,
   "id": "35d05270",
   "metadata": {},
   "outputs": [
    {
     "name": "stderr",
     "output_type": "stream",
     "text": [
      "Gen. (-0.62) | Discrim. (-0.03): 100%|██████████| 3000/3000 [01:32<00:00, 32.47it/s]\n"
     ]
    }
   ],
   "source": [
    "ctgan = CTGAN(epochs=3000, verbose=True)\n",
    "\n",
    "discrete_columns = ['Category', 'Urgency', 'Customer_Type', 'Resolved_By_First_Contact','Time_Open_Hour','Previous_Interactions']\n",
    "ctgan.fit(customer_ser, discrete_columns)\n",
    "\n",
    "synthetic_data = ctgan.sample(1000)\n"
   ]
  },
  {
   "cell_type": "code",
   "execution_count": 37,
   "id": "bc5396a8",
   "metadata": {},
   "outputs": [
    {
     "name": "stdout",
     "output_type": "stream",
     "text": [
      "<class 'pandas.core.frame.DataFrame'> (1000, 7)\n"
     ]
    }
   ],
   "source": [
    "print(type(synthetic_data),synthetic_data.shape)"
   ]
  },
  {
   "cell_type": "markdown",
   "id": "fa46ba53",
   "metadata": {},
   "source": [
    "### We will compare the datasets to see if our oversampling worked on our discrete data"
   ]
  },
  {
   "cell_type": "code",
   "execution_count": 41,
   "id": "8869a372",
   "metadata": {},
   "outputs": [
    {
     "data": {
      "text/html": [
       "<div>\n",
       "<style scoped>\n",
       "    .dataframe tbody tr th:only-of-type {\n",
       "        vertical-align: middle;\n",
       "    }\n",
       "\n",
       "    .dataframe tbody tr th {\n",
       "        vertical-align: top;\n",
       "    }\n",
       "\n",
       "    .dataframe thead th {\n",
       "        text-align: right;\n",
       "    }\n",
       "</style>\n",
       "<table border=\"1\" class=\"dataframe\">\n",
       "  <thead>\n",
       "    <tr style=\"text-align: right;\">\n",
       "      <th></th>\n",
       "      <th>Category</th>\n",
       "      <th>Urgency</th>\n",
       "      <th>Customer_Type</th>\n",
       "      <th>Time_Open_Hour</th>\n",
       "      <th>Previous_Interactions</th>\n",
       "      <th>Resolved_By_First_Contact</th>\n",
       "      <th>Resolution_Time_Minutes</th>\n",
       "    </tr>\n",
       "  </thead>\n",
       "  <tbody>\n",
       "    <tr>\n",
       "      <th>count</th>\n",
       "      <td>150.000000</td>\n",
       "      <td>150.000000</td>\n",
       "      <td>150.000000</td>\n",
       "      <td>150.000000</td>\n",
       "      <td>150.000000</td>\n",
       "      <td>150.000000</td>\n",
       "      <td>150.000000</td>\n",
       "    </tr>\n",
       "    <tr>\n",
       "      <th>mean</th>\n",
       "      <td>0.986667</td>\n",
       "      <td>1.000000</td>\n",
       "      <td>0.520000</td>\n",
       "      <td>11.360000</td>\n",
       "      <td>2.153333</td>\n",
       "      <td>0.446667</td>\n",
       "      <td>36.509533</td>\n",
       "    </tr>\n",
       "    <tr>\n",
       "      <th>std</th>\n",
       "      <td>0.794162</td>\n",
       "      <td>0.827384</td>\n",
       "      <td>0.501274</td>\n",
       "      <td>7.293723</td>\n",
       "      <td>1.482500</td>\n",
       "      <td>0.498813</td>\n",
       "      <td>13.583804</td>\n",
       "    </tr>\n",
       "    <tr>\n",
       "      <th>min</th>\n",
       "      <td>0.000000</td>\n",
       "      <td>0.000000</td>\n",
       "      <td>0.000000</td>\n",
       "      <td>0.000000</td>\n",
       "      <td>0.000000</td>\n",
       "      <td>0.000000</td>\n",
       "      <td>1.810000</td>\n",
       "    </tr>\n",
       "    <tr>\n",
       "      <th>25%</th>\n",
       "      <td>0.000000</td>\n",
       "      <td>0.000000</td>\n",
       "      <td>0.000000</td>\n",
       "      <td>4.000000</td>\n",
       "      <td>1.000000</td>\n",
       "      <td>0.000000</td>\n",
       "      <td>27.442500</td>\n",
       "    </tr>\n",
       "    <tr>\n",
       "      <th>50%</th>\n",
       "      <td>1.000000</td>\n",
       "      <td>1.000000</td>\n",
       "      <td>1.000000</td>\n",
       "      <td>11.000000</td>\n",
       "      <td>2.000000</td>\n",
       "      <td>0.000000</td>\n",
       "      <td>35.045000</td>\n",
       "    </tr>\n",
       "    <tr>\n",
       "      <th>75%</th>\n",
       "      <td>2.000000</td>\n",
       "      <td>2.000000</td>\n",
       "      <td>1.000000</td>\n",
       "      <td>18.000000</td>\n",
       "      <td>3.000000</td>\n",
       "      <td>1.000000</td>\n",
       "      <td>46.372500</td>\n",
       "    </tr>\n",
       "    <tr>\n",
       "      <th>max</th>\n",
       "      <td>2.000000</td>\n",
       "      <td>2.000000</td>\n",
       "      <td>1.000000</td>\n",
       "      <td>23.000000</td>\n",
       "      <td>4.000000</td>\n",
       "      <td>1.000000</td>\n",
       "      <td>70.850000</td>\n",
       "    </tr>\n",
       "  </tbody>\n",
       "</table>\n",
       "</div>"
      ],
      "text/plain": [
       "         Category     Urgency  Customer_Type  Time_Open_Hour  \\\n",
       "count  150.000000  150.000000     150.000000      150.000000   \n",
       "mean     0.986667    1.000000       0.520000       11.360000   \n",
       "std      0.794162    0.827384       0.501274        7.293723   \n",
       "min      0.000000    0.000000       0.000000        0.000000   \n",
       "25%      0.000000    0.000000       0.000000        4.000000   \n",
       "50%      1.000000    1.000000       1.000000       11.000000   \n",
       "75%      2.000000    2.000000       1.000000       18.000000   \n",
       "max      2.000000    2.000000       1.000000       23.000000   \n",
       "\n",
       "       Previous_Interactions  Resolved_By_First_Contact  \\\n",
       "count             150.000000                 150.000000   \n",
       "mean                2.153333                   0.446667   \n",
       "std                 1.482500                   0.498813   \n",
       "min                 0.000000                   0.000000   \n",
       "25%                 1.000000                   0.000000   \n",
       "50%                 2.000000                   0.000000   \n",
       "75%                 3.000000                   1.000000   \n",
       "max                 4.000000                   1.000000   \n",
       "\n",
       "       Resolution_Time_Minutes  \n",
       "count               150.000000  \n",
       "mean                 36.509533  \n",
       "std                  13.583804  \n",
       "min                   1.810000  \n",
       "25%                  27.442500  \n",
       "50%                  35.045000  \n",
       "75%                  46.372500  \n",
       "max                  70.850000  "
      ]
     },
     "execution_count": 41,
     "metadata": {},
     "output_type": "execute_result"
    }
   ],
   "source": [
    "customer_ser.describe()"
   ]
  },
  {
   "cell_type": "code",
   "execution_count": 42,
   "id": "19d65dd3",
   "metadata": {},
   "outputs": [
    {
     "data": {
      "text/html": [
       "<div>\n",
       "<style scoped>\n",
       "    .dataframe tbody tr th:only-of-type {\n",
       "        vertical-align: middle;\n",
       "    }\n",
       "\n",
       "    .dataframe tbody tr th {\n",
       "        vertical-align: top;\n",
       "    }\n",
       "\n",
       "    .dataframe thead th {\n",
       "        text-align: right;\n",
       "    }\n",
       "</style>\n",
       "<table border=\"1\" class=\"dataframe\">\n",
       "  <thead>\n",
       "    <tr style=\"text-align: right;\">\n",
       "      <th></th>\n",
       "      <th>Category</th>\n",
       "      <th>Urgency</th>\n",
       "      <th>Customer_Type</th>\n",
       "      <th>Time_Open_Hour</th>\n",
       "      <th>Previous_Interactions</th>\n",
       "      <th>Resolved_By_First_Contact</th>\n",
       "      <th>Resolution_Time_Minutes</th>\n",
       "    </tr>\n",
       "  </thead>\n",
       "  <tbody>\n",
       "    <tr>\n",
       "      <th>count</th>\n",
       "      <td>1000.000000</td>\n",
       "      <td>1000.000000</td>\n",
       "      <td>1000.000000</td>\n",
       "      <td>1000.000000</td>\n",
       "      <td>1000.00000</td>\n",
       "      <td>1000.000000</td>\n",
       "      <td>1000.000000</td>\n",
       "    </tr>\n",
       "    <tr>\n",
       "      <th>mean</th>\n",
       "      <td>0.785000</td>\n",
       "      <td>0.907000</td>\n",
       "      <td>0.581000</td>\n",
       "      <td>11.165000</td>\n",
       "      <td>1.97500</td>\n",
       "      <td>0.540000</td>\n",
       "      <td>36.687807</td>\n",
       "    </tr>\n",
       "    <tr>\n",
       "      <th>std</th>\n",
       "      <td>0.825504</td>\n",
       "      <td>0.832493</td>\n",
       "      <td>0.493642</td>\n",
       "      <td>7.039412</td>\n",
       "      <td>1.56679</td>\n",
       "      <td>0.498647</td>\n",
       "      <td>14.335169</td>\n",
       "    </tr>\n",
       "    <tr>\n",
       "      <th>min</th>\n",
       "      <td>0.000000</td>\n",
       "      <td>0.000000</td>\n",
       "      <td>0.000000</td>\n",
       "      <td>0.000000</td>\n",
       "      <td>0.00000</td>\n",
       "      <td>0.000000</td>\n",
       "      <td>0.706274</td>\n",
       "    </tr>\n",
       "    <tr>\n",
       "      <th>25%</th>\n",
       "      <td>0.000000</td>\n",
       "      <td>0.000000</td>\n",
       "      <td>0.000000</td>\n",
       "      <td>4.000000</td>\n",
       "      <td>0.00000</td>\n",
       "      <td>0.000000</td>\n",
       "      <td>26.616328</td>\n",
       "    </tr>\n",
       "    <tr>\n",
       "      <th>50%</th>\n",
       "      <td>1.000000</td>\n",
       "      <td>1.000000</td>\n",
       "      <td>1.000000</td>\n",
       "      <td>11.000000</td>\n",
       "      <td>2.00000</td>\n",
       "      <td>1.000000</td>\n",
       "      <td>36.225300</td>\n",
       "    </tr>\n",
       "    <tr>\n",
       "      <th>75%</th>\n",
       "      <td>2.000000</td>\n",
       "      <td>2.000000</td>\n",
       "      <td>1.000000</td>\n",
       "      <td>18.000000</td>\n",
       "      <td>3.00000</td>\n",
       "      <td>1.000000</td>\n",
       "      <td>46.610113</td>\n",
       "    </tr>\n",
       "    <tr>\n",
       "      <th>max</th>\n",
       "      <td>2.000000</td>\n",
       "      <td>2.000000</td>\n",
       "      <td>1.000000</td>\n",
       "      <td>23.000000</td>\n",
       "      <td>4.00000</td>\n",
       "      <td>1.000000</td>\n",
       "      <td>78.964378</td>\n",
       "    </tr>\n",
       "  </tbody>\n",
       "</table>\n",
       "</div>"
      ],
      "text/plain": [
       "          Category      Urgency  Customer_Type  Time_Open_Hour  \\\n",
       "count  1000.000000  1000.000000    1000.000000     1000.000000   \n",
       "mean      0.785000     0.907000       0.581000       11.165000   \n",
       "std       0.825504     0.832493       0.493642        7.039412   \n",
       "min       0.000000     0.000000       0.000000        0.000000   \n",
       "25%       0.000000     0.000000       0.000000        4.000000   \n",
       "50%       1.000000     1.000000       1.000000       11.000000   \n",
       "75%       2.000000     2.000000       1.000000       18.000000   \n",
       "max       2.000000     2.000000       1.000000       23.000000   \n",
       "\n",
       "       Previous_Interactions  Resolved_By_First_Contact  \\\n",
       "count             1000.00000                1000.000000   \n",
       "mean                 1.97500                   0.540000   \n",
       "std                  1.56679                   0.498647   \n",
       "min                  0.00000                   0.000000   \n",
       "25%                  0.00000                   0.000000   \n",
       "50%                  2.00000                   1.000000   \n",
       "75%                  3.00000                   1.000000   \n",
       "max                  4.00000                   1.000000   \n",
       "\n",
       "       Resolution_Time_Minutes  \n",
       "count              1000.000000  \n",
       "mean                 36.687807  \n",
       "std                  14.335169  \n",
       "min                   0.706274  \n",
       "25%                  26.616328  \n",
       "50%                  36.225300  \n",
       "75%                  46.610113  \n",
       "max                  78.964378  "
      ]
     },
     "execution_count": 42,
     "metadata": {},
     "output_type": "execute_result"
    }
   ],
   "source": [
    "synthetic_data.describe()"
   ]
  },
  {
   "cell_type": "code",
   "execution_count": 40,
   "id": "14c08a78",
   "metadata": {},
   "outputs": [
    {
     "name": "stdout",
     "output_type": "stream",
     "text": [
      "torch.Size([800, 6]) torch.Size([200, 6])\n",
      "torch.Size([800, 1]) torch.Size([200, 1])\n"
     ]
    }
   ],
   "source": [
    "customer_list = []\n",
    "syn_costumer_list = []\n",
    "column_titles = customer_ser.columns.tolist()\n",
    "for i, title in enumerate(column_titles):\n",
    "    if i == len(column_titles) - 1:\n",
    "        syn_time_list = synthetic_data[title].to_list()\n",
    "    else:\n",
    "        syn_costumer_list.append(synthetic_data[title].to_list())\n",
    "\n",
    "\n",
    "syn_costumer_array = np.array(syn_costumer_list).T  \n",
    "syn_time_array = np.array(syn_time_list)\n",
    "\n",
    "\n",
    "syn_customer_tensor = torch.tensor(syn_costumer_array, dtype=torch.float32)\n",
    "syn_time_tensor = torch.tensor(syn_time_array, dtype=torch.float32).view(-1, 1)  # Target\n",
    "\n",
    "syn_customer_train, syn_customer_val, syn_time_train, syn_time_val = train_test_split(syn_customer_tensor, syn_time_tensor, test_size=0.2, random_state=42) \n",
    "\n",
    "\n",
    "combined_time_train = torch.cat((time_train, syn_time_train), dim=0)\n",
    "\n",
    "\n",
    "print(syn_customer_train.shape, syn_customer_val.shape)  \n",
    "print(syn_time_train.shape, syn_time_val.shape)\n",
    "  "
   ]
  },
  {
   "cell_type": "markdown",
   "id": "291e67b8",
   "metadata": {},
   "source": [
    "### Testing different models on the oversampled data"
   ]
  },
  {
   "cell_type": "markdown",
   "id": "ed208de1",
   "metadata": {},
   "source": [
    "### 1-layer NN"
   ]
  },
  {
   "cell_type": "code",
   "execution_count": 45,
   "id": "d2f0492a",
   "metadata": {},
   "outputs": [
    {
     "name": "stderr",
     "output_type": "stream",
     "text": [
      "Grid Search: 100%|██████████| 48/48 [05:53<00:00,  7.37s/it]"
     ]
    },
    {
     "name": "stdout",
     "output_type": "stream",
     "text": [
      "\n",
      "Best success: 56.7% , success for syn data val: 28.000000000000004%  with params: {'learning_rate': 0.001, 'hidden_size': 32, 'epochs': 5000, 'weight_dec': 0.001, 'precent': 0.75}\n"
     ]
    },
    {
     "name": "stderr",
     "output_type": "stream",
     "text": [
      "\n"
     ]
    }
   ],
   "source": [
    "# Hyperparameter options\n",
    "learning_rates = [1e-3]\n",
    "hidden_sizes = [16,32,64,128]\n",
    "epochs = [2500,5000]\n",
    "weight_dec = [0,1e-4,1e-3]\n",
    "precent = [0.5,0.75]\n",
    "\n",
    "best_success = 0\n",
    "best_params = None\n",
    "best_model = None\n",
    "best_train = None\n",
    "best_val = None\n",
    "best_val_syn = None\n",
    "best_success_syn= None\n",
    "\n",
    "param_grid = list(itertools.product(learning_rates, hidden_sizes, epochs,weight_dec,precent))\n",
    "\n",
    "\n",
    "for i, (lr, hidden, ep,wd,precen) in enumerate(tqdm(param_grid, total=len(param_grid), desc=\"Grid Search\")):\n",
    "   \n",
    "    #print(f\"Training with lr={lr}, hidden_size={hidden}, epochs={ep}\")\n",
    "\n",
    "    loss_train = []\n",
    "    loss_val = []\n",
    "    loss_val_syn = []\n",
    "\n",
    "    model = single_layer_NN(input_layer=6, hidden_layer=hidden)\n",
    "    criterion = nn.MSELoss()\n",
    "    optimizer = torch.optim.Adam(model.parameters(), lr=lr,weight_decay=wd)\n",
    "\n",
    "    for epoch in range(ep):\n",
    "        model.train()\n",
    "        optimizer.zero_grad()\n",
    "        \n",
    "        outputs = model(customer_train)\n",
    "        loss = criterion(outputs, time_train)\n",
    "        outputs_syn = model(syn_customer_train)\n",
    "        loss_syn = criterion(outputs_syn, syn_time_train)\n",
    "        loss_total = precen*loss + (1-precen)*loss_syn\n",
    "\n",
    "        loss_total.backward()\n",
    "        optimizer.step()\n",
    "        loss_train.append(loss_total.item())\n",
    "\n",
    "\n",
    "        model.eval()\n",
    "        with torch.no_grad():       \n",
    "            val_outputs = model(customer_val)\n",
    "            val_loss = criterion(val_outputs, time_val) \n",
    "            loss_val.append(val_loss.item())                #calc val loss as well....\n",
    "\n",
    "            val_outputs_syn = model(syn_customer_val)\n",
    "            val_loss_syn = criterion(val_outputs_syn, syn_time_val) \n",
    "            loss_val_syn.append(val_loss_syn.item()) \n",
    "\n",
    "    model.eval()\n",
    "    with torch.no_grad():\n",
    "        predictions = model(customer_val).squeeze()  # n_samples\n",
    "        predictions_syn = model(syn_customer_val).squeeze() \n",
    "\n",
    "\n",
    "    success_rate,success_count,total = success_rate_tensors(predictions,time_val)\n",
    "    success_rate_syn,success_count_syn,total_syn = success_rate_tensors(predictions_syn,syn_time_val)\n",
    "\n",
    "    if success_rate > best_success:         #whats importnat is val form original.\n",
    "        best_success = success_rate\n",
    "        best_params = {'learning_rate': lr, 'hidden_size': hidden, 'epochs': ep , 'weight_dec' : wd, 'precent' : precen}\n",
    "        best_model = copy.deepcopy(model)\n",
    "        best_train = loss_train[:]\n",
    "        best_val = loss_val[:]\n",
    "        best_val_syn = loss_val_syn[:]\n",
    "        best_success_syn = success_rate_syn\n",
    "\n",
    "print(f\"\\nBest success: {best_success:.1f}% , success for syn data val: {best_success_syn}%  with params: {best_params}\")"
   ]
  },
  {
   "cell_type": "code",
   "execution_count": 88,
   "id": "c3158ec1",
   "metadata": {},
   "outputs": [],
   "source": [
    "torch.save({\n",
    "                'epoch': epoch,\n",
    "                'model_state_dict': best_model.state_dict(),\n",
    "                'loss_val': best_val,\n",
    "                'loss_train': best_train\n",
    "            }, f'models/1-layer-NN_oversample_56.pth')"
   ]
  },
  {
   "cell_type": "code",
   "execution_count": 90,
   "id": "aac04f1d",
   "metadata": {},
   "outputs": [
    {
     "data": {
      "text/plain": [
       "single_layer_NN(\n",
       "  (fc1): Linear(in_features=6, out_features=32, bias=True)\n",
       "  (fc2): Linear(in_features=32, out_features=1, bias=True)\n",
       ")"
      ]
     },
     "execution_count": 90,
     "metadata": {},
     "output_type": "execute_result"
    }
   ],
   "source": [
    "model = single_layer_NN(hidden_layer=32)\n",
    "checkpoint = torch.load('models/1-layer-NN_oversample_56.pth')\n",
    "\n",
    "model.load_state_dict(checkpoint['model_state_dict'])\n",
    "start_epoch = checkpoint['epoch']\n",
    "saved_val_loss = checkpoint['loss_val']\n",
    "saved_train_loss = checkpoint['loss_train']\n",
    "model.eval() "
   ]
  },
  {
   "cell_type": "code",
   "execution_count": 91,
   "id": "efd14e91",
   "metadata": {},
   "outputs": [
    {
     "name": "stdout",
     "output_type": "stream",
     "text": [
      "\n",
      " Success ±5 min: 56.67% (17/30) , MSE val loss : 50.544898986816406 , train mse loss: 64.748046875\n"
     ]
    }
   ],
   "source": [
    "model.eval()\n",
    "with torch.no_grad():\n",
    "    predictions = model(customer_val).squeeze()  # n_samples\n",
    "success_rate,success_count,total = success_rate_tensors(predictions,time_val)\n",
    "\n",
    "print(f\"\\n Success ±5 min: {success_rate:.2f}% ({success_count}/{30}) , MSE val loss : {saved_val_loss[-1]} , train mse loss: {saved_train_loss[-1]}\")\n",
    "# print(f\"\\n Success ±5 min: {success_rate:.2f}% ({success_count}/{30})\")\n"
   ]
  },
  {
   "cell_type": "markdown",
   "id": "e37dee3e",
   "metadata": {},
   "source": [
    "This graph plots the predicted time and actual time similar to a confusion matrix. <br>\n",
    "The ideal graph would be the dotted line since it means the actual time is equal to the predicted time"
   ]
  },
  {
   "cell_type": "code",
   "execution_count": 92,
   "id": "0b25ae30",
   "metadata": {},
   "outputs": [
    {
     "name": "stdout",
     "output_type": "stream",
     "text": [
      "\n",
      "Final: Loss: 50.544898986816406\n"
     ]
    },
    {
     "data": {
      "image/png": "[encoded data removed]",
      "text/plain": [
       "<Figure size 1000x500 with 1 Axes>"
      ]
     },
     "metadata": {},
     "output_type": "display_data"
    },
    {
     "name": "stdout",
     "output_type": "stream",
     "text": [
      "best val loss: 147.1039581298828\n"
     ]
    }
   ],
   "source": [
    "print(f\"\\nFinal: Loss: {best_val[-1]}\")\n",
    "plot_train_val(loss_train,loss_val)\n",
    "print(f\"best val loss: {best_val_loss}\")"
   ]
  },
  {
   "cell_type": "code",
   "execution_count": 93,
   "id": "eab76331",
   "metadata": {},
   "outputs": [
    {
     "name": "stderr",
     "output_type": "stream",
     "text": [
      "c:\\Users\\yuval\\AppData\\Local\\Programs\\Python\\Python39\\lib\\site-packages\\numpy\\core\\shape_base.py:65: FutureWarning: The input object of type 'Tensor' is an array-like implementing one of the corresponding protocols (`__array__`, `__array_interface__` or `__array_struct__`); but not a sequence (or 0-D). In the future, this object will be coerced as if it was first converted using `np.array(obj)`. To retain the old behaviour, you have to either modify the type 'Tensor', or assign to an empty array created with `np.empty(correct_shape, dtype=object)`.\n",
      "  ary = asanyarray(ary)\n",
      "c:\\Users\\yuval\\AppData\\Local\\Programs\\Python\\Python39\\lib\\site-packages\\numpy\\core\\shape_base.py:65: VisibleDeprecationWarning: Creating an ndarray from ragged nested sequences (which is a list-or-tuple of lists-or-tuples-or ndarrays with different lengths or shapes) is deprecated. If you meant to do this, you must specify 'dtype=object' when creating the ndarray.\n",
      "  ary = asanyarray(ary)\n"
     ]
    },
    {
     "data": {
      "image/png": "[encoded data removed]",
      "text/plain": [
       "<Figure size 600x600 with 1 Axes>"
      ]
     },
     "metadata": {},
     "output_type": "display_data"
    }
   ],
   "source": [
    "plot_prediction_band(time_val , predictions)"
   ]
  },
  {
   "cell_type": "markdown",
   "id": "8ee9c4ed",
   "metadata": {},
   "source": [
    "### 2-layer NN"
   ]
  },
  {
   "cell_type": "code",
   "execution_count": 97,
   "id": "870fb5f3",
   "metadata": {},
   "outputs": [
    {
     "name": "stderr",
     "output_type": "stream",
     "text": [
      "Grid Search: 100%|██████████| 36/36 [06:46<00:00, 11.28s/it]"
     ]
    },
    {
     "name": "stdout",
     "output_type": "stream",
     "text": [
      "\n",
      "Best success: 60.0% , success for syn data val: 27.500000000000004%  with params: {'learning_rate': 0.001, 'hidden_size': 16, 'epochs': 5000, 'weight_dec': 0.001, 'precent': 0.75}\n"
     ]
    },
    {
     "name": "stderr",
     "output_type": "stream",
     "text": [
      "\n"
     ]
    }
   ],
   "source": [
    "# Hyperparameter options\n",
    "learning_rates = [1e-3]\n",
    "hidden_sizes = [16,32,64]\n",
    "epochs = [2500,5000]\n",
    "weight_dec = [0,1e-4,1e-3]\n",
    "precent = [0.5,0.75]\n",
    "\n",
    "best_success = 0\n",
    "best_params = None\n",
    "best_model = None\n",
    "best_train = None\n",
    "best_val = None\n",
    "best_val_syn = None\n",
    "best_success_syn= None\n",
    "\n",
    "param_grid = list(itertools.product(learning_rates, hidden_sizes, epochs,weight_dec,precent))\n",
    "\n",
    "\n",
    "for i, (lr, hidden, ep,wd,precen) in enumerate(tqdm(param_grid, total=len(param_grid), desc=\"Grid Search\")):\n",
    "   \n",
    "    #print(f\"Training with lr={lr}, hidden_size={hidden}, epochs={ep}\")\n",
    "\n",
    "    loss_train = []\n",
    "    loss_val = []\n",
    "    loss_val_syn = []\n",
    "\n",
    "    model = double_layer_NN(input_layer=6, hidden_layer=hidden)\n",
    "    criterion = nn.MSELoss()\n",
    "    optimizer = torch.optim.Adam(model.parameters(), lr=lr,weight_decay=wd)\n",
    "\n",
    "    for epoch in range(ep):\n",
    "        model.train()\n",
    "        optimizer.zero_grad()\n",
    "        \n",
    "        outputs = model(customer_train)\n",
    "        loss = criterion(outputs, time_train)\n",
    "        outputs_syn = model(syn_customer_train)\n",
    "        loss_syn = criterion(outputs_syn, syn_time_train)\n",
    "        loss_total = precen*loss + (1-precen)*loss_syn\n",
    "\n",
    "        loss_total.backward()\n",
    "        optimizer.step()\n",
    "        loss_train.append(loss_total.item())\n",
    "\n",
    "\n",
    "        model.eval()\n",
    "        with torch.no_grad():       \n",
    "            val_outputs = model(customer_val)\n",
    "            val_loss = criterion(val_outputs, time_val) \n",
    "            loss_val.append(val_loss.item())                #calc val loss as well....\n",
    "\n",
    "            val_outputs_syn = model(syn_customer_val)\n",
    "            val_loss_syn = criterion(val_outputs_syn, syn_time_val) \n",
    "            loss_val_syn.append(val_loss_syn.item()) \n",
    "\n",
    "    model.eval()\n",
    "    with torch.no_grad():\n",
    "        predictions = model(customer_val).squeeze()  # n_samples\n",
    "        predictions_syn = model(syn_customer_val).squeeze() \n",
    "\n",
    "\n",
    "    success_rate,success_count,total = success_rate_tensors(predictions,time_val)\n",
    "    success_rate_syn,success_count_syn,total_syn = success_rate_tensors(predictions_syn,syn_time_val)\n",
    "\n",
    "    if success_rate > best_success:         #whats importnat is val form original.\n",
    "        best_success = success_rate\n",
    "        best_params = {'learning_rate': lr, 'hidden_size': hidden, 'epochs': ep , 'weight_dec' : wd, 'precent' : precen}\n",
    "        best_model = copy.deepcopy(model)\n",
    "        best_train = loss_train[:]\n",
    "        best_val = loss_val[:]\n",
    "        best_val_syn = loss_val_syn[:]\n",
    "        best_success_syn = success_rate_syn\n",
    "\n",
    "print(f\"\\nBest success: {best_success:.1f}% , success for syn data val: {best_success_syn}%  with params: {best_params}\")"
   ]
  },
  {
   "cell_type": "code",
   "execution_count": 98,
   "id": "707fad10",
   "metadata": {},
   "outputs": [],
   "source": [
    "torch.save({\n",
    "                'epoch': epoch,\n",
    "                'model_state_dict': best_model.state_dict(),\n",
    "                'loss_val': best_val,\n",
    "                'loss_train': best_train\n",
    "            }, f'models/2-layer-NN_oversample_60.pth')"
   ]
  },
  {
   "cell_type": "code",
   "execution_count": 101,
   "id": "03554165",
   "metadata": {},
   "outputs": [
    {
     "data": {
      "text/plain": [
       "double_layer_NN(\n",
       "  (fc1): Linear(in_features=6, out_features=16, bias=True)\n",
       "  (fc2): Linear(in_features=16, out_features=16, bias=True)\n",
       "  (fc3): Linear(in_features=16, out_features=1, bias=True)\n",
       ")"
      ]
     },
     "execution_count": 101,
     "metadata": {},
     "output_type": "execute_result"
    }
   ],
   "source": [
    "model = double_layer_NN(hidden_layer=16)\n",
    "checkpoint = torch.load('models/2-layer-NN_oversample_60.pth')\n",
    "\n",
    "model.load_state_dict(checkpoint['model_state_dict'])\n",
    "start_epoch = checkpoint['epoch']\n",
    "saved_val_loss = checkpoint['loss_val']\n",
    "saved_train_loss = checkpoint['loss_train']\n",
    "model.eval() "
   ]
  },
  {
   "cell_type": "code",
   "execution_count": 102,
   "id": "2a21421a",
   "metadata": {},
   "outputs": [
    {
     "name": "stdout",
     "output_type": "stream",
     "text": [
      "\n",
      " Success ±5 min: 60.00% (18/30) , MSE val loss : 57.208961486816406 , train mse loss: 51.15827178955078\n"
     ]
    }
   ],
   "source": [
    "model.eval()\n",
    "with torch.no_grad():\n",
    "    predictions = model(customer_val).squeeze()  # n_samples\n",
    "success_rate,success_count,total = success_rate_tensors(predictions,time_val)\n",
    "\n",
    "print(f\"\\n Success ±5 min: {success_rate:.2f}% ({success_count}/{30}) , MSE val loss : {saved_val_loss[-1]} , train mse loss: {saved_train_loss[-1]}\")\n",
    "# print(f\"\\n Success ±5 min: {success_rate:.2f}% ({success_count}/{30})\")\n"
   ]
  },
  {
   "cell_type": "markdown",
   "id": "f242438f",
   "metadata": {},
   "source": [
    "This graph plots the predicted time and actual time similar to a confusion matrix. <br>\n",
    "The ideal graph would be the dotted line since it means the actual time is equal to the predicted time"
   ]
  },
  {
   "cell_type": "code",
   "execution_count": 104,
   "id": "eb3fc2a8",
   "metadata": {},
   "outputs": [
    {
     "name": "stdout",
     "output_type": "stream",
     "text": [
      "\n",
      "Final: Loss: 57.208961486816406\n"
     ]
    },
    {
     "data": {
      "image/png": "[encoded data removed]",
      "text/plain": [
       "<Figure size 1000x500 with 1 Axes>"
      ]
     },
     "metadata": {},
     "output_type": "display_data"
    }
   ],
   "source": [
    "print(f\"\\nFinal: Loss: {best_val[-1]}\")\n",
    "plot_train_val(loss_train,loss_val)\n"
   ]
  },
  {
   "cell_type": "code",
   "execution_count": 105,
   "id": "1e591b25",
   "metadata": {},
   "outputs": [
    {
     "name": "stderr",
     "output_type": "stream",
     "text": [
      "c:\\Users\\yuval\\AppData\\Local\\Programs\\Python\\Python39\\lib\\site-packages\\numpy\\core\\shape_base.py:65: FutureWarning: The input object of type 'Tensor' is an array-like implementing one of the corresponding protocols (`__array__`, `__array_interface__` or `__array_struct__`); but not a sequence (or 0-D). In the future, this object will be coerced as if it was first converted using `np.array(obj)`. To retain the old behaviour, you have to either modify the type 'Tensor', or assign to an empty array created with `np.empty(correct_shape, dtype=object)`.\n",
      "  ary = asanyarray(ary)\n",
      "c:\\Users\\yuval\\AppData\\Local\\Programs\\Python\\Python39\\lib\\site-packages\\numpy\\core\\shape_base.py:65: VisibleDeprecationWarning: Creating an ndarray from ragged nested sequences (which is a list-or-tuple of lists-or-tuples-or ndarrays with different lengths or shapes) is deprecated. If you meant to do this, you must specify 'dtype=object' when creating the ndarray.\n",
      "  ary = asanyarray(ary)\n"
     ]
    },
    {
     "data": {
      "image/png": "[encoded data removed]",
      "text/plain": [
       "<Figure size 600x600 with 1 Axes>"
      ]
     },
     "metadata": {},
     "output_type": "display_data"
    }
   ],
   "source": [
    "plot_prediction_band(time_val , predictions)"
   ]
  },
  {
   "cell_type": "markdown",
   "id": "daaa822d",
   "metadata": {},
   "source": [
    "## SVR"
   ]
  },
  {
   "cell_type": "code",
   "execution_count": 106,
   "id": "acd3abe2",
   "metadata": {},
   "outputs": [],
   "source": [
    "syn_customer_train_reg, syn_customer_val_reg, syn_time_train_reg, syn_time_val_reg = train_test_split(syn_costumer_array, syn_time_array, test_size=0.2, random_state=42)"
   ]
  },
  {
   "cell_type": "code",
   "execution_count": 107,
   "id": "7fa74c43",
   "metadata": {},
   "outputs": [],
   "source": [
    "def svr_regression(syn_customer_train_reg,syn_time_train_reg, kernal = \"rbf\",C=1.0, epsilon=1, gamma='scale'):\n",
    "    svr = SVR(kernel=kernal, C=C, epsilon=epsilon, gamma=gamma)\n",
    "    svr.fit(syn_customer_train_reg, syn_time_train_reg)\n",
    "    \n",
    "    return svr"
   ]
  },
  {
   "cell_type": "code",
   "execution_count": 108,
   "id": "c61ef4e6",
   "metadata": {},
   "outputs": [],
   "source": [
    "def success_rate_nparray(time_pred,time_real,error_allowed=5):\n",
    "\n",
    "    time_pred = np.squeeze(time_pred)         # squeeze because sometimes our array become (n,1) which crashes the code          \n",
    "    time_real = np.squeeze(time_real)\n",
    "\n",
    "    differences = np.abs(time_pred - time_real)\n",
    "    success_count = np.sum(differences <= error_allowed)\n",
    "    total = len(time_real)\n",
    "    success_rate = success_count / total * 100\n",
    "\n",
    "    return success_rate,success_count,total"
   ]
  },
  {
   "cell_type": "markdown",
   "id": "63f38593",
   "metadata": {},
   "source": [
    "### HyperParameter tuning"
   ]
  },
  {
   "cell_type": "code",
   "execution_count": 109,
   "id": "3f073407",
   "metadata": {},
   "outputs": [
    {
     "name": "stderr",
     "output_type": "stream",
     "text": [
      "Grid Search: 100%|██████████| 300/300 [00:23<00:00, 12.75it/s]"
     ]
    },
    {
     "name": "stdout",
     "output_type": "stream",
     "text": [
      "\n",
      "Best success: 31.5000 with params: {'kernel': 'rbf', 'C': 10, 'epsilon': 0.5, 'gamma': 0.01}\n",
      "Train loss: 144.39872307219076, Val loss: 149.0166563291222\n"
     ]
    },
    {
     "name": "stderr",
     "output_type": "stream",
     "text": [
      "\n"
     ]
    }
   ],
   "source": [
    "syn_customer_train_reg, syn_customer_val_reg, syn_time_train_reg, syn_time_val_reg = train_test_split(syn_costumer_array, syn_time_array, test_size=0.2, random_state=42)\n",
    "\n",
    "kernel = ['rbf', 'linear','sigmoid']          # Since 'poly' is heavy :\\\n",
    "C = [0.1, 1, 10, 100,1000]\n",
    "epsilon= [0.5 ,1, 3,5]\n",
    "gamma = ['scale', 'auto', 0.1, 1, 0.01]\n",
    "\n",
    "\n",
    "best_success = 0\n",
    "best_params = None\n",
    "best_model_sec = None\n",
    "best_train_sec = None\n",
    "best_val_sec = None\n",
    "\n",
    "param_grid = list(itertools.product(kernel, C, epsilon, gamma))\n",
    "\n",
    "scalled_customer_train_reg = StandardScaler()                                               #all have the same scale...        \n",
    "syn_customer_train_reg = scalled_customer_train_reg.fit_transform(syn_customer_train_reg)\n",
    "syn_customer_val_reg = scalled_customer_train_reg.transform(syn_customer_val_reg)   #same scalling...\n",
    "\n",
    "for i, (ker, C, epsilon, gamma) in enumerate(tqdm(param_grid, total=len(param_grid), desc=\"Grid Search\")):\n",
    "\n",
    "    curr_model = svr_regression(syn_customer_train_reg,syn_time_train_reg,ker,C, epsilon,gamma)\n",
    "\n",
    "    pred_train = curr_model.predict(syn_customer_train_reg)\n",
    "    mse_train = mean_squared_error(syn_time_train_reg, pred_train)\n",
    "\n",
    "    predictions = curr_model.predict(syn_customer_val_reg)  # n_samples\n",
    "    mse_val = mean_squared_error(syn_time_val_reg, predictions)\n",
    "\n",
    "    success_rate,success_count,total = success_rate_nparray(predictions,syn_time_val_reg)\n",
    "\n",
    "  \n",
    "    #print(f\"{i} : Training with ker={ker}, CC={CC}, gamma={gamma}, epsilon={epsilon} ---> Success: {best_success:.2f}\")\n",
    "    if best_success < success_rate : \n",
    "        best_success = success_rate\n",
    "        best_params = {'kernel': ker, 'C': C, 'epsilon': epsilon, 'gamma' : gamma}\n",
    "        best_model_third = copy.deepcopy(curr_model)\n",
    "        best_train_third = mse_train\n",
    "        best_val_third = mse_val\n",
    "\n",
    "\n",
    "print(f\"\\nBest success: {best_success:.4f} with params: {best_params}\")\n",
    "print(f\"Train loss: {best_train_third}, Val loss: {best_val_third}\")"
   ]
  },
  {
   "cell_type": "code",
   "execution_count": 125,
   "id": "7b12b21b",
   "metadata": {},
   "outputs": [],
   "source": [
    "model = svr_regression(customer_train_reg,time_train_reg,\n",
    "                       kernal='rbf',\n",
    "                       C=1000,\n",
    "                       epsilon = 1,\n",
    "                       gamma = 0.1)"
   ]
  },
  {
   "cell_type": "code",
   "execution_count": 126,
   "id": "c044558e",
   "metadata": {},
   "outputs": [
    {
     "name": "stdout",
     "output_type": "stream",
     "text": [
      "\n",
      " Success ±5 sec: 53.33% (16/30) , MSE val loss : 68.48387901101441 , train mse loss: 1.7717654679858785\n"
     ]
    }
   ],
   "source": [
    "predictions = model.predict(customer_val_reg)  # n_samples\n",
    "\n",
    "pred_train = model.predict(customer_train_reg)\n",
    "loss_train = mean_squared_error(time_train_reg, pred_train)\n",
    "\n",
    "predictions = model.predict(customer_val_reg)  # n_samples\n",
    "loss_val = mean_squared_error(time_val_reg, predictions)\n",
    "success_rate,success_count,total = success_rate_nparray(predictions,time_val_reg)\n",
    "\n",
    "print(f\"\\n Success ±5 sec: {success_rate:.2f}% ({success_count}/{30}) , MSE val loss : {loss_val} , train mse loss: {loss_train}\")"
   ]
  },
  {
   "cell_type": "code",
   "execution_count": null,
   "id": "ad88b1b5",
   "metadata": {},
   "outputs": [
    {
     "data": {
      "image/png": "[encoded data removed]",
      "text/plain": [
       "<Figure size 600x600 with 1 Axes>"
      ]
     },
     "metadata": {},
     "output_type": "display_data"
    }
   ],
   "source": [
    "plot_prediction_band(time_val_reg , predictions)"
   ]
  },
  {
   "cell_type": "markdown",
   "id": "1e50d14e",
   "metadata": {},
   "source": [
    "## Linear Regression"
   ]
  },
  {
   "cell_type": "code",
   "execution_count": 132,
   "id": "41ef0078",
   "metadata": {},
   "outputs": [
    {
     "name": "stdout",
     "output_type": "stream",
     "text": [
      "<class 'numpy.ndarray'> <class 'numpy.ndarray'>\n"
     ]
    }
   ],
   "source": [
    "syn_customer_train_reg, syn_customer_val_reg, syn_time_train_reg, syn_time_val_reg = train_test_split(syn_costumer_array, syn_time_array, test_size=0.2, random_state=42)\n",
    "\n",
    "print(type(syn_customer_train_reg),type(time_train_reg))"
   ]
  },
  {
   "cell_type": "code",
   "execution_count": 133,
   "id": "1b819b8d",
   "metadata": {},
   "outputs": [
    {
     "name": "stdout",
     "output_type": "stream",
     "text": [
      "\n",
      " Success ±5 sec: 36.67% (11/30),  MSE:112.01195481465797\n"
     ]
    },
    {
     "data": {
      "image/png": "[encoded data removed]",
      "text/plain": [
       "<Figure size 600x600 with 1 Axes>"
      ]
     },
     "metadata": {},
     "output_type": "display_data"
    }
   ],
   "source": [
    "reg = LinearRegression().fit(syn_customer_train_reg,syn_time_train_reg)\n",
    "\n",
    "time_pred_val = reg.predict(customer_val_reg)\n",
    "\n",
    "differences = np.abs(time_pred_val - time_val_reg)\n",
    "\n",
    "success_count = np.sum(differences <= 5)\n",
    "total = len(time_val_reg)\n",
    "\n",
    "success_rate = success_count / total * 100\n",
    "\n",
    "mse = mean_squared_error(time_val_reg, time_pred_val)\n",
    "\n",
    "print(f\"\\n Success ±5 sec: {success_rate:.2f}% ({success_count}/{total}),  MSE:{mse}\")\n",
    "\n",
    "plot_prediction_band(time_val_reg,time_pred_val)"
   ]
  },
  {
   "cell_type": "markdown",
   "id": "dce61a9b",
   "metadata": {},
   "source": [
    "---"
   ]
  },
  {
   "cell_type": "markdown",
   "id": "cf49266f",
   "metadata": {},
   "source": [
    "## Polynomial Regression"
   ]
  },
  {
   "cell_type": "code",
   "execution_count": null,
   "id": "cdc16f12",
   "metadata": {},
   "outputs": [],
   "source": [
    "customer_list = []\n",
    "column_titles = customer_ser.columns.tolist()\n",
    "for i,title in enumerate(column_titles):\n",
    "\n",
    "    if i == len(column_titles) - 1:                             \n",
    "        time_list = customer_ser[title].to_list()\n",
    "    else:\n",
    "        customer_list.append(customer_ser[title].to_list())\n",
    "\n",
    "customer_array = np.array(customer_list).T  # (num_samples, num_features)\n",
    "time_array= np.array(time_list) \n",
    "\n",
    "customer_tensor = torch.tensor(customer_array, dtype=torch.float32)  \n",
    "time_tensor = torch.tensor(time_list, dtype=torch.float32).view(-1, 1)  # Target "
   ]
  },
  {
   "cell_type": "code",
   "execution_count": 134,
   "id": "226eed1f",
   "metadata": {},
   "outputs": [
    {
     "name": "stdout",
     "output_type": "stream",
     "text": [
      "['Category' 'Urgency' 'Customer_Type' 'Time_Open_Hour'\n",
      " 'Previous_Interactions' 'Resolved_By_First_Contact' 'Category^2'\n",
      " 'Category Urgency' 'Category Customer_Type' 'Category Time_Open_Hour'\n",
      " 'Category Previous_Interactions' 'Category Resolved_By_First_Contact'\n",
      " 'Urgency^2' 'Urgency Customer_Type' 'Urgency Time_Open_Hour'\n",
      " 'Urgency Previous_Interactions' 'Urgency Resolved_By_First_Contact'\n",
      " 'Customer_Type^2' 'Customer_Type Time_Open_Hour'\n",
      " 'Customer_Type Previous_Interactions'\n",
      " 'Customer_Type Resolved_By_First_Contact' 'Time_Open_Hour^2'\n",
      " 'Time_Open_Hour Previous_Interactions'\n",
      " 'Time_Open_Hour Resolved_By_First_Contact' 'Previous_Interactions^2'\n",
      " 'Previous_Interactions Resolved_By_First_Contact'\n",
      " 'Resolved_By_First_Contact^2']\n"
     ]
    }
   ],
   "source": [
    "from sklearn.preprocessing import PolynomialFeatures\n",
    "\n",
    "poly = PolynomialFeatures(degree=2, include_bias=False, interaction_only=False)\n",
    "X_poly = poly.fit_transform(syn_costumer_array)\n",
    "\n",
    "# Optional: get the new feature names\n",
    "feature_names = poly.get_feature_names_out(input_features=column_titles[:-1])\n",
    "print(feature_names)"
   ]
  },
  {
   "cell_type": "code",
   "execution_count": 139,
   "id": "495a7537",
   "metadata": {},
   "outputs": [
    {
     "name": "stdout",
     "output_type": "stream",
     "text": [
      "MSE: 153.58\n",
      "Success ±5 sec: 27.50% (55/200)\n"
     ]
    }
   ],
   "source": [
    "X_train, X_val, y_train, y_val = train_test_split(X_poly, syn_time_array, test_size=0.2, random_state=42)\n",
    "\n",
    "reg = LinearRegression()\n",
    "reg.fit(X_train, y_train)\n",
    "\n",
    "predictions = reg.predict(X_val)\n",
    "\n",
    "mse = mean_squared_error(y_val, predictions)\n",
    "print(f\"MSE: {mse:.2f}\")\n",
    "\n",
    "differences = np.abs(predictions - y_val)\n",
    "success_count = np.sum(differences <= 5)\n",
    "success_rate = success_count / len(y_val) * 100\n",
    "print(f\"Success ±5 sec: {success_rate:.2f}% ({success_count}/{len(y_val)})\")"
   ]
  },
  {
   "cell_type": "code",
   "execution_count": null,
   "id": "b502fd59",
   "metadata": {},
   "outputs": [
    {
     "name": "stdout",
     "output_type": "stream",
     "text": [
      "<class 'sklearn.preprocessing._polynomial.PolynomialFeatures'>\n"
     ]
    }
   ],
   "source": [
    "print(type(poly))\n"
   ]
  }
 ],
 "metadata": {
  "kernelspec": {
   "display_name": "Python 3",
   "language": "python",
   "name": "python3"
  },
  "language_info": {
   "codemirror_mode": {
    "name": "ipython",
    "version": 3
   },
   "file_extension": ".py",
   "mimetype": "text/x-python",
   "name": "python",
   "nbconvert_exporter": "python",
   "pygments_lexer": "ipython3",
   "version": "3.9.0"
  }
 },
 "nbformat": 4,
 "nbformat_minor": 5
}
