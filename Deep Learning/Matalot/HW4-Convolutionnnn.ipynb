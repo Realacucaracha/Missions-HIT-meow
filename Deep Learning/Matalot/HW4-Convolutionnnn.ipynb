{
 "cells": [
  {
   "cell_type": "markdown",
   "metadata": {},
   "source": [
    "# ${\\color{pink}{Homework-Assignment4}}$"
   ]
  },
  {
   "cell_type": "markdown",
   "metadata": {
    "id": "Htm5D9RhL994"
   },
   "source": [
    "### Homework Assignment #4\n",
    "\n",
    "#### Question 1: Convolution Theorem\n",
    "\n",
    "**a. Convolution in Fourier Space**: Prove that the Fourier transform of the convolution of two functions $f$ and $g$, denoted as $\\mathcal{F}(f \\star g)$, equals the pointwise product of their Fourier transforms:  \n",
    "$$\n",
    "\\mathcal{F}(f \\star g) = \\mathcal{F}(f) \\cdot \\mathcal{F}(g).\n",
    "$$  \n",
    "Specify whether your proof is for continuous functions or discrete signals and clearly state any assumptions made.\n",
    "\n",
    "---\n",
    "\n",
    "#### Question 2: Properties of Convolution\n",
    "\n",
    "**a. Commutativity**: Prove that the convolution operation is commutative:  \n",
    "$$\n",
    "f \\star g = g \\star f.\n",
    "$$\n",
    "\n",
    "**b. Distributivity**: Prove the distributive property of convolution:  \n",
    "$$\n",
    "f \\star (\\alpha g + \\beta h) = \\alpha (f \\star g) + \\beta (f \\star h),\n",
    "$$  \n",
    "where $ \\alpha, \\beta \\in \\mathbb{R} $.\n",
    "\n",
    "**c. Shift Equivariance**: Prove that convolution is shift-invariant:  \n",
    "$$\n",
    "f(x) \\star g(x - d) = (f \\star g)(x - d).\n",
    "$$\n",
    "\n",
    "**d. Scaling Property**: Prove that if a function $ f(x) $ is scaled in its argument by a factor $ a > 0 $, then its convolution with a function $ g(x) $ satisfies:  \n",
    "$$\n",
    "f(ax) \\star g(ax) = \\frac{1}{a} \\big(f \\star g\\big)(ax).\n",
    "$$\n",
    "Clearly state any assumptions and steps in your proof.\n",
    "\n",
    "---\n",
    "\n",
    "#### Question 3: Derivative and Inverse of Convolution\n",
    "\n",
    "**a. Derivative of Convolution**: Derive the expression for the derivative of the convolution $ f(x) \\star g(x) $:  \n",
    "$$\n",
    "\\frac{d}{dx} \\big(f(x) \\star g(x)\\big).\n",
    "$$  \n",
    "Verify this property for specific functions of your choice, such as $ f(x) = e^{-x^2} $ and $ g(x) = \\sin(x) $.\n",
    "\n",
    "**b. Inverse of Convolution**: Discuss the conditions under which the convolution $ f(x) \\star g(x) $ can be inverted. Derive the theoretical framework for deconvolution or solving for $ f(x) $ or $ g(x) $ given their convolution.\n",
    "\n",
    "---\n",
    "\n",
    "#### Question 4 (Optional, Coding): Practical Verification of Convolution Properties\n",
    "\n",
    "**a. Implementation**: Implement the convolution operation using Python (e.g., PyTorch or NumPy) and verify the properties discussed in Question 2 for specific example functions $ f(x) $ and $ g(x) $.  \n",
    "\n",
    "**b. Fourier Transform Connection**: Use the Fourier transform to verify the convolution theorem numerically. Show that $ \\mathcal{F}(f \\star g) = \\mathcal{F}(f) \\cdot \\mathcal{F}(g) $ for your chosen functions $ f(x) $ and $ g(x) $.\n",
    "\n",
    "**c. Applications**: Briefly explain how these properties are utilized in convolutional neural networks (CNNs)."
   ]
  },
  {
   "cell_type": "markdown",
   "metadata": {},
   "source": [
    "# ${\\color{pink}{---------------------------}}$"
   ]
  },
  {
   "cell_type": "markdown",
   "metadata": {},
   "source": [
    "# ${\\color{pink}{Conovolution- Theorem!}}$"
   ]
  },
  {
   "cell_type": "markdown",
   "metadata": {},
   "source": [
    "$$\n",
    "\\mathcal{F}(f \\star g) = \\mathcal{F}(f) \\cdot \\mathcal{F}(g).\n",
    "$$  \n",
    "\n",
    "$$\n",
    "\\mathcal{F}(f \\star g)(u) = \\int_{-\\infty}^{\\infty}\\ (f \\star g)(t) \\cdot e^{-2\\pi iut} dt = \\int_{-\\infty}^{\\infty}\\ [ \\int_{-\\infty}^{\\infty}\\ f(s) \\cdot g(t-s)  ds ] e^{-2\\pi iut} dt \n",
    "=\\int_{-\\infty}^{\\infty}\\ f(s) [\\int_{-\\infty}^{\\infty}\\  g(t-s) \\cdot e^{-2\\pi iut} dt ]ds =\n",
    "$$\n",
    "\n",
    "$$\n",
    "|||\\tilde{t} = t-s ||| t = \\tilde{t}+s ||| d\\tilde{t} = dt|||\n",
    "$$\n",
    "\n",
    "$$\n",
    "= \\int_{-\\infty}^{\\infty}\\ f(s) [\\int_{-\\infty}^{\\infty}\\ g(\\tilde{t}) \\cdot e^{-2\\pi iu(\\tilde{t}+s)} d\\tilde{t} ] ds =\n",
    "\\int_{-\\infty}^{\\infty}\\ f(s) \\cdot e^{-2\\pi ius} \\int_{-\\infty}^{\\infty}\\ g(\\tilde{t}) \\cdot e^{-2\\pi iu\\tilde{t}} d\\tilde{t} ] ds = \n",
    "\\int_{-\\infty}^{\\infty}\\ f(s) \\cdot e^{-2\\pi ius} ds \\cdot \\mathcal{F}(g) = \\mathcal{F}(f) \\cdot \\mathcal{F}(g).\n",
    "$$\n"
   ]
  },
  {
   "cell_type": "markdown",
   "metadata": {},
   "source": [
    "assumptions:\n",
    "\n",
    "-f,g continuous func that have Fourier transforms..."
   ]
  },
  {
   "cell_type": "markdown",
   "metadata": {},
   "source": [
    "# ${\\color{pink}{Commutativity}}$"
   ]
  },
  {
   "cell_type": "markdown",
   "metadata": {},
   "source": [
    "$$\n",
    "f \\star g = g \\star f\n",
    "$$\n",
    "\n",
    "$$\n",
    "f \\star g = \\int_{-\\infty}^{\\infty}\\ f(s) \\cdot g(t-s) ds = \n",
    "$$\n",
    "\n",
    "$$\n",
    "||| \\tilde{s} = t-s ||| s = t - \\tilde{s} ||| d\\tilde{s} = -ds|||\n",
    "$$\n",
    "\n",
    "$$\n",
    "= - \\int_{\\infty}^{-\\infty}\\ f(t - \\tilde{s}) \\cdot g(\\tilde{s}) d\\tilde{s} = \\int_{-\\infty}^{\\infty}\\ g(\\tilde{s}) \\cdot f(t - \\tilde{s}) d\\tilde{s} = g \\star f\n",
    "$$"
   ]
  },
  {
   "cell_type": "markdown",
   "metadata": {},
   "source": [
    "# ${\\color{pink}{Distributivity}}$"
   ]
  },
  {
   "cell_type": "markdown",
   "metadata": {},
   "source": [
    "$$\n",
    "f \\star (\\alpha g + \\beta h) = \\alpha (f \\star g) + \\beta (f \\star h),\n",
    "$$  \n",
    "where $ \\alpha, \\beta \\in \\mathbb{R} $.\n",
    "\n",
    "$$\n",
    "f \\star (\\alpha g + \\beta h) = \\int_{-\\infty}^{\\infty}\\ f(s) \\cdot (\\alpha g + \\beta h)(t-s) ds = \\int_{-\\infty}^{\\infty}\\ f(s) \\cdot (\\alpha g(t-s) + \\beta h(t-s)) ds=\n",
    "$$\n",
    "\n",
    "$$\n",
    "\\int_{-\\infty}^{\\infty}\\ [f(s) \\cdot \\alpha g(t-s) + f(s) \\cdot \\beta h(t-s)] ds = \\int_{-\\infty}^{\\infty}\\ [\\alpha \\cdot f(s) \\cdot  g(t-s) + \\beta  \\cdot f(s) \\cdot h(t-s)] ds=\n",
    "$$\n",
    "\n",
    "$$\n",
    "\\int_{-\\infty}^{\\infty}\\ \\alpha \\cdot f(s) \\cdot  g(t-s) ds + \\int_{-\\infty}^{\\infty}\\ \\beta  \\cdot f(s) \\cdot h(t-s)ds = \n",
    "$$\n",
    "\n",
    "$$\n",
    "\\alpha \\int_{-\\infty}^{\\infty}\\ f(s) \\cdot  g(t-s) ds + \\beta \\int_{-\\infty}^{\\infty}\\ f(s) \\cdot h(t-s)ds = \\alpha (f \\star g) + \\beta (f \\star h)\n",
    "$$\n"
   ]
  },
  {
   "cell_type": "markdown",
   "metadata": {},
   "source": [
    "# ${\\color{pink}{Shift -Equivariance}}$ "
   ]
  },
  {
   "cell_type": "markdown",
   "metadata": {},
   "source": [
    "$$\n",
    "f(t) \\star g(t - d) = (f \\star g)(t - d).\n",
    "$$\n",
    "\n",
    "$$\n",
    "f(t) \\star g(t - d) = \\int_{-\\infty}^{\\infty}\\ f(s) \\cdot g(t-d-s) ds = \\int_{-\\infty}^{\\infty}\\ f(s) \\cdot g((t-s )-d) ds =\n",
    " \\int_{-\\infty}^{\\infty}\\ f(s) \\cdot g(q-s) ds = (f \\star g)(q) = (f \\star g)(t - d)\n",
    "$$\n",
    "$$\n",
    "|||q = t-d|||\n",
    "$$\n"
   ]
  },
  {
   "cell_type": "markdown",
   "metadata": {},
   "source": [
    "# ${\\color{pink}{Scaling-Property}}$"
   ]
  },
  {
   "cell_type": "markdown",
   "metadata": {},
   "source": [
    " $$\n",
    "f(at) \\star g(at) = \\frac{1}{a} \\big(f \\star g\\big)(at).\n",
    "$$\n",
    "\n",
    "\n",
    "$$\n",
    "||| f(at) = q(t) , g(at) = y(t)||| = \n",
    "$$\n",
    "\n",
    "$$\n",
    "f(at) \\star g(at) = q(t) \\star y(t) = \\int_{-\\infty}^{\\infty}\\ q(s) \\cdot y(t-s) ds = \n",
    "$$\n",
    "\n",
    "$$\n",
    "\\int_{-\\infty}^{\\infty}\\ f(as) \\cdot g(a(t-s)) ds = \n",
    "$$\n",
    "\n",
    "$$\n",
    "|||as = w ||| s = \\frac{w}{a} ||| ds = \\frac{1}{a} dw|||\n",
    "$$\n",
    "\n",
    "$$\n",
    "\\int_{-\\infty}^{\\infty}\\ f(w) \\cdot g(a(t-\\frac{w}{a})) \\frac{1}{a} dw = \\frac{1}{a} \\int_{-\\infty}^{\\infty}\\ f(w) \\cdot g(at-w)  dw = \\frac{1}{a} \\big(f \\star g\\big)(at)\n",
    "$$"
   ]
  },
  {
   "cell_type": "markdown",
   "metadata": {},
   "source": [
    "# ${\\color{pink}{Derivative-of-Convolution}}$"
   ]
  },
  {
   "cell_type": "markdown",
   "metadata": {},
   "source": [
    "$$\n",
    "\\frac{d}{dt} \\big(f(t) \\star g(t)\\big) = \\frac{d}{dt} \\int_{-\\infty}^{\\infty}\\ f(s) \\cdot g(t-s) ds = \\int_{-\\infty}^{\\infty}\\ \\frac{d}{dt} f(s) \\cdot g(t-s) ds =\n",
    "\\int_{-\\infty}^{\\infty}\\ f(s) \\cdot \\frac{d}{dt} g(t-s) ds =\n",
    "$$\n",
    "\n",
    "$$\n",
    "\\int_{-\\infty}^{\\infty}\\ f(s) \\cdot g'(t-s) ds = \\big(f(t) \\star g'(t)\\big) = \\big(f(t) \\star g(t)\\frac{d}{dt}\\big)\n",
    "$$  \n",
    "same for g*f:\n",
    "$$\n",
    "\\frac{d}{dt} \\big(f(t) \\star g(t)\\big) = \\frac{d}{dt} \\big(g(t) \\star f(t)\\big) = \\big(g(t) \\star f(t)\\frac{d}{dt}\\big)\n",
    "$$\n",
    "\n",
    "Verify this property for specific functions of your choice, such as $ f(t) = e^{-t^2} $ and $ g(t) = \\sin(t) $."
   ]
  },
  {
   "cell_type": "markdown",
   "metadata": {},
   "source": [
    "$$\\big(f(t) \\star g'(t)\\big) = e^{-t^2} \\star (\\sin(t))' = e^{-t^2} \\star \\cos(t) = \\int_{-\\infty}^{\\infty}\\ e^{-s^2} \\cdot \\cos(t-s) ds $$\n",
    "$$ \\frac{d}{dt} \\big(f(t) \\star g(t)\\big) = \\frac{d}{dt} \\int_{-\\infty}^{\\infty}\\ e^{-s^2} \\cdot \\sin(t-s) ds = \\int_{-\\infty}^{\\infty}\\ e^{-s^2} \\cdot \\frac{d}{dt}\\sin(t-s) ds =\n",
    "\\int_{-\\infty}^{\\infty}\\ e^{-s^2} \\cdot \\cos(t-s) ds  $$ "
   ]
  },
  {
   "cell_type": "markdown",
   "metadata": {},
   "source": [
    "and because of Commutativity the opposite is the same"
   ]
  },
  {
   "cell_type": "markdown",
   "metadata": {},
   "source": [
    "# ${\\color{pink}{Inverse-of-Convolution}}$"
   ]
  },
  {
   "cell_type": "markdown",
   "metadata": {},
   "source": [
    "$$\n",
    "\\mathcal{F}(h) =  \\mathcal{F}(f) \\cdot \\mathcal{F}(g) = \\mathcal{F}(f\\star g) \n",
    "$$\n",
    "\n",
    "$$\n",
    "\\mathcal{F}(f) = \\frac{\\mathcal{F}(f\\star g)}{\\mathcal{F}(g)} ==> f = \\mathcal{F}^{-1}(f) = \\mathcal{F}^{-1}(\\frac{\\mathcal{F}(f\\star g)}{\\mathcal{F}(g)})\n",
    "$$"
   ]
  },
  {
   "cell_type": "markdown",
   "metadata": {},
   "source": [
    "the conditions:\n",
    "\n",
    "~ $\\mathcal{F}(g)$ and $\\mathcal{F}(f)$ and $\\mathcal{F}(f \\star g)$ != 0\n",
    "\n",
    "~ both g and f gotta have Fourier transform"
   ]
  },
  {
   "cell_type": "markdown",
   "metadata": {},
   "source": [
    "in order for the conovulotion to be inverted we need both $f(t)$ and $g(t)$ to have Fuoierer transform by their own, \n",
    "$$ \\int_{-\\infty}^{\\infty}\\ |f(t)| < \\infty ,\\textnormal(or),  \\int_{-\\infty}^{\\infty}\\ |f(t)|^2 < \\infty $$ \n",
    "$$ \\int_{-\\infty}^{\\infty}\\ |g(t)| < \\infty ,\\textnormal(or), \\int_{-\\infty}^{\\infty}\\ |g(t)|^2 < \\infty $$\n"
   ]
  },
  {
   "cell_type": "markdown",
   "metadata": {},
   "source": [
    "# ${\\color{pink}{Coding!}}$"
   ]
  },
  {
   "cell_type": "markdown",
   "metadata": {},
   "source": [
    "#### ~ unfortunately not all :( ~"
   ]
  },
  {
   "cell_type": "code",
   "execution_count": 1,
   "metadata": {},
   "outputs": [],
   "source": [
    "import numpy as np\n",
    "import scipy\n",
    "from scipy import signal\n",
    "\n",
    "np.set_printoptions(suppress=True,precision=5) #so numbers will be pretty"
   ]
  },
  {
   "cell_type": "code",
   "execution_count": 8,
   "metadata": {},
   "outputs": [],
   "source": [
    "#$ f(t) = e^{-t^2} $ and $ g(t) = \\sin(t) $\n",
    "def func_f(t):\n",
    "    return np.exp(-t**2)\n",
    "def func_g(t):\n",
    "    return np.sin(t)\n",
    "def func_h(t):\n",
    "    return np.cos(t)\n",
    "t = np.array(range(0,5))/10"
   ]
  },
  {
   "cell_type": "code",
   "execution_count": 18,
   "metadata": {},
   "outputs": [
    {
     "name": "stdout",
     "output_type": "stream",
     "text": [
      "-----Regular multy-----\n",
      "[4.63881 0.06939 0.02455 0.02455 0.06939]\n",
      "-----With CONOVOLUTION-----\n",
      "[0.29751 0.58813 0.96412 0.93612 0.81353]\n",
      "---Shapes?---\n",
      "(5,) (5,)\n",
      "--DIFF--\n",
      " [ 1.0394  -0.76121 -0.27116 -0.27116 -0.76121]\n"
     ]
    }
   ],
   "source": [
    "#fourier transform check(doesn't work unfortunately):\n",
    "\n",
    "f_transform = abs(np.fft.fft(func_f(t)))\n",
    "g_transform = abs(np.fft.fft(func_g(t)))\n",
    "furier = abs(f_transform * g_transform)\n",
    "\n",
    "#convo = abs( scipy.signal.convolve(func_f(t) , func_g(t),mode=\"same\") )\n",
    "convolution_f_g = abs ( np.convolve(func_f(t), func_g(t), mode='same'))\n",
    "convo_transform = abs(np.fft.fft(convolution_f_g))\n",
    "\n",
    "\n",
    "\n",
    "print(\"-----Regular multy-----\")\n",
    "print(furier)\n",
    "print(\"-----With CONOVOLUTION-----\")\n",
    "print(convolution_f_g)        #*furier[0]/convo_transform[0]\n",
    "print(\"---Shapes?---\")\n",
    "print(np.shape(furier),np.shape(convo_transform))\n",
    "print(\"--DIFF--\\n\",furier - convo_transform)\n",
    "\n",
    "\n"
   ]
  },
  {
   "cell_type": "code",
   "execution_count": 5,
   "metadata": {},
   "outputs": [
    {
     "name": "stdout",
     "output_type": "stream",
     "text": [
      "f*g = g*f:\n",
      "[0.      0.09983 0.29751 0.58813 0.5747  0.4655  0.27009] \n",
      " [0.      0.09983 0.29751 0.58813 0.5747  0.4655  0.27009]\n",
      "-----\n",
      "f*(ag+bh) = a(f*g)+b(f*h):\n",
      "[ 5.      10.22477 15.52233 20.74225 15.70827 10.46446  5.17581] \n",
      " [ 5.      10.22477 15.52233 20.74225 15.70827 10.46446  5.17581]\n",
      "----\n"
     ]
    }
   ],
   "source": [
    "#checking some properties:\n",
    "\n",
    "print(\"f*g = g*f:\")\n",
    "fg_con = scipy.signal.convolve(func_f(t),func_g(t))\n",
    "gf_con = scipy.signal.convolve(func_g(t),func_f(t))\n",
    "print(fg_con,\"\\n\",gf_con)\n",
    "print(\"-----\")\n",
    "a,b = 3,5\n",
    "print(\"f*(ag+bh) = a(f*g)+b(f*h):\")\n",
    "f_all_con = scipy.signal.convolve(func_f(t),a*func_g(t)+b*func_h(t))\n",
    "f_g_con = a*scipy.signal.convolve(func_f(t),func_g(t)) \n",
    "f_h_con = b*scipy.signal.convolve(func_f(t),func_h(t))\n",
    "print(f_all_con,\"\\n\",f_g_con + f_h_con)\n",
    "print(\"----\")\n",
    "#I dont know how to do shift and scaling\n"
   ]
  },
  {
   "cell_type": "markdown",
   "metadata": {},
   "source": [
    "# ${\\color{pink}{Bonus}}$"
   ]
  },
  {
   "cell_type": "markdown",
   "metadata": {},
   "source": [
    "~I didn't want to delete after writing...~"
   ]
  },
  {
   "cell_type": "markdown",
   "metadata": {},
   "source": [
    "$$ \\textcolor{purple}{\\mathcal{F}^{-1}(f)(t) = \\mathcal{F}(f)(-t)}$$"
   ]
  },
  {
   "cell_type": "markdown",
   "metadata": {},
   "source": [
    "\n",
    "$$\n",
    "\\textcolor{yellow}{\\mathcal{F}^{-1}(f \\star g) =   \\int_{-\\infty}^{\\infty}\\ \\mathcal{F}(f \\star g)(u) \\cdot e^{+2\\pi iut} dt = \\int_{-\\infty}^{\\infty}\\ [ \\mathcal{F}(f) \\cdot \\mathcal{F}(g)] e^{+2\\pi iut} dt}\n",
    "$$\n",
    "\n",
    "$$\n",
    "\\textcolor{cyan}{= \\int_{-\\infty}^{\\infty}\\ [ \\int_{-\\infty}^{\\infty}\\ f(s) \\cdot g(t-s) ds ] e^{+2\\pi iut} dt = \n",
    "\\int_{-\\infty}^{\\infty}\\ f(s) [\\int_{-\\infty}^{\\infty}\\ g(t-s)  e^{+2\\pi iut}dt ] ds}\n",
    "$$\n",
    "\n",
    "$$\n",
    "\\textcolor{lime}{|||\\tilde{t} = t-s ||| t = \\tilde{t}+s ||| d\\tilde{t} = dt|||}\n",
    "$$\n",
    "\n",
    "$$\n",
    "\\textcolor{lavender}{= \\int_{-\\infty}^{\\infty}\\ f(s) [\\int_{-\\infty}^{\\infty}\\ g(\\tilde{t}) \\cdot e^{+2\\pi iu(\\tilde{t}+s)} d\\tilde{t} ] ds =\n",
    "\\int_{-\\infty}^{\\infty}\\ f(s) \\cdot e^{+2\\pi ius} \\int_{-\\infty}^{\\infty}\\ g(\\tilde{t}) \\cdot e^{+2\\pi iu\\tilde{t}} d\\tilde{t} ] ds = \n",
    "\\int_{-\\infty}^{\\infty}\\ f(s) \\cdot e^{+2\\pi ius} ds \\cdot \\mathcal{F}^{-1}(g) = \\mathcal{F}^{-1}(f) \\cdot \\mathcal{F}^{-1}(g).}\n",
    "$$\n"
   ]
  }
 ],
 "metadata": {
  "colab": {
   "provenance": []
  },
  "kernelspec": {
   "display_name": "Python 3",
   "name": "python3"
  },
  "language_info": {
   "codemirror_mode": {
    "name": "ipython",
    "version": 3
   },
   "file_extension": ".py",
   "mimetype": "text/x-python",
   "name": "python",
   "nbconvert_exporter": "python",
   "pygments_lexer": "ipython3",
   "version": "3.12.0"
  }
 },
 "nbformat": 4,
 "nbformat_minor": 0
}
