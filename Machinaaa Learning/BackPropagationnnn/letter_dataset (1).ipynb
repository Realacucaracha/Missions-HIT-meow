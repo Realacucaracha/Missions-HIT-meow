{
 "cells": [
  {
   "cell_type": "code",
   "execution_count": 4,
   "metadata": {
    "_cell_guid": "b1076dfc-b9ad-4769-8c92-a6c4dae69d19",
    "_uuid": "8f2839f25d086af736a60e9eeb907d3b93b6e0e5",
    "execution": {
     "iopub.execute_input": "2020-11-24T15:33:44.617819Z",
     "iopub.status.busy": "2020-11-24T15:33:44.616734Z",
     "iopub.status.idle": "2020-11-24T15:33:48.545917Z",
     "shell.execute_reply": "2020-11-24T15:33:48.545192Z"
    },
    "papermill": {
     "duration": 3.947576,
     "end_time": "2020-11-24T15:33:48.546057",
     "exception": false,
     "start_time": "2020-11-24T15:33:44.598481",
     "status": "completed"
    },
    "tags": []
   },
   "outputs": [],
   "source": [
    "import numpy as np\n",
    "# import cupy as np  # run if you have an nvidia gpu\n",
    "\n",
    "import pandas as pd\n",
    "from matplotlib import pyplot as plt"
   ]
  },
  {
   "cell_type": "code",
   "execution_count": 5,
   "metadata": {},
   "outputs": [],
   "source": [
    "# define our training parameters\n",
    "WIDTH = 28\n",
    "HEIGHT = 28\n",
    "HIDDEN_LAYER_NEURONS = 150\n",
    "OUTPUT_LAYER_NEURONS = 26\n",
    "ITERATIONS = 5000"
   ]
  },
  {
   "cell_type": "code",
   "execution_count": 6,
   "metadata": {},
   "outputs": [],
   "source": [
    "train_data = pd.read_csv('./data/emnist_fixed/uppercase_emnist_letters_train.csv')\n",
    "test_data = pd.read_csv('./data/emnist_fixed/uppercase_emnist_letters_test.csv')"
   ]
  },
  {
   "cell_type": "code",
   "execution_count": 7,
   "metadata": {
    "execution": {
     "iopub.execute_input": "2020-11-24T15:33:48.577955Z",
     "iopub.status.busy": "2020-11-24T15:33:48.576778Z",
     "iopub.status.idle": "2020-11-24T15:33:49.353469Z",
     "shell.execute_reply": "2020-11-24T15:33:49.352724Z"
    },
    "papermill": {
     "duration": 0.795759,
     "end_time": "2020-11-24T15:33:49.353603",
     "exception": false,
     "start_time": "2020-11-24T15:33:48.557844",
     "status": "completed"
    },
    "tags": []
   },
   "outputs": [],
   "source": [
    "data_test = np.array(test_data).T\n",
    "Y_test = data_test[0]\n",
    "X_test = data_test[1:]\n",
    "X_test = X_test / 255.\n",
    "\n",
    "train_data = np.array(train_data)\n",
    "np.random.shuffle(train_data)  # shuffle before splitting into dev and training sets\n",
    "data_train = train_data.T\n",
    "Y_train = data_train[0]\n",
    "X_train = data_train[1:]\n",
    "X_train = X_train / 255.\n",
    "_, m_train = X_train.shape"
   ]
  },
  {
   "cell_type": "code",
   "execution_count": 8,
   "metadata": {},
   "outputs": [],
   "source": [
    "def sigmoid(x):\n",
    "    return 1 / (1 + np.exp(-x))\n",
    "\n",
    "\n",
    "def sigmoid_deriv(x):\n",
    "    return sigmoid(x)*(1-sigmoid(x))"
   ]
  },
  {
   "cell_type": "code",
   "execution_count": 9,
   "metadata": {
    "execution": {
     "iopub.execute_input": "2020-11-24T15:33:49.458553Z",
     "iopub.status.busy": "2020-11-24T15:33:49.457534Z",
     "iopub.status.idle": "2020-11-24T15:33:49.460243Z",
     "shell.execute_reply": "2020-11-24T15:33:49.460754Z"
    },
    "papermill": {
     "duration": 0.035762,
     "end_time": "2020-11-24T15:33:49.460906",
     "exception": false,
     "start_time": "2020-11-24T15:33:49.425144",
     "status": "completed"
    },
    "tags": []
   },
   "outputs": [],
   "source": [
    "def init_params():\n",
    "    \"\"\"\n",
    "    initialize the weights randomly between -0.5 and 0.5,\n",
    "    if they are initialized with too high of a value we may cause the error to stagnate.\n",
    "    \"\"\"\n",
    "    W1 = np.random.rand(HIDDEN_LAYER_NEURONS, WIDTH * HEIGHT) - 0.5\n",
    "    b1 = np.random.rand(HIDDEN_LAYER_NEURONS, 1) - 0.5\n",
    "    W2 = np.random.rand(OUTPUT_LAYER_NEURONS, HIDDEN_LAYER_NEURONS) - 0.5\n",
    "    b2 = np.random.rand(OUTPUT_LAYER_NEURONS, 1) - 0.5\n",
    "    return W1, b1, W2, b2\n",
    "\n",
    "\n",
    "def forward_prop(W1, b1, W2, b2, X):\n",
    "    \"\"\"\n",
    "    calculate the Zi and Ai for each layer respectively from the weights and biases\n",
    "    \"\"\"\n",
    "    \n",
    "    Z1 = W1@X + b1\n",
    "    A1 = sigmoid(Z1)\n",
    "    Z2 = W2@A1 + b2\n",
    "    A2 = sigmoid(Z2)\n",
    "    return Z1, A1, Z2, A2\n",
    "\n",
    "\n",
    "def one_hot(Y: np.ndarray):\n",
    "    \"\"\"\n",
    "    convert the correct Y to an array of indices (as shown in the slideshow)\n",
    "    \"\"\"\n",
    "    \n",
    "    one_hot_Y = np.zeros((Y.size, int(Y.max() + 1)))\n",
    "    one_hot_Y[np.arange(Y.size), Y] = 1\n",
    "    one_hot_Y = one_hot_Y.T\n",
    "    return one_hot_Y\n",
    "\n",
    "\n",
    "def backward_prop(Z1, A1, A2, W2, X, Y):\n",
    "    \"\"\"\n",
    "    calculate the respective derivatives of the variables, as shown in the slideshow\n",
    "    \"\"\"\n",
    "    one_hot_Y = one_hot(Y)\n",
    "    dZ2 = A2 - one_hot_Y\n",
    "    \n",
    "    n = Y.shape[0]  \n",
    "    dW2 = 1 / n * dZ2@A1.T\n",
    "    db2 = 1 / n * dZ2.sum()\n",
    "    dZ1 = W2.T@dZ2 * sigmoid_deriv(Z1)\n",
    "    dW1 = 1 / n * dZ1@X.T\n",
    "    db1 = 1 / n * dZ1.sum()\n",
    "    return dW1, db1, dW2, db2\n",
    "\n",
    "\n",
    "def update_params(W1, b1, W2, b2, dW1, db1, dW2, db2, alpha):\n",
    "    W1 = W1 - alpha * dW1\n",
    "    b1 = b1 - alpha * db1\n",
    "    W2 = W2 - alpha * dW2\n",
    "    b2 = b2 - alpha * db2\n",
    "    return W1, b1, W2, b2"
   ]
  },
  {
   "cell_type": "code",
   "execution_count": 10,
   "metadata": {},
   "outputs": [],
   "source": [
    "def get_predictions(A2):\n",
    "    return np.argmax(A2, 0)  # get the most \"activated\" neuron (the neuron with the greatest value)\n",
    "\n",
    "\n",
    "def get_accuracy(predictions, Y):\n",
    "    return np.sum(predictions == Y) / Y.size  # average of how many predictions were correct"
   ]
  },
  {
   "cell_type": "code",
   "execution_count": 11,
   "metadata": {},
   "outputs": [],
   "source": [
    "# Save the neural network's weights and biases to a file\n",
    "def dump_neurons(file_path, W1, b1, W2, b2):\n",
    "    np.savez(file_path, W1=W1, b1=b1, W2=W2, b2=b2)\n",
    "    print(f\"Weights and biases saved to {file_path}\")\n",
    "\n",
    "# Load the neural network's weights and biases from a file\n",
    "def load_neurons(file_path):\n",
    "    data = np.load(file_path)\n",
    "    print(f\"Weights and biases loaded from {file_path}\")\n",
    "    if hasattr(data, \"npz_file\"):  # running in cupy\n",
    "        return (data[key] for key in data.npz_file)\n",
    "    \n",
    "    return data.values()  # works only in numpy"
   ]
  },
  {
   "cell_type": "code",
   "execution_count": 12,
   "metadata": {
    "execution": {
     "iopub.execute_input": "2020-11-24T15:33:49.496820Z",
     "iopub.status.busy": "2020-11-24T15:33:49.493109Z",
     "iopub.status.idle": "2020-11-24T15:33:49.499268Z",
     "shell.execute_reply": "2020-11-24T15:33:49.499782Z"
    },
    "papermill": {
     "duration": 0.026744,
     "end_time": "2020-11-24T15:33:49.499906",
     "exception": false,
     "start_time": "2020-11-24T15:33:49.473162",
     "status": "completed"
    },
    "tags": []
   },
   "outputs": [],
   "source": [
    "def gradient_descent(X, Y, alpha, iterations, save=\"\", load_from_save=\"\"):\n",
    "    W1, b1, W2, b2 = init_params()\n",
    "    if load_from_save:  # load neurons from file to continue training\n",
    "        W1, b1, W2, b2 = load_neurons(load_from_save)\n",
    "\n",
    "    for i in range(iterations):\n",
    "        Z1, A1, Z2, A2 = forward_prop(W1, b1, W2, b2, X)\n",
    "        dW1, db1, dW2, db2 = backward_prop(Z1, A1, A2, W2, X, Y)\n",
    "        W1, b1, W2, b2 = update_params(W1, b1, W2, b2, dW1, db1, dW2, db2, alpha)\n",
    "        \n",
    "        if i % 200 == 0:  # print every 200 iterations\n",
    "            print(\"Iteration: \", i, \"Confidence:\", get_accuracy(get_predictions(A2), Y))\n",
    "\n",
    "    if save:\n",
    "        dump_neurons(save, W1, b1, W2, b2)\n",
    "\n",
    "    predictions = get_predictions(A2)\n",
    "    print(get_accuracy(predictions, Y))\n",
    "    return W1, b1, W2, b2"
   ]
  },
  {
   "cell_type": "code",
   "execution_count": 13,
   "metadata": {
    "execution": {
     "iopub.execute_input": "2020-11-24T15:33:49.529813Z",
     "iopub.status.busy": "2020-11-24T15:33:49.529067Z",
     "iopub.status.idle": "2020-11-24T15:34:33.915250Z",
     "shell.execute_reply": "2020-11-24T15:34:33.914598Z"
    },
    "papermill": {
     "duration": 44.403186,
     "end_time": "2020-11-24T15:34:33.915380",
     "exception": false,
     "start_time": "2020-11-24T15:33:49.512194",
     "status": "completed"
    },
    "tags": []
   },
   "outputs": [],
   "source": [
    "# W1, b1, W2, b2 = gradient_descent(X_train, Y_train, 0.10, ITERATIONS, \"dump/train_neurons_w_b_5000_iter_150.npz\")"
   ]
  },
  {
   "cell_type": "markdown",
   "metadata": {},
   "source": [
    "Iteration:  0, &nbsp;  Confidence: 0.027596596099296464 \\\n",
    "Iteration:  200, &nbsp;  Confidence: 0.5022836904437571 \\\n",
    "Iteration:  400, &nbsp;  Confidence: 0.6164521867337618 \\\n",
    "Iteration:  600, &nbsp;  Confidence: 0.6617894517540345 \\\n",
    "Iteration:  800, &nbsp;  Confidence: 0.6882001314123624 \\\n",
    "Iteration:  1000, &nbsp;  Confidence: 0.7077036490969406 \\\n",
    "Iteration:  1200, &nbsp;  Confidence: 0.721710283818651 \\\n",
    "Iteration:  1400, &nbsp;  Confidence: 0.7333611115562749 \\\n",
    "Iteration:  1600, &nbsp;  Confidence: 0.7428163912883219 \\\n",
    "Iteration:  1800, &nbsp;  Confidence: 0.7507812625202327 \\\n",
    "Iteration:  2000, &nbsp;  Confidence: 0.7577845798810878 \\\n",
    "Iteration:  2200, &nbsp;  Confidence: 0.7640507059408004 \\\n",
    "Iteration:  2400, &nbsp;  Confidence: 0.7701405471241526 \\\n",
    "Iteration:  2600, &nbsp;  Confidence: 0.7754931970063623 \\\n",
    "Iteration:  2800, &nbsp;  Confidence: 0.7804451994422987 \\\n",
    "Iteration:  3000, &nbsp;  Confidence: 0.7848683472491547 \\\n",
    "Iteration:  3200, &nbsp;  Confidence: 0.7888427699161845 \\\n",
    "Iteration:  3400, &nbsp;  Confidence: 0.7926889854004071 \\\n",
    "Iteration:  3600, &nbsp;  Confidence: 0.7961826311319091 \\\n",
    "Iteration:  3800, &nbsp;  Confidence: 0.7994839660892001 \\\n",
    "Iteration:  4000, &nbsp;  Confidence: 0.8027853010464912 \\\n",
    "Iteration:  4200, &nbsp;  Confidence: 0.8059103511274219 \\\n",
    "Iteration:  4400, &nbsp;  Confidence: 0.8090514271062036 \\\n",
    "Iteration:  4600, &nbsp;  Confidence: 0.8118078815365631 \\\n",
    "Iteration:  4800, &nbsp;  Confidence: 0.8141476626227985 \\\n",
    "Weights and biases saved to dump/train_neurons_w_b_5000_iter_150.npz \\\n",
    "0.8167438580746487"
   ]
  },
  {
   "cell_type": "markdown",
   "metadata": {},
   "source": [
    "Lets test the runtime speed for 1000 iterations:\\\n",
    "\\\n",
    "$\\begin{array}{|c|c|c|}\n",
    "\\hline\n",
    "\\text{Number of Neurons} & \\text{Error} & \\text{Runtime} \\\\\n",
    "\\hline\n",
    "26  & 0.6000  & 13.2\\text{s} \\\\\n",
    "52  & 0.6472  & 24.8\\text{s} \\\\\n",
    "100 & 0.6875  & 1\\text{m}1.8\\text{s} \\\\\n",
    "150 & 0.7106 & 1\\text{m}20\\text{s} \\\\\n",
    "200 & 0.7225  & 1\\text{m}34.5\\text{s} \\\\\n",
    "485 & 0.7571  & 3\\text{m}34.9\\text{s} \\\\\n",
    "\\hline\n",
    "\\end{array}$\n",
    "\\\n",
    "\\\n",
    "total training time for 5000 iterations with 150 neurons in the hidden layer was 8m25.4s"
   ]
  },
  {
   "cell_type": "code",
   "execution_count": 14,
   "metadata": {},
   "outputs": [
    {
     "name": "stdout",
     "output_type": "stream",
     "text": [
      "Weights and biases loaded from dump/train_neurons_w_b_5000_iter_150.npz\n"
     ]
    }
   ],
   "source": [
    "W1, b1, W2, b2 = load_neurons(\"dump/train_neurons_w_b_5000_iter_150.npz\")"
   ]
  },
  {
   "cell_type": "code",
   "execution_count": 15,
   "metadata": {
    "execution": {
     "iopub.execute_input": "2020-11-24T15:34:34.058947Z",
     "iopub.status.busy": "2020-11-24T15:34:34.058192Z",
     "iopub.status.idle": "2020-11-24T15:34:34.061542Z",
     "shell.execute_reply": "2020-11-24T15:34:34.060921Z"
    },
    "papermill": {
     "duration": 0.048197,
     "end_time": "2020-11-24T15:34:34.061656",
     "exception": false,
     "start_time": "2020-11-24T15:34:34.013459",
     "status": "completed"
    },
    "tags": []
   },
   "outputs": [],
   "source": [
    "def make_predictions(X, W1, b1, W2, b2):\n",
    "    _, _, _, A2 = forward_prop(W1, b1, W2, b2, X)\n",
    "    predictions = get_predictions(A2)\n",
    "    return predictions\n",
    "\n",
    "\n",
    "def test_prediction(X, Y, index, W1, b1, W2, b2):\n",
    "    current_image = X[:, index, None]\n",
    "    prediction = make_predictions(X[:, index, None], W1, b1, W2, b2)\n",
    "    label = Y[index]\n",
    "    print(\"Prediction:\", chr((prediction[0] + 65).item()))\n",
    "    print(\"Label:\", chr((label + 65).item()))\n",
    "\n",
    "    current_image = current_image.reshape((WIDTH, HEIGHT)) * 255\n",
    "    plt.gray()\n",
    "    if hasattr(np, \"asnumpy\"):  # running in cupy\n",
    "        plt.imshow(np.fliplr(np.rot90(np.asnumpy(current_image),axes=(1,0))) , interpolation='nearest')\n",
    "    else:  # running in numpy\n",
    "        plt.imshow(np.fliplr(np.rot90(current_image,axes=(1,0))) , interpolation='nearest')\n",
    "    plt.show()\n"
   ]
  },
  {
   "cell_type": "markdown",
   "metadata": {
    "papermill": {
     "duration": 0.032382,
     "end_time": "2020-11-24T15:34:34.126664",
     "exception": false,
     "start_time": "2020-11-24T15:34:34.094282",
     "status": "completed"
    },
    "tags": []
   },
   "source": [
    "Let's look at a couple of examples:"
   ]
  },
  {
   "cell_type": "code",
   "execution_count": 16,
   "metadata": {
    "execution": {
     "iopub.execute_input": "2020-11-24T15:34:34.198764Z",
     "iopub.status.busy": "2020-11-24T15:34:34.197926Z",
     "iopub.status.idle": "2020-11-24T15:34:34.858256Z",
     "shell.execute_reply": "2020-11-24T15:34:34.857536Z"
    },
    "papermill": {
     "duration": 0.699008,
     "end_time": "2020-11-24T15:34:34.858375",
     "exception": false,
     "start_time": "2020-11-24T15:34:34.159367",
     "status": "completed"
    },
    "tags": []
   },
   "outputs": [
    {
     "name": "stdout",
     "output_type": "stream",
     "text": [
      "Prediction: E\n",
      "Label: E\n"
     ]
    },
    {
     "data": {
      "image/png": "[encoded data removed]",
      "text/plain": [
       "<Figure size 640x480 with 1 Axes>"
      ]
     },
     "metadata": {},
     "output_type": "display_data"
    },
    {
     "name": "stdout",
     "output_type": "stream",
     "text": [
      "Prediction: C\n",
      "Label: C\n"
     ]
    },
    {
     "data": {
      "image/png": "[encoded data removed]",
      "text/plain": [
       "<Figure size 640x480 with 1 Axes>"
      ]
     },
     "metadata": {},
     "output_type": "display_data"
    },
    {
     "name": "stdout",
     "output_type": "stream",
     "text": [
      "Prediction: Z\n",
      "Label: Z\n"
     ]
    },
    {
     "data": {
      "image/png": "[encoded data removed]",
      "text/plain": [
       "<Figure size 640x480 with 1 Axes>"
      ]
     },
     "metadata": {},
     "output_type": "display_data"
    },
    {
     "name": "stdout",
     "output_type": "stream",
     "text": [
      "Prediction: X\n",
      "Label: X\n"
     ]
    },
    {
     "data": {
      "image/png": "[encoded data removed]",
      "text/plain": [
       "<Figure size 640x480 with 1 Axes>"
      ]
     },
     "metadata": {},
     "output_type": "display_data"
    }
   ],
   "source": [
    "\n",
    "test_prediction(X_test, Y_test, 1, W1, b1, W2, b2)\n",
    "test_prediction(X_test, Y_test, 3, W1, b1, W2, b2)\n",
    "test_prediction(X_test, Y_test, 10, W1, b1, W2, b2)\n",
    "test_prediction(X_test, Y_test, 11, W1, b1, W2, b2)"
   ]
  },
  {
   "cell_type": "markdown",
   "metadata": {},
   "source": [
    "But the nn doesnt get everything right all the time, shapes that are similar may confuse it, for example this G that's close to an O"
   ]
  },
  {
   "cell_type": "code",
   "execution_count": 17,
   "metadata": {},
   "outputs": [
    {
     "name": "stdout",
     "output_type": "stream",
     "text": [
      "Prediction: O\n",
      "Label: G\n"
     ]
    },
    {
     "data": {
      "image/png": "[encoded data removed]",
      "text/plain": [
       "<Figure size 640x480 with 1 Axes>"
      ]
     },
     "metadata": {},
     "output_type": "display_data"
    }
   ],
   "source": [
    "test_prediction(X_test, Y_test, 6, W1, b1, W2, b2)"
   ]
  },
  {
   "cell_type": "markdown",
   "metadata": {
    "papermill": {
     "duration": 0.037333,
     "end_time": "2020-11-24T15:34:34.933186",
     "exception": false,
     "start_time": "2020-11-24T15:34:34.895853",
     "status": "completed"
    },
    "tags": []
   },
   "source": [
    "Finally, let's find the accuracy on the testing set:"
   ]
  },
  {
   "cell_type": "code",
   "execution_count": 18,
   "metadata": {
    "execution": {
     "iopub.execute_input": "2020-11-24T15:34:35.013161Z",
     "iopub.status.busy": "2020-11-24T15:34:35.012371Z",
     "iopub.status.idle": "2020-11-24T15:34:35.033284Z",
     "shell.execute_reply": "2020-11-24T15:34:35.032394Z"
    },
    "papermill": {
     "duration": 0.062985,
     "end_time": "2020-11-24T15:34:35.033457",
     "exception": false,
     "start_time": "2020-11-24T15:34:34.970472",
     "status": "completed"
    },
    "tags": []
   },
   "outputs": [
    {
     "name": "stdout",
     "output_type": "stream",
     "text": [
      "final training dataset prediction accuracy: 81.67%\n",
      "final testing dataset prediction accuracy: 80.07%\n"
     ]
    }
   ],
   "source": [
    "train_predictions = make_predictions(X_train, W1, b1, W2, b2)\n",
    "print(f\"final training dataset prediction accuracy: {np.round(get_accuracy(train_predictions, Y_train) * 100, 2)}%\")\n",
    "test_predictions = make_predictions(X_test, W1, b1, W2, b2)\n",
    "print(f\"final testing dataset prediction accuracy: {np.round(get_accuracy(test_predictions, Y_test) * 100, 2)}%\")"
   ]
  },
  {
   "cell_type": "code",
   "execution_count": 19,
   "metadata": {},
   "outputs": [],
   "source": [
    "hand_drawn_data = pd.read_csv('./hand_drawn/output.csv')\n",
    "hand_drawn_data = np.array(hand_drawn_data).T\n",
    "Y_hand_drawn = hand_drawn_data[0]\n",
    "X_hand_drawn = hand_drawn_data[1:]\n",
    "X_hand_drawn = X_hand_drawn / 255."
   ]
  },
  {
   "cell_type": "code",
   "execution_count": 20,
   "metadata": {},
   "outputs": [
    {
     "name": "stdout",
     "output_type": "stream",
     "text": [
      "Prediction: Q\n",
      "Label: Q\n"
     ]
    },
    {
     "data": {
      "image/png": "[encoded data removed]",
      "text/plain": [
       "<Figure size 640x480 with 1 Axes>"
      ]
     },
     "metadata": {},
     "output_type": "display_data"
    }
   ],
   "source": [
    "test_prediction(X_hand_drawn, Y_hand_drawn, 1, W1, b1, W2, b2)"
   ]
  },
  {
   "cell_type": "code",
   "execution_count": 25,
   "metadata": {},
   "outputs": [
    {
     "name": "stdout",
     "output_type": "stream",
     "text": [
      "Prediction: W\n",
      "Label: 0\n"
     ]
    },
    {
     "data": {
      "image/png": "[encoded data removed]",
      "text/plain": [
       "<Figure size 640x480 with 1 Axes>"
      ]
     },
     "metadata": {},
     "output_type": "display_data"
    },
    {
     "name": "stdout",
     "output_type": "stream",
     "text": [
      "Prediction: Q\n",
      "Label: Q\n"
     ]
    },
    {
     "data": {
      "image/png": "[encoded data removed]",
      "text/plain": [
       "<Figure size 640x480 with 1 Axes>"
      ]
     },
     "metadata": {},
     "output_type": "display_data"
    }
   ],
   "source": [
    "test_prediction(X_hand_drawn, Y_hand_drawn, 0, W1, b1, W2, b2)\n",
    "test_prediction(X_hand_drawn, Y_hand_drawn, 1, W1, b1, W2, b2)"
   ]
  },
  {
   "cell_type": "markdown",
   "metadata": {},
   "source": [
    "credit to [wwsalmon's code on kagggle](https://www.kaggle.com/code/wwsalmon/simple-mnist-nn-from-scratch-numpy-no-tf-keras), who'se version we have used as basis for our neural network \\\n",
    "and the [Extended MNIST](https://www.kaggle.com/datasets/crawford/emnist) dataset"
   ]
  }
 ],
 "metadata": {
  "kernelspec": {
   "display_name": "Python 3",
   "language": "python",
   "name": "python3"
  },
  "language_info": {
   "codemirror_mode": {
    "name": "ipython",
    "version": 3
   },
   "file_extension": ".py",
   "mimetype": "text/x-python",
   "name": "python",
   "nbconvert_exporter": "python",
   "pygments_lexer": "ipython3",
   "version": "3.12.1"
  },
  "papermill": {
   "duration": 55.320944,
   "end_time": "2020-11-24T15:34:35.258832",
   "environment_variables": {},
   "exception": null,
   "input_path": "__notebook__.ipynb",
   "output_path": "__notebook__.ipynb",
   "parameters": {},
   "start_time": "2020-11-24T15:33:39.937888",
   "version": "2.1.0"
  }
 },
 "nbformat": 4,
 "nbformat_minor": 4
}
