{
 "cells": [
  {
   "cell_type": "markdown",
   "metadata": {},
   "source": [
    "# project in algorithems and optimization\n",
    "\n",
    "## ${\\mathbb{Names:}}$\n",
    "1- Yuval Kaver, id: 329511125\n",
    "\n",
    "2- Matan Ginzburg, id: 215717067\n",
    "\n",
    "## note that we removed some of the graphs since the file was too big to upload to moodle. press run all to see all the graphs"
   ]
  },
  {
   "cell_type": "markdown",
   "metadata": {},
   "source": [
    "## THE MISHRA’S BIRD FUNCTION WITH CONSTRAINTS"
   ]
  },
  {
   "cell_type": "code",
   "execution_count": 2,
   "metadata": {},
   "outputs": [],
   "source": [
    "import plotly as pl\n",
    "import scipy as sp\n",
    "import plotly.graph_objects as go\n",
    "import numpy as np\n",
    "import plotly.express as px\n",
    "from scipy.optimize import minimize"
   ]
  },
  {
   "cell_type": "markdown",
   "metadata": {},
   "source": [
    "$f1(x,y) = sin(y)e^{(1-cos(x))^2}+cos(x)e^{(1-sin(y))^2}+(x-y)^2$ <br>\n",
    "$h1(x,y) = (x+5)^2+(y+5)^2 - 25 < 0$ <br>\n",
    "$h2(x) = -10 \\leq x \\leq 0 $ <br>\n",
    "$h3(y) = -6.5 \\leq y \\leq 0 $ <br>"
   ]
  },
  {
   "cell_type": "markdown",
   "metadata": {},
   "source": [
    "we shall normalize the constraints: <br>\n",
    "$f1(x,y) = sin(y)e^{(1-cos(x))^2}+cos(x)e^{(1-sin(y))^2}+(x-y)^2$ <br>\n",
    "$h1(x,y) = (x+5)^2+(y+5)^2 - 25 < 0$ <br>\n",
    "$h2(x) = x \\leq 0$ <br>\n",
    "$h3(x) = -x -10 \\leq 0$ <br>\n",
    "$h4(y) = y \\leq 0 $ <br>\n",
    "$h5(y) = -y -6.5 \\leq 0 $ <br>"
   ]
  },
  {
   "cell_type": "markdown",
   "metadata": {},
   "source": [
    "$D: -10=<x=<0, -7=<y=<0$"
   ]
  },
  {
   "cell_type": "code",
   "execution_count": 3,
   "metadata": {},
   "outputs": [],
   "source": [
    "def f(x,y):\n",
    "    return (np.sin(y)*np.exp((1-np.cos(x))**2)+np.cos(x)*np.exp((1-np.sin(y))**2)+(x-y)**2)\n",
    "\n",
    "def h1(args):\n",
    "    x = args[0]\n",
    "    y = args[1]\n",
    "    return -((x+5)**2 + (y+5)**2 - 25)\n",
    "def h2(args):\n",
    "    return -args[0]\n",
    "def h3(args):\n",
    "    return -(-args[0]-10)\n",
    "def h4(args):\n",
    "    return -args[1]\n",
    "def h5(args):\n",
    "    return -(-args[1]-7)"
   ]
  },
  {
   "cell_type": "code",
   "execution_count": null,
   "metadata": {},
   "outputs": [],
   "source": [
    "def graph_3D_func():\n",
    "    x = np.linspace(-10,0,400)\n",
    "    y = np.linspace(-7,0,400)\n",
    "    x, y = np.meshgrid(x, y)\n",
    "    z = f(x,y)\n",
    "    fig = go.Figure(data=[go.Surface(z=z, x=x, y=y)])\n",
    "    fig.update_layout(title='THE MISHRA’S BIRD FUNCTION', autosize=True,width=700, height=500,margin=dict(l=65, r=50, b=65, t=90))\n",
    "    fig.show()\n",
    "graph_3D_func()"
   ]
  },
  {
   "cell_type": "code",
   "execution_count": null,
   "metadata": {},
   "outputs": [],
   "source": [
    "def plot_func_as_2D_matrix():\n",
    "    x = np.linspace(-10,0,400)\n",
    "    y = np.linspace(-7,0,400)\n",
    "    x, y = np.meshgrid(x, y)\n",
    "    z = f(x,y)\n",
    "    fig = px.imshow(z,x=x,y=x/(10/7),width=800,height=800)\n",
    "    fig.show()\n",
    "plot_func_as_2D_matrix()"
   ]
  },
  {
   "cell_type": "markdown",
   "metadata": {},
   "source": [
    "$\\nabla f = \\begin{bmatrix}\\left(\\sin \\left(y\\right)e^{\\left(1-\\cos \\left(x\\right)\\right)^2}\\cdot \\:2\\left(1-\\cos \\left(x\\right)\\right)\\sin \\left(x\\right)-e^{\\left(1-\\sin \\left(y\\right)\\right)^2}\\sin \\left(x\\right)+2\\left(x-y\\right)\\right)\\\\ \\left(e^{\\left(1-\\cos \\left(x\\right)\\right)^2}\\cos \\left(y\\right)-2e^{\\left(1-\\sin \\left(y\\right)\\right)^2}\\cos \\left(x\\right)\\cos \\left(y\\right)\\left(1-\\sin \\left(y\\right)\\right)-2\\left(x-y\\right)\\right)\\end{bmatrix}$"
   ]
  },
  {
   "cell_type": "code",
   "execution_count": 6,
   "metadata": {},
   "outputs": [],
   "source": [
    "def gradf(args):\n",
    "    x = args[0]\n",
    "    y = args[1]\n",
    "    return [np.sin(y) * np.exp((1-np.cos(x))**2) * 2*(1-np.cos(x)) * np.sin(x) - np.exp((1-np.sin(y))**2) * np.sin(x) + 2*(x-y),\n",
    "            np.exp((1-np.cos(x))**2) * np.cos(y) - 2* np.exp((1-np.sin(y))**2) * np.cos(x) * np.cos(y) * (1-np.sin(y)) - 2*(x-y)]\n"
   ]
  },
  {
   "cell_type": "markdown",
   "metadata": {},
   "source": [
    "### we wrote the jacobian as a colunm vector so it will fit on the screen\n",
    "### notice that we orginized the jacobian as follows: \n",
    "$\\begin{pmatrix}\n",
    "           f_{xx} \\\\\n",
    "           f_{yx} \\\\\n",
    "           f_{xy} \\\\\n",
    "           f_{yy}\n",
    "         \\end{pmatrix}\n",
    "$\n",
    "\n",
    "$D^2 (f) = \n",
    "\\left(\\begin{array}{cc} 2\\,{\\mathrm{e}}^{{\\left(\\cos\\left(x\\right)-1\\right)}^2}\\,{\\sin\\left(x\\right)}^2\\,\\sin\\left(y\\right)-{\\mathrm{e}}^{{\\left(\\sin\\left(y\\right)-1\\right)}^2}\\,\\cos\\left(x\\right)+4\\,{\\mathrm{e}}^{{\\left(\\cos\\left(x\\right)-1\\right)}^2}\\,{\\sin\\left(x\\right)}^2\\,\\sin\\left(y\\right)\\,{\\left(\\cos\\left(x\\right)-1\\right)}^2-2\\,{\\mathrm{e}}^{{\\left(\\cos\\left(x\\right)-1\\right)}^2}\\,\\cos\\left(x\\right)\\,\\sin\\left(y\\right)\\,\\left(\\cos\\left(x\\right)-1\\right)+2 \\\\ -2\\,{\\mathrm{e}}^{{\\left(\\cos\\left(x\\right)-1\\right)}^2}\\,\\cos\\left(y\\right)\\,\\sin\\left(x\\right)\\,\\left(\\cos\\left(x\\right)-1\\right)-2\\,{\\mathrm{e}}^{{\\left(\\sin\\left(y\\right)-1\\right)}^2}\\,\\cos\\left(y\\right)\\,\\sin\\left(x\\right)\\,\\left(\\sin\\left(y\\right)-1\\right)-2\\\\ -2\\,{\\mathrm{e}}^{{\\left(\\cos\\left(x\\right)-1\\right)}^2}\\,\\cos\\left(y\\right)\\,\\sin\\left(x\\right)\\,\\left(\\cos\\left(x\\right)-1\\right)-2\\,{\\mathrm{e}}^{{\\left(\\sin\\left(y\\right)-1\\right)}^2}\\,\\cos\\left(y\\right)\\,\\sin\\left(x\\right)\\,\\left(\\sin\\left(y\\right)-1\\right)-2 \\\\ 2\\,{\\mathrm{e}}^{{\\left(\\sin\\left(y\\right)-1\\right)}^2}\\,\\cos\\left(x\\right)\\,{\\cos\\left(y\\right)}^2-{\\mathrm{e}}^{{\\left(\\cos\\left(x\\right)-1\\right)}^2}\\,\\sin\\left(y\\right)+4\\,{\\mathrm{e}}^{{\\left(\\sin\\left(y\\right)-1\\right)}^2}\\,\\cos\\left(x\\right)\\,{\\cos\\left(y\\right)}^2\\,{\\left(\\sin\\left(y\\right)-1\\right)}^2-2\\,{\\mathrm{e}}^{{\\left(\\sin\\left(y\\right)-1\\right)}^2}\\,\\cos\\left(x\\right)\\,\\sin\\left(y\\right)\\,\\left(\\sin\\left(y\\right)-1\\right)+2 \\end{array}\\right)$\n",
    "\n"
   ]
  },
  {
   "cell_type": "code",
   "execution_count": 7,
   "metadata": {},
   "outputs": [],
   "source": [
    "def calc_Jacobian(args):\n",
    "    x = args[0]\n",
    "    y = args[1]\n",
    "    return [[2*np.exp((np.cos(x) - 1)**2)*(np.sin(x)**2)*np.sin(y) - np.exp((np.sin(y) - 1)**2)*np.cos(x) + 4*np.exp((np.cos(x) - 1)**2)*(np.sin(x)**2)*np.sin(y)*(np.cos(x) - 1)**2 - 2*np.exp((np.cos(x) - 1)**2)*np.cos(x)*np.sin(y)*(np.cos(x) - 1) + 2, - 2*np.exp((np.cos(x) - 1)**2)*np.cos(y)*np.sin(x)*(np.cos(x) - 1) - 2*np.exp((np.sin(y) - 1)**2)*np.cos(y)*np.sin(x)*(np.sin(y) - 1) - 2],\n",
    "            [- 2*np.exp((np.cos(x) - 1)**2)*np.cos(y)*np.sin(x)*(np.cos(x) - 1) - 2*np.exp((np.sin(y) - 1)**2)*np.cos(y)*np.sin(x)*(np.sin(y) - 1) - 2, 2*np.exp((np.sin(y) - 1)**2)*np.cos(x)*(np.cos(y)**2) - np.exp((np.cos(x) - 1)**2)*np.sin(y) + 4*np.exp((np.sin(y) - 1)**2)*np.cos(x)*(np.cos(y)**2)*(np.sin(y) - 1)**2 - 2*np.exp((np.sin(y) - 1)**2)*np.cos(x)*np.sin(y)*(np.sin(y) - 1) + 2]]\n"
   ]
  },
  {
   "cell_type": "markdown",
   "metadata": {},
   "source": [
    "### minimizing without constraints from $(0,0)$"
   ]
  },
  {
   "cell_type": "code",
   "execution_count": 8,
   "metadata": {},
   "outputs": [
    {
     "name": "stdout",
     "output_type": "stream",
     "text": [
      "min at: [0.90551872 0.66527763] \n",
      " f(x,y) =  1.4870191265420771\n"
     ]
    }
   ],
   "source": [
    "def f_optimize(args):\n",
    "    return f(*args)\n",
    "\n",
    "def minimize_unconstrait_TNC(x0):\n",
    "    return minimize(f_optimize,x0,method='TNC',jac=gradf)\n",
    "min = minimize_unconstrait_TNC([0,0])\n",
    "print(\"min at:\", min.x,\"\\n f(x,y) = \",min.fun)\n"
   ]
  },
  {
   "cell_type": "markdown",
   "metadata": {},
   "source": [
    "### minimization with constraints from (0,0)"
   ]
  },
  {
   "cell_type": "code",
   "execution_count": 15,
   "metadata": {},
   "outputs": [
    {
     "name": "stdout",
     "output_type": "stream",
     "text": [
      "min at: [-3.1302468  -1.58214218] \n",
      " f(x,y) =  -106.76453674926472\n"
     ]
    }
   ],
   "source": [
    "def minimize_with_constraits(x0):\n",
    "    cons = [{'type':'ineq', 'fun': h1},\n",
    "            {'type':'ineq', 'fun': h2},\n",
    "            {'type':'ineq', 'fun': h3},\n",
    "            {'type':'ineq', 'fun': h4},\n",
    "            {'type':'ineq', 'fun': h5}]\n",
    "    return minimize(f_optimize,x0=x0,method='trust-constr',jac=gradf,constraints=cons,hess=calc_Jacobian)\n",
    "min = minimize_with_constraits([0,0] )\n",
    "print(\"min at:\", min.x,\"\\n f(x,y) = \",min.fun)"
   ]
  },
  {
   "cell_type": "markdown",
   "metadata": {},
   "source": [
    "### finding global minimum with differential evolution"
   ]
  },
  {
   "cell_type": "code",
   "execution_count": 10,
   "metadata": {},
   "outputs": [
    {
     "name": "stdout",
     "output_type": "stream",
     "text": [
      "min at: [-3.1302468  -1.58214219] \n",
      " f(x,y) =  -106.76453674926465\n"
     ]
    }
   ],
   "source": [
    "def find_global_min():\n",
    "    return sp.optimize.differential_evolution(f_optimize,bounds=[(-10,0),(-7,0)])\n",
    "min = find_global_min()\n",
    "print(\"min at:\", min.x,\"\\n f(x,y) = \",min.fun)"
   ]
  },
  {
   "cell_type": "code",
   "execution_count": null,
   "metadata": {},
   "outputs": [],
   "source": [
    "the_point = find_global_min()\n",
    "ze_point = the_point.x\n",
    "print(ze_point[0],ze_point[1]) #x and y at the global min... \n",
    "#in our case there is only one min globally!\n",
    "\n",
    "\n",
    "def ploting_and_drawing():\n",
    "    x = np.linspace(-10,0,400)\n",
    "    y = np.linspace(-7,0,400)\n",
    "    x, y = np.meshgrid(x, y)\n",
    "    z = f(x,y)\n",
    "    fig = px.imshow(z,x=x,y=x/(10/7),width=800,height=800)\n",
    "\n",
    "    x_pracent = ze_point[0]/(-10)\n",
    "    y_pracent = ze_point[1]/(-7)\n",
    "\n",
    "    our_new_x = 400 - 400*x_pracent\n",
    "    our_new_y = 400 - 400*y_pracent\n",
    "\n",
    "    print(\"our new x and y are:\",our_new_x,our_new_y)\n",
    "\n",
    "    fig.add_shape(type='circle',x0=our_new_x+5, x1=our_new_x-5, y0=our_new_y+5, y1=our_new_y-5,xref='x', yref='y',line_color='cyan') #here the point (x=274,y=309) --> color=-106.7622 is the min.....\n",
    "\n",
    "    #quick explenation: since we only have one min globally then we will calculate the point compared to its own domain and now for our new domain (400) and thats our point.\n",
    "\n",
    "    #fig.add_annotation(x=ze_point[0],y=ze_point[1],showarrow=True)\n",
    "    #fig.add_annotation(x=-3.1302467930983124,y=-1.5821421655644274)\n",
    "    #fig.update_layout(dragmode='drawrect',newshape=dict(line_color='cyan'))\n",
    "\n",
    "    fig.show() #\n",
    "    #config={'modeBarButtonsToAdd':['drawline','drawopenpath','drawclosedpath','drawcircle','drawrect','eraseshape']}\n",
    "\n",
    "\n",
    "ploting_and_drawing()"
   ]
  },
  {
   "cell_type": "markdown",
   "metadata": {},
   "source": [
    "## Conjugate Gradient Method"
   ]
  },
  {
   "cell_type": "code",
   "execution_count": 12,
   "metadata": {},
   "outputs": [],
   "source": [
    "def f_quadratic(x,y,z):\n",
    "    return  ( x**2 + 2*x*y + 2*x*z + 2*(y**2) + 6*y*z + 6*(z**2) - x + y - 3*z + 1 )  \n",
    "def grad(x,y,z):\n",
    "    return np.array([\n",
    "        2*x + 2*y + 2*z -1,\n",
    "        2*x + 4*y + 6*z +1,\n",
    "        2*x + 6*y + 12*z -3\n",
    "        ])\n"
   ]
  },
  {
   "cell_type": "code",
   "execution_count": 13,
   "metadata": {},
   "outputs": [
    {
     "name": "stdout",
     "output_type": "stream",
     "text": [
      "x =  [ 4.5 -7.   3. ]\n",
      "min_f =  -9.25\n"
     ]
    }
   ],
   "source": [
    "def conjugate_gradient(x0,iter=2,tol=0.0001): \n",
    "    grad_f_k =  A@x0 - b\n",
    "    d_k = -grad_f_k      #this is our d0\n",
    "\n",
    "    t_k = -(grad_f_k.T@d_k)/(d_k.T @A @ d_k)  #this is our t0\n",
    "    next_x = x0 + t_k*d_k                     #calculate x1\n",
    "\n",
    "    for i in range(iter):\n",
    "        \n",
    "        grad_f_k = grad(*next_x)                #this is our grad(xk+1)\n",
    "        beta_k = (grad_f_k.T @ A @ d_k) / (d_k.T @ A @ d_k)             # this our beta_k\n",
    "        \n",
    "        d_k = -grad_f_k + beta_k*d_k                                     #our d_k+1\n",
    "        t_k = -(grad_f_k.T@d_k)/(d_k.T @A @ d_k)                      # t_k\n",
    "        if (abs(t_k*d_k)).sum() <= tol:\n",
    "            print(f\"The method converges in {i+1} iterations\")\n",
    "            return next_x\n",
    "        next_x = next_x + t_k*d_k                                     #calculating x_k+1\n",
    "    return next_x\n",
    "\n",
    "\n",
    "#check:\n",
    "A = 2*np.array([[1,1,1],[1,2,3],[1,3,6]])\n",
    "b = np.array([1,-1,3]).T\n",
    "x0 = np.array([0,0,0]).T\n",
    "\n",
    "min = conjugate_gradient(x0)\n",
    "print(\"x = \",min)\n",
    "print(\"min_f = \",np.round(f_quadratic(*min),2))"
   ]
  },
  {
   "cell_type": "markdown",
   "metadata": {},
   "source": [
    "## iterative inverse with newton method"
   ]
  },
  {
   "cell_type": "code",
   "execution_count": 14,
   "metadata": {},
   "outputs": [
    {
     "name": "stdout",
     "output_type": "stream",
     "text": [
      "the method coverges with the desired tolarence of 1e-08 in 15 iterations\n",
      "with our method we get:\n",
      " [[-0.21239146  1.85449425 -0.27434874 -0.0934053  -0.25275757]\n",
      " [ 0.00211218 -0.02065243  0.01267308 -0.00680591  0.05444731]\n",
      " [ 0.17343347 -0.25134945  0.0406008  -0.00328561  0.02628491]\n",
      " [ 0.03637644 -0.46679183  0.21825862 -0.00610185  0.04881483]\n",
      " [-0.04013142  0.39239615 -0.24078855  0.12931237 -0.03449894]] \n",
      "\n",
      " the actual inverse of A is:\n",
      " [[-0.21239146  1.85449425 -0.27434874 -0.0934053  -0.25275757]\n",
      " [ 0.00211218 -0.02065243  0.01267308 -0.00680591  0.05444731]\n",
      " [ 0.17343347 -0.25134945  0.0406008  -0.00328561  0.02628491]\n",
      " [ 0.03637644 -0.46679183  0.21825862 -0.00610185  0.04881483]\n",
      " [-0.04013142  0.39239615 -0.24078855  0.12931237 -0.03449894]]\n"
     ]
    }
   ],
   "source": [
    "def iterative_inverse(A,iter=100,tol=0.0001):\n",
    "    B = (1/np.trace(A.T @ A))*A.T\n",
    "    for i in range(iter):\n",
    "        B = 2*B - B @ A @ B\n",
    "        if (abs(B - B @ A @ B)).sum() <= tol:\n",
    "            print(f\"the method coverges with the desired tolarence of {tol} in {i} iterations\")\n",
    "            return B\n",
    "    return B\n",
    "\n",
    "A =  np.array([[1,1,7,1,1],\n",
    "               [1,3,1,2,1],\n",
    "               [2,2,1,9,2],\n",
    "               [1,0,1,11,9],\n",
    "               [0,19,0,0,1]])\n",
    "\n",
    "A_inv = iterative_inverse(A,100,0.00000001)\n",
    "print(\"with our method we get:\\n\",A_inv,\"\\n\\n the actual inverse of A is:\\n\",np.linalg.inv(A))"
   ]
  }
 ],
 "metadata": {
  "kernelspec": {
   "display_name": "Python 3",
   "language": "python",
   "name": "python3"
  },
  "language_info": {
   "codemirror_mode": {
    "name": "ipython",
    "version": 3
   },
   "file_extension": ".py",
   "mimetype": "text/x-python",
   "name": "python",
   "nbconvert_exporter": "python",
   "pygments_lexer": "ipython3",
   "version": "3.9.0"
  }
 },
 "nbformat": 4,
 "nbformat_minor": 2
}
