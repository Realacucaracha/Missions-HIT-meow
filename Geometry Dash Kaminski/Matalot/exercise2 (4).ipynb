{
 "cells": [
  {
   "cell_type": "markdown",
   "metadata": {},
   "source": [
    "# ${\\color{brown}\\mathbb{NAMES:}}$\n",
    "1- ${\\color{yellow}Yuval\\ Kaver}$, id: 329\n",
    "\n",
    "2- ${\\color{yellow}Matan\\ Ginzburg}$, id: 215"
   ]
  },
  {
   "cell_type": "markdown",
   "metadata": {},
   "source": [
    "# Point Selection"
   ]
  },
  {
   "cell_type": "code",
   "execution_count": 29,
   "metadata": {},
   "outputs": [],
   "source": [
    "import matplotlib\n",
    "%matplotlib tk\n",
    "\n",
    "import matplotlib.pyplot as plt\n",
    "from skimage import io \n",
    "import skimage\n",
    "import numpy as np\n",
    "import scipy\n",
    "from numpy.linalg import inv "
   ]
  },
  {
   "cell_type": "code",
   "execution_count": 30,
   "metadata": {},
   "outputs": [
    {
     "data": {
      "text/plain": [
       "(1080, 1920, 3)"
      ]
     },
     "execution_count": 30,
     "metadata": {},
     "output_type": "execute_result"
    }
   ],
   "source": [
    "im = io.imread('C:\\\\Users\\\\matan\\\\Documents\\\\Visual Code thong\\\\GEOMETRY DASH רבת מבטים\\\\rubik-cube-01.jpg')\n",
    "im.shape"
   ]
  },
  {
   "cell_type": "markdown",
   "metadata": {},
   "source": [
    "# The 6 Points Algorithm"
   ]
  },
  {
   "cell_type": "code",
   "execution_count": 31,
   "metadata": {},
   "outputs": [
    {
     "data": {
      "text/plain": [
       "(array([[0.89455, 1.69146, 0.13988, 1.     ],\n",
       "        [0.29041, 0.19904, 1.19619, 1.     ],\n",
       "        [0.4403 , 0.31501, 1.94818, 1.     ],\n",
       "        [0.59642, 0.58007, 0.55161, 1.     ],\n",
       "        [1.43662, 0.4887 , 1.2373 , 1.     ],\n",
       "        [1.69884, 0.12719, 0.19581, 1.     ],\n",
       "        [2.38298, 1.03941, 1.43211, 1.     ],\n",
       "        [1.12265, 1.17104, 1.57846, 1.     ],\n",
       "        [1.695  , 0.94344, 1.12324, 1.     ],\n",
       "        [0.65663, 1.14373, 0.61426, 1.     ]]),\n",
       " array([[101.24758, 159.2459 ,   1.     ],\n",
       "        [ 93.57495, 141.74778,   1.     ],\n",
       "        [ 90.87435, 105.11871,   1.     ],\n",
       "        [108.33163, 168.60563,   1.     ],\n",
       "        [140.93929, 133.62801,   1.     ],\n",
       "        [206.67825, 214.70986,   1.     ],\n",
       "        [162.74112, 116.57325,   1.     ],\n",
       "        [107.10727, 108.51442,   1.     ],\n",
       "        [144.01141, 129.86651,   1.     ],\n",
       "        [ 97.82671, 148.09408,   1.     ]]))"
      ]
     },
     "execution_count": 31,
     "metadata": {},
     "output_type": "execute_result"
    }
   ],
   "source": [
    "''' Synthetic test. '''\n",
    "K = np.array([\n",
    "    [150, 0, 23],\n",
    "    [0, 95, 4],\n",
    "    [0, 0, 1]\n",
    "])\n",
    "R = np.array([[ 1,0, 0],\n",
    "                  [0,0.5,-0.8660254],   \n",
    "                  [0,0.8660254,0.5]])\n",
    "\n",
    "t = np.array([1, 5, 2]).reshape(3, 1)\n",
    "\n",
    "M_synthetic = np.hstack(( K@R , K@t ))\n",
    "\n",
    "n = 10\n",
    "def generate_synthetic_points():\n",
    "    points = abs(np.random.randn(n,3))\n",
    "    points = np.hstack((points,np.ones((n,1))))\n",
    "    pixels = np.zeros((n,3))\n",
    "    for i in range(n):\n",
    "        pixels[i] = M_synthetic@points[i].T\n",
    "        pixels[i] = pixels[i]/pixels[i][2]\n",
    "    pixels_with_error = pixels + np.hstack((np.random.randn(n,2),np.zeros((n,1))))\n",
    "    return points,pixels_with_error\n",
    "    return points,pixels\n",
    "generate_synthetic_points()"
   ]
  },
  {
   "cell_type": "code",
   "execution_count": 32,
   "metadata": {},
   "outputs": [],
   "source": [
    "def rubix_points():\n",
    "    P = np.array([[0,0,0],[0,1,0],\n",
    "                [1,0,1],[2,0,2],\n",
    "                [0,0,3],[1,1,3],\n",
    "                [3,0,3],[3,0,1],\n",
    "                [3,3,3],[0,3,0],\n",
    "                [3,0,0],[0,3,3],\n",
    "                [1,3,3]])\n",
    "    p = np.array([(np.float64(851.1129032258063), np.float64(946.5903225806452)),\n",
    "                (np.float64(1029.1774193548388), np.float64(861.4290322580645)),\n",
    "                (np.float64(715.6290322580644), np.float64(679.4935483870968)),\n",
    "                (np.float64(591.758064516129), np.float64(396.9129032258063)),\n",
    "                (np.float64(839.5), np.float64(327.2354838709675)),\n",
    "                (np.float64(885.9516129032259), np.float64(199.49354838709655)),\n",
    "                (np.float64(479.50000000000006), np.float64(145.29999999999973)),\n",
    "                (np.float64(514.3387096774193), np.float64(532.3967741935483)),\n",
    "                (np.float64(973.8856143856142), np.float64(34.025474525474465)),\n",
    "                (np.float64(1339.2802197802196), np.float64(746.1133866133866)),\n",
    "                (np.float64(530.8086913086913), np.float64(690.0094905094904)),\n",
    "                (np.float64(1365.9516129032259), np.float64(185.69354838709683)),\n",
    "                (np.float64(1224.1953046953045), np.float64(124.65484515484513))])\n",
    "    P = np.hstack((P,np.ones((13,1))))\n",
    "    p = np.hstack((p,np.ones((13,1))))\n",
    "    values = np.arange(4)\n",
    "    # Create a grid of values for x, y, z\n",
    "    x, y, z = np.meshgrid(values, values, values, indexing='ij')\n",
    "    # Stack the grids along a new axis to get combinations\n",
    "    combinations = np.stack((x, y, z), axis=-1)\n",
    "    # Reshape to a 2D array where each row is a combination\n",
    "    combinations = combinations.reshape(-1, 3)\n",
    "    # Create a boolean mask for the condition: x and y are non-zero and z < 3\n",
    "    mask = ~((combinations[:, 0] > 0) & (combinations[:, 1] > 0) & (combinations[:, 2] < 3))\n",
    "    # Apply the mask to filter out the unwanted combinations\n",
    "    filtered_combinations = combinations[mask]\n",
    "\n",
    "    P_rubix = np.hstack((filtered_combinations,np.ones((37,1))))\n",
    "    np.shape(P_rubix)\n",
    "    return P,p,P_rubix"
   ]
  },
  {
   "cell_type": "code",
   "execution_count": 33,
   "metadata": {},
   "outputs": [],
   "source": [
    "def reprojection_error(M,P,p):\n",
    "    A = np.reshape(M,(3,4))\n",
    "    Error = 0    \n",
    "    for i in range(len(P)):\n",
    "\n",
    "        u_i = p[i][0]\n",
    "        v_i = p[i][1]\n",
    "        \n",
    "        A_pi_x = (A[0].T@P[i])/(A[2].T@P[i])\n",
    "        A_pi_y = (A[1].T@P[i])/(A[2].T@P[i])\n",
    "        \n",
    "        Error += (A_pi_x - u_i)**2 + (A_pi_y - v_i)**2\n",
    "\n",
    "    return Error\n"
   ]
  },
  {
   "cell_type": "code",
   "execution_count": 34,
   "metadata": {},
   "outputs": [],
   "source": [
    "def linear_calibration(p,P):\n",
    "    '''\n",
    "    Input: \n",
    "        p: nx2 array (pixels in an image)\n",
    "        P: nx3 array (points in 3d)\n",
    "        Assumption: The two arrays have corresponding order. \n",
    "    Output: \n",
    "        M: camera matrix \n",
    "    '''\n",
    "    A = np.zeros((2*len(P),12))\n",
    "    for i in range(len(P)):\n",
    "        A[2*i] = [-P[i][0],-P[i][1],-P[i][2],-1,0,0,0,0,P[i][0]*p[i][0],P[i][1]*p[i][0],P[i][2]*p[i][0],p[i][0]]\n",
    "        A[2*i+1] = [0,0,0,0,-P[i][0],-P[i][1],-P[i][2],-1,P[i][0]*p[i][1],P[i][1]*p[i][1],P[i][2]*p[i][1],p[i][1]]\n",
    "    U , _ , __= np.linalg.svd(A.T@A)\n",
    "    M1 = np.reshape(U.T[-1],(3,4))\n",
    "    return M1\n"
   ]
  },
  {
   "cell_type": "code",
   "execution_count": 35,
   "metadata": {},
   "outputs": [
    {
     "name": "stdout",
     "output_type": "stream",
     "text": [
      "the M we got:\n",
      "[[141.48851  12.90867  18.04389 196.5045 ]\n",
      " [ -8.58257  41.65228 -74.66127 482.70167]\n",
      " [ -0.05413   0.80188   0.53597   2.     ]]\n",
      "the real M:\n",
      "[[150.       19.91858  11.5     196.     ]\n",
      " [  0.       50.9641  -80.27241 483.     ]\n",
      " [  0.        0.86603   0.5       2.     ]]\n",
      "reprojection error: 3.0550158474337343\n"
     ]
    }
   ],
   "source": [
    "'''synthetic test for linear calibration'''\n",
    "P, p =  generate_synthetic_points()\n",
    "M_got = linear_calibration(p,P)\n",
    "np.set_printoptions(suppress=True,precision=5)    \n",
    "print(f\"the M we got:\\n{(M_got*M_synthetic[2,3]/M_got[2,3])}\\nthe real M:\\n{M_synthetic}\")\n",
    "print(\"reprojection error:\",reprojection_error(M_got,P,p))"
   ]
  },
  {
   "cell_type": "code",
   "execution_count": 36,
   "metadata": {},
   "outputs": [],
   "source": [
    "''' Here we test the calibration with the points selected above in the real image.'''\n",
    "plt.imshow(im)\n",
    "P,p,P_rubix = rubix_points()\n",
    "M_got = linear_calibration(p,P)\n",
    "pixels_got = np.zeros((37,3))\n",
    "for i in range(37):\n",
    "    pixels_got[i] = M_got@P_rubix[i]\n",
    "    pixels_got[i] = pixels_got[i]/pixels_got[i][2]\n",
    "for i in pixels_got:\n",
    "    plt.plot(i[0], i[1], 'bo') \n",
    "    \n",
    "    "
   ]
  },
  {
   "cell_type": "code",
   "execution_count": 37,
   "metadata": {},
   "outputs": [],
   "source": [
    "def geometric_calibration_refinement(p,P,M):\n",
    "    '''    \n",
    "    Input: \n",
    "        p: nx2 array (pixels in an image)\n",
    "        P: nx3 array (points in 3d)\n",
    "        Assumption: The two arrays have corresponding order. \n",
    "        M: first guess of the camera matrix.\n",
    "        The functions refines M by minimizing the reprojecion error.\n",
    "    Output:\n",
    "        M (refined)\n",
    "    '''\n",
    "    M_flat = np.matrix.flatten(M)\n",
    "    M_min = scipy.optimize.least_squares(reprojection_error,x0=M_flat,args=(P,p))\n",
    "    return M_min.x.reshape((3,4))\n",
    "\n",
    "\n"
   ]
  },
  {
   "cell_type": "code",
   "execution_count": 38,
   "metadata": {},
   "outputs": [
    {
     "name": "stdout",
     "output_type": "stream",
     "text": [
      "the original M we got:\n",
      "[[135.49294   3.83358  15.51596 197.31143]\n",
      " [ -9.89065  18.85976 -71.5019  479.97805]\n",
      " [ -0.05693   0.6865    0.52428   2.     ]]\n",
      "the real M:\n",
      "[[150.       19.91858  11.5     196.     ]\n",
      " [  0.       50.9641  -80.27241 483.     ]\n",
      " [  0.        0.86603   0.5       2.     ]]\n",
      "reprojection error: 6.0387353076363555\n",
      "the refined M:\n",
      "[[135.44874   3.83233  15.51091 197.24704]\n",
      " [ -9.88744  18.8536  -71.47858 479.82143]\n",
      " [ -0.05682   0.68594   0.52319   2.     ]]\n",
      "the real M:\n",
      "[[150.       19.91858  11.5     196.     ]\n",
      " [  0.       50.9641  -80.27241 483.     ]\n",
      " [  0.        0.86603   0.5       2.     ]]\n",
      "reprojection error: 6.0307384954819\n"
     ]
    }
   ],
   "source": [
    "'''synthetic test for refinement'''\n",
    "P, p =  generate_synthetic_points()\n",
    "M_got = linear_calibration(p,P)\n",
    "M_refined = np.reshape(geometric_calibration_refinement(p,P,M_got),(3,4))\n",
    "M_refined = M_refined*M_synthetic[2,3]/M_refined[2,3]\n",
    "M_got = M_got*M_synthetic[2,3]/M_got[2,3]\n",
    "np.set_printoptions(suppress=True,precision=5)\n",
    "print(f\"the original M we got:\\n{(M_got*M_synthetic[2,3]/M_got[2,3])}\\nthe real M:\\n{M_synthetic}\")\n",
    "print(\"reprojection error:\",reprojection_error(M_got,P,p))\n",
    "print(f\"the refined M:\\n{M_refined}\\nthe real M:\\n{M_synthetic}\")\n",
    "print(\"reprojection error:\",reprojection_error(M_refined,P,p))\n"
   ]
  },
  {
   "cell_type": "code",
   "execution_count": 39,
   "metadata": {},
   "outputs": [],
   "source": [
    "'''Here you must test the calibration with the points selected above in the real image.'''\n",
    "plt.imshow(im)\n",
    "P,p,P_rubix = rubix_points()\n",
    "M_got = linear_calibration(p,P)\n",
    "M_refined = geometric_calibration_refinement(p,P,M_got)\n",
    "pixels_got = np.zeros((37,3))\n",
    "for i in range(37):\n",
    "    pixels_got[i] = M_refined@(P_rubix[i])\n",
    "    pixels_got[i] = pixels_got[i]/pixels_got[i][2]\n",
    "for i in pixels_got:\n",
    "    plt.plot(i[0], i[1], 'ro') "
   ]
  },
  {
   "cell_type": "markdown",
   "metadata": {},
   "source": [
    "# Single View Geometry"
   ]
  },
  {
   "cell_type": "code",
   "execution_count": 40,
   "metadata": {},
   "outputs": [
    {
     "name": "stdout",
     "output_type": "stream",
     "text": [
      "M = \n",
      " [[ 8.      27.71281 16.      72.     ]\n",
      " [ 0.      24.78461  5.0718  88.     ]\n",
      " [ 0.       0.86603  0.5      2.     ]]\n"
     ]
    }
   ],
   "source": [
    "#syntetic M:\n",
    "\n",
    "K = np.array([\n",
    "    [8, 0, 32],\n",
    "    [0, 8, 24],\n",
    "    [0, 0, 1]\n",
    "])\n",
    "R = np.array([[ 1,0, 0],            #its ortoghonal! so good...\n",
    "                  [0,0.5,-0.8660254],   \n",
    "                  [0,0.8660254,0.5]])\n",
    "\n",
    "t = np.array([1, 5, 2]).reshape(3, 1)\n",
    "\n",
    "M_syn = np.hstack(( K@R , K@t ))\n",
    "print(\"M = \\n\",M_syn)"
   ]
  },
  {
   "cell_type": "code",
   "execution_count": 41,
   "metadata": {},
   "outputs": [
    {
     "name": "stdout",
     "output_type": "stream",
     "text": [
      "the real K:\n",
      " [[ 8  0 32]\n",
      " [ 0  8 24]\n",
      " [ 0  0  1]]\n",
      "the k we got:\n",
      " [[ 8. -0. 32.]\n",
      " [ 0.  8. 24.]\n",
      " [ 0.  0.  1.]]\n",
      "the real R:\n",
      " [[ 1.       0.       0.     ]\n",
      " [ 0.       0.5     -0.86603]\n",
      " [ 0.       0.86603  0.5    ]]\n",
      "the R we got:\n",
      " [[ 1.       0.      -0.     ]\n",
      " [ 0.       0.5     -0.86603]\n",
      " [ 0.       0.86603  0.5    ]]\n",
      "the real t:\n",
      " [[1]\n",
      " [5]\n",
      " [2]]\n",
      "the t we got:\n",
      " [[1.]\n",
      " [5.]\n",
      " [2.]]\n"
     ]
    }
   ],
   "source": [
    "def camera_decomposition(M):\n",
    "    '''\n",
    "    Input: M (camera matrix)\n",
    "    Output: K,R,t \n",
    "    '''             \n",
    "    m_bar = np.delete(M,3,1)                # now we have : M = [m_bar(3x3),m_small(3x1)] which is 4x3! \n",
    "    m_small = np.delete(M,(0,1,2),1) \n",
    "    \n",
    "    M_MT = m_bar @ m_bar.T\n",
    "    \n",
    "    P = np.array(\n",
    "        [[0,0,1],\n",
    "        [0,1,0],\n",
    "        [1,0,0]])\n",
    "\n",
    "    L = np.linalg.cholesky(P@M_MT@P,upper=False)\n",
    "    our_lambda = L[2,2]\n",
    "    K = P@L@P\n",
    "    R =  1/our_lambda * np.linalg.inv(K) @ m_bar\n",
    "    t = 1/our_lambda * np.linalg.inv(K) @ m_small\n",
    "\n",
    "\n",
    "\n",
    "    return K,R,t\n",
    "# print(K@K.T)\n",
    "k,r,t_got = camera_decomposition(M_syn)\n",
    "np.set_printoptions(suppress=True,precision=5)\n",
    "print(\"the real K:\\n\",K)\n",
    "print(\"the k we got:\\n\",(k/k[2,2]))\n",
    "print(\"the real R:\\n\",R)\n",
    "print(\"the R we got:\\n\",(r*R[2,2]/r[2,2]))\n",
    "print(\"the real t:\\n\",t)\n",
    "print(\"the t we got:\\n\",(t_got*t[2]/t_got[2]))\n"
   ]
  },
  {
   "cell_type": "code",
   "execution_count": 42,
   "metadata": {},
   "outputs": [
    {
     "name": "stdout",
     "output_type": "stream",
     "text": [
      "we got:\n",
      " [[-1.     ]\n",
      " [-4.23205]\n",
      " [ 3.33013]\n",
      " [ 1.     ]]\n",
      "real center is:\n",
      " [[-1.     ]\n",
      " [-4.23205]\n",
      " [ 3.33013]\n",
      " [ 1.     ]]\n"
     ]
    }
   ],
   "source": [
    "def camera_center(M):\n",
    "    omega = scipy.linalg.null_space(M)\n",
    "    return omega/omega[3]\n",
    "print(\"we got:\\n\",camera_center(M_syn))\n",
    "real_center = np.vstack((-R.T@t,np.ones((1,1))))\n",
    "print(\"real center is:\\n\",real_center)"
   ]
  },
  {
   "cell_type": "code",
   "execution_count": 43,
   "metadata": {},
   "outputs": [
    {
     "name": "stdout",
     "output_type": "stream",
     "text": [
      "real point is:\n",
      " [-3.375    3.36603 -3.83013  0.     ]\n",
      "we got:\n",
      " [[-3.375    3.36603 -3.83013  0.     ]]\n"
     ]
    }
   ],
   "source": [
    "def infinity_point_optical_ray(M,p):\n",
    "    '''\n",
    "    Returns the point at infinity of the optical ray generated by the pixel p for the given camera matrix M. \n",
    "    '''\n",
    "    K, R, t = camera_decomposition(M)\n",
    "    p_infinity = np.array([R.T@inv(K)@p])\n",
    "    p_infinity = np.hstack((p_infinity,np.zeros((1,1))))\n",
    "    return p_infinity\n",
    "pp = np.array([5,64,1])\n",
    "real_inf=(R.T@inv(K)@pp)\n",
    "real_inf = np.hstack((real_inf,0))\n",
    "print(\"real point is:\\n\",real_inf)\n",
    "inf_got = infinity_point_optical_ray(M_syn,pp)\n",
    "print(\"we got:\\n\",inf_got*real_inf[2]/inf_got[0][2])\n"
   ]
  },
  {
   "cell_type": "code",
   "execution_count": 44,
   "metadata": {},
   "outputs": [
    {
     "name": "stdout",
     "output_type": "stream",
     "text": [
      "[  -8.       -52.49742  -21.0718  -160.     ]\n",
      "(M.T@L).T@omega = [0.]\n"
     ]
    }
   ],
   "source": [
    "def focal_plane(M,l):\n",
    "    '''\n",
    "    Returns the vector representing the plane generated the line l (in the image) for the given camera matrix M. \n",
    "    '''\n",
    "    return M.T@l \n",
    "\n",
    "pixel1 = np.array([6,4,1])\n",
    "pixel2 = np.array([7,5,1])\n",
    "l = pixel1 - pixel2\n",
    "focal_p = focal_plane(M_syn,l)\n",
    "omega = camera_center(M_syn)\n",
    "print(focal_p)\n",
    "print(f\"(M.T@L).T@omega = {focal_p.T@omega}\")"
   ]
  },
  {
   "cell_type": "markdown",
   "metadata": {},
   "source": [
    "# Image Warping"
   ]
  },
  {
   "cell_type": "code",
   "execution_count": 45,
   "metadata": {},
   "outputs": [
    {
     "data": {
      "text/plain": [
       "'\\nPurpose: Take the image of the floor. Compute an homography to make the square a real square and perform an image warping using scikit-image.\\nDisplay the original and the destination images.  \\n'"
      ]
     },
     "execution_count": 45,
     "metadata": {},
     "output_type": "execute_result"
    }
   ],
   "source": [
    "'''\n",
    "Purpose: Take the image of the floor. Compute an homography to make the square a real square and perform an image warping using scikit-image.\n",
    "Display the original and the destination images.  \n",
    "'''"
   ]
  },
  {
   "cell_type": "code",
   "execution_count": 46,
   "metadata": {},
   "outputs": [],
   "source": [
    "# here we wrote the functions from last exercise\n",
    "def svd_computation_homography(p: np.ndarray, q: np.ndarray):\n",
    "    '''\n",
    "    Given two nx2 arrays of affine points, the function computes the homography between these two sets of points by the SVD method. \n",
    "    Output: H a 3x3 matrix\n",
    "    '''\n",
    "    M = np.zeros((2*len(p),9))\n",
    "    for i in range(len(p)):\n",
    "        M[2*i] = [p[i][0]*1,p[i][1]*1,1*1,0,0,0,-p[i][0]*q[i][0],-p[i][1]*q[i][0],-1*q[i][0]]\n",
    "        M[2*i+1] = [0,0,0,p[i][0],p[i][1],1,-p[i][0]*q[i][1],-p[i][1]*q[i][1],-q[i][1]]\n",
    "    MTM = M.T.dot(M)\n",
    "    U , _ , __= np.linalg.svd(MTM)\n",
    "    A = np.reshape(U[:,-1],(3,3))\n",
    "    return A\n",
    "def normalization(p: np.ndarray):\n",
    "    '''\n",
    "    Given a nx2 array of affine points, the function computes the normalizing homography of these points.\n",
    "    Output: T a 3x3 matrix (which lies in Aff2).\n",
    "    '''\n",
    "    avg_x, avg_y, _ = np.mean(p,axis=0)\n",
    "    std_x, std_y, _ = np.std(p,axis=0)\n",
    "    T = np.array([\n",
    "        [1/std_x,0,-avg_x/std_x],\n",
    "        [0,1/std_y,-avg_y/std_y],\n",
    "        [0,      0,          1]\n",
    "    ])\n",
    "    return T\n",
    "def homography(p: np.ndarray, q: np.ndarray):\n",
    "    '''\n",
    "    Given two nx2 arrays of affine points, the function computes the homography between these two sets of points by normalizations and the SVD method. \n",
    "    Output: H a 3x3 matrix\n",
    "    '''\n",
    "    T1 = normalization(p)\n",
    "    T2 = normalization(q)\n",
    "    p_normalized = np.array(p)\n",
    "    q_normalized = np.array(p)\n",
    "    for i in range(len(p)):\n",
    "        p_normalized[i] = T1@p[i] \n",
    "        q_normalized[i] = T2@q[i]    \n",
    "    B = svd_computation_homography(p_normalized,q_normalized)\n",
    "    return (inv(T2)).dot(B.dot(T1))"
   ]
  },
  {
   "cell_type": "code",
   "execution_count": 47,
   "metadata": {},
   "outputs": [],
   "source": [
    "# setting points\n",
    "p = np.array([[383.61916544477026, 406.1280241935483],\n",
    " [470.94275415444764, 272.93749999999994],\n",
    " [740.852028347996, 324.9788306451612],\n",
    " [737.3238025415444, 489.92338709677415]])\n",
    "\n",
    "P = np.array([[400,400],\n",
    "              [800,400],\n",
    "              [800,800],\n",
    "              [400,800]])\n",
    "#------------------------------------------------------\n",
    "\n",
    "p = np.hstack((p,np.ones((4,1))))\n",
    "P = np.hstack((P,np.ones((4,1))))\n",
    "homography_of_floor = homography(P,p)\n",
    "\n",
    "floor_image = plt.imread (\"\\\\Users\\\\matan\\\\Documents\\\\Visual Code thong\\\\GEOMETRY DASH רבת מבטים\\\\Castellanparquet_Brun4.jpg\")"
   ]
  },
  {
   "cell_type": "code",
   "execution_count": 48,
   "metadata": {},
   "outputs": [],
   "source": [
    "'''warping!'''\n",
    "squares = skimage.transform.warp(floor_image ,homography_of_floor,output_shape=(800, 1215))         \n",
    "     \n",
    "fig, ax = plt.subplots(nrows=2)\n",
    "ax[0].imshow(floor_image)\n",
    "ax[1].imshow(squares)\n",
    "\n",
    "for a in ax:\n",
    "    a.axis('off')\n",
    "\n",
    "#plt.show()\n",
    "plt.tight_layout()"
   ]
  }
 ],
 "metadata": {
  "kernelspec": {
   "display_name": "Python 3",
   "language": "python",
   "name": "python3"
  },
  "language_info": {
   "codemirror_mode": {
    "name": "ipython",
    "version": 3
   },
   "file_extension": ".py",
   "mimetype": "text/x-python",
   "name": "python",
   "nbconvert_exporter": "python",
   "pygments_lexer": "ipython3",
   "version": "3.12.0"
  }
 },
 "nbformat": 4,
 "nbformat_minor": 2
}
