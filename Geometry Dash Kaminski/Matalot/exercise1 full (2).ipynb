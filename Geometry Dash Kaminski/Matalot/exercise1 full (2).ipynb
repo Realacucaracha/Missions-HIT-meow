{
 "cells": [
  {
   "cell_type": "markdown",
   "metadata": {},
   "source": [
    "# ${\\color{purple}\\mathbb{NAMES:}}$\n",
    "1- ${\\color{red}Yuval\\ Kaver}$, id: 329\n",
    "\n",
    "2- ${\\color{red}Matan\\ Ginzburg}$, id: 215"
   ]
  },
  {
   "cell_type": "code",
   "execution_count": 1,
   "metadata": {},
   "outputs": [],
   "source": [
    "import numpy as np\n",
    "from numpy.linalg import inv\n",
    "import scipy"
   ]
  },
  {
   "cell_type": "markdown",
   "metadata": {},
   "source": [
    "# Bases"
   ]
  },
  {
   "cell_type": "code",
   "execution_count": 2,
   "metadata": {},
   "outputs": [
    {
     "name": "stdout",
     "output_type": "stream",
     "text": [
      "a = True   expected = True\n",
      " [[1 0 0]\n",
      " [0 1 0]\n",
      " [0 0 1]\n",
      " [1 1 1]]\n",
      "b = False   expected = False\n",
      " [[ 3  1  5]\n",
      " [ 1  2  7]\n",
      " [ 2  4 14]\n",
      " [ 2  6 18]]\n",
      "c = True   expected = True\n",
      " [[5 6 3]\n",
      " [3 2 4]\n",
      " [9 2 5]\n",
      " [1 4 6]]\n",
      "d = True   expected = True\n",
      " [[ 7  5]\n",
      " [22  9]\n",
      " [ 4  2]]\n"
     ]
    }
   ],
   "source": [
    "def check_basis(a: list):\n",
    "    '''\n",
    "    Given a list of n+2 vectors in R^{n+1}, the function checks if this sequence defines a basis of P^n.\n",
    "    '''\n",
    "    for i in range(len(a)):\n",
    "        if np.linalg.det(np.delete(a,i,0)) == 0:  #does the det of a without the vector in the i-th place.\n",
    "            return False\n",
    "    return True\n",
    "\n",
    "a = np.array([[1,0,0],[0,1,0],[0,0,1],[1,1,1]])\n",
    "b = np.array([[3,1,5],[1,2,7],[2,4,14],[2,6,18]])\n",
    "c=np.array([[5,6,3],[3,2,4],[9,2,5],[1,4,6]])\n",
    "d=np.array([[7,5],[22,9],[4,2]])\n",
    "print(\"a =\",check_basis(a),\"  expected = True\\n\",a)\n",
    "print(\"b =\",check_basis(b),\"  expected = False\\n\",b)\n",
    "print(\"c =\",check_basis(c),\"  expected = True\\n\",c)\n",
    "print(\"d =\",check_basis(d),\"  expected = True\\n\",d)"
   ]
  },
  {
   "cell_type": "code",
   "execution_count": 3,
   "metadata": {},
   "outputs": [
    {
     "name": "stdout",
     "output_type": "stream",
     "text": [
      "b from matrix: [5. 6. 3.] [5 6 3] \n",
      "\n",
      "b from matrix: [3. 2. 4.] [3 2 4] \n",
      "\n",
      "b from matrix: [9. 2. 5.] [9 2 5] \n",
      "\n",
      "b from matrix: [14. 24.  6.] [14 24  6] \n",
      "\n"
     ]
    }
   ],
   "source": [
    "def compute_homography(a:list, b:list):\n",
    "    '''\n",
    "    Given two bases of P^n, the function computes the homography A that maps a to b.\n",
    "    '''\n",
    "    A = find_matrix_to_standard(a)\n",
    "    B = find_matrix_to_standard(b)\n",
    "    inv_A = inv(A) # A^-1\n",
    "    B_A =B.dot(inv_A) #B*(A^-1)\n",
    "    return B_A\n",
    "\n",
    "\n",
    "def find_matrix_to_standard(a:list):\n",
    "    '''\n",
    "    finds A that for all a_i -> A*a_i = b_i       where b_i is a vector from the standard basis of P^n\n",
    "    '''\n",
    "    a_without_last = np.delete(a,-1,0) #[b_1,b_2,...,b_n+1]\n",
    "    inv_a = inv(a_without_last.T) #[b1,..,bn+1](-1)\n",
    "    lambdas = inv_a.dot(a[-1])  # lambdas = a[-1].dot(inv_a) # [b1,....bn+1](-1) * bn+2\n",
    "    lambdas=np.diag(lambdas)\n",
    "    A=a_without_last.T.dot(lambdas) #   A = [b_1*lambda,...,b_n+1*lambda]\n",
    "    return A\n",
    "\n",
    "a=np.array([[1,2,3],[0,2,4],[0,2,5],[1,2,6]])\n",
    "b=np.array([[5,6,3],[3,2,4],[9,2,5],[14,24,6]])\n",
    "B_A = compute_homography(a, b)\n",
    "for i in range(len(a)):\n",
    "    b_result = np.dot(B_A,a[i])\n",
    "    print(\"b from matrix:\",b_result*(a[i][2]/b_result[2]),b[i],\"\\n\")\n"
   ]
  },
  {
   "cell_type": "markdown",
   "metadata": {},
   "source": [
    "# $\\mathbb{P}^1$"
   ]
  },
  {
   "cell_type": "code",
   "execution_count": 4,
   "metadata": {},
   "outputs": [
    {
     "name": "stdout",
     "output_type": "stream",
     "text": [
      "cross for: a = (0, 1), b = (1, 1), c = (2, 1) and d = (1,0), gives: 0.5 expected = 0.5\n",
      "cross for: a = (0, 1), b = (1, 1), c = (2, 1) and d = (-1,1), gives: 0.75 expected = 0.75\n"
     ]
    },
    {
     "name": "stderr",
     "output_type": "stream",
     "text": [
      "C:\\Users\\matan\\AppData\\Local\\Temp\\ipykernel_22388\\3278308293.py:5: DeprecationWarning: Arrays of 2-dimensional vectors are deprecated. Use arrays of 3-dimensional vectors instead. (deprecated in NumPy 2.0)\n",
      "  det1 = np.cross(a, b)\n",
      "C:\\Users\\matan\\AppData\\Local\\Temp\\ipykernel_22388\\3278308293.py:6: DeprecationWarning: Arrays of 2-dimensional vectors are deprecated. Use arrays of 3-dimensional vectors instead. (deprecated in NumPy 2.0)\n",
      "  det2 = np.cross(a, c)\n",
      "C:\\Users\\matan\\AppData\\Local\\Temp\\ipykernel_22388\\3278308293.py:7: DeprecationWarning: Arrays of 2-dimensional vectors are deprecated. Use arrays of 3-dimensional vectors instead. (deprecated in NumPy 2.0)\n",
      "  det3 = np.cross(b, d)\n",
      "C:\\Users\\matan\\AppData\\Local\\Temp\\ipykernel_22388\\3278308293.py:8: DeprecationWarning: Arrays of 2-dimensional vectors are deprecated. Use arrays of 3-dimensional vectors instead. (deprecated in NumPy 2.0)\n",
      "  det4 = np.cross(c, d)\n"
     ]
    }
   ],
   "source": [
    "def cross_ratio(a, b, c, d):\n",
    "    '''\n",
    "        Given 4 points in P^{1}, calculate the cross ratio\n",
    "    '''\n",
    "    det1 = np.cross(a, b)\n",
    "    det2 = np.cross(a, c)\n",
    "    det3 = np.cross(b, d)\n",
    "    det4 = np.cross(c, d)\n",
    "    return (det1 / det2) / (det3 / det4)\n",
    "\n",
    "\n",
    "print(\"cross for: a = (0, 1), b = (1, 1), c = (2, 1) and d = (1,0), gives:\", cross_ratio([0, 1], [1, 1], [2, 1], [1, 0]), \"expected = 0.5\")\n",
    "print(\"cross for: a = (0, 1), b = (1, 1), c = (2, 1) and d = (-1,1), gives:\", cross_ratio([0, 1], [1, 1], [2, 1], [-1, 1]), \"expected = 0.75\")"
   ]
  },
  {
   "cell_type": "markdown",
   "metadata": {},
   "source": [
    "# $\\mathbb{P}^2$"
   ]
  },
  {
   "cell_type": "code",
   "execution_count": 5,
   "metadata": {},
   "outputs": [],
   "source": [
    "def check_if_in_pencil_basis2(p,l1):\n",
    "    '''\n",
    "    checks if l1 is in the pencil of lines centered at p\n",
    "    '''\n",
    "    return l1.T.dot(p) == 0"
   ]
  },
  {
   "cell_type": "code",
   "execution_count": 6,
   "metadata": {},
   "outputs": [],
   "source": [
    "def find_basis(p: np.array):\n",
    "    n = len(p)\n",
    "    index_of_nonzero = np.where(p != 0)[0]\n",
    "    zero_indexes = np.where(p == 0)[0]\n",
    "    basis = np.zeros((n, n))\n",
    "    \n",
    "    if len(index_of_nonzero) == 0:\n",
    "        raise Exception(\"invalid point\")\n",
    "    elif len(index_of_nonzero) == len(p):  # standard basis\n",
    "        return np.array([\n",
    "            [-p[1], p[0], 0],\n",
    "            [-p[2], 0, p[0]],\n",
    "            [0, -p[2], p[1]]\n",
    "        ])\n",
    "    if len(index_of_nonzero) == 1:  # case [x, 0, 0] -> l1 = [0, 0, 1], l2 = [0, 1, 0] \n",
    "        for i, k in enumerate(zero_indexes):\n",
    "            basis[i] = np.array([1 if i == k else 0 for i in range(3)])\n",
    "    else:\n",
    "        basis[0] = (np.array([1 if i == zero_indexes[0] else 0 for i in range(n)]))  # first vector is 0\n",
    "        basis[1][index_of_nonzero[0]] = -p[index_of_nonzero[-1]]\n",
    "        basis[1][index_of_nonzero[-1]] = p[index_of_nonzero[0]]\n",
    "\n",
    "    basis[2] = basis[0] + basis[1]\n",
    "    return basis"
   ]
  },
  {
   "cell_type": "code",
   "execution_count": 7,
   "metadata": {},
   "outputs": [
    {
     "name": "stdout",
     "output_type": "stream",
     "text": [
      "-1.0\n"
     ]
    },
    {
     "name": "stderr",
     "output_type": "stream",
     "text": [
      "C:\\Users\\matan\\AppData\\Local\\Temp\\ipykernel_22388\\3278308293.py:5: DeprecationWarning: Arrays of 2-dimensional vectors are deprecated. Use arrays of 3-dimensional vectors instead. (deprecated in NumPy 2.0)\n",
      "  det1 = np.cross(a, b)\n",
      "C:\\Users\\matan\\AppData\\Local\\Temp\\ipykernel_22388\\3278308293.py:6: DeprecationWarning: Arrays of 2-dimensional vectors are deprecated. Use arrays of 3-dimensional vectors instead. (deprecated in NumPy 2.0)\n",
      "  det2 = np.cross(a, c)\n",
      "C:\\Users\\matan\\AppData\\Local\\Temp\\ipykernel_22388\\3278308293.py:7: DeprecationWarning: Arrays of 2-dimensional vectors are deprecated. Use arrays of 3-dimensional vectors instead. (deprecated in NumPy 2.0)\n",
      "  det3 = np.cross(b, d)\n",
      "C:\\Users\\matan\\AppData\\Local\\Temp\\ipykernel_22388\\3278308293.py:8: DeprecationWarning: Arrays of 2-dimensional vectors are deprecated. Use arrays of 3-dimensional vectors instead. (deprecated in NumPy 2.0)\n",
      "  det4 = np.cross(c, d)\n"
     ]
    }
   ],
   "source": [
    "def cross_ratio_pencil(p,l1,l2,l3,l4):\n",
    "    '''\n",
    "    Given a point p in P^2 and four lines in the pencil of lines centered at p, \n",
    "    the function computes the cross-ratio of the lines. \n",
    "    '''\n",
    "    l = np.array([l1,l2,l3,l4])\n",
    "    l_new = np.zeros((4,2))\n",
    "    for i in range(len(l)):\n",
    "        if not check_if_in_pencil_basis2(p,l[i]):#checks if l_i is in the pencil of lines centered at p\n",
    "            raise Exception(f\"{l[i]} is not in p\")\n",
    "    basis = (np.delete(find_basis(p),2,axis=0)).T\n",
    "    for i in range(3):\n",
    "        if np.linalg.det(np.delete(basis,i,axis=0)) != 0:\n",
    "            basis = np.delete(basis,i,axis=0)\n",
    "            l = np.delete(l,i,axis=1)\n",
    "            break\n",
    "    for i in range(len(l)):\n",
    "        l_new[i] = np.linalg.solve(basis,l[i].T)\n",
    "    return cross_ratio(*l_new)\n",
    "\n",
    "\n",
    "p=np.array([6,2,3])\n",
    "l1=np.array([-1,0,2])\n",
    "l2=np.array([2,-3,-2])\n",
    "l3=np.array([0,-3,2])\n",
    "l4=np.array([1,-3,0])\n",
    "print(cross_ratio_pencil(p,l1,l2,l3,l4))"
   ]
  },
  {
   "cell_type": "markdown",
   "metadata": {},
   "source": [
    "# Numerical Homographies in $\\mathbb{P}^2$"
   ]
  },
  {
   "cell_type": "code",
   "execution_count": 8,
   "metadata": {},
   "outputs": [],
   "source": [
    "n = 100\n",
    "p = np.random.randint(2,10)*np.random.randn(n,2) + np.random.randint(10,100)\n",
    "p = np.hstack((p,np.ones((n,1))))\n",
    "H = np.random.randn(3,3)\n",
    "qq = (H@p.T).T\n",
    "q = (qq.T/qq.T[2:3,:]).T\n",
    "#q = q[:,0:2]\n",
    "\n"
   ]
  },
  {
   "cell_type": "code",
   "execution_count": 9,
   "metadata": {},
   "outputs": [
    {
     "data": {
      "text/plain": [
       "array([[32.46547282, 24.56470639,  1.        ],\n",
       "       [24.91598059, 25.79849659,  1.        ],\n",
       "       [30.57698704, 26.01300294,  1.        ],\n",
       "       [31.13734907, 26.59465811,  1.        ],\n",
       "       [29.62754943, 31.39008773,  1.        ],\n",
       "       [34.40546725, 27.66903791,  1.        ],\n",
       "       [25.83745952, 38.98409134,  1.        ],\n",
       "       [27.09954133, 34.16114014,  1.        ],\n",
       "       [30.10227569, 24.63911053,  1.        ],\n",
       "       [31.83462435, 35.32609716,  1.        ],\n",
       "       [31.90361575, 24.04828628,  1.        ],\n",
       "       [20.52665575, 30.05890284,  1.        ],\n",
       "       [29.09298562, 22.99313695,  1.        ],\n",
       "       [29.58644474, 29.61034155,  1.        ],\n",
       "       [36.72270648, 26.07408607,  1.        ],\n",
       "       [25.98711329, 28.55164893,  1.        ],\n",
       "       [25.36901287, 32.11585838,  1.        ],\n",
       "       [31.09987699, 31.91305093,  1.        ],\n",
       "       [30.83749742, 28.86361434,  1.        ],\n",
       "       [34.94894355, 41.17267039,  1.        ],\n",
       "       [31.72272007, 29.6159825 ,  1.        ],\n",
       "       [35.54399135, 30.98064925,  1.        ],\n",
       "       [20.99112477, 30.0444514 ,  1.        ],\n",
       "       [28.7761452 , 35.55220264,  1.        ],\n",
       "       [26.49077378, 28.86255394,  1.        ],\n",
       "       [25.80023185, 15.9345944 ,  1.        ],\n",
       "       [31.05366941, 15.02158781,  1.        ],\n",
       "       [32.42267161, 26.82326378,  1.        ],\n",
       "       [35.36679466, 28.3385072 ,  1.        ],\n",
       "       [22.50401543, 36.31019723,  1.        ],\n",
       "       [29.27309483, 32.19291915,  1.        ],\n",
       "       [26.80289603, 21.74738356,  1.        ],\n",
       "       [23.29460807, 29.71406575,  1.        ],\n",
       "       [26.81745469, 21.31737837,  1.        ],\n",
       "       [44.64769794, 28.62818393,  1.        ],\n",
       "       [25.16244638, 37.01424064,  1.        ],\n",
       "       [26.52052974, 39.31698734,  1.        ],\n",
       "       [28.42056721, 20.94789661,  1.        ],\n",
       "       [27.49154061, 32.38490627,  1.        ],\n",
       "       [29.72298947, 32.28402954,  1.        ],\n",
       "       [32.74138059, 24.59441582,  1.        ],\n",
       "       [23.07018192, 31.79847192,  1.        ],\n",
       "       [36.37201165, 28.74558339,  1.        ],\n",
       "       [34.04801435, 31.11960476,  1.        ],\n",
       "       [39.96717306, 25.57615196,  1.        ],\n",
       "       [27.54705377, 21.90715604,  1.        ],\n",
       "       [33.85979798, 27.41582186,  1.        ],\n",
       "       [34.8563227 , 26.36388866,  1.        ],\n",
       "       [27.81112391, 26.72679402,  1.        ],\n",
       "       [31.40616066, 22.29584315,  1.        ],\n",
       "       [30.63263767, 25.99721751,  1.        ],\n",
       "       [20.65016298, 25.99832051,  1.        ],\n",
       "       [29.97816086, 28.60457123,  1.        ],\n",
       "       [35.37906153, 23.45296915,  1.        ],\n",
       "       [26.8708763 , 19.59085192,  1.        ],\n",
       "       [28.75331496, 30.77049848,  1.        ],\n",
       "       [31.82145397, 31.10556069,  1.        ],\n",
       "       [29.48463127, 28.22265903,  1.        ],\n",
       "       [13.2186054 , 30.53594429,  1.        ],\n",
       "       [28.35961171, 22.85729599,  1.        ],\n",
       "       [21.88462545, 20.78388239,  1.        ],\n",
       "       [21.55112425, 34.43495275,  1.        ],\n",
       "       [28.50414226, 26.58523772,  1.        ],\n",
       "       [30.74733567, 32.11785287,  1.        ],\n",
       "       [33.44166249, 30.92541249,  1.        ],\n",
       "       [24.19077725, 27.25950066,  1.        ],\n",
       "       [37.63146758, 28.98195495,  1.        ],\n",
       "       [29.35561993, 32.78219567,  1.        ],\n",
       "       [28.42940837, 18.63386801,  1.        ],\n",
       "       [22.69933284, 27.29221716,  1.        ],\n",
       "       [26.98345501, 29.05952383,  1.        ],\n",
       "       [20.28145784, 29.51079023,  1.        ],\n",
       "       [29.50082246, 19.93540143,  1.        ],\n",
       "       [31.52258804, 32.28460129,  1.        ],\n",
       "       [27.85890821, 19.34519047,  1.        ],\n",
       "       [34.40181325, 30.72320448,  1.        ],\n",
       "       [33.54449427, 21.59852837,  1.        ],\n",
       "       [29.99526706, 26.1716923 ,  1.        ],\n",
       "       [28.56991996, 22.41781056,  1.        ],\n",
       "       [35.2660905 , 30.08432979,  1.        ],\n",
       "       [21.27634165, 27.62771329,  1.        ],\n",
       "       [25.40187811, 19.51379768,  1.        ],\n",
       "       [25.10887245, 34.90572781,  1.        ],\n",
       "       [27.2182421 , 21.99970719,  1.        ],\n",
       "       [20.81840336, 25.79412136,  1.        ],\n",
       "       [30.22033836, 24.59542287,  1.        ],\n",
       "       [25.23671938, 38.30401147,  1.        ],\n",
       "       [31.22981709, 22.41593167,  1.        ],\n",
       "       [38.75478046, 29.87508167,  1.        ],\n",
       "       [33.50288757, 21.97993185,  1.        ],\n",
       "       [36.26065636, 35.72503647,  1.        ],\n",
       "       [32.39068076, 23.59888934,  1.        ],\n",
       "       [27.90103904, 30.44011036,  1.        ],\n",
       "       [33.44175509, 21.95224644,  1.        ],\n",
       "       [30.03188686, 34.80925183,  1.        ],\n",
       "       [31.27492367, 34.30931807,  1.        ],\n",
       "       [30.51215226, 30.12162525,  1.        ],\n",
       "       [32.7769279 , 25.12688731,  1.        ],\n",
       "       [29.8936714 , 25.96115963,  1.        ],\n",
       "       [23.59038112, 32.45958151,  1.        ]])"
      ]
     },
     "execution_count": 9,
     "metadata": {},
     "output_type": "execute_result"
    }
   ],
   "source": [
    "p"
   ]
  },
  {
   "cell_type": "code",
   "execution_count": 10,
   "metadata": {},
   "outputs": [
    {
     "data": {
      "text/plain": [
       "array([[-1.36446318, -0.87483566,  1.        ],\n",
       "       [-1.49137261, -0.49803773,  1.        ],\n",
       "       [-1.40665638, -0.74539513,  1.        ],\n",
       "       [-1.40721386, -0.74140402,  1.        ],\n",
       "       [-1.49149434, -0.47446611,  1.        ],\n",
       "       [-1.38214185, -0.81117196,  1.        ],\n",
       "       [-1.66016107,  0.05526512,  1.        ],\n",
       "       [-1.57114581, -0.22743506,  1.        ],\n",
       "       [-1.39399606, -0.78831668,  1.        ],\n",
       "       [-1.5073323 , -0.41481959,  1.        ],\n",
       "       [-1.36400442, -0.87836267,  1.        ],\n",
       "       [-1.65992058,  0.02007682,  1.        ],\n",
       "       [-1.38379495, -0.82569266,  1.        ],\n",
       "       [-1.46871044, -0.54844463,  1.        ],\n",
       "       [-1.33943397, -0.94230058,  1.        ],\n",
       "       [-1.51333743, -0.42067737,  1.        ],\n",
       "       [-1.57674797, -0.21809985,  1.        ],\n",
       "       [-1.47627673, -0.51798732,  1.        ],\n",
       "       [-1.44099572, -0.63319569,  1.        ],\n",
       "       [-1.52898157, -0.33494912,  1.        ],\n",
       "       [-1.43874286, -0.63717552,  1.        ],\n",
       "       [-1.40878748, -0.72162293,  1.        ],\n",
       "       [-1.64702865, -0.01821432,  1.        ],\n",
       "       [-1.55891508, -0.25955442,  1.        ],\n",
       "       [-1.50878617, -0.43280844,  1.        ],\n",
       "       [-1.31484731, -1.066215  ,  1.        ],\n",
       "       [-1.24426925, -1.2691978 ,  1.        ],\n",
       "       [-1.39429881, -0.77846834,  1.        ],\n",
       "       [-1.37980215, -0.81579765,  1.        ],\n",
       "       [-1.70308392,  0.1754424 ,  1.        ],\n",
       "       [-1.50750589, -0.42405886,  1.        ],\n",
       "       [-1.39682129, -0.79453957,  1.        ],\n",
       "       [-1.58535109, -0.20253866,  1.        ],\n",
       "       [-1.38986595, -0.81703238,  1.        ],\n",
       "       [-1.30260599, -1.04290375,  1.        ],\n",
       "       [-1.64894608,  0.01530819,  1.        ],\n",
       "       [-1.64985997,  0.02520545,  1.        ],\n",
       "       [-1.36225965, -0.89857232,  1.        ],\n",
       "       [-1.5401199 , -0.32622283,  1.        ],\n",
       "       [-1.50158137, -0.44140096,  1.        ],\n",
       "       [-1.36176385, -0.8825907 ,  1.        ],\n",
       "       [-1.62238067, -0.08351473,  1.        ],\n",
       "       [-1.37409942, -0.83131864,  1.        ],\n",
       "       [-1.42778818, -0.66473937,  1.        ],\n",
       "       [-1.30565258, -1.04299585,  1.        ],\n",
       "       [-1.38861131, -0.81736274,  1.        ],\n",
       "       [-1.38509841, -0.80335585,  1.        ],\n",
       "       [-1.36137909, -0.8768764 ,  1.        ],\n",
       "       [-1.45604901, -0.59736902,  1.        ],\n",
       "       [-1.34582988, -0.9390584 ,  1.        ],\n",
       "       [-1.40572013, -0.74820563,  1.        ],\n",
       "       [-1.58744735, -0.21533769,  1.        ],\n",
       "       [-1.44960502, -0.6087206 ,  1.        ],\n",
       "       [-1.320297  , -1.00803353,  1.        ],\n",
       "       [-1.36168896, -0.90817965,  1.        ],\n",
       "       [-1.49707541, -0.46007666,  1.        ],\n",
       "       [-1.45612274, -0.58057739,  1.        ],\n",
       "       [-1.45160732, -0.60427845,  1.        ],\n",
       "       [-1.95424826,  0.89596655,  1.        ],\n",
       "       [-1.39164195, -0.80360941,  1.        ],\n",
       "       [-1.46559602, -0.60254069,  1.        ],\n",
       "       [-1.70088959,  0.1616414 ,  1.        ],\n",
       "       [-1.44345361, -0.63498775,  1.        ],\n",
       "       [-1.48396558, -0.49442422,  1.        ],\n",
       "       [-1.43288789, -0.6501952 ,  1.        ],\n",
       "       [-1.52817359, -0.38280679,  1.        ],\n",
       "       [-1.36428547, -0.85959092,  1.        ],\n",
       "       [-1.51381457, -0.40327531,  1.        ],\n",
       "       [-1.3266556 , -1.01394671,  1.        ],\n",
       "       [-1.56031011, -0.28805422,  1.        ],\n",
       "       [-1.50296804, -0.44919806,  1.        ],\n",
       "       [-1.65762404,  0.01052783,  1.        ],\n",
       "       [-1.33381229, -0.9858315 ,  1.        ],\n",
       "       [-1.47489081, -0.52091842,  1.        ],\n",
       "       [-1.34478138, -0.9579564 ,  1.        ],\n",
       "       [-1.41887196, -0.69245728,  1.        ],\n",
       "       [-1.31403838, -1.03416199,  1.        ],\n",
       "       [-1.41652955, -0.71577763,  1.        ],\n",
       "       [-1.38229233, -0.8329377 ,  1.        ],\n",
       "       [-1.40147164, -0.74607641,  1.        ],\n",
       "       [-1.59957269, -0.17069331,  1.        ],\n",
       "       [-1.38151349, -0.85206224,  1.        ],\n",
       "       [-1.6213418 , -0.07466268,  1.        ],\n",
       "       [-1.39470544, -0.79925288,  1.        ],\n",
       "       [-1.5796076 , -0.2395018 ,  1.        ],\n",
       "       [-1.39187051, -0.7947146 ,  1.        ],\n",
       "       [-1.66450806,  0.06626075,  1.        ],\n",
       "       [-1.34948284, -0.92791798,  1.        ],\n",
       "       [-1.36351644, -0.85921082,  1.        ],\n",
       "       [-1.31948068, -1.01670567,  1.        ],\n",
       "       [-1.45370967, -0.57447872,  1.        ],\n",
       "       [-1.35253184, -0.91370256,  1.        ],\n",
       "       [-1.50659269, -0.4330464 ,  1.        ],\n",
       "       [-1.31972063, -1.01613824,  1.        ],\n",
       "       [-1.52863328, -0.35254611,  1.        ],\n",
       "       [-1.50332918, -0.42977545,  1.        ],\n",
       "       [-1.46188227, -0.56683235,  1.        ],\n",
       "       [-1.36829362, -0.86134505,  1.        ],\n",
       "       [-1.41501646, -0.7210989 ,  1.        ],\n",
       "       [-1.62015056, -0.08743632,  1.        ]])"
      ]
     },
     "execution_count": 10,
     "metadata": {},
     "output_type": "execute_result"
    }
   ],
   "source": [
    "q"
   ]
  },
  {
   "cell_type": "code",
   "execution_count": 11,
   "metadata": {},
   "outputs": [],
   "source": [
    "p = np.array([[384.37011284557997,404.98615093770684],\n",
    "             [470.66420458240714,272.46308148472224],\n",
    "             [742.6446901458,324.08543993443135],\n",
    "             [732.6284116406325,492.05072563647]])\n",
    "\n",
    "\n",
    "P = np.array([[0,0],\n",
    "              [1,0],\n",
    "              [1,1],\n",
    "              [0,1]])"
   ]
  },
  {
   "cell_type": "code",
   "execution_count": 12,
   "metadata": {},
   "outputs": [
    {
     "data": {
      "text/plain": [
       "(4, 2)"
      ]
     },
     "execution_count": 12,
     "metadata": {},
     "output_type": "execute_result"
    }
   ],
   "source": [
    "P.shape"
   ]
  },
  {
   "cell_type": "code",
   "execution_count": 13,
   "metadata": {},
   "outputs": [
    {
     "name": "stdout",
     "output_type": "stream",
     "text": [
      "A = [[ 1.00436266e+00 -5.90982189e+00 -5.00073060e+02]\n",
      " [ 2.46763131e-01 -7.84391994e+00  1.47417835e+03]\n",
      " [-6.52168319e-01  5.15652940e+00  1.29790415e-02]],\n",
      " H = [[ 1.00436266  0.77553303  0.3701197 ]\n",
      " [ 2.1741642  -1.44460715 -1.74080037]\n",
      " [-1.05114838 -0.20122354  0.93830192]]\n"
     ]
    }
   ],
   "source": [
    "def svd_computation_homography(p: np.ndarray, q: np.ndarray):\n",
    "    '''\n",
    "    Given two nx2 arrays of affine points, the function computes the homography between these two sets of points by the SVD method. \n",
    "    Output: H a 3x3 matrix\n",
    "    '''\n",
    "    M = np.zeros((2*len(p)-2,9))\n",
    "    for i in range(len(p)-1):\n",
    "        M[2*i] = [p[i][0]*1,p[i][1]*1,1*1,0,0,0,-p[i][0]*q[i][0],-p[i][1]*q[i][0],-1*q[i][0]]\n",
    "        M[2*i+1] = [0,0,0,p[i][0],p[i][1],1,-p[i][0]*q[i][1],-p[i][1]*q[i][1],-q[i][1]]\n",
    "    MTM = M.T.dot(M)\n",
    "    U , _ , __= np.linalg.svd(MTM)\n",
    "    A = np.reshape(U.T[-1],(3,3))\n",
    "    return A\n",
    "\n",
    "A = svd_computation_homography(p,q)\n",
    "print(f\"A = {A*(H[0][0]/A[0][0])},\\n H = {H}\") # A is multiplied by the first element of H divided by the first element of A"
   ]
  },
  {
   "cell_type": "code",
   "execution_count": 16,
   "metadata": {},
   "outputs": [
    {
     "ename": "ValueError",
     "evalue": "not enough values to unpack (expected 3, got 2)",
     "output_type": "error",
     "traceback": [
      "\u001b[1;31m---------------------------------------------------------------------------\u001b[0m",
      "\u001b[1;31mValueError\u001b[0m                                Traceback (most recent call last)",
      "Cell \u001b[1;32mIn[16], line 15\u001b[0m\n\u001b[0;32m      8\u001b[0m     T \u001b[38;5;241m=\u001b[39m np\u001b[38;5;241m.\u001b[39marray([\n\u001b[0;32m      9\u001b[0m         [\u001b[38;5;241m1\u001b[39m\u001b[38;5;241m/\u001b[39mstd_x,\u001b[38;5;241m0\u001b[39m,\u001b[38;5;241m-\u001b[39mavg_x\u001b[38;5;241m/\u001b[39mstd_x],\n\u001b[0;32m     10\u001b[0m         [\u001b[38;5;241m0\u001b[39m,\u001b[38;5;241m1\u001b[39m\u001b[38;5;241m/\u001b[39mstd_y,\u001b[38;5;241m-\u001b[39mavg_y\u001b[38;5;241m/\u001b[39mstd_y],\n\u001b[0;32m     11\u001b[0m         [\u001b[38;5;241m0\u001b[39m,      \u001b[38;5;241m0\u001b[39m,          \u001b[38;5;241m1\u001b[39m]\n\u001b[0;32m     12\u001b[0m     ])\n\u001b[0;32m     13\u001b[0m     \u001b[38;5;28;01mreturn\u001b[39;00m T\n\u001b[1;32m---> 15\u001b[0m T \u001b[38;5;241m=\u001b[39m \u001b[43mnormalization\u001b[49m\u001b[43m(\u001b[49m\u001b[43mp\u001b[49m\u001b[43m)\u001b[49m\n\u001b[0;32m     16\u001b[0m p_normalized \u001b[38;5;241m=\u001b[39m np\u001b[38;5;241m.\u001b[39marray(p)\n\u001b[0;32m     17\u001b[0m \u001b[38;5;28;01mfor\u001b[39;00m i \u001b[38;5;129;01min\u001b[39;00m \u001b[38;5;28mrange\u001b[39m(\u001b[38;5;28mlen\u001b[39m(p_normalized)):\n",
      "Cell \u001b[1;32mIn[16], line 6\u001b[0m, in \u001b[0;36mnormalization\u001b[1;34m(p)\u001b[0m\n\u001b[0;32m      1\u001b[0m \u001b[38;5;28;01mdef\u001b[39;00m \u001b[38;5;21mnormalization\u001b[39m(p: np\u001b[38;5;241m.\u001b[39mndarray):\n\u001b[0;32m      2\u001b[0m \u001b[38;5;250m    \u001b[39m\u001b[38;5;124;03m'''\u001b[39;00m\n\u001b[0;32m      3\u001b[0m \u001b[38;5;124;03m    Given a nx2 array of affine points, the function computes the normalizing homography of these points.\u001b[39;00m\n\u001b[0;32m      4\u001b[0m \u001b[38;5;124;03m    Output: T a 3x3 matrix (which lies in Aff2).\u001b[39;00m\n\u001b[0;32m      5\u001b[0m \u001b[38;5;124;03m    '''\u001b[39;00m\n\u001b[1;32m----> 6\u001b[0m     avg_x, avg_y, _ \u001b[38;5;241m=\u001b[39m np\u001b[38;5;241m.\u001b[39mmean(p,axis\u001b[38;5;241m=\u001b[39m\u001b[38;5;241m0\u001b[39m)\n\u001b[0;32m      7\u001b[0m     std_x, std_y, _ \u001b[38;5;241m=\u001b[39m np\u001b[38;5;241m.\u001b[39mstd(p,axis\u001b[38;5;241m=\u001b[39m\u001b[38;5;241m0\u001b[39m)\n\u001b[0;32m      8\u001b[0m     T \u001b[38;5;241m=\u001b[39m np\u001b[38;5;241m.\u001b[39marray([\n\u001b[0;32m      9\u001b[0m         [\u001b[38;5;241m1\u001b[39m\u001b[38;5;241m/\u001b[39mstd_x,\u001b[38;5;241m0\u001b[39m,\u001b[38;5;241m-\u001b[39mavg_x\u001b[38;5;241m/\u001b[39mstd_x],\n\u001b[0;32m     10\u001b[0m         [\u001b[38;5;241m0\u001b[39m,\u001b[38;5;241m1\u001b[39m\u001b[38;5;241m/\u001b[39mstd_y,\u001b[38;5;241m-\u001b[39mavg_y\u001b[38;5;241m/\u001b[39mstd_y],\n\u001b[0;32m     11\u001b[0m         [\u001b[38;5;241m0\u001b[39m,      \u001b[38;5;241m0\u001b[39m,          \u001b[38;5;241m1\u001b[39m]\n\u001b[0;32m     12\u001b[0m     ])\n",
      "\u001b[1;31mValueError\u001b[0m: not enough values to unpack (expected 3, got 2)"
     ]
    }
   ],
   "source": [
    "def normalization(p: np.ndarray):\n",
    "    '''\n",
    "    Given a nx2 array of affine points, the function computes the normalizing homography of these points.\n",
    "    Output: T a 3x3 matrix (which lies in Aff2).\n",
    "    '''\n",
    "    avg_x, avg_y, _ = np.mean(p,axis=0)\n",
    "    std_x, std_y, _ = np.std(p,axis=0)\n",
    "    T = np.array([\n",
    "        [1/std_x,0,-avg_x/std_x],\n",
    "        [0,1/std_y,-avg_y/std_y],\n",
    "        [0,      0,          1]\n",
    "    ])\n",
    "    return T\n",
    "\n",
    "T = normalization(p)\n",
    "p_normalized = np.array(p)\n",
    "for i in range(len(p_normalized)):\n",
    "    p_normalized[i] = T@p_normalized[i]\n",
    "avg_x, avg_y, _ = np.mean(p_normalized,axis=0)\n",
    "print(f\"avg_x = {avg_x.round(5)}\\navg_y = {avg_y.round(5)}\")\n",
    "std_x, std_y, _ = np.std(p_normalized,axis=0)\n",
    "print(f\"std_x = {std_x.round(5)}\\nstd_y = {std_y.round(5)}\")\n"
   ]
  },
  {
   "cell_type": "code",
   "execution_count": null,
   "metadata": {},
   "outputs": [
    {
     "ename": "ValueError",
     "evalue": "not enough values to unpack (expected 3, got 2)",
     "output_type": "error",
     "traceback": [
      "\u001b[1;31m---------------------------------------------------------------------------\u001b[0m",
      "\u001b[1;31mValueError\u001b[0m                                Traceback (most recent call last)",
      "Cell \u001b[1;32mIn[15], line 15\u001b[0m\n\u001b[0;32m     13\u001b[0m     B \u001b[38;5;241m=\u001b[39m svd_computation_homography(p_normalized,q_normalized)\n\u001b[0;32m     14\u001b[0m     \u001b[38;5;28;01mreturn\u001b[39;00m (inv(T2))\u001b[38;5;241m.\u001b[39mdot(B\u001b[38;5;241m.\u001b[39mdot(T1))\n\u001b[1;32m---> 15\u001b[0m A \u001b[38;5;241m=\u001b[39m \u001b[43mhomography\u001b[49m\u001b[43m(\u001b[49m\u001b[43mp\u001b[49m\u001b[43m,\u001b[49m\u001b[43mq\u001b[49m\u001b[43m)\u001b[49m\n\u001b[0;32m     16\u001b[0m A \u001b[38;5;241m*\u001b[39m\u001b[38;5;241m=\u001b[39m H[\u001b[38;5;241m0\u001b[39m][\u001b[38;5;241m0\u001b[39m]\u001b[38;5;241m/\u001b[39mA[\u001b[38;5;241m0\u001b[39m][\u001b[38;5;241m0\u001b[39m] \u001b[38;5;66;03m# A is multiplied by the first element of H divided by the first element of A\u001b[39;00m\n\u001b[0;32m     17\u001b[0m \u001b[38;5;28mprint\u001b[39m(\u001b[38;5;124mf\u001b[39m\u001b[38;5;124m\"\u001b[39m\u001b[38;5;124mA = \u001b[39m\u001b[38;5;132;01m{\u001b[39;00mA\u001b[38;5;132;01m}\u001b[39;00m\u001b[38;5;124m,\u001b[39m\u001b[38;5;130;01m\\n\u001b[39;00m\u001b[38;5;124m H = \u001b[39m\u001b[38;5;132;01m{\u001b[39;00mH\u001b[38;5;132;01m}\u001b[39;00m\u001b[38;5;124m\"\u001b[39m) \n",
      "Cell \u001b[1;32mIn[15], line 6\u001b[0m, in \u001b[0;36mhomography\u001b[1;34m(p, q)\u001b[0m\n\u001b[0;32m      1\u001b[0m \u001b[38;5;28;01mdef\u001b[39;00m \u001b[38;5;21mhomography\u001b[39m(p: np\u001b[38;5;241m.\u001b[39mndarray, q: np\u001b[38;5;241m.\u001b[39mndarray):\n\u001b[0;32m      2\u001b[0m \u001b[38;5;250m    \u001b[39m\u001b[38;5;124;03m'''\u001b[39;00m\n\u001b[0;32m      3\u001b[0m \u001b[38;5;124;03m    Given two nx2 arrays of affine points, the function computes the homography between these two sets of points by normalizations and the SVD method. \u001b[39;00m\n\u001b[0;32m      4\u001b[0m \u001b[38;5;124;03m    Output: H a 3x3 matrix\u001b[39;00m\n\u001b[0;32m      5\u001b[0m \u001b[38;5;124;03m    '''\u001b[39;00m\n\u001b[1;32m----> 6\u001b[0m     T1 \u001b[38;5;241m=\u001b[39m \u001b[43mnormalization\u001b[49m\u001b[43m(\u001b[49m\u001b[43mp\u001b[49m\u001b[43m)\u001b[49m\n\u001b[0;32m      7\u001b[0m     T2 \u001b[38;5;241m=\u001b[39m normalization(q)\n\u001b[0;32m      8\u001b[0m     p_normalized \u001b[38;5;241m=\u001b[39m np\u001b[38;5;241m.\u001b[39marray(p)\n",
      "Cell \u001b[1;32mIn[14], line 6\u001b[0m, in \u001b[0;36mnormalization\u001b[1;34m(p)\u001b[0m\n\u001b[0;32m      1\u001b[0m \u001b[38;5;28;01mdef\u001b[39;00m \u001b[38;5;21mnormalization\u001b[39m(p: np\u001b[38;5;241m.\u001b[39mndarray):\n\u001b[0;32m      2\u001b[0m \u001b[38;5;250m    \u001b[39m\u001b[38;5;124;03m'''\u001b[39;00m\n\u001b[0;32m      3\u001b[0m \u001b[38;5;124;03m    Given a nx2 array of affine points, the function computes the normalizing homography of these points.\u001b[39;00m\n\u001b[0;32m      4\u001b[0m \u001b[38;5;124;03m    Output: T a 3x3 matrix (which lies in Aff2).\u001b[39;00m\n\u001b[0;32m      5\u001b[0m \u001b[38;5;124;03m    '''\u001b[39;00m\n\u001b[1;32m----> 6\u001b[0m     avg_x, avg_y, _ \u001b[38;5;241m=\u001b[39m np\u001b[38;5;241m.\u001b[39mmean(p,axis\u001b[38;5;241m=\u001b[39m\u001b[38;5;241m0\u001b[39m)\n\u001b[0;32m      7\u001b[0m     std_x, std_y, _ \u001b[38;5;241m=\u001b[39m np\u001b[38;5;241m.\u001b[39mstd(p,axis\u001b[38;5;241m=\u001b[39m\u001b[38;5;241m0\u001b[39m)\n\u001b[0;32m      8\u001b[0m     T \u001b[38;5;241m=\u001b[39m np\u001b[38;5;241m.\u001b[39marray([\n\u001b[0;32m      9\u001b[0m         [\u001b[38;5;241m1\u001b[39m\u001b[38;5;241m/\u001b[39mstd_x,\u001b[38;5;241m0\u001b[39m,\u001b[38;5;241m-\u001b[39mavg_x\u001b[38;5;241m/\u001b[39mstd_x],\n\u001b[0;32m     10\u001b[0m         [\u001b[38;5;241m0\u001b[39m,\u001b[38;5;241m1\u001b[39m\u001b[38;5;241m/\u001b[39mstd_y,\u001b[38;5;241m-\u001b[39mavg_y\u001b[38;5;241m/\u001b[39mstd_y],\n\u001b[0;32m     11\u001b[0m         [\u001b[38;5;241m0\u001b[39m,      \u001b[38;5;241m0\u001b[39m,          \u001b[38;5;241m1\u001b[39m]\n\u001b[0;32m     12\u001b[0m     ])\n",
      "\u001b[1;31mValueError\u001b[0m: not enough values to unpack (expected 3, got 2)"
     ]
    }
   ],
   "source": [
    "def homography(p: np.ndarray, q: np.ndarray):\n",
    "    '''\n",
    "    Given two nx2 arrays of affine points, the function computes the homography between these two sets of points by normalizations and the SVD method. \n",
    "    Output: H a 3x3 matrix\n",
    "    '''\n",
    "    T1 = normalization(p)\n",
    "    T2 = normalization(q)\n",
    "    p_normalized = np.array(p)\n",
    "    q_normalized = np.array(p)\n",
    "    for i in range(len(p)):\n",
    "        p_normalized[i] = T1@p[i] \n",
    "        q_normalized[i] = T2@q[i]    \n",
    "    B = svd_computation_homography(p_normalized,q_normalized)\n",
    "    return (inv(T2)).dot(B.dot(T1))\n",
    "A = homography(p,q)\n",
    "A *= H[0][0]/A[0][0] # A is multiplied by the first element of H divided by the first element of A\n",
    "print(f\"A = {A},\\n H = {H}\") "
   ]
  },
  {
   "cell_type": "code",
   "execution_count": null,
   "metadata": {},
   "outputs": [
    {
     "name": "stdout",
     "output_type": "stream",
     "text": [
      "9.423575217886745e-31\n"
     ]
    }
   ],
   "source": [
    "def geometric_error(H: np.ndarray,p: np.ndarray, q: np.ndarray):\n",
    "    '''\n",
    "    Given an homography H and two nx2 arrays of affine points, the function computes the residual geometric error. \n",
    "    Output: float\n",
    "    '''\n",
    "    A = np.reshape(H,(3,3))\n",
    "    Error = 0    \n",
    "    for i in range(len(p)):\n",
    "\n",
    "        u_i = q[i][0]\n",
    "        v_i = q[i][1]\n",
    "        \n",
    "        A_pi_x = (A[0].T@p[i])/(A[2].T@p[i])\n",
    "        A_pi_y = (A[1].T@p[i])/(A[2].T@p[i])\n",
    "        \n",
    "        Error += (A_pi_x - u_i)**2 + (A_pi_y - v_i)**2\n",
    "\n",
    "    return Error\n",
    "print(geometric_error(A,p,q))"
   ]
  },
  {
   "cell_type": "code",
   "execution_count": null,
   "metadata": {},
   "outputs": [
    {
     "name": "stdout",
     "output_type": "stream",
     "text": [
      "9.423575217886745e-31\n",
      "9.423575217886745e-31\n"
     ]
    }
   ],
   "source": [
    "def refine_homography(H: np.ndarray,p: np.ndarray, q: np.ndarray):\n",
    "    '''\n",
    "    Given an homography H and two nx2 arrays of affine points, the function refines the homography by a non-linear minimization of the geometric error. \n",
    "\n",
    "    See: scipy.optimize (least_square: Newton with Levenberg-Marquardt).\n",
    "\n",
    "    Output: a 3x3 matrix\n",
    "    '''\n",
    "    A = np.matrix.flatten(H)\n",
    "    # return scipy.optimize.minimize(geometric_error,x0=A,args=(p,q))\n",
    "    return scipy.optimize.least_squares(geometric_error,x0=A,args=(p,q))\n",
    "\n",
    "B = np.reshape(refine_homography(A,p,q).x,(3,3))\n",
    "print(geometric_error(A,p,q))\n",
    "print(geometric_error(B,p,q))"
   ]
  },
  {
   "cell_type": "markdown",
   "metadata": {},
   "source": [
    "# Conics in $\\mathbb{P}^2$"
   ]
  },
  {
   "cell_type": "code",
   "execution_count": null,
   "metadata": {},
   "outputs": [
    {
     "name": "stdout",
     "output_type": "stream",
     "text": [
      "we classified: HYPERBOLA, the conic is HYPERBOLA\n",
      "we classified: ELLIPSE, the conic is ELLIPSE\n",
      "we classified: TWO_LINES, the conic is TWO_LINES\n",
      "we classified: DOUBLE_LINE, the conic is DOUBLE_LINE\n",
      "we classified: PARABOLA, the conic is PARABOLA\n",
      "we classified: PARABOLA, the conic is PARABOLA\n",
      "we classified: HYPERBOLA, the conic is HYPERBOLA\n",
      "we classified: ELLIPSE, the conic is ELLIPSE\n"
     ]
    }
   ],
   "source": [
    "from enum import Enum\n",
    "class ConicInformation(Enum):\n",
    "    DOUBLE_LINE = 1\n",
    "    TWO_LINES = 2\n",
    "    PARABOLA = 3\n",
    "    HYPERBOLA = 4\n",
    "    ELLIPSE = 5\n",
    "\n",
    "def conic_classification(C):\n",
    "    '''\n",
    "    Given a symmatric 3x3 matrix, the function returns the sort of conic it defines in P^2. \n",
    "    Returns a variable of type ConicInformation\n",
    "    '''\n",
    "    if np.any(C.T != C):\n",
    "        raise AttributeError(\"C must be symetric\")\n",
    "    if np.linalg.matrix_rank(C)==1:      #Double line!\n",
    "        return ConicInformation.DOUBLE_LINE   \n",
    "    elif np.linalg.matrix_rank(C)==2:    #Two lines!    \n",
    "        return  ConicInformation.TWO_LINES\n",
    "    root_of_C = (2*C[0,1])**2 - 4*C[0][0]*C[1][1]\n",
    "    if root_of_C == 0:\n",
    "        return ConicInformation.PARABOLA\n",
    "    if root_of_C > 0:\n",
    "        return ConicInformation.HYPERBOLA\n",
    "    if root_of_C < 0:\n",
    "        return ConicInformation.ELLIPSE\n",
    "    \n",
    "C = np.array([[2,9,-1],[9,7,-3],[-1,-3,4]])\n",
    "print(f\"we classified: {conic_classification(C).name}, the conic is {ConicInformation(4).name}\")\n",
    "C = np.array([[7,42,-5],[42,257,-211],[-5,-211,41]])\n",
    "print(f\"we classified: {conic_classification(C).name}, the conic is {ConicInformation(5).name}\")\n",
    "C = np.array([[1,2,3],[2,4,6],[3,6,43]])\n",
    "print(f\"we classified: {conic_classification(C).name}, the conic is {ConicInformation(2).name}\")\n",
    "C = np.array([[1,1,1],[1,1,1],[1,1,1]])\n",
    "print(f\"we classified: {conic_classification(C).name}, the conic is {ConicInformation(1).name}\")\n",
    "C = np.array([[1,-1,-1],[-1,1,-3],[-1,-3,4]])\n",
    "print(f\"we classified: {conic_classification(C).name}, the conic is {ConicInformation(3).name}\")\n",
    "C = np.array([[1,0,0],[0,0,-1/2],[0,-1/2,0]])\n",
    "print(f\"we classified: {conic_classification(C).name}, the conic is {ConicInformation(3).name}\")\n",
    "C = np.array([[0,-1/2,0],[-1/2,0,0],[0,0,1]])\n",
    "print(f\"we classified: {conic_classification(C).name}, the conic is {ConicInformation(4).name}\")\n",
    "C = np.array([[420,0,0],[0,69,0],[0,0,-1]])\n",
    "print(f\"we classified: {conic_classification(C).name}, the conic is {ConicInformation(5).name}\")"
   ]
  },
  {
   "cell_type": "code",
   "execution_count": null,
   "metadata": {},
   "outputs": [
    {
     "name": "stdout",
     "output_type": "stream",
     "text": [
      "p = [ 0.  -0.5  1. ]\n",
      "q = [-1.25  2.    1.  ]\n",
      "\n",
      "l^T*p =  0.0 \n",
      "l^T*q =  0.0\n"
     ]
    }
   ],
   "source": [
    "def parameters_l(l):\n",
    "    ortogonal_base = np.zeros((3,3))\n",
    "    ortogonal_base[0] = l\n",
    "    p = scipy.linalg.null_space(ortogonal_base).T\n",
    "    return p\n",
    "    \n",
    "l = np.array([8,4,2])\n",
    "p_q = parameters_l(l)\n",
    "print(f\"p = {p_q[0]/p_q[0][2]}\\nq = {p_q[1]/p_q[1][2]}\")\n",
    "print(\"\\nl^T*p = \",l.T@p_q[0],\"\\nl^T*q = \",(l.T@p_q[1]).round(10))"
   ]
  },
  {
   "cell_type": "code",
   "execution_count": null,
   "metadata": {},
   "outputs": [
    {
     "name": "stdout",
     "output_type": "stream",
     "text": [
      "p1 = [-4.16731518-8.58598203j  0.09727626+0.7154985j   1.        +0.j        ] \n",
      "p2 = [-4.16731518+8.58598203j  0.09727626-0.7154985j   1.        -0.j        ]\n",
      "pT*C*p = -0j\n",
      "qT*C*q = 0j\n"
     ]
    }
   ],
   "source": [
    "from numpy import complex128\n",
    "\n",
    "\n",
    "def intersection_conic_line(C,l):\n",
    "    '''\n",
    "    Given a non-degenarated conic C and a line l in P^2, the function returns the two intersection points of l with C (with complex coordinates).  \n",
    "    '''\n",
    "    # One must turn the line into a parametric representation and then look for the intersection point with the conic. \n",
    "    p , q = parameters_l(l)\n",
    "    #the line is represented as p + (q - p)t. we can divide by t and get: p/t + q - p => (1-t/t)p + q , we can write w = (1-t/t) and get q + w * p. we will refer to w as t from now on\n",
    "    # so point in line is: x(t) = q1 + p1 * t,q2 + p2 * t,q3 + p3 * t)      where p = (p1,p2,p3) and q = (q1,q2,q3)\n",
    "    #if we do the equation x^T C x, we get a quadratic equation with t which we can solve\n",
    "    #we will write it as a*t^2 + b*t + c. \n",
    "    # a = sum(p_i*p_j*C_ij) , for all i and j = 1,2,3\n",
    "    # b = sum(q_i*p_j*C_ij + q_j*p_i*C_ij) , for all i and j = 1,2,3\n",
    "    # c = sum(q_i*q_j*C_ij) , for all i and j = 1,2,3\n",
    "    a = 0\n",
    "    b = 0\n",
    "    c = 0\n",
    "    if (p.T@C@p).round(5) == 0: #if the point p in on the conic, we will move it. so the code wont be over complicated.\n",
    "        p = p + 0.1*q\n",
    "        if (p.T@C@p).round(5) == 0: # if its on the conic again we will move it again. if we wanted to skip this we could have checked if p is in the conic and then get a linear equation for the other tangent point\n",
    "            p = p + 0.1*q\n",
    "    for i in range(3):\n",
    "        for j in range(3):\n",
    "            a += p[i]*p[j]*C[i][j]\n",
    "            b += q[i]*(p[j])*C[i][j] + q[j]*(p[i])*C[i][j]\n",
    "            c += q[i]*q[j]*C[i][j]\n",
    "    t1 = (-b + np.sqrt(b**2-4*a*c,dtype=complex128))/(2*a) #parameters\n",
    "    t2 = (-b - np.sqrt(b**2-4*a*c,dtype=complex128))/(2*a)\n",
    "    p1 = q + p*t1  #intersection points\n",
    "    p2 = q + p*t2\n",
    "    return p1,p2\n",
    "C = np.array([[7,42,-5],[42,257,-211],[-5,-211,41]])\n",
    "l = np.array([1,12,3])\n",
    "p1 , p2 = intersection_conic_line(C,l)\n",
    "print(f\"p1 = {p1/p1[2]} \\np2 = {p2/p2[2]}\")\n",
    "print(f\"pT*C*p = {(p1.T@C@p1).round(10)}\\nqT*C*q = {(p2.T@C@p2).round(10)}\")"
   ]
  },
  {
   "cell_type": "code",
   "execution_count": null,
   "metadata": {},
   "outputs": [
    {
     "name": "stdout",
     "output_type": "stream",
     "text": [
      "p = [ 0.99447245+0.j -0.16361311+0.j -0.00228776+0.j] \n",
      "q = [0.99447245+0.j 0.51029095+0.j 0.57773913+0.j]\n",
      "pT*C*p = 0j\n",
      "qT*C*q = 0j\n"
     ]
    },
    {
     "name": "stderr",
     "output_type": "stream",
     "text": [
      "C:\\Users\\yuval\\AppData\\Local\\Temp\\ipykernel_127332\\226279080.py:3: ComplexWarning: Casting complex values to real discards the imaginary part\n",
      "  ortogonal_base[0] = l\n"
     ]
    }
   ],
   "source": [
    "def tangency_points(C,p):\n",
    "    '''\n",
    "    Given a non-degenerated conic C and a point p, the function returns the two tangency points of tangent lines to C through p.  \n",
    "    Returns [q1,q2].\n",
    "    '''\n",
    "    cp = C@p # polar line of P!!!!!\n",
    "    if p.T@C@p==0:        \n",
    "        return cp\n",
    "    return intersection_conic_line(C,cp)\n",
    "C = np.array([[1,2,3],[2,4,6],[3,6,43]])\n",
    "p = np.array([5,3,2])\n",
    "p , q = tangency_points(C,p)\n",
    "print(f\"p = {p} \\nq = {q}\")\n",
    "print(f\"pT*C*p = {(p.T@C@p).round(10)}\\nqT*C*q = {(q.T@C@q).round(10)}\")"
   ]
  }
 ],
 "metadata": {
  "kernelspec": {
   "display_name": "Python 3",
   "language": "python",
   "name": "python3"
  },
  "language_info": {
   "codemirror_mode": {
    "name": "ipython",
    "version": 3
   },
   "file_extension": ".py",
   "mimetype": "text/x-python",
   "name": "python",
   "nbconvert_exporter": "python",
   "pygments_lexer": "ipython3",
   "version": "3.12.0"
  }
 },
 "nbformat": 4,
 "nbformat_minor": 2
}
