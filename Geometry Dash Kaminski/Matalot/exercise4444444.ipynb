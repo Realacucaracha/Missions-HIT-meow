{
 "cells": [
  {
   "cell_type": "markdown",
   "metadata": {},
   "source": [
    "# ${\\mathbb{NAMES:}}$\n",
    "1- ${Yuval\\ Kaver}$, id: 329\n",
    "\n",
    "2- ${Matan\\ Ginzburg}$, id: 215"
   ]
  },
  {
   "cell_type": "code",
   "execution_count": 1,
   "metadata": {},
   "outputs": [],
   "source": [
    "import numpy as np\n",
    "import scipy\n",
    "from numpy.linalg import pinv\n",
    "np.set_printoptions(suppress=True,precision=5)"
   ]
  },
  {
   "cell_type": "markdown",
   "metadata": {},
   "source": [
    "# Fundamental Matrix and Homographies"
   ]
  },
  {
   "cell_type": "markdown",
   "metadata": {},
   "source": [
    "Prove that for any homography $H$ from image 1 to image 2, through a plane that does not contain the camera centers, we have:\n",
    "$F \\sim [e']_x H$. "
   ]
  },
  {
   "cell_type": "markdown",
   "metadata": {},
   "source": [
    "Proof: <br> \n",
    "define $(p,p')$ as a matching pair of points in $I_1$ and $I_2$ <br>\n",
    "for every homography $H$ from $I_1$ to $I_2$ that satisfies the conditions mentioned above,<br>\n",
    "$$\n",
    "p' \\sim Hp\n",
    "$$ <br>\n",
    "we also know that $F$ transforms $p$ from $I_1$ to the corresponding epipolar line in $I_2$,<br>\n",
    "$$\n",
    "Fp \\sim [e']_x p'\\\\\n",
    "\\downarrow \\\\\n",
    "\\forall p : Fp \\sim [e']_x p' \\sim [e']_x H p \\\\\n",
    "\\forall p : Fp \\sim [e']_x H p \\\\\n",
    "$$\n",
    "since this holds for $\\forall p \\in I_1$ we get :\n",
    "$$\n",
    "F \\sim [e']_xH\n",
    "$$"
   ]
  },
  {
   "cell_type": "markdown",
   "metadata": {},
   "source": [
    "# Essential Matrix"
   ]
  },
  {
   "cell_type": "code",
   "execution_count": 2,
   "metadata": {},
   "outputs": [],
   "source": [
    "#creating 4 cameras\n",
    "K1 = np.array([[1, 0, 0],\n",
    "              [0, 1, 0],\n",
    "              [0, 0, 1]])\n",
    "K2 = np.array([[10, 0, 23],\n",
    "              [0, 95, 4],\n",
    "              [0, 0, 1]])\n",
    "K3 = np.array([[4, 0, 1],\n",
    "              [0, 2, 5],\n",
    "              [0, 0, 6]])\n",
    "K4 = np.array([[5.2, 0, 0.4],\n",
    "              [0, 4.5, 15],\n",
    "              [0, 0, 10]])\n",
    "R2 = np.array([[1,0,0],\n",
    "              [0,0.5,-0.8660254],   \n",
    "              [0,0.8660254,0.5]])\n",
    "R3 = np.array([[0.93969262, 0.17101007, 0.29619813],\n",
    "             [0.0, 0.8660254, -0.5],\n",
    "             [-0.34202014, 0.46984631, 0.81379768]])\n",
    "R4 = np.array([[0.70710678, -0.70710678, 0.0],\n",
    "             [0.35355339, 0.35355339, -0.8660254],\n",
    "             [0.61237244, 0.61237244, 0.5]])\n",
    "\n",
    "t2 = np.array([1, 5, 2]).reshape(3, 1)\n",
    "t3 = np.array([4, 2, 3]).reshape(3, 1)\n",
    "t4 = np.array([0.3, 8, 1.7]).reshape(3, 1)\n",
    "\n",
    "a = np.zeros((3,1))\n",
    "\n",
    "M1 = np.hstack(( K1 , a ))\n",
    "M2 = np.hstack(( K2@R2 , K2@t2 ))\n",
    "M3 = np.hstack(( K3@R3 , K3@t3 ))\n",
    "M4 = np.hstack(( K4@R4 , K4@t4 ))"
   ]
  },
  {
   "cell_type": "code",
   "execution_count": 3,
   "metadata": {},
   "outputs": [],
   "source": [
    "def essential_matrix_from_motion(R,t):\n",
    "    tt = t.reshape(3)\n",
    "    _t_ = np.array([\n",
    "        [0,-tt[2],tt[1]],\n",
    "        [tt[2],0,-tt[0]],\n",
    "        [-tt[1],tt[0],0]])\n",
    "    E = _t_ @ R\n",
    "    return E"
   ]
  },
  {
   "cell_type": "code",
   "execution_count": 4,
   "metadata": {},
   "outputs": [
    {
     "name": "stdout",
     "output_type": "stream",
     "text": [
      "[[ 0.       3.33013  4.23205]\n",
      " [ 2.      -0.86603 -0.5    ]\n",
      " [-5.       0.5     -0.86603]]\n"
     ]
    }
   ],
   "source": [
    "E = essential_matrix_from_motion(R2,t2)\n",
    "print (E)"
   ]
  },
  {
   "cell_type": "code",
   "execution_count": 5,
   "metadata": {},
   "outputs": [],
   "source": [
    "def motion_from_essential_matrix(E):\n",
    "    U , sigma , V_T= np.linalg.svd(E)\n",
    "    sigma = np.diag(sigma)\n",
    "    sigma[2,2] = 0\n",
    "    \n",
    "    W = np.array([[0,-1,0],     #מטריצת סיבוב\n",
    "              [1,0,0],\n",
    "              [0,0,1]])\n",
    "\n",
    "    Z = np.diag([1,1,0])@W         #מכפלה וקטורית בבסיס הסטנדרטי יחסית לוקטור טרנספוז (0,0,1)\n",
    "\n",
    "    tt = U@Z@U.T\n",
    "    R1 = U@W@V_T\n",
    "    R2 = U@W.T@V_T\n",
    "    t = np.array([tt[1][2], tt[2][0],tt[0][1]]).T\n",
    "\n",
    "    if np.linalg.det(R1) == 1 :\n",
    "        return R1,t\n",
    "    return R2,t"
   ]
  },
  {
   "cell_type": "code",
   "execution_count": 6,
   "metadata": {},
   "outputs": [],
   "source": [
    "def check_essential_matrix(A):\n",
    "    '''\n",
    "    Given a 3x3 matrix, the function checks if it is an essential matrix. \n",
    "    '''\n",
    "    _ , sigma , _= np.linalg.svd(A)\n",
    "    epsilon = 0.1\n",
    "\n",
    "    if ( abs(sigma[0]-sigma[1]) <epsilon  and sigma[2] < epsilon ):      #should sigma[0] != 0      as well???/\n",
    "        return True\n",
    "    return False\n"
   ]
  },
  {
   "cell_type": "code",
   "execution_count": 7,
   "metadata": {},
   "outputs": [
    {
     "name": "stdout",
     "output_type": "stream",
     "text": [
      "real E\n",
      " [[-0.68404 -1.65838  3.1276 ]\n",
      " [ 4.18716 -1.36636 -2.3666 ]\n",
      " [-1.87939  3.12208 -2.5924 ]]\n",
      "recreated E:\n",
      " [[-0.68404 -1.65838  3.1276 ]\n",
      " [ 4.18716 -1.36636 -2.3666 ]\n",
      " [-1.87939  3.12208 -2.5924 ]]\n",
      "\n",
      "real R and t:\n",
      "R =  [[ 0.93969  0.17101  0.2962 ]\n",
      " [ 0.       0.86603 -0.5    ]\n",
      " [-0.34202  0.46985  0.8138 ]]\n",
      "t =  [[4 2 3]]\n",
      "recreated R and t (after normalizing):\n",
      "R =  [[ 0.93969  0.17101  0.2962 ]\n",
      " [-0.       0.86603 -0.5    ]\n",
      " [-0.34202  0.46985  0.8138 ]]\n",
      "t =  [4. 2. 3.]\n",
      "\n",
      "check E.M for real E: True\n",
      "check E.M for recreated E: True\n",
      "check E.M for random E: False\n"
     ]
    }
   ],
   "source": [
    "#check of essential matrix functions\n",
    "E = essential_matrix_from_motion(R3,t3)\n",
    "\n",
    "R3_recreated,t3_recreated = motion_from_essential_matrix(E)\n",
    "\n",
    "E_recreated = essential_matrix_from_motion(R3_recreated,t3_recreated)\n",
    "\n",
    "print(\"real E\\n\",E)\n",
    "normal = E[2,2]/E_recreated[2,2]\n",
    "print(\"recreated E:\\n\",normal*E_recreated) \n",
    "print(\"\\nreal R and t:\")\n",
    "print(\"R = \", R3)\n",
    "print(\"t = \",t3.T)\n",
    "print(\"recreated R and t (after normalizing):\")\n",
    "print(\"R = \",R3_recreated)              \n",
    "print(\"t = \",t3_recreated*t3[2]/t3_recreated[2])\n",
    "\n",
    "print(\"\\ncheck E.M for real E:\",check_essential_matrix(E))\n",
    "print(\"check E.M for recreated E:\",check_essential_matrix(E_recreated))\n",
    "defenetily_not_essential = np.array([[1, 15, 24],\n",
    "              [14, 53, 1],\n",
    "              [765, 87, 57]])\n",
    "print(\"check E.M for random E:\",check_essential_matrix(defenetily_not_essential))"
   ]
  },
  {
   "cell_type": "markdown",
   "metadata": {},
   "source": [
    "# Trifocal tensor"
   ]
  },
  {
   "cell_type": "code",
   "execution_count": 8,
   "metadata": {},
   "outputs": [],
   "source": [
    "#make points with M1,M2,M3\n",
    "n = 10\n",
    "points = abs(np.random.randn(n,3)*5)\n",
    "points = np.hstack((points,np.ones((n,1))))\n",
    "p1 = np.zeros((n,3))\n",
    "p2 = np.zeros((n,3))\n",
    "p3 = np.zeros((n,3))\n",
    "p4 = np.zeros((n,3))\n",
    "for i in range(n):\n",
    "    p1[i] = M1@points[i].T\n",
    "    p1[i] = p1[i]/p1[i][2]\n",
    "    p2[i] = M2@points[i].T\n",
    "    p2[i] = p2[i]/p2[i][2]\n",
    "    p3[i] = M3@points[i].T\n",
    "    p3[i] = p3[i]/p3[i][2]\n",
    "    p4[i] = M4@points[i].T\n",
    "    p4[i] = p4[i]/p4[i][2]\n",
    "s = np.array([[-1,0,p2[0][0]],\n",
    "              [0,-1,p2[0][1]]])\n",
    "r = np.array([[-1,0,p3[0][0]],\n",
    "              [0,-1,p3[0][1]]])\n",
    "p = np.zeros((n,3,3))\n",
    "p[:,:,0] = p1\n",
    "p[:,:,1] = p2\n",
    "p[:,:,2] = p3\n",
    "p_4cam = np.zeros((n,3,4))\n",
    "p_4cam[:,:,0] = p1\n",
    "p_4cam[:,:,1] = p2\n",
    "p_4cam[:,:,2] = p3\n",
    "p_4cam[:,:,3] = p4"
   ]
  },
  {
   "cell_type": "code",
   "execution_count": 9,
   "metadata": {},
   "outputs": [],
   "source": [
    "def normalize_points(points):\n",
    "    return (points.T/points[:, -1].T).T"
   ]
  },
  {
   "cell_type": "code",
   "execution_count": 10,
   "metadata": {},
   "outputs": [],
   "source": [
    "def cameras_to_tensor(M1,M2,M3):\n",
    "    '''\n",
    "    Given three cameras under the form [I,0], [A,a_4], [B,b_4], the function computes the trifocal tensor of this triplet of cameras. \n",
    "    '''\n",
    "    T = np.zeros((3,3,3))\n",
    "    for i in range(3):\n",
    "        for j in range(3):\n",
    "            for k in range(3):\n",
    "                T[i][j][k] = M2[j][3]*M3[k][i] - M2[j][i]*M3[k][3]\n",
    "    return T"
   ]
  },
  {
   "cell_type": "markdown",
   "metadata": {},
   "source": [
    "Incidence measure: $T_i^{jk} s_j r_k p^i$. "
   ]
  },
  {
   "cell_type": "code",
   "execution_count": 11,
   "metadata": {},
   "outputs": [],
   "source": [
    "def incidence_measure(T,p,s,r):\n",
    "    '''\n",
    "    Given the trifocal tensor T and a point p in the first image, a line s in the second image and a line r in the third image,\n",
    "    the functions computes the indicence measure.\n",
    "    '''\n",
    "    incidence = 0\n",
    "    for i in range(3):\n",
    "        for j in range(3):\n",
    "            for k in range(3):\n",
    "                incidence += T[i][j][k]*s[j]*r[k]*p[i]\n",
    "    return abs(incidence)"
   ]
  },
  {
   "cell_type": "code",
   "execution_count": 12,
   "metadata": {},
   "outputs": [
    {
     "name": "stdout",
     "output_type": "stream",
     "text": [
      "8.485656621814996e-12\n"
     ]
    }
   ],
   "source": [
    "#cameras to tensor test\n",
    "T_cameras = cameras_to_tensor(M1,M2,M3)\n",
    "incidence = 0\n",
    "for qq in range(n):\n",
    "    s = np.array([[-1,0,p2[qq][0]],\n",
    "              [0,-1,p2[qq][1]]])\n",
    "    r = np.array([[-1,0,p3[qq][0]],\n",
    "              [0,-1,p3[qq][1]]])\n",
    "    for i in range(2):\n",
    "        incidence += incidence_measure(T_cameras,p1[qq],s[i],r[i])\n",
    "print(incidence)\n"
   ]
  },
  {
   "cell_type": "code",
   "execution_count": 13,
   "metadata": {},
   "outputs": [],
   "source": [
    "def fundamental_matrix_from_tensor(T,l1,l2):\n",
    "    H1 = np.zeros((3,3))\n",
    "    H2 = np.zeros((3,3))\n",
    "    for i in range(3):\n",
    "        for j in range(3):\n",
    "            for k in range(3):\n",
    "                H1[j][i] += T[i][j][k]*l1[k]\n",
    "                H2[j][i] += T[i][j][k]*l2[k]\n",
    "    A = np.zeros((12,9))\n",
    "    count = 0\n",
    "    for h in [H1,H2]:\n",
    "        for j in range(3):\n",
    "            for i in range(j,3):\n",
    "                A[count][i] += h[0][j]\n",
    "                A[count][j] += h[0][i]\n",
    "                A[count][i+3] += h[1][j]\n",
    "                A[count][j+3] += h[1][i]\n",
    "                A[count][i+6] += h[2][j]\n",
    "                A[count][j+6] += h[2][i]\n",
    "                count+=1\n",
    "    U , _ , __= np.linalg.svd(A.T@A)\n",
    "    f = np.reshape(U[:,-1],(3,3))\n",
    "    U , sigma , V= np.linalg.svd(f)\n",
    "    sigma = np.diag(sigma)\n",
    "    sigma[2,2] = 0          #we force rank of F to be 2\n",
    "    F = U@sigma@V  \n",
    "    return F"
   ]
  },
  {
   "cell_type": "code",
   "execution_count": 14,
   "metadata": {},
   "outputs": [],
   "source": [
    "#functions from previous assignments\n",
    "def projective_reconstruction(M2,pixel1,pixel2):\n",
    "    A = np.zeros((4,4))\n",
    "    A[0] = [-1,0,pixel1[0],0]\n",
    "    A[1] = [0,-1,pixel1[1],0]\n",
    "    A[2] = pixel2[1]*M2[2] - M2[1]\n",
    "    A[3] = pixel2[0]*M2[2] - M2[0]\n",
    "    ATME = A.T@A\n",
    "    U , _ , __= np.linalg.svd(ATME)\n",
    "    P = U[:,-1]\n",
    "    return P/P[3]\n",
    "def linear_calibration(p,P):\n",
    "    '''\n",
    "    Input: \n",
    "        p: nx2 array (pixels in an image)\n",
    "        P: nx3 array (points in 3d)\n",
    "        Assumption: The two arrays have corresponding order. \n",
    "    Output: \n",
    "        M: camera matrix \n",
    "    '''\n",
    "    A = np.zeros((2*len(P),12))\n",
    "    for i in range(len(P)):\n",
    "        A[2*i] = [-P[i][0],-P[i][1],-P[i][2],-1,0,0,0,0,P[i][0]*p[i][0],P[i][1]*p[i][0],P[i][2]*p[i][0],p[i][0]]\n",
    "        A[2*i+1] = [0,0,0,0,-P[i][0],-P[i][1],-P[i][2],-1,P[i][0]*p[i][1],P[i][1]*p[i][1],P[i][2]*p[i][1],p[i][1]]\n",
    "    U , _ , __= np.linalg.svd(A.T@A)\n",
    "    M1 = np.reshape(U.T[-1],(3,4))\n",
    "    return M1\n",
    "def vector_mult_matrix(v):\n",
    "    return np.array([[0,-v[2],v[1]],\n",
    "                     [v[2],0,-v[0]],\n",
    "                     [-v[1],v[0],0]])"
   ]
  },
  {
   "cell_type": "code",
   "execution_count": 15,
   "metadata": {},
   "outputs": [],
   "source": [
    "def tensor_cameras(T,p1,p2,l1,l2):\n",
    "    '''\n",
    "    Given the trifocal tensor T and matching points in the two images p1,p2 and two lines in the 3rd image, \n",
    "    the function computes the three projective camera matrices in the same coordinate system.\n",
    "    '''\n",
    "    F = fundamental_matrix_from_tensor(T,l1,l2)\n",
    "    epipolar_tag = np.array(scipy.linalg.null_space(F.T))[:, 0]  # need to change it to correct epipolar\n",
    "    M2 = vector_mult_matrix(epipolar_tag)@F\n",
    "    M2 = np.hstack((M2, np.array([epipolar_tag]).T))\n",
    "    P = np.zeros((n,4))\n",
    "    for i in range(n):\n",
    "        P[i] = projective_reconstruction(M2,p1[i],p2[i])\n",
    "    p3_proj = np.zeros((n,3))\n",
    "    for m in range(n):\n",
    "        for k in range(3):\n",
    "            for j in range(3):\n",
    "                for i in range(3):\n",
    "                    l = np.array([-1,0,p2[m][0]])\n",
    "                    p3_proj[m][k] += T[i][j][k]*p1[m][i]*l[j]\n",
    "    p3_proj = normalize_points(p3_proj)\n",
    "    M3 = linear_calibration(p3_proj,P)\n",
    "    return M1,M2,M3,P\n"
   ]
  },
  {
   "cell_type": "code",
   "execution_count": 16,
   "metadata": {},
   "outputs": [
    {
     "name": "stdout",
     "output_type": "stream",
     "text": [
      "error between p1 and M1@P:  4.99184027447086e-14\n",
      "error between p2 and M2@P:  5.931255486757436e-12\n",
      "error between p3 and M3@P:  1.2245759961615477e-13\n"
     ]
    }
   ],
   "source": [
    "#tensor cameras test\n",
    "l1 = np.array([-1,0,p3[0][0]])\n",
    "l2 = np.array([0,-1,p3[3][1]])\n",
    "M1_projective,M2_projective,M3_projective,P_projective = tensor_cameras(T_cameras,p1,p2,l1,l2)\n",
    "error = np.zeros(3)\n",
    "p1_proj = normalize_points((M1_projective@P_projective.T).T)\n",
    "p2_proj = normalize_points((M2_projective@P_projective.T).T)\n",
    "p3_proj = normalize_points((M3_projective@P_projective.T).T)\n",
    "error[0] += np.sum(p1 - p1_proj)\n",
    "error[1] += np.sum(p2 - p2_proj)\n",
    "error[2] += np.sum(p3 - p3_proj)\n",
    "print(\"error between p1 and M1@P: \",error[0])\n",
    "print(\"error between p2 and M2@P: \",error[1])\n",
    "print(\"error between p3 and M3@P: \",error[2])"
   ]
  },
  {
   "cell_type": "code",
   "execution_count": 17,
   "metadata": {},
   "outputs": [],
   "source": [
    "def epsilon(i,j,k):\n",
    "    if i==j or i==k or j==k : return 0\n",
    "    m_replace = 0\n",
    "    count =  0\n",
    "\n",
    "    if i>j and k<j : \n",
    "        m_replace=1 #(3,2,1) \n",
    "\n",
    "    elif i>j:\n",
    "        m_replace += 1 \n",
    "        if i>k:\n",
    "            m_replace += 1\n",
    "\n",
    "    elif j>k:\n",
    "        m_replace += 1\n",
    "        if i>k:\n",
    "            m_replace += 1\n",
    "    \n",
    "\n",
    "    if m_replace%2:     #if m_replace%2\n",
    "        return -1\n",
    "    else:\n",
    "        return 1\n"
   ]
  },
  {
   "cell_type": "code",
   "execution_count": 18,
   "metadata": {},
   "outputs": [],
   "source": [
    "def tensor_linear_computation(p):\n",
    "    '''\n",
    "    Input: p: nx2x3 array. For i, p[i,...] is a 2x3 matrix which contains 3 matching points in the images 1,2,3. \n",
    "    Output: Trifocal tensor\n",
    "    '''\n",
    "    A = np.zeros((9*n,27))\n",
    "    for m in range(n):  \n",
    "        for r in range(3):\n",
    "            for s in range(3):          #row = 9*m + 3*r + s\n",
    "                for i in range(3): \n",
    "                    for j in range(3):\n",
    "                        for k in range(3):      #sec = 9*i + 3*j + k\n",
    "                            for a in range(3):              #for p'\n",
    "                                for b in range(3):          #for p''\n",
    "                                    A[9*m+r*3+s][i*9+j*3+k] += p[m][i][0] * p[m][a][1] * p[m][b][2] * epsilon(a+1,j+1,r+1) * epsilon(b+1,k+1,s+1)\n",
    "                                                              \n",
    "    A_T = A.T@A\n",
    "    U , _ , __= np.linalg.svd(A_T)\n",
    "    tensor = U[:,-1]\n",
    "    T1 = np.zeros((3,3,3))\n",
    "    for i in range(3): \n",
    "        for j in range(3):\n",
    "            for k in range(3):\n",
    "                T1[i][j][k] = tensor[i*9+j*3+k]\n",
    "\n",
    "    tensor = tensor.reshape(3,3,3)\n",
    "    return tensor          "
   ]
  },
  {
   "cell_type": "code",
   "execution_count": 19,
   "metadata": {},
   "outputs": [
    {
     "name": "stdout",
     "output_type": "stream",
     "text": [
      "1.6086213524418858e-11\n"
     ]
    }
   ],
   "source": [
    "#tensor linear computation test\n",
    "T_linear = tensor_linear_computation(p)\n",
    "incidence = 0\n",
    "for qq in range(n):\n",
    "    s = np.array([[-1,0,p2[qq][0]],\n",
    "              [0,-1,p2[qq][1]]])\n",
    "    r = np.array([[-1,0,p3[qq][0]],\n",
    "              [0,-1,p3[qq][1]]])\n",
    "    for i in range(2):\n",
    "        incidence += incidence_measure(T_linear,p1[qq],s[i],r[i])\n",
    "print(incidence)\n"
   ]
  },
  {
   "cell_type": "code",
   "execution_count": 20,
   "metadata": {},
   "outputs": [],
   "source": [
    "def tensor_cameras_stack(T,p1,p2,P): #stack only calculates the added camera\n",
    "    #this doesnt change our projective reconstruction or other cameras to avoid stacking errors\n",
    "    '''\n",
    "    Given the trifocal tensor T and matching points in the two images p_n-2,p_n-1 and projective reconstruction points P, \n",
    "    the function computes the projective camera matrix in the same coordinate system.\n",
    "    '''\n",
    "    p_proj = np.zeros((n,3))\n",
    "    for m in range(n):\n",
    "        for k in range(3):\n",
    "            for j in range(3):\n",
    "                for i in range(3):\n",
    "                    l = np.array([-1,0,p2[m][0]])\n",
    "                    p_proj[m][k] += T[i][j][k]*p1[m][i]*l[j]\n",
    "    p_proj = normalize_points(p_proj)\n",
    "    M = linear_calibration(p_proj,P)\n",
    "    return M"
   ]
  },
  {
   "cell_type": "code",
   "execution_count": 21,
   "metadata": {},
   "outputs": [],
   "source": [
    "def camera_threading(p):\n",
    "    '''\n",
    "    Input: p: nx2x4 array. For i, p[i,...] is a 2x4 matrix which contains 4 matching points in the images 1,2,3,4.  \n",
    "    Output: [M1,M2,M3,M4]: four (projective) cameras in the same coordinate system.\n",
    "    '''\n",
    "    T1 = tensor_linear_computation(p[:,:,:3])\n",
    "    l1 = np.array([-1,0,p[4,0,2]])\n",
    "    l2 = np.array([0,-1,p[1,1,2]])\n",
    "    M1, M2, M3, P= tensor_cameras(T1,p[:,:,0],p[:,:,1],l1,l2)\n",
    "    T2 = tensor_linear_computation(p[:,:,1:4])\n",
    "    M4 = tensor_cameras_stack(T2,p[:,:,1],p[:,:,2],P)\n",
    "    return M1,M2,M3,M4,P\n",
    "    "
   ]
  },
  {
   "cell_type": "code",
   "execution_count": 22,
   "metadata": {},
   "outputs": [
    {
     "name": "stdout",
     "output_type": "stream",
     "text": [
      "error between p1 and M1@P:  -1.0308295883554308e-11\n",
      "error between p2 and M2@P:  4.057792324374532e-09\n",
      "error between p3 and M3@P:  -4.2264146626891375e-09\n",
      "error between p3 and M3@P:  3.959414135723538e-07\n"
     ]
    }
   ],
   "source": [
    "#camera threading test\n",
    "M1_projective,M2_projective,M3_projective,M4_projective,P_projective = camera_threading(p_4cam)\n",
    "error = np.zeros(4)\n",
    "p1_proj = normalize_points((M1_projective@P_projective.T).T)\n",
    "p2_proj = normalize_points((M2_projective@P_projective.T).T)\n",
    "p3_proj = normalize_points((M3_projective@P_projective.T).T)\n",
    "p4_proj = normalize_points((M4_projective@P_projective.T).T)\n",
    "error[0] += np.sum(p1 - p1_proj)\n",
    "error[1] += np.sum(p2 - p2_proj)\n",
    "error[2] += np.sum(p3 - p3_proj)\n",
    "error[3] += np.sum(p4 - p4_proj)\n",
    "print(\"error between p1 and M1@P: \",error[0])\n",
    "print(\"error between p2 and M2@P: \",error[1])\n",
    "print(\"error between p3 and M3@P: \",error[2])\n",
    "print(\"error between p3 and M3@P: \",error[3])"
   ]
  },
  {
   "cell_type": "markdown",
   "metadata": {},
   "source": [
    "# Autocalibration"
   ]
  },
  {
   "cell_type": "code",
   "execution_count": 23,
   "metadata": {},
   "outputs": [],
   "source": [
    "def check_kruppa(F,omega1,omega2):\n",
    "    '''\n",
    "    Given F and the projections of the absolute conic onto the images, the function checks that Kruppa equation holds. \n",
    "    '''\n",
    "    e = scipy.linalg.null_space(F).reshape(3)\n",
    "    e_x =  vector_mult_matrix(e)\n",
    "\n",
    "    #Kruppa equations: fir ~ sec\n",
    "    fir = F.T@omega2@F          \n",
    "    sec = e_x@omega1@e_x\n",
    "\n",
    "    fir2 = fir/fir[2][2] #normilizing each expression\n",
    "    sec2 = sec/sec[2][2]\n",
    "\n",
    "    return np.allclose(fir2,sec2)"
   ]
  },
  {
   "cell_type": "code",
   "execution_count": 24,
   "metadata": {},
   "outputs": [
    {
     "name": "stdout",
     "output_type": "stream",
     "text": [
      "does kruppa work:  True\n"
     ]
    }
   ],
   "source": [
    "M1_ = M1[:,:3]\n",
    "m1 = M1[:,3]\n",
    "M2_ = M2[:,:3]\n",
    "m2 = M2[:,3]\n",
    "\n",
    "e2 = (-M2_@np.linalg.inv(M1_)@m1 + m2).reshape(3)\n",
    "\n",
    "e2_x =  vector_mult_matrix(e2)\n",
    "\n",
    "F = e2_x@M2_@np.linalg.inv(M1_)\n",
    "\n",
    "omeg1= K1@K1.T\n",
    "omeg2= K2@K2.T\n",
    "\n",
    "print(\"does kruppa work: \",check_kruppa(F,omeg1,omeg2))"
   ]
  }
 ],
 "metadata": {
  "kernelspec": {
   "display_name": "Python 3",
   "language": "python",
   "name": "python3"
  },
  "language_info": {
   "codemirror_mode": {
    "name": "ipython",
    "version": 3
   },
   "file_extension": ".py",
   "mimetype": "text/x-python",
   "name": "python",
   "nbconvert_exporter": "python",
   "pygments_lexer": "ipython3",
   "version": "3.12.0"
  }
 },
 "nbformat": 4,
 "nbformat_minor": 2
}
