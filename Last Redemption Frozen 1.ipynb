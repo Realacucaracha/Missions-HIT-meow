{
 "cells": [
  {
   "cell_type": "markdown",
   "id": "59625918",
   "metadata": {},
   "source": [
    "# ${\\color{pink}\\mathbb{Frozen-Lake-Matala-1}}$"
   ]
  },
  {
   "cell_type": "markdown",
   "id": "186e5337",
   "metadata": {},
   "source": [
    "# ${\\color{cyan}{\\text{Reinforcement Learning -------- למידה באמצעות חיזוקים }}}$"
   ]
  },
  {
   "cell_type": "markdown",
   "id": "9aa6dc07",
   "metadata": {},
   "source": [
    "##### ${\\color{yellow}\\mathbb{Matan-Ginzburg}}$"
   ]
  },
  {
   "cell_type": "markdown",
   "id": "80729ec5",
   "metadata": {},
   "source": [
    "##### ${\\color{yellow}\\mathbb{Value-Iteration-And-Policy-Iteration}}$"
   ]
  },
  {
   "cell_type": "code",
   "execution_count": 2,
   "id": "db27dece",
   "metadata": {},
   "outputs": [],
   "source": [
    "import numpy as np\n",
    "import matplotlib.pyplot as plt\n",
    "import seaborn as sns\n",
    "\n",
    "import gymnasium as gym\n",
    "from gymnasium.envs.toy_text.frozen_lake import generate_random_map\n",
    "from gymnasium.spaces import Discrete, Tuple\n",
    "\n",
    "import pygame\n",
    "import time\n",
    "from pprint import pprint\n",
    "from matplotlib.colors import to_rgb\n",
    "from matplotlib.colors import to_rgba_array\n"
   ]
  },
  {
   "cell_type": "markdown",
   "id": "ed6aeb28",
   "metadata": {},
   "source": [
    "##### ${\\color{pink}\\mathbb{Set-Lake}}$"
   ]
  },
  {
   "cell_type": "code",
   "execution_count": 3,
   "id": "f4db53bf",
   "metadata": {},
   "outputs": [],
   "source": [
    "class CustomFrozenLakeEnv(gym.Env):\n",
    "    def __init__(self, map_name=\"4x5\", is_slippery=True, slip_prob=0.2):\n",
    "        self.map_name = map_name\n",
    "        self.is_slippery = is_slippery\n",
    "        self.slip_prob = slip_prob\n",
    "\n",
    "        self.desc = np.asarray([            #custom map...\n",
    "                            \"SFFFF\",\n",
    "                            \"FFFFH\",\n",
    "                            \"FFHFF\",\n",
    "                            \"FFFFG\"\n",
    "                                ], dtype=\"c\")\n",
    "\n",
    "        self.nrow, self.ncol = self.desc.shape\n",
    "        self.nA = 4\n",
    "        self.nS = self.nrow * self.ncol\n",
    "\n",
    "        self.P = {s: {a: [] for a in range(self.nA)} for s in range(self.nS)}\n",
    "        self._init_transitions()\n",
    "\n",
    "        self.observation_space = Discrete(self.nS)\n",
    "        self.action_space = Discrete(self.nA)\n",
    "\n",
    "        self.reset()\n",
    "\n",
    "    def to_s(self, row, col):\n",
    "        return row * self.ncol + col\n",
    "\n",
    "    def inc(self, row, col, a):\n",
    "        if a == 0:  # left\n",
    "            col = max(col - 1, 0)\n",
    "        elif a == 1:  # down\n",
    "            row = min(row + 1, self.nrow - 1)\n",
    "        elif a == 2:  # right\n",
    "            col = min(col + 1, self.ncol - 1)\n",
    "        elif a == 3:  # up\n",
    "            row = max(row - 1, 0)\n",
    "        return (row, col)\n",
    "\n",
    "    def _init_transitions(self):\n",
    "        for row in range(self.nrow):\n",
    "            for col in range(self.ncol):\n",
    "                s = self.to_s(row, col)\n",
    "                for a in range(self.nA):\n",
    "                    li = self.P[s][a]\n",
    "                    letter = self.desc[row, col]\n",
    "                    if letter in b\"GH\":\n",
    "                        li.append((1.0, s, 0, True))\n",
    "                    else:\n",
    "                        if self.is_slippery:\n",
    "                            for b in [(a - 1) % 4, a, (a + 1) % 4]:\n",
    "                                newrow, newcol = self.inc(row, col, b)\n",
    "                                newstate = self.to_s(newrow, newcol)\n",
    "                                newletter = self.desc[newrow, newcol]\n",
    "                                done = bytes(newletter) in b\"GH\"\n",
    "                                rew = self.get_tile_reward(newletter)       #to change for custom rewards...\n",
    "                                prob = (\n",
    "                                    self.slip_prob / 2 if b != a else 1 - self.slip_prob\n",
    "                                )\n",
    "                                li.append((prob, newstate, rew, done))\n",
    "                        else:\n",
    "                            newrow, newcol = self.inc(row, col, a)\n",
    "                            newstate = self.to_s(newrow, newcol)\n",
    "                            newletter = self.desc[newrow, newcol]\n",
    "                            done = bytes(newletter) in b\"GH\"\n",
    "                            rew = float(newletter == b\"G\")\n",
    "                            li.append((1.0, newstate, rew, done))\n",
    "\n",
    "    def reset(self, seed=None, options=None):\n",
    "        super().reset(seed=seed)\n",
    "        self.s = 0\n",
    "        return self.s, {}\n",
    "\n",
    "    def step(self, a):\n",
    "        transitions = self.P[self.s][a]\n",
    "        i = np.random.choice(len(transitions), p=[t[0] for t in transitions])\n",
    "        prob, s, rew, done = transitions[i]\n",
    "        self.s = s\n",
    "        return s, rew, done, False, {}\n",
    "    \n",
    "    def get_tile_reward(self,tile):\n",
    "    \n",
    "        if tile == b'S':\n",
    "            return -0.08  \n",
    "        elif tile == b'F':\n",
    "            return -0.08  \n",
    "        elif tile == b'H':\n",
    "            return -1.0\n",
    "        elif tile == b'G':\n",
    "            return 1.0\n",
    "        else:\n",
    "            return -10  \n",
    "    "
   ]
  },
  {
   "cell_type": "code",
   "execution_count": 4,
   "id": "0d8bff5c",
   "metadata": {},
   "outputs": [],
   "source": [
    "gym.envs.registration.register(\n",
    "        id=\"CustomFrozenLake-v0\",\n",
    "        entry_point=__name__ + \":CustomFrozenLakeEnv\",\n",
    "    )"
   ]
  },
  {
   "cell_type": "markdown",
   "id": "afd9abc2",
   "metadata": {},
   "source": [
    "# ${\\color{pink}\\mathbb{Value-Iterations}}$"
   ]
  },
  {
   "cell_type": "markdown",
   "id": "22288348",
   "metadata": {},
   "source": [
    "##### ${\\color{pink}\\mathbb{Prepiratuon}}$"
   ]
  },
  {
   "cell_type": "markdown",
   "id": "a21f7bca",
   "metadata": {},
   "source": [
    "$$ Q_i(s, a) = \\sum_{s'} P(s' \\mid s, a) \\cdot \\left[ r(s, a, s') + \\gamma V_i(s') \\right] $$"
   ]
  },
  {
   "cell_type": "markdown",
   "id": "6e69b35b",
   "metadata": {},
   "source": [
    "$$ V_{i+1}(s) = \\max_a \\sum_{s'} P(s' \\mid s, a) \\cdot \\left[ r(s, a, s') + \\gamma V_i(s') \\right] = \\max_a Q_i(s, a) $$"
   ]
  },
  {
   "cell_type": "markdown",
   "id": "def821c1",
   "metadata": {},
   "source": [
    "$$ \\pi^*(s) = \\arg\\max_a \\sum_{s'} P(s' \\mid s, a) \\cdot \\left[ r(s, a, s') + \\gamma V_i(s') \\right] = \\arg\\max_a Q_i(s, a) $$"
   ]
  },
  {
   "cell_type": "code",
   "execution_count": 5,
   "id": "9fc06e3e",
   "metadata": {},
   "outputs": [],
   "source": [
    "def get_action_value(P, V, state, action, gamma):   #Q\n",
    "\n",
    "    q = 0\n",
    "    for prob, next_state, reward, done in P[state][action]:\n",
    "        q += prob * (reward + gamma * V[next_state])\n",
    "        \n",
    "    return q\n",
    "\n",
    "\n",
    "def get_new_state_value(P, V, state, actions, gamma): #V_i+1\n",
    "\n",
    "    q_values = [get_action_value(P, V, state, a, gamma) for a in actions]\n",
    "\n",
    "    return max(q_values)\n",
    "\n",
    "\n",
    "def get_optimal_action(P, V, state, actions, gamma=0.9):\n",
    "\n",
    "    q_values = [get_action_value(P, V, state, a, gamma) for a in actions]\n",
    "\n",
    "    return np.argmax(q_values)"
   ]
  },
  {
   "cell_type": "markdown",
   "id": "d73e8889",
   "metadata": {},
   "source": [
    "#### ${\\color{pink}\\mathbb{Value - Iterations:}}$"
   ]
  },
  {
   "cell_type": "code",
   "execution_count": 6,
   "id": "2dd57b02",
   "metadata": {},
   "outputs": [],
   "source": [
    "def value_iteration(P, n_states, n_actions, gamma=0.9, threshold=1e-6,num_iterations=100000):\n",
    "    V = np.zeros(n_states)\n",
    "    #V = np.array([get_tile_reward(desc[s // w][s % w]) for s in range(n_states)])\n",
    "\n",
    "    for i in range(num_iterations):\n",
    "        delta = 0\n",
    "        new_V = np.zeros(n_states)\n",
    "        for s in range(n_states):\n",
    "            v_old = V[s]\n",
    "            v_new = get_new_state_value(P, V, s, n_actions, gamma)\n",
    "            #v_new = get_new_state_value(P, V, s, list(range(n_actions)), gamma)\n",
    "\n",
    "            new_V[s] = v_new\n",
    "            delta = max(delta, abs(v_old - v_new))\n",
    "        V = new_V\n",
    "        if delta < threshold:\n",
    "            break\n",
    "    return V"
   ]
  },
  {
   "cell_type": "markdown",
   "id": "2642682d",
   "metadata": {},
   "source": [
    "----"
   ]
  },
  {
   "cell_type": "code",
   "execution_count": 7,
   "id": "c0724c04",
   "metadata": {},
   "outputs": [],
   "source": [
    "env = gym.make(\"CustomFrozenLake-v0\", is_slippery=True, slip_prob=0.2)\n",
    "\n",
    "P = env.unwrapped.P\n",
    "n_states = env.observation_space.n    \n",
    "n_actions = env.action_space.n\n",
    "\n",
    "\n",
    "actions = list(range(n_actions))\n",
    "V = value_iteration(P, n_states, actions, gamma=0.9, threshold=1e-6)\n",
    "\n",
    "#policy = get_optimal_action(P, V, n_states, actions, gamma=0.9)\n",
    "policy = np.array([\n",
    "    get_optimal_action(P, V, s, actions, gamma=0.9)\n",
    "    for s in range(n_states)\n",
    "])\n",
    "\n",
    "\n",
    "env.close()"
   ]
  },
  {
   "cell_type": "code",
   "execution_count": 8,
   "id": "622750df",
   "metadata": {},
   "outputs": [
    {
     "data": {
      "text/plain": [
       "array([1, 2, 2, 1, 0, 1, 1, 2, 1, 0, 1, 1, 0, 2, 1, 2, 2, 2, 2, 0],\n",
       "      dtype=int64)"
      ]
     },
     "execution_count": 8,
     "metadata": {},
     "output_type": "execute_result"
    }
   ],
   "source": [
    "policy"
   ]
  },
  {
   "cell_type": "markdown",
   "id": "2aa2662e",
   "metadata": {},
   "source": [
    "-------"
   ]
  },
  {
   "cell_type": "code",
   "execution_count": 9,
   "id": "7d889f9d",
   "metadata": {},
   "outputs": [],
   "source": [
    "def plot_policy(env, policy, V, title=\"Policy\"):\n",
    "    desc = env.unwrapped.desc.astype(str)\n",
    "    nrows, ncols = desc.shape\n",
    "    P = np.array(policy).reshape((nrows, ncols))\n",
    "\n",
    "    arrow_map = [\"←\", \"↓\", \"→\", \"↑\"]\n",
    "    policy_arrows = np.array([arrow_map[a] for a in P.flatten()]).reshape((nrows, ncols))\n",
    "\n",
    "    # Prepare background color map\n",
    "    colors = np.empty((nrows, ncols), dtype=object)\n",
    "    for i in range(nrows):\n",
    "        for j in range(ncols):\n",
    "            if desc[i, j] == \"H\":\n",
    "                colors[i, j] = \"#FFFF00\"  # yellow for holes\n",
    "            elif desc[i, j] == \"G\":\n",
    "                colors[i, j] = \"#00FF00\"  # green for goal\n",
    "            else:\n",
    "                colors[i, j] = \"#ADD8E6\"  # light blue\n",
    "\n",
    "    # Convert color strings to RGBA array\n",
    "    colors_rgba = to_rgba_array(colors.reshape(-1)).reshape((nrows, ncols, 4))\n",
    "\n",
    "    fig, ax = plt.subplots(figsize=(ncols * 1.5, nrows * 1.5))\n",
    "    ax.imshow(colors_rgba)\n",
    "\n",
    "    # Add tile type annotations (S, F, G, H)\n",
    "    for i in range(nrows):\n",
    "        for j in range(ncols):\n",
    "            ax.text(j, i - 0.3, desc[i, j], color=\"red\", ha=\"center\", va=\"center\", fontsize=12, fontweight=\"bold\")\n",
    "\n",
    "    # Add policy arrows\n",
    "    for i in range(nrows):\n",
    "        for j in range(ncols):\n",
    "            if desc[i, j] not in (\"H\", \"G\"):\n",
    "                ax.text(j, i + 0.1, policy_arrows[i, j], color=\"red\", ha=\"center\", va=\"center\", fontsize=14, fontweight=\"bold\")\n",
    "\n",
    "    \n",
    "    ax.set_xticks([])\n",
    "    ax.set_yticks([])\n",
    "    ax.set_title(title)\n",
    "    plt.tight_layout()\n",
    "    plt.show()\n",
    "\n",
    "    "
   ]
  },
  {
   "cell_type": "code",
   "execution_count": 10,
   "id": "9cf1d33e",
   "metadata": {},
   "outputs": [
    {
     "data": {
      "image/png": "[encoded data removed]",
      "text/plain": [
       "<Figure size 750x600 with 1 Axes>"
      ]
     },
     "metadata": {},
     "output_type": "display_data"
    }
   ],
   "source": [
    "plot_policy(env,policy,V)"
   ]
  },
  {
   "cell_type": "markdown",
   "id": "e20c19aa",
   "metadata": {},
   "source": [
    "---------"
   ]
  },
  {
   "cell_type": "markdown",
   "id": "a7d822e3",
   "metadata": {},
   "source": [
    "# ${\\color{pink}\\mathbb{Policy-Iteration}}$"
   ]
  },
  {
   "cell_type": "markdown",
   "id": "9d91f94e",
   "metadata": {},
   "source": [
    "##### ${\\color{pink}\\mathbb{Prepiratuon}}$"
   ]
  },
  {
   "cell_type": "markdown",
   "id": "4bcd818d",
   "metadata": {},
   "source": [
    "$$ V^{\\pi}(s) = \\sum_{s'} P(s, \\pi(s), s') \\left[ R(s, \\pi(s), s') + \\gamma V^{\\pi}(s') \\right] $$"
   ]
  },
  {
   "cell_type": "markdown",
   "id": "0b50f324",
   "metadata": {},
   "source": [
    "$$ Q^{\\pi}(s, a) = \\sum_{s'} P(s' \\mid s, a) \\left[ R(s, a, s') + \\gamma V^{\\pi}(s') \\right] $$\n"
   ]
  },
  {
   "cell_type": "markdown",
   "id": "a401f4c1",
   "metadata": {},
   "source": [
    "$$ \\pi_{n+1}(s) = \\arg\\max_{a} Q^{\\pi_n}(s, a) $$"
   ]
  },
  {
   "cell_type": "code",
   "execution_count": 11,
   "id": "61b4ffbe",
   "metadata": {},
   "outputs": [],
   "source": [
    "def compute_vpi(P, policy, n_states, gamma=0.9):\n",
    "\n",
    "    P_pi = np.zeros((n_states, n_states))           # Initialize transition matrix and reward vector\n",
    "    R_pi = np.zeros(n_states)\n",
    "\n",
    "    for s in range(n_states):\n",
    "        a = policy[s]\n",
    "        for prob, next_state, reward, done in P[s][a]:\n",
    "            P_pi[s, next_state] += prob\n",
    "            R_pi[s] += prob * reward\n",
    "\n",
    "    I = np.eye(n_states)\n",
    "    A = I - gamma * P_pi\n",
    "    b = R_pi\n",
    "\n",
    "    V = np.linalg.solve(A, b)\n",
    "    return V\n",
    "\n",
    "#    Compute the exact state-value function V^pi for a given policy using linear algebra.\n",
    "#-  \n",
    "#    - P: transition probabilities (env.unwrapped.P)\n",
    "#    - policy: policy array of shape (n_states,)\n",
    "#    - n_states: number of states\n",
    "#    - gamma: discount factor\n",
    "#    - V: exact value function under the policy\n",
    "#----\n",
    "\n",
    "\n",
    "#        a = policy[s]  # Current action under policy for state s\n",
    "\n",
    "def compute_qpi(P, V, n_states, n_actions, gamma=0.9):\n",
    "    Q = np.zeros((n_states, n_actions))\n",
    "    for s in range(n_states):\n",
    "        for a in range(n_actions):  # Evaluate Q for all actions, not just policy[s]\n",
    "            for prob, next_state, reward, _ in P[s][a]:\n",
    "                Q[s, a] += prob * (reward + gamma * V[next_state])\n",
    "    return Q\n",
    "\n",
    "\n",
    "#  Improve the policy using the state-action value function Q.\n",
    "#  Q: state-action value function Q^pi\n",
    "#  policy_stable: whether the policy changed\n",
    "#----\n",
    "\n",
    "\n",
    "def policy_iteration_with_q(P, n_states, n_actions, gamma=0.9, threshold = 1e-6 , max_iterations=100000):\n",
    "    policy = np.random.choice(n_actions, size=n_states)\n",
    "\n",
    "    for iteration in range(max_iterations):\n",
    "         \n",
    "        V = compute_vpi(P, policy, n_states, gamma)         # V^pi\n",
    "        \n",
    "\n",
    "        Q = compute_qpi(P, V, n_states, n_actions, gamma)   # Q^pi\n",
    "        \n",
    "        # Improve policy\n",
    "        new_policy = np.argmax(Q, axis=1)\n",
    "        stable = np.array_equal(new_policy, policy)\n",
    "\n",
    "        if stable:\n",
    "            break\n",
    "        policy = new_policy\n",
    "    else:\n",
    "        print(\" Policy iteration did not converge within the iteration limit.\")     #so that i won;t run until infinty\n",
    "    return policy, V"
   ]
  },
  {
   "cell_type": "markdown",
   "id": "8b8df8b8",
   "metadata": {},
   "source": [
    "-----"
   ]
  },
  {
   "cell_type": "code",
   "execution_count": 12,
   "id": "f7ac2d41",
   "metadata": {},
   "outputs": [],
   "source": [
    "env = gym.make(\"CustomFrozenLake-v0\", is_slippery=True, slip_prob=0.2)\n",
    "\n",
    "P = env.unwrapped.P\n",
    "n_states = env.observation_space.n    \n",
    "n_actions = env.action_space.n\n",
    "\n",
    "\n",
    "#  policy iteration to get optimal policy\n",
    "optimal_policy, optimal_V = policy_iteration_with_q(P, n_states, n_actions)\n",
    "\n",
    "env.close()"
   ]
  },
  {
   "cell_type": "code",
   "execution_count": 13,
   "id": "7307c789",
   "metadata": {},
   "outputs": [
    {
     "data": {
      "image/png": "[encoded data removed]",
      "text/plain": [
       "<Figure size 750x600 with 1 Axes>"
      ]
     },
     "metadata": {},
     "output_type": "display_data"
    }
   ],
   "source": [
    "plot_policy(env,optimal_policy,optimal_V)"
   ]
  },
  {
   "cell_type": "markdown",
   "id": "a0282ca3",
   "metadata": {},
   "source": [
    "------"
   ]
  },
  {
   "cell_type": "markdown",
   "id": "fd090a96",
   "metadata": {},
   "source": [
    "---"
   ]
  },
  {
   "cell_type": "markdown",
   "id": "5e14de99",
   "metadata": {},
   "source": [
    "## ${\\color{pink}\\mathbb{10x10}}$"
   ]
  },
  {
   "cell_type": "code",
   "execution_count": 16,
   "id": "7c9010b1",
   "metadata": {},
   "outputs": [],
   "source": [
    "class CustomFrozenLakeEnv(gym.Env):\n",
    "    def __init__(self, map_name=\"4x5\", is_slippery=True, slip_prob=0.2):\n",
    "        self.map_name = map_name\n",
    "        self.is_slippery = is_slippery\n",
    "        self.slip_prob = slip_prob\n",
    "\n",
    "\n",
    "        self.desc = np.asarray(generate_random_map(size=10, p=0.8), dtype=\"c\")\n",
    "\n",
    "        self.nrow, self.ncol = self.desc.shape\n",
    "        self.nA = 4\n",
    "        self.nS = self.nrow * self.ncol\n",
    "\n",
    "        self.P = {s: {a: [] for a in range(self.nA)} for s in range(self.nS)}\n",
    "        self._init_transitions()\n",
    "\n",
    "        self.observation_space = Discrete(self.nS)\n",
    "        self.action_space = Discrete(self.nA)\n",
    "\n",
    "        self.reset()\n",
    "\n",
    "    def to_s(self, row, col):\n",
    "        return row * self.ncol + col\n",
    "\n",
    "    def inc(self, row, col, a):\n",
    "        if a == 0:  # left\n",
    "            col = max(col - 1, 0)\n",
    "        elif a == 1:  # down\n",
    "            row = min(row + 1, self.nrow - 1)\n",
    "        elif a == 2:  # right\n",
    "            col = min(col + 1, self.ncol - 1)\n",
    "        elif a == 3:  # up\n",
    "            row = max(row - 1, 0)\n",
    "        return (row, col)\n",
    "\n",
    "    def _init_transitions(self):\n",
    "        for row in range(self.nrow):\n",
    "            for col in range(self.ncol):\n",
    "                s = self.to_s(row, col)\n",
    "                for a in range(self.nA):\n",
    "                    li = self.P[s][a]\n",
    "                    letter = self.desc[row, col]\n",
    "                    if letter in b\"GH\":\n",
    "                        li.append((1.0, s, 0, True))\n",
    "                    else:\n",
    "                        if self.is_slippery:\n",
    "                            for b in [(a - 1) % 4, a, (a + 1) % 4]:\n",
    "                                newrow, newcol = self.inc(row, col, b)\n",
    "                                newstate = self.to_s(newrow, newcol)\n",
    "                                newletter = self.desc[newrow, newcol]\n",
    "                                done = bytes(newletter) in b\"GH\"\n",
    "                                rew = self.get_tile_reward(newletter)       #to change for custom rewards...\n",
    "                                prob = (\n",
    "                                    self.slip_prob / 2 if b != a else 1 - self.slip_prob\n",
    "                                )\n",
    "                                li.append((prob, newstate, rew, done))\n",
    "                        else:\n",
    "                            newrow, newcol = self.inc(row, col, a)\n",
    "                            newstate = self.to_s(newrow, newcol)\n",
    "                            newletter = self.desc[newrow, newcol]\n",
    "                            done = bytes(newletter) in b\"GH\"\n",
    "                            rew = float(newletter == b\"G\")\n",
    "                            li.append((1.0, newstate, rew, done))\n",
    "\n",
    "    def reset(self, seed=None, options=None):\n",
    "        super().reset(seed=seed)\n",
    "        self.s = 0\n",
    "        return self.s, {}\n",
    "\n",
    "    def step(self, a):\n",
    "        transitions = self.P[self.s][a]\n",
    "        i = np.random.choice(len(transitions), p=[t[0] for t in transitions])\n",
    "        prob, s, rew, done = transitions[i]\n",
    "        self.s = s\n",
    "        return s, rew, done, False, {}\n",
    "    \n",
    "    def get_tile_reward(self,tile):\n",
    "    \n",
    "        if tile == b'S':\n",
    "            return -0.08  \n",
    "        elif tile == b'F':\n",
    "            return -0.08  \n",
    "        elif tile == b'H':\n",
    "            return -1.0\n",
    "        elif tile == b'G':\n",
    "            return 1.0\n",
    "        else:\n",
    "            return -10  \n",
    "    "
   ]
  },
  {
   "cell_type": "code",
   "execution_count": 17,
   "id": "14d4fcd6",
   "metadata": {},
   "outputs": [
    {
     "name": "stderr",
     "output_type": "stream",
     "text": [
      "c:\\Users\\matan\\AppData\\Local\\Programs\\Python\\Python312\\Lib\\site-packages\\gymnasium\\envs\\registration.py:644: UserWarning: \u001b[33mWARN: Overriding environment CustomFrozenLake-v0 already in registry.\u001b[0m\n",
      "  logger.warn(f\"Overriding environment {new_spec.id} already in registry.\")\n"
     ]
    }
   ],
   "source": [
    "gym.envs.registration.register(\n",
    "        id=\"CustomFrozenLake-v0\",\n",
    "        entry_point=__name__ + \":CustomFrozenLakeEnv\",\n",
    "    )"
   ]
  },
  {
   "cell_type": "code",
   "execution_count": 18,
   "id": "60ce3796",
   "metadata": {},
   "outputs": [],
   "source": [
    "env = gym.make(\"CustomFrozenLake-v0\", is_slippery=True, slip_prob=0.2)\n",
    "\n",
    "P = env.unwrapped.P\n",
    "n_states = env.observation_space.n    \n",
    "n_actions = env.action_space.n\n",
    "\n",
    "\n",
    "actions = list(range(n_actions))\n",
    "V = value_iteration(P, n_states, actions, gamma=0.9, threshold=1e-6)\n",
    "\n",
    "#policy = get_optimal_action(P, V, n_states, actions, gamma=0.9)\n",
    "policy = np.array([\n",
    "    get_optimal_action(P, V, s, actions, gamma=0.9)\n",
    "    for s in range(n_states)\n",
    "])\n",
    "\n",
    "\n",
    "env.close()"
   ]
  },
  {
   "cell_type": "code",
   "execution_count": 20,
   "id": "f4795e8e",
   "metadata": {},
   "outputs": [
    {
     "data": {
      "text/plain": [
       "array([2, 2, 2, 2, 2, 1, 1, 0, 0, 1, 3, 3, 1, 1, 0, 2, 1, 0, 1, 0, 0, 0,\n",
       "       2, 2, 2, 1, 1, 0, 1, 0, 1, 2, 3, 3, 0, 1, 1, 0, 1, 0, 1, 0, 0, 0,\n",
       "       1, 1, 1, 1, 2, 1, 2, 1, 0, 2, 1, 1, 1, 1, 0, 1, 0, 1, 0, 2, 2, 2,\n",
       "       1, 1, 1, 1, 2, 2, 2, 2, 2, 2, 2, 1, 1, 1, 0, 2, 2, 2, 2, 2, 2, 2,\n",
       "       2, 1, 2, 3, 3, 0, 2, 2, 2, 2, 2, 0], dtype=int64)"
      ]
     },
     "execution_count": 20,
     "metadata": {},
     "output_type": "execute_result"
    }
   ],
   "source": [
    "policy"
   ]
  },
  {
   "cell_type": "code",
   "execution_count": 19,
   "id": "4b62ac11",
   "metadata": {},
   "outputs": [
    {
     "ename": "AttributeError",
     "evalue": "'numpy.ndarray' object has no attribute 'unwrapped'",
     "output_type": "error",
     "traceback": [
      "\u001b[1;31m---------------------------------------------------------------------------\u001b[0m",
      "\u001b[1;31mAttributeError\u001b[0m                            Traceback (most recent call last)",
      "Cell \u001b[1;32mIn[19], line 1\u001b[0m\n\u001b[1;32m----> 1\u001b[0m \u001b[43mplot_policy\u001b[49m\u001b[43m(\u001b[49m\u001b[43mpolicy\u001b[49m\u001b[43m,\u001b[49m\u001b[43mP\u001b[49m\u001b[43m,\u001b[49m\u001b[43mV\u001b[49m\u001b[43m)\u001b[49m\n",
      "Cell \u001b[1;32mIn[9], line 2\u001b[0m, in \u001b[0;36mplot_policy\u001b[1;34m(env, policy, V, title)\u001b[0m\n\u001b[0;32m      1\u001b[0m \u001b[38;5;28;01mdef\u001b[39;00m \u001b[38;5;21mplot_policy\u001b[39m(env, policy, V, title\u001b[38;5;241m=\u001b[39m\u001b[38;5;124m\"\u001b[39m\u001b[38;5;124mPolicy\u001b[39m\u001b[38;5;124m\"\u001b[39m):\n\u001b[1;32m----> 2\u001b[0m     desc \u001b[38;5;241m=\u001b[39m \u001b[43menv\u001b[49m\u001b[38;5;241;43m.\u001b[39;49m\u001b[43munwrapped\u001b[49m\u001b[38;5;241m.\u001b[39mdesc\u001b[38;5;241m.\u001b[39mastype(\u001b[38;5;28mstr\u001b[39m)\n\u001b[0;32m      3\u001b[0m     nrows, ncols \u001b[38;5;241m=\u001b[39m desc\u001b[38;5;241m.\u001b[39mshape\n\u001b[0;32m      4\u001b[0m     P \u001b[38;5;241m=\u001b[39m np\u001b[38;5;241m.\u001b[39marray(policy)\u001b[38;5;241m.\u001b[39mreshape((nrows, ncols))\n",
      "\u001b[1;31mAttributeError\u001b[0m: 'numpy.ndarray' object has no attribute 'unwrapped'"
     ]
    }
   ],
   "source": [
    "plot_policy(policy,P,V)"
   ]
  }
 ],
 "metadata": {
  "kernelspec": {
   "display_name": "Python 3",
   "language": "python",
   "name": "python3"
  },
  "language_info": {
   "codemirror_mode": {
    "name": "ipython",
    "version": 3
   },
   "file_extension": ".py",
   "mimetype": "text/x-python",
   "name": "python",
   "nbconvert_exporter": "python",
   "pygments_lexer": "ipython3",
   "version": "3.12.0"
  }
 },
 "nbformat": 4,
 "nbformat_minor": 5
}
