{
 "cells": [
  {
   "cell_type": "markdown",
   "id": "c707cf20",
   "metadata": {},
   "source": [
    "# ${\\color{pink}\\mathbb{Sarsa-Matala-3}}$"
   ]
  },
  {
   "cell_type": "markdown",
   "id": "07e26d32",
   "metadata": {},
   "source": [
    "##### ${\\color{yellow}\\mathbb{Matan-Ginzburg-2}}$"
   ]
  },
  {
   "cell_type": "markdown",
   "id": "25d6c937",
   "metadata": {},
   "source": [
    "### ${\\color{cyan}\\mathbb{Frozen-Lake}}$"
   ]
  },
  {
   "cell_type": "markdown",
   "id": "8c3db7da",
   "metadata": {},
   "source": [
    "### ${\\color{cyan}{\\text{Frozen Lake}}}$"
   ]
  },
  {
   "cell_type": "code",
   "execution_count": 237,
   "id": "aafc2348",
   "metadata": {},
   "outputs": [],
   "source": [
    "import numpy as np\n",
    "import matplotlib.pyplot as plt\n",
    "import seaborn as sns\n",
    "\n",
    "import gymnasium as gym\n",
    "from gymnasium.envs.toy_text.frozen_lake import generate_random_map\n",
    "from gymnasium.spaces import Discrete, Tuple\n",
    "\n",
    "#import pygame\n",
    "#import time\n",
    "from pprint import pprint\n",
    "from matplotlib.colors import to_rgb\n",
    "from matplotlib.colors import to_rgba_array"
   ]
  },
  {
   "cell_type": "markdown",
   "id": "c6fafbcd",
   "metadata": {},
   "source": [
    "----"
   ]
  },
  {
   "cell_type": "code",
   "execution_count": 238,
   "id": "c2b1b9c6",
   "metadata": {},
   "outputs": [],
   "source": [
    "custom_map = [\n",
    "    \"SFFFF\",\n",
    "    \"FFFFH\",\n",
    "    \"FFHFF\",\n",
    "    \"FFFFG\"\n",
    "]\n",
    "\n",
    "# Convert to bytes format (what `gym.make()` expects)\n",
    "mapp = np.array([list(row) for row in custom_map], dtype='c')"
   ]
  },
  {
   "cell_type": "markdown",
   "id": "6399e7d2",
   "metadata": {},
   "source": [
    "# ${\\color{pink}\\mathbb{Draw-Plot}}$"
   ]
  },
  {
   "cell_type": "code",
   "execution_count": 239,
   "id": "e9752f19",
   "metadata": {},
   "outputs": [],
   "source": [
    "def get_tile_type(env, state):\n",
    "    desc = env.desc.astype(str)  # Convert bytes to strings if necessary\n",
    "    ncols = desc.shape[1]\n",
    "    row, col = divmod(state, ncols)\n",
    "    return desc[row][col]"
   ]
  },
  {
   "cell_type": "code",
   "execution_count": 240,
   "id": "a062e16d",
   "metadata": {},
   "outputs": [],
   "source": [
    "def plot_policy(env, policy, Q, title=\"Policy with Q-values\"):\n",
    "    desc = env.unwrapped.desc.astype(str)\n",
    "    nrows, ncols = desc.shape\n",
    "    P = np.array(policy).reshape((nrows, ncols))\n",
    "\n",
    "    arrow_map = [\"←\", \"↓\", \"→\", \"↑\"]\n",
    "    policy_arrows = np.array([arrow_map[a] for a in P.flatten()]).reshape((nrows, ncols))\n",
    "\n",
    "    # Background colors\n",
    "    colors = np.empty((nrows, ncols), dtype=object)\n",
    "    for i in range(nrows):\n",
    "        for j in range(ncols):\n",
    "            if desc[i, j] == \"H\":\n",
    "                colors[i, j] = \"#FFFF00\"  # hole - yellow\n",
    "            elif desc[i, j] == \"G\":\n",
    "                colors[i, j] = \"#00FF00\"  # goal - green\n",
    "            else:\n",
    "                colors[i, j] = \"#ADD8E6\"  # normal - light blue\n",
    "\n",
    "    colors_rgba = to_rgba_array(colors.reshape(-1)).reshape((nrows, ncols, 4))\n",
    "\n",
    "    fig, ax = plt.subplots(figsize=(ncols * 1.8, nrows * 1.8))\n",
    "    ax.imshow(colors_rgba)\n",
    "\n",
    "    for i in range(nrows):\n",
    "        for j in range(ncols):\n",
    "            state = i * ncols + j\n",
    "            tile = desc[i, j]\n",
    "\n",
    "            # Show tile type above the top Q-value\n",
    "            ax.text(j, i - 0.35, tile, color=\"purple\", ha=\"center\", va=\"center\", fontsize=12, fontweight=\"bold\")\n",
    "\n",
    "            if tile in (\"H\", \"G\"):\n",
    "                continue  # No arrows or Q-values on terminal states\n",
    "\n",
    "            # Draw the policy arrow in the center\n",
    "            ax.text(j, i, policy_arrows[i, j], color=\"red\", ha=\"center\", va=\"center\", fontsize=18, fontweight=\"bold\")\n",
    "\n",
    "            # Q-values\n",
    "            q_vals = Q[state]\n",
    "            ax.text(j - 0.25, i,     f\"{q_vals[0]:.2f}\", fontsize=8, color=\"black\", ha=\"right\", va=\"center\")   # ←\n",
    "            ax.text(j,         i + 0.25, f\"{q_vals[1]:.2f}\", fontsize=8, color=\"black\", ha=\"center\", va=\"bottom\")  # ↓\n",
    "            ax.text(j + 0.25, i,     f\"{q_vals[2]:.2f}\", fontsize=8, color=\"black\", ha=\"left\", va=\"center\")    # →\n",
    "            ax.text(j,         i - 0.15, f\"{q_vals[3]:.2f}\", fontsize=8, color=\"black\", ha=\"center\", va=\"top\")     # ↑\n",
    "\n",
    "    ax.set_xticks([])\n",
    "    ax.set_yticks([])\n",
    "    ax.set_title(title)\n",
    "    plt.tight_layout()\n",
    "    plt.show()\n"
   ]
  },
  {
   "cell_type": "code",
   "execution_count": 241,
   "id": "3e5e466d",
   "metadata": {},
   "outputs": [],
   "source": [
    "def plot_value_function(V, title=\"Value Function\"):\n",
    "    V = V.reshape((4, 5))\n",
    "    plt.figure(figsize=(6, 6))\n",
    "    sns.heatmap(V, annot=True, cmap=\"coolwarm\", cbar=False, square=True, linewidths=0.5)\n",
    "    plt.title(title)\n",
    "    plt.show()"
   ]
  },
  {
   "cell_type": "markdown",
   "id": "85b671de",
   "metadata": {},
   "source": [
    "----"
   ]
  },
  {
   "cell_type": "markdown",
   "id": "7448f634",
   "metadata": {},
   "source": [
    "# ${\\color{pink}\\mathbb{Class}}$"
   ]
  },
  {
   "cell_type": "markdown",
   "id": "a98933ce",
   "metadata": {},
   "source": [
    "### ${\\color{cyan}{\\text{Creating Env with rewards and probabilties.}}}$"
   ]
  },
  {
   "cell_type": "code",
   "execution_count": 242,
   "id": "b074aba4",
   "metadata": {},
   "outputs": [],
   "source": [
    "class CustomFrozenLakeEnv(gym.Env):\n",
    "    def __init__(self, map_name=\"4x5\", is_slippery=True, slip_prob=0.2):\n",
    "        self.map_name = map_name\n",
    "        self.is_slippery = is_slippery\n",
    "        self.slip_prob = slip_prob\n",
    "\n",
    "        self.desc = np.asarray([\n",
    "                            \"SFFFF\",\n",
    "                            \"FFFFH\",\n",
    "                            \"FFHFF\",\n",
    "                            \"FFFFG\"\n",
    "                                ], dtype=\"c\")\n",
    "\n",
    "        self.nrow, self.ncol = self.desc.shape\n",
    "        self.nA = 4\n",
    "        self.nS = self.nrow * self.ncol\n",
    "\n",
    "        self.P = {s: {a: [] for a in range(self.nA)} for s in range(self.nS)}\n",
    "        self._init_transitions()\n",
    "\n",
    "        self.observation_space = Discrete(self.nS)\n",
    "        self.action_space = Discrete(self.nA)\n",
    "\n",
    "        self.reset()\n",
    "\n",
    "    def to_s(self, row, col):\n",
    "        return row * self.ncol + col\n",
    "\n",
    "    def inc(self, row, col, a):\n",
    "        if a == 0:  # left\n",
    "            col = max(col - 1, 0)\n",
    "        elif a == 1:  # down\n",
    "            row = min(row + 1, self.nrow - 1)\n",
    "        elif a == 2:  # right\n",
    "            col = min(col + 1, self.ncol - 1)\n",
    "        elif a == 3:  # up\n",
    "            row = max(row - 1, 0)\n",
    "        return (row, col)\n",
    "\n",
    "    def _init_transitions(self):\n",
    "        for row in range(self.nrow):\n",
    "            for col in range(self.ncol):\n",
    "                s = self.to_s(row, col)\n",
    "                for a in range(self.nA):\n",
    "                    li = self.P[s][a]\n",
    "                    letter = self.desc[row, col]\n",
    "                    if letter in b\"GH\":\n",
    "                        li.append((1.0, s, 0, True))\n",
    "                    else:\n",
    "                        if self.is_slippery:\n",
    "                            for b in [(a - 1) % 4, a, (a + 1) % 4]:\n",
    "                                newrow, newcol = self.inc(row, col, b)\n",
    "                                newstate = self.to_s(newrow, newcol)\n",
    "                                newletter = self.desc[newrow, newcol]\n",
    "                                done = bytes(newletter) in b\"GH\"\n",
    "                                rew = self.get_tile_reward(newletter)       #to change for custom rewards...\n",
    "                                prob = (\n",
    "                                    self.slip_prob / 2 if b != a else 1 - self.slip_prob\n",
    "                                )\n",
    "                                li.append((prob, newstate, rew, done))\n",
    "                        else:\n",
    "                            newrow, newcol = self.inc(row, col, a)\n",
    "                            newstate = self.to_s(newrow, newcol)\n",
    "                            newletter = self.desc[newrow, newcol]\n",
    "                            done = bytes(newletter) in b\"GH\"\n",
    "                            rew = float(newletter == b\"G\")\n",
    "                            li.append((1.0, newstate, rew, done))\n",
    "\n",
    "    def reset(self, seed=None, options=None):\n",
    "        super().reset(seed=seed)\n",
    "        self.s = 0\n",
    "        return self.s, {}\n",
    "\n",
    "    def step(self, a):\n",
    "        transitions = self.P[self.s][a]\n",
    "        i = np.random.choice(len(transitions), p=[t[0] for t in transitions])\n",
    "        prob, s, rew, done = transitions[i]\n",
    "        self.s = s\n",
    "        return s, rew, done, False, {}\n",
    "    \n",
    "    def get_tile_reward(self,tile):\n",
    "    \n",
    "        if tile == b'S':\n",
    "            return -0.08  \n",
    "        elif tile == b'F':\n",
    "            return -0.08  \n",
    "        elif tile == b'H':\n",
    "            return -1.0\n",
    "        elif tile == b'G':\n",
    "            return 1.0\n",
    "        else:\n",
    "            return 0.0 \n",
    "    "
   ]
  },
  {
   "cell_type": "code",
   "execution_count": 243,
   "id": "b0cd1571",
   "metadata": {},
   "outputs": [
    {
     "name": "stderr",
     "output_type": "stream",
     "text": [
      "c:\\Users\\matan\\AppData\\Local\\Programs\\Python\\Python312\\Lib\\site-packages\\gymnasium\\envs\\registration.py:644: UserWarning: \u001b[33mWARN: Overriding environment CustomFrozenLake-v0 already in registry.\u001b[0m\n",
      "  logger.warn(f\"Overriding environment {new_spec.id} already in registry.\")\n"
     ]
    }
   ],
   "source": [
    "gym.envs.registration.register(\n",
    "        id=\"CustomFrozenLake-v0\",\n",
    "        entry_point=__name__ + \":CustomFrozenLakeEnv\",\n",
    "    )"
   ]
  },
  {
   "cell_type": "markdown",
   "id": "f1e9c407",
   "metadata": {},
   "source": [
    "-----"
   ]
  },
  {
   "cell_type": "markdown",
   "id": "0409d311",
   "metadata": {},
   "source": [
    "### ${\\color{pink}\\mathbb{Episode}}$"
   ]
  },
  {
   "cell_type": "markdown",
   "id": "17665100",
   "metadata": {},
   "source": [
    "$S_0, A_0, R_1, S_1, A_1, R_2, S_2, A_2, R_3, ..., S_T$\n",
    "\n",
    "$t=0 \\rightarrow S_0, A_0,R_1 \\quad , t=1 \\rightarrow S_1, A_1, R_2 \\quad , t=T \\rightarrow S_T (R=1.0 ,-1.0)$"
   ]
  },
  {
   "cell_type": "markdown",
   "id": "5ae520df",
   "metadata": {},
   "source": [
    "------"
   ]
  },
  {
   "cell_type": "markdown",
   "id": "b00b7361",
   "metadata": {},
   "source": [
    "# ${\\color{pink}\\mathbb{Sarsa}}$"
   ]
  },
  {
   "cell_type": "markdown",
   "id": "1efdf16e",
   "metadata": {},
   "source": [
    "$$ Q(S, A) =  Q(S, A) + \\alpha \\cdot (R + \\gamma \\cdot Q(S',A') - Q(S, A))$$"
   ]
  },
  {
   "cell_type": "markdown",
   "id": "2f369597",
   "metadata": {},
   "source": [
    "$$ \\sum_{\\alpha=1}^{\\infty} \\alpha = \\infty ,\\quad \\sum_{\\alpha=1}^{\\infty} {\\alpha}^2 < \\infty$$"
   ]
  },
  {
   "cell_type": "markdown",
   "id": "95a8e799",
   "metadata": {},
   "source": [
    "#### ${\\color{pink}\\mathbb{Note}}$"
   ]
  },
  {
   "cell_type": "markdown",
   "id": "945db01a",
   "metadata": {},
   "source": [
    "since we need our alpha to satisfy the above condition I will check what happens when it doesn't first!"
   ]
  },
  {
   "cell_type": "code",
   "execution_count": 244,
   "id": "107ab76f",
   "metadata": {},
   "outputs": [],
   "source": [
    "def get_q(my_q,s,a,r,next_s,next_a,alpha,gamma):     #Q(S_t , A_T)\n",
    "\n",
    "    my_q[s][a] = my_q[s][a] + alpha*(r + gamma*my_q[next_s][next_a] - my_q[s][a])\n",
    "\n",
    "    return my_q[s][a]"
   ]
  },
  {
   "cell_type": "code",
   "execution_count": 245,
   "id": "959c6c30",
   "metadata": {},
   "outputs": [],
   "source": [
    "def epsilon_greedy_policy(state, Q, epsilon):\n",
    "    if np.random.rand() < epsilon:\n",
    "        return np.random.randint(Q.shape[1])\n",
    "    else:\n",
    "        return np.argmax(Q[state])  #greedy\n"
   ]
  },
  {
   "cell_type": "code",
   "execution_count": 246,
   "id": "342ac3d1",
   "metadata": {},
   "outputs": [],
   "source": [
    "def sarsa_first(env,alpha=0.1, gamma=0.99, epsilon=0.1, num_episodes=5000):\n",
    "    \n",
    "    n_states = env.observation_space.n    \n",
    "    n_actions = env.action_space.n\n",
    "    \n",
    "    my_q = np.zeros((n_states,n_actions))    \n",
    "    policy = np.random.choice(range(n_actions), size=n_states)\n",
    "\n",
    "    max_steps = 500 \n",
    "    for eps in range(num_episodes):\n",
    "        \n",
    "        steps = 0\n",
    "        done = False\n",
    "        curr_s = env.reset()[0]\n",
    "        curr_a = epsilon_greedy_policy(curr_s,my_q,epsilon)     #A\n",
    "        \n",
    "        while not done and steps < max_steps:       #steps in our episodes ! \n",
    "\n",
    "            next_s, r, terminated, truncated, _ = env.step(curr_a)  #S' r \n",
    "            done = terminated or truncated\n",
    "            next_a = epsilon_greedy_policy(next_s,my_q,epsilon)     #A'\n",
    "        \n",
    "            my_q[curr_s][curr_a] = get_q(my_q,curr_s,curr_a,r,next_s,next_a,alpha,gamma)    \n",
    "\n",
    "            curr_s = next_s\n",
    "            curr_a = next_a\n",
    "            steps += 1 \n",
    "\n",
    "    for state in range(n_states):  #לבדוק לכולם!\n",
    "        policy[state] = np.argmax(my_q[state])\n",
    "        \n",
    "    return policy,my_q"
   ]
  },
  {
   "cell_type": "code",
   "execution_count": 247,
   "id": "9adaa8fa",
   "metadata": {},
   "outputs": [
    {
     "name": "stdout",
     "output_type": "stream",
     "text": [
      "{0: [(0.1, 0, -0.08, False), (0.8, 0, -0.08, False), (0.1, 5, -0.08, False)], 1: [(0.1, 0, -0.08, False), (0.8, 5, -0.08, False), (0.1, 1, -0.08, False)], 2: [(0.1, 5, -0.08, False), (0.8, 1, -0.08, False), (0.1, 0, -0.08, False)], 3: [(0.1, 1, -0.08, False), (0.8, 0, -0.08, False), (0.1, 0, -0.08, False)]}\n"
     ]
    }
   ],
   "source": [
    "env = gym.make(\"CustomFrozenLake-v0\", is_slippery=True, slip_prob=0.2)\n",
    "P = env.unwrapped.P\n",
    "n_states = env.observation_space.n    \n",
    "n_actions = env.action_space.n\n",
    "print(P[0])\n",
    "\n",
    "policy,my_QQ = sarsa_first(env, alpha=0.1, epsilon=0.0001, num_episodes=10000)\n"
   ]
  },
  {
   "cell_type": "code",
   "execution_count": 248,
   "id": "aced6997",
   "metadata": {},
   "outputs": [
    {
     "name": "stdout",
     "output_type": "stream",
     "text": [
      "Policy:  [1 0 0 3 3 1 1 0 1 0 1 0 0 2 1 2 2 2 2 0]\n"
     ]
    }
   ],
   "source": [
    "print(\"Policy: \",policy)\n",
    "#print(my_QQ)"
   ]
  },
  {
   "cell_type": "code",
   "execution_count": 249,
   "id": "f0c87e7b",
   "metadata": {},
   "outputs": [
    {
     "data": {
      "image/png": "[encoded data removed]",
      "text/plain": [
       "<Figure size 900x720 with 1 Axes>"
      ]
     },
     "metadata": {},
     "output_type": "display_data"
    }
   ],
   "source": [
    "plot_policy(env,policy,my_QQ)"
   ]
  },
  {
   "cell_type": "markdown",
   "id": "dc19e565",
   "metadata": {},
   "source": [
    "### ${\\color{cyan}{\\text{not that bad.... but still not good enough.}}}$\n",
    "\n",
    "Experiment is over. (cuz its not correct....)"
   ]
  },
  {
   "cell_type": "markdown",
   "id": "f9ccef7e",
   "metadata": {},
   "source": [
    "-----"
   ]
  },
  {
   "cell_type": "markdown",
   "id": "3cd80bdf",
   "metadata": {},
   "source": [
    "# ${\\color{pink}\\mathbb{Sarsa-Better}}$"
   ]
  },
  {
   "cell_type": "markdown",
   "id": "c23ff896",
   "metadata": {},
   "source": [
    "#### ${\\color{cyan}{\\text{Now We Will Use a Proper Alpha}}}$"
   ]
  },
  {
   "cell_type": "markdown",
   "id": "3e4bc421",
   "metadata": {},
   "source": [
    "$$ \\sum_{t=1}^{\\infty} \\alpha_t = \\infty ,\\quad \\sum_{t=1}^{\\infty} {\\alpha_t}^2 < \\infty$$"
   ]
  },
  {
   "cell_type": "markdown",
   "id": "1936324b",
   "metadata": {},
   "source": [
    "I will use : \n",
    "\n",
    "$$ \\alpha = \\frac{1}{\\text{episode num}} $$"
   ]
  },
  {
   "cell_type": "code",
   "execution_count": 250,
   "id": "ee769bbb",
   "metadata": {},
   "outputs": [],
   "source": [
    "def epsilon_greedy_policy(state, Q, epsilon):\n",
    "    if np.random.rand() < epsilon:\n",
    "        return np.random.randint(Q.shape[1])\n",
    "    else:\n",
    "        return np.argmax(Q[state])  #greedy"
   ]
  },
  {
   "cell_type": "code",
   "execution_count": 251,
   "id": "c70ee985",
   "metadata": {},
   "outputs": [],
   "source": [
    "def get_q(my_q,s,a,r,next_s,next_a,alpha,gamma):\n",
    "\n",
    "    return my_q[s][a] + alpha*(r + gamma*my_q[next_s][next_a] - my_q[s][a])\n"
   ]
  },
  {
   "cell_type": "markdown",
   "id": "039b900f",
   "metadata": {},
   "source": [
    "$S_0, A_0, R_1, S_1, A_1, R_2, S_2, A_2, R_3, ..., S_T$\n",
    "\n",
    "$t=0 \\rightarrow S_0, A_0,R_1 \\quad , t=1 \\rightarrow S_1, A_1, R_2 \\quad , t=T \\rightarrow S_T (R=1.0 ,-1.0)$"
   ]
  },
  {
   "cell_type": "code",
   "execution_count": 252,
   "id": "7c938313",
   "metadata": {},
   "outputs": [],
   "source": [
    "def sarsa(env,alpha=1, gamma=0.99, epsilon=0.1, num_episodes=5000):\n",
    "    \n",
    "    n_states = env.observation_space.n    \n",
    "    n_actions = env.action_space.n\n",
    "    \n",
    "    my_q = np.zeros((n_states,n_actions))    \n",
    "    policy = np.random.choice(range(n_actions), size=n_states)\n",
    "\n",
    "    max_steps = 500 \n",
    "    for eps in range(num_episodes):\n",
    "\n",
    "        \n",
    "        steps = 0\n",
    "        done = False\n",
    "        alpha = 1/(eps+1)     #1/num_episode..\n",
    "\n",
    "        curr_s = env.reset()[0]\n",
    "        curr_a = epsilon_greedy_policy(curr_s,my_q,epsilon)     #A\n",
    "        \n",
    "        while not done and steps < max_steps:       #steps in our episodes ! \n",
    "\n",
    "            next_s, r, terminated, truncated, _ = env.step(curr_a)  #S' r \n",
    "            done = terminated or truncated\n",
    "            next_a = epsilon_greedy_policy(next_s,my_q,epsilon)     #A'\n",
    "        \n",
    "            my_q[curr_s][curr_a] = get_q(my_q,curr_s,curr_a,r,next_s,next_a,alpha,gamma)    \n",
    "\n",
    "            curr_s = next_s\n",
    "            curr_a = next_a\n",
    "            steps += 1 \n",
    "\n",
    "\n",
    "    for state in range(n_states):  #לבדוק לכולם!\n",
    "        policy[state] = np.argmax(my_q[state])\n",
    "        \n",
    "\n",
    "    return policy,my_q"
   ]
  },
  {
   "cell_type": "code",
   "execution_count": 278,
   "id": "81df8622",
   "metadata": {},
   "outputs": [
    {
     "name": "stdout",
     "output_type": "stream",
     "text": [
      "{0: [(0.1, 0, -0.08, False), (0.8, 0, -0.08, False), (0.1, 5, -0.08, False)], 1: [(0.1, 0, -0.08, False), (0.8, 5, -0.08, False), (0.1, 1, -0.08, False)], 2: [(0.1, 5, -0.08, False), (0.8, 1, -0.08, False), (0.1, 0, -0.08, False)], 3: [(0.1, 1, -0.08, False), (0.8, 0, -0.08, False), (0.1, 0, -0.08, False)]}\n"
     ]
    }
   ],
   "source": [
    "env = gym.make(\"CustomFrozenLake-v0\", is_slippery=True, slip_prob=0.2)\n",
    "P = env.unwrapped.P\n",
    "n_states = env.observation_space.n    \n",
    "n_actions = env.action_space.n\n",
    "print(P[0])\n",
    "\n",
    "policy_regular,my_QQ_regular = sarsa(env, alpha=1, gamma=0.99, epsilon=0.0001, num_episodes=10000)  #first alpha is 1 anyway..."
   ]
  },
  {
   "cell_type": "code",
   "execution_count": 279,
   "id": "3f8af08b",
   "metadata": {},
   "outputs": [
    {
     "data": {
      "text/plain": [
       "array([1, 1, 2, 1, 0, 1, 1, 2, 1, 0, 1, 1, 0, 1, 1, 2, 2, 2, 2, 0])"
      ]
     },
     "execution_count": 279,
     "metadata": {},
     "output_type": "execute_result"
    }
   ],
   "source": [
    "policy_regular"
   ]
  },
  {
   "cell_type": "code",
   "execution_count": 280,
   "id": "34a4edbb",
   "metadata": {},
   "outputs": [
    {
     "data": {
      "image/png": "[encoded data removed]",
      "text/plain": [
       "<Figure size 900x720 with 1 Axes>"
      ]
     },
     "metadata": {},
     "output_type": "display_data"
    }
   ],
   "source": [
    "plot_policy(env,policy_regular,my_QQ_regular)"
   ]
  },
  {
   "cell_type": "code",
   "execution_count": 281,
   "id": "e1e21ee0",
   "metadata": {},
   "outputs": [
    {
     "data": {
      "image/png": "[encoded data removed]",
      "text/plain": [
       "<Figure size 600x600 with 1 Axes>"
      ]
     },
     "metadata": {},
     "output_type": "display_data"
    }
   ],
   "source": [
    "plot_value_function(np.max(my_QQ_regular, axis=1), title=\"Value Function (Sarsa)\")"
   ]
  },
  {
   "cell_type": "markdown",
   "id": "3bcc9034",
   "metadata": {},
   "source": [
    "----"
   ]
  },
  {
   "cell_type": "markdown",
   "id": "20a067e6",
   "metadata": {},
   "source": [
    "----"
   ]
  },
  {
   "cell_type": "markdown",
   "id": "be0e5314",
   "metadata": {},
   "source": [
    "# ${\\color{pink}\\mathbb{Sarsa-Lamda}}$"
   ]
  },
  {
   "cell_type": "markdown",
   "id": "4a6fca01",
   "metadata": {},
   "source": [
    "$$ Q(S, A) =  Q(S, A) + \\alpha \\cdot \\delta \\cdot E(S,A)$$"
   ]
  },
  {
   "cell_type": "markdown",
   "id": "4039da45",
   "metadata": {},
   "source": [
    "$$ \\delta = R + \\gamma \\cdot Q(S',A') - Q(S, A)$$"
   ]
  },
  {
   "cell_type": "markdown",
   "id": "dcaa2059",
   "metadata": {},
   "source": [
    "for each step :     $$  E(S,A) = E(S,A) + 1   $$"
   ]
  },
  {
   "cell_type": "markdown",
   "id": "225e0bc7",
   "metadata": {},
   "source": [
    "for all $a \\in A$ and $s \\in S$ : $$  \\gamma \\cdot \\lambda \\cdot E(S,A) = E(S,A)  $$"
   ]
  },
  {
   "cell_type": "code",
   "execution_count": 256,
   "id": "125c872e",
   "metadata": {},
   "outputs": [],
   "source": [
    "def get_q_lambda(s,a,my_q,my_E,delta,alpha,gamma,lamda):     #Q(S_t , A_T)\n",
    "\n",
    "    my_q[s][a] = my_q[s][a] + delta*alpha*my_E[s][a]\n",
    "    my_E[s][a] = lamda * gamma * my_E[s][a]\n",
    "    \n",
    "    return my_q[s][a],my_E[s][a]"
   ]
  },
  {
   "cell_type": "code",
   "execution_count": 257,
   "id": "71d4e5aa",
   "metadata": {},
   "outputs": [],
   "source": [
    "def sarsa_lamda(env, lamda = 0.1 ,alpha=1, gamma=0.99, epsilon=0.1, num_episodes=5000):\n",
    "    \n",
    "    n_states = env.observation_space.n    \n",
    "    n_actions = env.action_space.n\n",
    "    \n",
    "    my_q = np.zeros((n_states,n_actions))    \n",
    "    policy = np.random.choice(range(n_actions), size=n_states)\n",
    "\n",
    "    max_steps = 500 \n",
    "    for eps in range(num_episodes):\n",
    "\n",
    "        my_e = np.zeros((n_states, n_actions))\n",
    "        \n",
    "        steps = 0\n",
    "        done = False\n",
    "        alpha = 1/(eps+1)     #1/num_episode..\n",
    "\n",
    "        curr_s = env.reset()[0]\n",
    "        curr_a = epsilon_greedy_policy(curr_s,my_q,epsilon)     #A\n",
    "        \n",
    "        while not done and steps < max_steps:       #steps in our episodes ! \n",
    "\n",
    "            next_s, r, terminated, truncated, _ = env.step(curr_a)  #S' r \n",
    "            done = terminated or truncated\n",
    "            next_a = epsilon_greedy_policy(next_s,my_q,epsilon)     #A'\n",
    "\n",
    "            delta = r + gamma*my_q[next_s][next_a] - my_q[curr_s][curr_a]\n",
    "            my_e[curr_s][curr_a] += 1\n",
    "\n",
    "            for s in range(n_states):\n",
    "                for a in range(n_actions):\n",
    "        \n",
    "                    my_q[s][a],my_e[s][a] = get_q_lambda(s,a,my_q,my_e,delta,alpha,gamma,lamda)     #change both for all s & a\n",
    "\n",
    "            curr_s = next_s\n",
    "            curr_a = next_a\n",
    "            steps += 1 \n",
    "\n",
    "\n",
    "    for state in range(n_states):  #לבדוק לכולם!\n",
    "        policy[state] = np.argmax(my_q[state])\n",
    "        \n",
    "\n",
    "    return policy,my_q"
   ]
  },
  {
   "cell_type": "code",
   "execution_count": 271,
   "id": "173936c6",
   "metadata": {},
   "outputs": [
    {
     "name": "stdout",
     "output_type": "stream",
     "text": [
      "{0: [(0.1, 0, -0.08, False), (0.8, 0, -0.08, False), (0.1, 5, -0.08, False)], 1: [(0.1, 0, -0.08, False), (0.8, 5, -0.08, False), (0.1, 1, -0.08, False)], 2: [(0.1, 5, -0.08, False), (0.8, 1, -0.08, False), (0.1, 0, -0.08, False)], 3: [(0.1, 1, -0.08, False), (0.8, 0, -0.08, False), (0.1, 0, -0.08, False)]}\n"
     ]
    }
   ],
   "source": [
    "env = gym.make(\"CustomFrozenLake-v0\", is_slippery=True, slip_prob=0.2)\n",
    "P = env.unwrapped.P\n",
    "n_states = env.observation_space.n    \n",
    "n_actions = env.action_space.n\n",
    "print(P[0])\n",
    "\n",
    "policy,my_QQ = sarsa_lamda(env, lamda=0.1 ,alpha=1, gamma=0.99, epsilon=0.0001, num_episodes=10000)  #first alpha is 1 anyway..."
   ]
  },
  {
   "cell_type": "code",
   "execution_count": 272,
   "id": "d0b3abdb",
   "metadata": {},
   "outputs": [
    {
     "data": {
      "text/plain": [
       "array([1, 2, 2, 1, 0, 1, 1, 2, 1, 0, 1, 1, 0, 2, 1, 2, 2, 2, 2, 0])"
      ]
     },
     "execution_count": 272,
     "metadata": {},
     "output_type": "execute_result"
    }
   ],
   "source": [
    "policy"
   ]
  },
  {
   "cell_type": "code",
   "execution_count": 273,
   "id": "65279c5e",
   "metadata": {},
   "outputs": [
    {
     "data": {
      "image/png": "[encoded data removed]",
      "text/plain": [
       "<Figure size 900x720 with 1 Axes>"
      ]
     },
     "metadata": {},
     "output_type": "display_data"
    }
   ],
   "source": [
    "plot_policy(env,policy,my_QQ)"
   ]
  },
  {
   "cell_type": "code",
   "execution_count": 274,
   "id": "87c3d372",
   "metadata": {},
   "outputs": [
    {
     "data": {
      "image/png": "[encoded data removed]",
      "text/plain": [
       "<Figure size 600x600 with 1 Axes>"
      ]
     },
     "metadata": {},
     "output_type": "display_data"
    }
   ],
   "source": [
    "plot_value_function(np.max(my_QQ, axis=1), title=\"Value Function (Sarsa)\")\n"
   ]
  },
  {
   "cell_type": "markdown",
   "id": "1a383f5a",
   "metadata": {},
   "source": [
    "----"
   ]
  },
  {
   "cell_type": "markdown",
   "id": "353db4c8",
   "metadata": {},
   "source": [
    "-----"
   ]
  },
  {
   "cell_type": "markdown",
   "id": "2cc75495",
   "metadata": {},
   "source": [
    "-----"
   ]
  },
  {
   "cell_type": "markdown",
   "id": "33005b83",
   "metadata": {},
   "source": [
    "# ${\\color{pink}\\mathbb{Final-Conclusion?}}$"
   ]
  },
  {
   "cell_type": "markdown",
   "id": "2f6eae56",
   "metadata": {},
   "source": [
    "-As expected the results are better when the $\\alpha$ satisfies the conditions\n",
    "\n",
    "-The Values look a bit better in the lambda implementation \n",
    "\n",
    "-But the Final Policy for both Sarsa looks fine.\n",
    "\n",
    "-For the Future mby I will implement the last Sarasa (if i will have the time and i won't be lazy!)"
   ]
  },
  {
   "cell_type": "markdown",
   "id": "98251b09",
   "metadata": {},
   "source": [
    "----"
   ]
  },
  {
   "cell_type": "markdown",
   "id": "f36d6464",
   "metadata": {},
   "source": [
    "----"
   ]
  },
  {
   "cell_type": "markdown",
   "id": "899542f8",
   "metadata": {},
   "source": [
    "# ${\\color{pink}\\mathbb{Sarsa-Last-Check}}$"
   ]
  },
  {
   "cell_type": "markdown",
   "id": "75118dbe",
   "metadata": {},
   "source": [
    "$$q_t^{(n)} = R_{t+1} + \\gamma R_{t+2} + \\gamma^2 R_{t+3} + \\dots + \\gamma^{n-1} R_{t+n} + \\gamma^n Q(S_{t+n})$$\n"
   ]
  },
  {
   "cell_type": "markdown",
   "id": "24b4c498",
   "metadata": {},
   "source": [
    "$$q^\\lambda_t = (1 - \\lambda) \\sum_{n=1}^{\\infty} \\lambda^{n-1} q^{(n)}_t$$\n"
   ]
  },
  {
   "cell_type": "markdown",
   "id": "0e384b90",
   "metadata": {},
   "source": [
    "$$ Q(S_t, A_t) =  Q(S_t, A_t) + \\alpha \\cdot (q_t^{(n)} - Q(S_t, A_t))$$"
   ]
  },
  {
   "cell_type": "markdown",
   "id": "31f60f55",
   "metadata": {},
   "source": [
    "## ${\\color{cyan}{\\text{In The Future...}}}$"
   ]
  },
  {
   "cell_type": "markdown",
   "id": "9ba3c001",
   "metadata": {},
   "source": [
    "#### ${\\color{cyan}{\\text{Unfortunately I don't Have enough Time.}}}$"
   ]
  },
  {
   "cell_type": "code",
   "execution_count": 262,
   "id": "3d901a2e",
   "metadata": {},
   "outputs": [],
   "source": [
    "# def get_q_n(episode,t,my_q,n,gamma=0.95):        # q_t\n",
    "    \n",
    "#     if t > len(episode)-1 or t+n>len(episode): return 0 #nop\n",
    "\n",
    "#     s_tn = episode[t+n]\n",
    "#     q_n=0\n",
    "\n",
    "#     for i in range(1,n):\n",
    "#         q_n += gamma**(i-1) *episode[i+t][2]\n",
    "    \n",
    "#     q_n += gamma**n * my_q[s_tn]             #make sure about this..................\n",
    "#     return q_n"
   ]
  },
  {
   "cell_type": "code",
   "execution_count": 263,
   "id": "8e1f6527",
   "metadata": {},
   "outputs": [],
   "source": [
    "# def q_lamda(episode,t,my_q,n,lamda,gamma=0.95):\n",
    "\n",
    "#     if t > len(episode)-1 or t+n>len(episode): return 0 #nop\n",
    "\n",
    "#     q_lamda=0\n",
    "#     for i in range(1,n):\n",
    "\n",
    "#         q_lamda += lamda**(i-1) * get_q_n(episode,t,my_q,n)\n",
    "\n",
    "#     q_lamda = q_lamda*(1-lamda)\n",
    "\n",
    "#     return q_lamda"
   ]
  },
  {
   "cell_type": "code",
   "execution_count": 264,
   "id": "63b1e416",
   "metadata": {},
   "outputs": [],
   "source": [
    "# def get_q(epis,my_q,alpha,gamma,n):     #Q(S_t , A_T)\n",
    "\n",
    "#     for i in range(len(epis)-1):\n",
    "        \n",
    "#         s, a, r = epis[i]\n",
    "    \n",
    "#         my_q[s][a] = my_q[s][a] + alpha*(get_q_n(epis,i,my_q,n) - my_q[s][a])\n",
    "\n",
    "#     s, a, r = epis[-1]\n",
    "#     my_q[s][a] += alpha * (r - my_q[s][a])  #last one...\n",
    "    \n",
    "#     return my_q"
   ]
  },
  {
   "cell_type": "markdown",
   "id": "e6d274cf",
   "metadata": {},
   "source": [
    "-----"
   ]
  },
  {
   "cell_type": "code",
   "execution_count": 265,
   "id": "909bc561",
   "metadata": {},
   "outputs": [],
   "source": [
    "#def sarsa_lamda_q_lamda(env, lamda = 0.1 ,alpha=1, gamma=0.99, epsilon=0.1, num_episodes=5000):\n",
    "    \n",
    "    "
   ]
  }
 ],
 "metadata": {
  "kernelspec": {
   "display_name": "Python 3",
   "language": "python",
   "name": "python3"
  },
  "language_info": {
   "codemirror_mode": {
    "name": "ipython",
    "version": 3
   },
   "file_extension": ".py",
   "mimetype": "text/x-python",
   "name": "python",
   "nbconvert_exporter": "python",
   "pygments_lexer": "ipython3",
   "version": "3.12.0"
  }
 },
 "nbformat": 4,
 "nbformat_minor": 5
}
